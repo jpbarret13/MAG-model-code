{
 "cells": [
  {
   "cell_type": "code",
   "execution_count": 1,
   "id": "b32fbeba",
   "metadata": {},
   "outputs": [],
   "source": [
    "import requests\n",
    "import json\n",
    "import multiprocessing as mp\n",
    "import mag_functions as F"
   ]
  },
  {
   "cell_type": "markdown",
   "id": "2403b23a",
   "metadata": {},
   "source": [
    "### Testing JSON Read"
   ]
  },
  {
   "cell_type": "code",
   "execution_count": 96,
   "id": "59307c4a",
   "metadata": {},
   "outputs": [],
   "source": [
    "import json\n",
    "import re\n",
    "import os\n",
    "import pickle\n",
    "import pandas as pd\n",
    "pd.set_option(\"display.max_columns\", 999)\n",
    "pd.set_option(\"display.max_colwidth\", None)"
   ]
  },
  {
   "cell_type": "code",
   "execution_count": 3,
   "id": "15349561",
   "metadata": {},
   "outputs": [],
   "source": [
    "predictions = pd.read_parquet(\"s3://mag-model-data/V2/iteration_2/test_data/predictions_20220117_lr0006_beta025_gamma28_nH6_nL4_firstD2048_secondD1024_thirdD1024.parquet\")"
   ]
  },
  {
   "cell_type": "code",
   "execution_count": 5,
   "id": "cf5096ab",
   "metadata": {},
   "outputs": [
    {
     "data": {
      "text/plain": [
       "(62517, 10)"
      ]
     },
     "execution_count": 5,
     "metadata": {},
     "output_type": "execute_result"
    }
   ],
   "source": [
    "predictions.shape"
   ]
  },
  {
   "cell_type": "code",
   "execution_count": 2,
   "id": "a1710e3f",
   "metadata": {},
   "outputs": [],
   "source": [
    "extra_data = pd.read_parquet(\"s3://mag-model-data/V2/raw_test_data/part-00000-tid-1178175042784182311-0b55b08b-d5db-4777-9e6a-572d293f915d-832-1-c000.snappy.parquet\")"
   ]
  },
  {
   "cell_type": "code",
   "execution_count": 6,
   "id": "b92211bd",
   "metadata": {},
   "outputs": [
    {
     "data": {
      "text/plain": [
       "(62524, 10)"
      ]
     },
     "execution_count": 6,
     "metadata": {},
     "output_type": "execute_result"
    }
   ],
   "source": [
    "extra_data.shape"
   ]
  },
  {
   "cell_type": "code",
   "execution_count": 16,
   "id": "4972cd93",
   "metadata": {},
   "outputs": [],
   "source": [
    "abstract_test = pd.read_parquet(\"s3://mag-model-data/raw_mag_data/test_api_abstracts/part-00000-tid-3075369008470969684-b53b0953-d369-469a-9e2b-aa32d5c70e90-1-1-c000.snappy.parquet\")"
   ]
  },
  {
   "cell_type": "code",
   "execution_count": 19,
   "id": "86baa506",
   "metadata": {},
   "outputs": [
    {
     "data": {
      "text/plain": [
       "(2, 2)"
      ]
     },
     "execution_count": 19,
     "metadata": {},
     "output_type": "execute_result"
    }
   ],
   "source": [
    "abstract_test.shape"
   ]
  },
  {
   "cell_type": "code",
   "execution_count": 12,
   "id": "7cd13ab5",
   "metadata": {},
   "outputs": [],
   "source": [
    "all_test_data = predictions \\\n",
    ".merge(extra_data.drop(['publication_date'], axis=1), how='left', on='paper_id')"
   ]
  },
  {
   "cell_type": "code",
   "execution_count": 20,
   "id": "408e9440",
   "metadata": {},
   "outputs": [],
   "source": [
    "data = all_test_data.head(3).merge(abstract_test, how='left', on='paper_id')"
   ]
  },
  {
   "cell_type": "code",
   "execution_count": 23,
   "id": "6d13eb65",
   "metadata": {},
   "outputs": [],
   "source": [
    "json_data = data[['original_title','doc_type','journal_name','indexed_abstract']].copy()\n",
    "json_data.columns = ['title','doc_type','journal','abstract']\n",
    "json_data.to_json('test_json_V2.json', orient='records')"
   ]
  },
  {
   "cell_type": "code",
   "execution_count": null,
   "id": "9772411d",
   "metadata": {},
   "outputs": [],
   "source": []
  },
  {
   "cell_type": "markdown",
   "id": "5abf4ca1",
   "metadata": {},
   "source": [
    "#### Reading in like an input"
   ]
  },
  {
   "cell_type": "code",
   "execution_count": 94,
   "id": "c6c102c6",
   "metadata": {},
   "outputs": [],
   "source": [
    "model_path = \"./model_to_api/container/model_files/\""
   ]
  },
  {
   "cell_type": "code",
   "execution_count": 97,
   "id": "ac23bbbc",
   "metadata": {},
   "outputs": [
    {
     "name": "stdout",
     "output_type": "stream",
     "text": [
      "Loaded target vocab\n",
      "Loaded doc_type vocab\n",
      "Loaded journal vocab\n",
      "Loaded title vocab\n"
     ]
    }
   ],
   "source": [
    "# Load the dictionaries\n",
    "with open(os.path.join(model_path, \"topics_vocab.pkl\"), \"rb\") as f:\n",
    "    target_vocab = pickle.load(f)\n",
    "    \n",
    "target_vocab_inv = {j:i for i,j in target_vocab.items()}\n",
    "\n",
    "print(\"Loaded target vocab\")\n",
    "\n",
    "with open(os.path.join(model_path, \"doc_type_vocab.pkl\"), \"rb\") as f:\n",
    "    doc_vocab = pickle.load(f)\n",
    "    \n",
    "doc_vocab_inv = {j:i for i,j in doc_vocab.items()}\n",
    "\n",
    "print(\"Loaded doc_type vocab\")\n",
    "\n",
    "with open(os.path.join(model_path, \"journal_name_vocab.pkl\"), \"rb\") as f:\n",
    "    journal_vocab = pickle.load(f)\n",
    "    \n",
    "journal_vocab_inv = {j:i for i,j in journal_vocab.items()}\n",
    "\n",
    "print(\"Loaded journal vocab\")\n",
    "\n",
    "with open(os.path.join(model_path, \"paper_title_vocab.pkl\"), \"rb\") as f:\n",
    "    title_vocab = pickle.load(f)\n",
    "    \n",
    "title_vocab_inv = {j:i for i,j in title_vocab.items()}\n",
    "\n",
    "print(\"Loaded title vocab\")\n",
    "\n",
    "with open(os.path.join(model_path, \"tag_id_vocab.pkl\"), \"rb\") as f:\n",
    "    tag_id_vocab = pickle.load(f)"
   ]
  },
  {
   "cell_type": "code",
   "execution_count": 93,
   "id": "770b9fd0",
   "metadata": {},
   "outputs": [],
   "source": [
    "def invert_abstract_to_abstract(invert_abstract):\n",
    "    invert_abstract = json.loads(invert_abstract)\n",
    "    ab_len = invert_abstract['IndexLength']\n",
    "    \n",
    "    if 30 < ab_len < 1000:\n",
    "        abstract = [\" \"]*ab_len\n",
    "        for key, value in invert_abstract['InvertedIndex'].items():\n",
    "            for i in value:\n",
    "                abstract[i] = key\n",
    "        final_abstract = \" \".join(abstract)\n",
    "    else:\n",
    "        final_abstract = None\n",
    "    return final_abstract\n",
    "\n",
    "def clean_abstract(abstract, inverted=True):\n",
    "    if inverted:\n",
    "        if abstract:\n",
    "            abstract = invert_abstract_to_abstract(abstract)\n",
    "        else:\n",
    "            pass\n",
    "    else:\n",
    "        pass\n",
    "    abstract = clean_text(abstract)\n",
    "    return abstract\n",
    "\n",
    "def clean_text(text):\n",
    "    try:\n",
    "        text = text.lower()\n",
    "\n",
    "        text = re.sub('[^a-zA-Z0-9 ]+', ' ', text)\n",
    "        text = re.sub(' +', ' ', text)\n",
    "        text = text.strip()\n",
    "        \n",
    "    except:\n",
    "        text = \"\"\n",
    "    return text\n",
    "\n",
    "def try_lowercase(text):\n",
    "    try:\n",
    "        text = text.lower()\n",
    "    except:\n",
    "        pass\n",
    "    return text\n",
    "\n",
    "def tokenize_feature(feature, feature_name='doc_type'):\n",
    "    if feature_name=='doc_type':\n",
    "        vocab = doc_vocab\n",
    "    else:\n",
    "        vocab = journal_vocab\n",
    "    unk_token_id = vocab.get('[UNK]')\n",
    "    none_token_id = vocab.get('[NONE]')\n",
    "    if feature:\n",
    "        token_feature = [vocab.get(feature, unk_token_id)]\n",
    "    else:\n",
    "        token_feature = [none_token_id]\n",
    "    return token_feature\n",
    "\n",
    "def tokenize_title(feature):\n",
    "    split_feature = feature.split(\" \")\n",
    "    vocab = title_vocab\n",
    "    unk_token_id = vocab.get('[UNK]')\n",
    "    none_token_id = vocab.get('[NONE]')\n",
    "    if feature:\n",
    "        token_feature = [vocab.get(x, unk_token_id) for x in split_feature]\n",
    "    else:\n",
    "        token_feature = [none_token_id]\n",
    "    return token_feature"
   ]
  },
  {
   "cell_type": "code",
   "execution_count": 103,
   "id": "ab7a450d",
   "metadata": {},
   "outputs": [],
   "source": [
    "input_df = pd.read_json('test_json_V2.json', orient='records').reset_index(drop=True)"
   ]
  },
  {
   "cell_type": "code",
   "execution_count": 106,
   "id": "3828e55b",
   "metadata": {},
   "outputs": [
    {
     "data": {
      "text/html": [
       "<div>\n",
       "<style scoped>\n",
       "    .dataframe tbody tr th:only-of-type {\n",
       "        vertical-align: middle;\n",
       "    }\n",
       "\n",
       "    .dataframe tbody tr th {\n",
       "        vertical-align: top;\n",
       "    }\n",
       "\n",
       "    .dataframe thead th {\n",
       "        text-align: right;\n",
       "    }\n",
       "</style>\n",
       "<table border=\"1\" class=\"dataframe\">\n",
       "  <thead>\n",
       "    <tr style=\"text-align: right;\">\n",
       "      <th></th>\n",
       "      <th>title</th>\n",
       "      <th>doc_type</th>\n",
       "      <th>journal</th>\n",
       "      <th>abstract</th>\n",
       "      <th>inverted_abstract</th>\n",
       "      <th>paper_title_tok</th>\n",
       "      <th>abstract_tok</th>\n",
       "      <th>doc_type_tok</th>\n",
       "      <th>journal_tok</th>\n",
       "    </tr>\n",
       "  </thead>\n",
       "  <tbody>\n",
       "    <tr>\n",
       "      <th>0</th>\n",
       "      <td>a graph theoretic approach to atomic displacements in fullerenes</td>\n",
       "      <td>BookChapter</td>\n",
       "      <td>None</td>\n",
       "      <td>the recently developed idea of analyzing complex networks in terms of node displacement due to vibration estrada and hatano chem phys lett 486 166 170 2010a is applied to fullerenes the fact that the ramafullerenes fullerenes of ramanujan graphs are limited to fullerenes with relatively small number of c atoms is explained from the point of view of the node displacement the node displacement is also shown to indicate the stability of isomers of c40 fullerenes it is suggested from the analysis of local node displacement that instability of fullerenes mainly comes from pentagon rich areas of the molecules</td>\n",
       "      <td>True</td>\n",
       "      <td>[239113, 92190, 154991, 132270, 265955, 114561, 51847, 63104, 256479]</td>\n",
       "      <td>[154201, 47075, 139417, 222311, 200157, 90902, 11995, 148679, 63104, 70469, 200157, 228017, 40377, 154976, 265955, 142298, 126337, 187763, 116221, 96536, 267536, 47194, 102148, 86056, 177531, 124176, 113843, 28292, 265955, 256479, 154201, 19219, 226506, 154201, 1, 256479, 200157, 262080, 2543, 193784, 228014, 265955, 256479, 69677, 266744, 199415, 257011, 200157, 171106, 114599, 113843, 159115, 170361, 154201, 256234, 200157, 130806, 200157, 154201, 228017, 40377, 154201, 228017, 40377, 113843, 271789, 58215, 265955, 119704, 154201, 33975, 200157, 205781, 200157, 224379, 256479, 132276, 113843, 92294, 170361, 154201, 135818, 200157, 11260, 228017, 40377, 226506, 51050, 200157, 256479, 273229, 70498, 170361, 193199, 16992, 124473, 200157, 154201, 205075]</td>\n",
       "      <td>[8]</td>\n",
       "      <td>[2]</td>\n",
       "    </tr>\n",
       "    <tr>\n",
       "      <th>1</th>\n",
       "      <td>sectional anatomy of the human temporal bone</td>\n",
       "      <td>Journal</td>\n",
       "      <td>folia morphologica</td>\n",
       "      <td></td>\n",
       "      <td>True</td>\n",
       "      <td>[58192, 126692, 200157, 154201, 69678, 255482, 2487]</td>\n",
       "      <td>[2]</td>\n",
       "      <td>[3]</td>\n",
       "      <td>[3165]</td>\n",
       "    </tr>\n",
       "    <tr>\n",
       "      <th>2</th>\n",
       "      <td>pakistan response towards terrorism a case study of musharraf regime</td>\n",
       "      <td>Thesis</td>\n",
       "      <td>None</td>\n",
       "      <td>the ranging course of terrorism banishing peace and security prospects of today s pakistan is seen as a domestic effluent of its own flawed policies bad governance and lack of social justice and rule of law in society and widening gulf of trust between the rulers and the ruled the study focused on policies and performance of the musharraf government since assuming the mantle of front ranking ally of the united states in its so called war on terror the causes of reversal of pre nine eleven position on afghanistan and support of its taliban s rulers are examined in the light of the geo strategic compulsions of that crucial time and the structural weakness of military rule that needed external props for legitimacy the flaws of the response to the terrorist challenges are traced to its total dependence on the hard option to the total neglect of the human factor from which the thesis develops its argument for a holistic approach to security in which the people occupy a central position thesis approach is also shown to hold the solutions for eliminating the causes of extremism on which terrorism feeds and grows in sum the study deconstructs musharraf s regime s response to terrorism by examining the conceptual mould of the strategic players in the country and postulates a holistic and integrated security framework to deal with terrorism on a pro active and sustainable basis an approach such as this would logically entail the redefining of the role of the state vis a vis its people as the fulcrum and medium of ensuring traditional and non traditional security of the country</td>\n",
       "      <td>True</td>\n",
       "      <td>[247096, 63112, 86555, 62423, 239113, 199399, 68895, 200157, 280974, 56710]</td>\n",
       "      <td>[154201, 153540, 85053, 200157, 62423, 143063, 154250, 187763, 46948, 86572, 200157, 86558, 278048, 247096, 113843, 23366, 244521, 239113, 221564, 176060, 200157, 135821, 39638, 12022, 87345, 120276, 17672, 187763, 12048, 200157, 142282, 277329, 187763, 200167, 200157, 273948, 63104, 261129, 187763, 279579, 155008, 200157, 120299, 113846, 154201, 152911, 187763, 154201, 226673, 154201, 68895, 90654, 114560, 87345, 187763, 223011, 200157, 154201, 280974, 239119, 261113, 177625, 154201, 238516, 200157, 130864, 130805, 39637, 200157, 154201, 75272, 147939, 63104, 135821, 237558, 278757, 227997, 114560, 148023, 154201, 24100, 200157, 29538, 200157, 279567, 176808, 228008, 194550, 114560, 239899, 187763, 132277, 200157, 135821, 217437, 278048, 152911, 193784, 246991, 63104, ...]</td>\n",
       "      <td>[6]</td>\n",
       "      <td>[2]</td>\n",
       "    </tr>\n",
       "  </tbody>\n",
       "</table>\n",
       "</div>"
      ],
      "text/plain": [
       "                                                                  title  \\\n",
       "0      a graph theoretic approach to atomic displacements in fullerenes   \n",
       "1                          sectional anatomy of the human temporal bone   \n",
       "2  pakistan response towards terrorism a case study of musharraf regime   \n",
       "\n",
       "      doc_type             journal  \\\n",
       "0  BookChapter                None   \n",
       "1      Journal  folia morphologica   \n",
       "2       Thesis                None   \n",
       "\n",
       "                                                                                                                                                                                                                                                                                                                                                                                                                                                                                                                                                                                                                                                                                                                                                                                                                                                                                                                                                                                                                                                                                                                                                                                                                                                                                                                                                                                                                                                                                                                                                                                                                                                    abstract  \\\n",
       "0                                                                                                                                                                                                                                                                                                                                                                                                                                                                                                                                                                                                                                                                                                                                                                                                                                                                                                                                                                                                                         the recently developed idea of analyzing complex networks in terms of node displacement due to vibration estrada and hatano chem phys lett 486 166 170 2010a is applied to fullerenes the fact that the ramafullerenes fullerenes of ramanujan graphs are limited to fullerenes with relatively small number of c atoms is explained from the point of view of the node displacement the node displacement is also shown to indicate the stability of isomers of c40 fullerenes it is suggested from the analysis of local node displacement that instability of fullerenes mainly comes from pentagon rich areas of the molecules   \n",
       "1                                                                                                                                                                                                                                                                                                                                                                                                                                                                                                                                                                                                                                                                                                                                                                                                                                                                                                                                                                                                                                                                                                                                                                                                                                                                                                                                                                                                                                                                                                                                                                                                                                                              \n",
       "2  the ranging course of terrorism banishing peace and security prospects of today s pakistan is seen as a domestic effluent of its own flawed policies bad governance and lack of social justice and rule of law in society and widening gulf of trust between the rulers and the ruled the study focused on policies and performance of the musharraf government since assuming the mantle of front ranking ally of the united states in its so called war on terror the causes of reversal of pre nine eleven position on afghanistan and support of its taliban s rulers are examined in the light of the geo strategic compulsions of that crucial time and the structural weakness of military rule that needed external props for legitimacy the flaws of the response to the terrorist challenges are traced to its total dependence on the hard option to the total neglect of the human factor from which the thesis develops its argument for a holistic approach to security in which the people occupy a central position thesis approach is also shown to hold the solutions for eliminating the causes of extremism on which terrorism feeds and grows in sum the study deconstructs musharraf s regime s response to terrorism by examining the conceptual mould of the strategic players in the country and postulates a holistic and integrated security framework to deal with terrorism on a pro active and sustainable basis an approach such as this would logically entail the redefining of the role of the state vis a vis its people as the fulcrum and medium of ensuring traditional and non traditional security of the country   \n",
       "\n",
       "   inverted_abstract  \\\n",
       "0               True   \n",
       "1               True   \n",
       "2               True   \n",
       "\n",
       "                                                               paper_title_tok  \\\n",
       "0        [239113, 92190, 154991, 132270, 265955, 114561, 51847, 63104, 256479]   \n",
       "1                         [58192, 126692, 200157, 154201, 69678, 255482, 2487]   \n",
       "2  [247096, 63112, 86555, 62423, 239113, 199399, 68895, 200157, 280974, 56710]   \n",
       "\n",
       "                                                                                                                                                                                                                                                                                                                                                                                                                                                                                                                                                                                                                                                                                                                                                                                                       abstract_tok  \\\n",
       "0                       [154201, 47075, 139417, 222311, 200157, 90902, 11995, 148679, 63104, 70469, 200157, 228017, 40377, 154976, 265955, 142298, 126337, 187763, 116221, 96536, 267536, 47194, 102148, 86056, 177531, 124176, 113843, 28292, 265955, 256479, 154201, 19219, 226506, 154201, 1, 256479, 200157, 262080, 2543, 193784, 228014, 265955, 256479, 69677, 266744, 199415, 257011, 200157, 171106, 114599, 113843, 159115, 170361, 154201, 256234, 200157, 130806, 200157, 154201, 228017, 40377, 154201, 228017, 40377, 113843, 271789, 58215, 265955, 119704, 154201, 33975, 200157, 205781, 200157, 224379, 256479, 132276, 113843, 92294, 170361, 154201, 135818, 200157, 11260, 228017, 40377, 226506, 51050, 200157, 256479, 273229, 70498, 170361, 193199, 16992, 124473, 200157, 154201, 205075]   \n",
       "1                                                                                                                                                                                                                                                                                                                                                                                                                                                                                                                                                                                                                                                                                                                                                                                                               [2]   \n",
       "2  [154201, 153540, 85053, 200157, 62423, 143063, 154250, 187763, 46948, 86572, 200157, 86558, 278048, 247096, 113843, 23366, 244521, 239113, 221564, 176060, 200157, 135821, 39638, 12022, 87345, 120276, 17672, 187763, 12048, 200157, 142282, 277329, 187763, 200167, 200157, 273948, 63104, 261129, 187763, 279579, 155008, 200157, 120299, 113846, 154201, 152911, 187763, 154201, 226673, 154201, 68895, 90654, 114560, 87345, 187763, 223011, 200157, 154201, 280974, 239119, 261113, 177625, 154201, 238516, 200157, 130864, 130805, 39637, 200157, 154201, 75272, 147939, 63104, 135821, 237558, 278757, 227997, 114560, 148023, 154201, 24100, 200157, 29538, 200157, 279567, 176808, 228008, 194550, 114560, 239899, 187763, 132277, 200157, 135821, 217437, 278048, 152911, 193784, 246991, 63104, ...]   \n",
       "\n",
       "  doc_type_tok journal_tok  \n",
       "0          [8]         [2]  \n",
       "1          [3]      [3165]  \n",
       "2          [6]         [2]  "
      ]
     },
     "execution_count": 106,
     "metadata": {},
     "output_type": "execute_result"
    }
   ],
   "source": [
    "input_df"
   ]
  },
  {
   "cell_type": "code",
   "execution_count": 105,
   "id": "7b7cecd7",
   "metadata": {},
   "outputs": [],
   "source": [
    "input_df['title'] = input_df['title'].apply(clean_text)\n",
    "input_df['abstract'] = input_df.apply(lambda x: clean_abstract(x.abstract, x.inverted_abstract), axis=1)\n",
    "input_df['journal'] = input_df['journal'].apply(try_lowercase)\n",
    "input_df['paper_title_tok'] = input_df['title'].apply(tokenize_title)\n",
    "input_df['abstract_tok'] = input_df['abstract'].apply(tokenize_title)\n",
    "input_df['doc_type_tok'] = input_df['doc_type'].apply(tokenize_feature, args=('doc_type',))\n",
    "input_df['journal_tok'] = input_df['journal'].apply(tokenize_feature, args=('journal',))"
   ]
  },
  {
   "cell_type": "code",
   "execution_count": null,
   "id": "569793a0",
   "metadata": {},
   "outputs": [],
   "source": []
  },
  {
   "cell_type": "code",
   "execution_count": null,
   "id": "5df9e7e5",
   "metadata": {},
   "outputs": [],
   "source": []
  },
  {
   "cell_type": "code",
   "execution_count": null,
   "id": "8620fd56",
   "metadata": {},
   "outputs": [],
   "source": []
  }
 ],
 "metadata": {
  "kernelspec": {
   "display_name": "Python 3 (ipykernel)",
   "language": "python",
   "name": "python3"
  },
  "language_info": {
   "codemirror_mode": {
    "name": "ipython",
    "version": 3
   },
   "file_extension": ".py",
   "mimetype": "text/x-python",
   "name": "python",
   "nbconvert_exporter": "python",
   "pygments_lexer": "ipython3",
   "version": "3.8.11"
  }
 },
 "nbformat": 4,
 "nbformat_minor": 5
}
