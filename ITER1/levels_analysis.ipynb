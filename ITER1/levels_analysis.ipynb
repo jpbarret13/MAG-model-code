{
 "cells": [
  {
   "cell_type": "code",
   "execution_count": 1,
   "metadata": {
    "colab": {
     "base_uri": "https://localhost:8080/"
    },
    "id": "ZJD011yhyWjD",
    "outputId": "35199005-d2bf-4120-bc5e-1e6fb8797d82"
   },
   "outputs": [],
   "source": [
    "# %pip install tensorflow==2.4.1\n",
    "# %pip install transformers\n",
    "# %pip install pyarrow\n",
    "# %pip install tensorflow-addons"
   ]
  },
  {
   "cell_type": "code",
   "execution_count": 1,
   "metadata": {
    "id": "oV5qIlEokph9"
   },
   "outputs": [],
   "source": [
    "import tensorflow as tf\n",
    "import pandas as pd\n",
    "import pickle\n",
    "import os\n",
    "import tensorflow_addons as tfa\n",
    "from math import ceil\n",
    "from tensorflow.keras.utils import plot_model\n",
    "from transformers import RobertaTokenizer, RobertaTokenizerFast, TFRobertaModel, TFAlbertModel\n",
    "\n",
    "AUTO = tf.data.experimental.AUTOTUNE"
   ]
  },
  {
   "cell_type": "code",
   "execution_count": 2,
   "metadata": {},
   "outputs": [],
   "source": [
    "model_iteration = 'iteration_final/basic_word_tokenized'"
   ]
  },
  {
   "cell_type": "code",
   "execution_count": 3,
   "metadata": {
    "id": "9I2c4qh5FZa-"
   },
   "outputs": [],
   "source": [
    "with open(f\"./{model_iteration}/vocab/topics_vocab.pkl\", \"rb\") as f:\n",
    "    target_vocab = pickle.load(f)\n",
    "    \n",
    "target_vocab_inv = {j:i for i,j in target_vocab.items()}\n",
    "\n",
    "with open(f\"./{model_iteration}/vocab/doc_type_vocab.pkl\", \"rb\") as f:\n",
    "    doc_vocab = pickle.load(f)\n",
    "    \n",
    "doc_vocab_inv = {j:i for i,j in doc_vocab.items()}\n",
    "\n",
    "with open(f\"./{model_iteration}/vocab/journal_name_vocab.pkl\", \"rb\") as f:\n",
    "    journal_vocab = pickle.load(f)\n",
    "    \n",
    "journal_vocab_inv = {j:i for i,j in journal_vocab.items()}\n",
    "\n",
    "with open(f\"./{model_iteration}/vocab/paper_title_vocab.pkl\", \"rb\") as f:\n",
    "    title_vocab = pickle.load(f)\n",
    "    \n",
    "journal_vocab_inv = {j:i for i,j in journal_vocab.items()}"
   ]
  },
  {
   "cell_type": "code",
   "execution_count": 4,
   "metadata": {
    "id": "8dvSQiNsFHr4"
   },
   "outputs": [],
   "source": [
    "encoding_layer = tf.keras.layers.experimental.preprocessing.CategoryEncoding(\n",
    "    max_tokens=len(target_vocab)+1, output_mode=\"binary\", sparse=False)\n"
   ]
  },
  {
   "cell_type": "code",
   "execution_count": 5,
   "metadata": {},
   "outputs": [
    {
     "name": "stderr",
     "output_type": "stream",
     "text": [
      "2021-11-08 07:40:30.156029: I tensorflow/compiler/jit/xla_cpu_device.cc:41] Not creating XLA devices, tf_xla_enable_xla_devices not set\n",
      "2021-11-08 07:40:30.156257: I tensorflow/core/platform/cpu_feature_guard.cc:142] This TensorFlow binary is optimized with oneAPI Deep Neural Network Library (oneDNN) to use the following CPU instructions in performance-critical operations:  AVX2 FMA\n",
      "To enable them in other operations, rebuild TensorFlow with the appropriate compiler flags.\n"
     ]
    }
   ],
   "source": [
    "mag_model = tf.keras.models.load_model(f'./{model_iteration}/models/partial_model20211108_lr003_beta025_gamma20_nH8_nL1/model_epoch10ckpt/')"
   ]
  },
  {
   "cell_type": "code",
   "execution_count": 6,
   "metadata": {},
   "outputs": [],
   "source": [
    "final_model = tf.keras.Model(inputs=mag_model.inputs, \n",
    "                             outputs=tf.math.top_k(mag_model.outputs, k=30))"
   ]
  },
  {
   "cell_type": "code",
   "execution_count": 8,
   "metadata": {},
   "outputs": [],
   "source": [
    "def get_all_model_predictions(data_path):\n",
    "    # Get all of the files, load into single pandas dataframe\n",
    "    # split up into blocks of 3000 and get model output\n",
    "    file_names = [x for x in os.listdir(f\"./{model_iteration}/tokenized_data/test/\") if x.startswith('part')]\n",
    "    file_names.sort()\n",
    "    \n",
    "    full_df = pd.DataFrame()\n",
    "    \n",
    "    for file_name in file_names:\n",
    "        temp_df = pd.read_parquet(f\"./{model_iteration}/tokenized_data/test/{file_name}\")\n",
    "        full_df = pd.concat([full_df, temp_df], axis=0)\n",
    "    \n",
    "    num_samples = 1000\n",
    "    preds_final = []\n",
    "    scores_final = []\n",
    "    for i in range(ceil(full_df.shape[0]/num_samples)):\n",
    "        print(i)\n",
    "        small_df = full_df.iloc[i*num_samples:(i+1)*num_samples, :].copy()\n",
    "        preds, scores = get_model_predictions(small_df)\n",
    "        preds_final += preds\n",
    "        scores_final += scores\n",
    "    \n",
    "    full_df['predictions'] = preds_final\n",
    "    full_df['scores'] = scores_final\n",
    "    \n",
    "    return full_df\n"
   ]
  },
  {
   "cell_type": "code",
   "execution_count": 9,
   "metadata": {},
   "outputs": [],
   "source": [
    "def get_model_predictions(input_data):\n",
    "    \n",
    "    paper_titles = tf.keras.preprocessing.sequence.pad_sequences(input_data['paper_title_tok'].to_list(), maxlen=64, \n",
    "                                                             dtype='int64', padding='post', \n",
    "                                                             truncating='post', value=0)\n",
    "    \n",
    "    doc_types = tf.convert_to_tensor(input_data['doc_type_tok'].to_list())\n",
    "    journal = tf.convert_to_tensor(input_data['journal_tok'].to_list())\n",
    "    \n",
    "    model_output = final_model([paper_titles, doc_types, journal])\n",
    "    \n",
    "    scores = model_output.values.numpy()[0][:,:20].tolist()\n",
    "    preds = model_output.indices.numpy()[0][:,:20].tolist()\n",
    "    \n",
    "    return preds, scores"
   ]
  },
  {
   "cell_type": "code",
   "execution_count": 10,
   "metadata": {
    "scrolled": true
   },
   "outputs": [
    {
     "name": "stdout",
     "output_type": "stream",
     "text": [
      "0\n",
      "1\n",
      "2\n",
      "3\n",
      "4\n",
      "5\n",
      "6\n",
      "7\n",
      "8\n",
      "9\n",
      "10\n",
      "11\n",
      "12\n",
      "13\n",
      "14\n",
      "15\n",
      "16\n",
      "17\n",
      "18\n",
      "19\n",
      "20\n",
      "21\n",
      "22\n",
      "23\n",
      "24\n",
      "25\n",
      "26\n",
      "27\n",
      "28\n",
      "29\n",
      "30\n",
      "31\n",
      "32\n",
      "33\n",
      "34\n",
      "35\n",
      "36\n",
      "37\n",
      "38\n",
      "39\n",
      "40\n",
      "41\n",
      "42\n",
      "43\n",
      "44\n",
      "45\n",
      "46\n",
      "47\n",
      "48\n",
      "49\n",
      "50\n",
      "51\n",
      "52\n",
      "53\n",
      "54\n",
      "55\n",
      "56\n",
      "57\n",
      "58\n",
      "59\n",
      "60\n",
      "61\n",
      "62\n",
      "63\n",
      "64\n",
      "65\n",
      "66\n",
      "67\n",
      "68\n",
      "69\n",
      "70\n",
      "71\n",
      "72\n",
      "73\n",
      "74\n",
      "75\n",
      "76\n",
      "77\n",
      "78\n",
      "79\n",
      "80\n",
      "81\n",
      "82\n",
      "83\n",
      "84\n",
      "85\n",
      "86\n",
      "87\n",
      "88\n",
      "89\n",
      "90\n",
      "91\n",
      "92\n",
      "93\n",
      "94\n",
      "95\n",
      "96\n",
      "97\n"
     ]
    }
   ],
   "source": [
    "test_data = get_all_model_predictions(f\"./{model_iteration}/tokenized_data/test/\")"
   ]
  },
  {
   "cell_type": "code",
   "execution_count": 12,
   "metadata": {},
   "outputs": [],
   "source": [
    "test_data.to_parquet(f\"./{model_iteration}/test_data/data_with_predictions.parquet\")"
   ]
  },
  {
   "cell_type": "code",
   "execution_count": 13,
   "metadata": {},
   "outputs": [],
   "source": [
    "# test_data = pd.read_parquet(f\"./{model_iteration}/test_data/data_with_predictions.parquet\")\n",
    "test_data['target_test'] = test_data['target_tok'].apply(lambda x: [i for i in x if i!=-1])\n",
    "test_data['target_test'] = test_data['target_test'].apply(len)\n",
    "test_data = test_data[test_data['target_test'] > 0].copy()"
   ]
  },
  {
   "cell_type": "code",
   "execution_count": 15,
   "metadata": {},
   "outputs": [
    {
     "data": {
      "text/plain": [
       "(97236, 9)"
      ]
     },
     "execution_count": 15,
     "metadata": {},
     "output_type": "execute_result"
    }
   ],
   "source": [
    "test_data.shape"
   ]
  },
  {
   "cell_type": "code",
   "execution_count": 14,
   "metadata": {},
   "outputs": [
    {
     "data": {
      "text/html": [
       "<div>\n",
       "<style scoped>\n",
       "    .dataframe tbody tr th:only-of-type {\n",
       "        vertical-align: middle;\n",
       "    }\n",
       "\n",
       "    .dataframe tbody tr th {\n",
       "        vertical-align: top;\n",
       "    }\n",
       "\n",
       "    .dataframe thead th {\n",
       "        text-align: right;\n",
       "    }\n",
       "</style>\n",
       "<table border=\"1\" class=\"dataframe\">\n",
       "  <thead>\n",
       "    <tr style=\"text-align: right;\">\n",
       "      <th></th>\n",
       "      <th>paper_id</th>\n",
       "      <th>publication_date</th>\n",
       "      <th>doc_type_tok</th>\n",
       "      <th>journal_tok</th>\n",
       "      <th>target_tok</th>\n",
       "      <th>paper_title_tok</th>\n",
       "      <th>predictions</th>\n",
       "      <th>scores</th>\n",
       "      <th>target_test</th>\n",
       "    </tr>\n",
       "  </thead>\n",
       "  <tbody>\n",
       "    <tr>\n",
       "      <th>0</th>\n",
       "      <td>143700069</td>\n",
       "      <td>1976-11-01</td>\n",
       "      <td>[3]</td>\n",
       "      <td>[160]</td>\n",
       "      <td>[21, 21152, 661, 25903, 65171, 161]</td>\n",
       "      <td>[23941, 16016, 32111, 67771, 50815, 628]</td>\n",
       "      <td>[661, 65171, 21, 161, 4291, 10, 13, 6793, 2590...</td>\n",
       "      <td>[0.5767419338226318, 0.5476308465003967, 0.285...</td>\n",
       "      <td>6</td>\n",
       "    </tr>\n",
       "    <tr>\n",
       "      <th>1</th>\n",
       "      <td>195439177</td>\n",
       "      <td>1974-05-01</td>\n",
       "      <td>[3]</td>\n",
       "      <td>[4049]</td>\n",
       "      <td>[7, 417, 1692, 74, 8530, 242]</td>\n",
       "      <td>[97086, 30614, 78557, 49339, 119788, 97086, 25...</td>\n",
       "      <td>[7, 91, 87, 307, 82, 68, 15, 1, 74, 20404, 209...</td>\n",
       "      <td>[0.5208286046981812, 0.21472209692001343, 0.20...</td>\n",
       "      <td>6</td>\n",
       "    </tr>\n",
       "    <tr>\n",
       "      <th>2</th>\n",
       "      <td>207701337</td>\n",
       "      <td>2002-01-01</td>\n",
       "      <td>[4]</td>\n",
       "      <td>[2]</td>\n",
       "      <td>[77588, 29534, 18, 4, 374, 40381, 66510, 55267...</td>\n",
       "      <td>[136919, 27309, 107797, 672, 107148, 150082, 9...</td>\n",
       "      <td>[4, 374, 18, 6666, 126, 29534, 4047, 2573, 164...</td>\n",
       "      <td>[0.48497915267944336, 0.42344358563423157, 0.3...</td>\n",
       "      <td>11</td>\n",
       "    </tr>\n",
       "    <tr>\n",
       "      <th>3</th>\n",
       "      <td>334758011</td>\n",
       "      <td>1961-01-01</td>\n",
       "      <td>[8]</td>\n",
       "      <td>[2]</td>\n",
       "      <td>[490, 28, 414, 5, 1428]</td>\n",
       "      <td>[48163, 126229, 163014, 38537, 1]</td>\n",
       "      <td>[5, 64575, 147867, 142210, 490, 1428, 75448, 1...</td>\n",
       "      <td>[0.3933691084384918, 0.33077049255371094, 0.20...</td>\n",
       "      <td>5</td>\n",
       "    </tr>\n",
       "    <tr>\n",
       "      <th>4</th>\n",
       "      <td>585716639</td>\n",
       "      <td>2015-05-01</td>\n",
       "      <td>[3]</td>\n",
       "      <td>[19]</td>\n",
       "      <td>[78, 42289, 11, 3088, 4173, 34775, 237, 7127, ...</td>\n",
       "      <td>[162401, 88449, 155200, 123069, 33633, 40129, ...</td>\n",
       "      <td>[1, 237, 64, 8026, 49959, 75, 1354, 109, 6, 78...</td>\n",
       "      <td>[0.7513515949249268, 0.5329701900482178, 0.323...</td>\n",
       "      <td>11</td>\n",
       "    </tr>\n",
       "  </tbody>\n",
       "</table>\n",
       "</div>"
      ],
      "text/plain": [
       "    paper_id publication_date doc_type_tok journal_tok  \\\n",
       "0  143700069       1976-11-01          [3]       [160]   \n",
       "1  195439177       1974-05-01          [3]      [4049]   \n",
       "2  207701337       2002-01-01          [4]         [2]   \n",
       "3  334758011       1961-01-01          [8]         [2]   \n",
       "4  585716639       2015-05-01          [3]        [19]   \n",
       "\n",
       "                                          target_tok  \\\n",
       "0                [21, 21152, 661, 25903, 65171, 161]   \n",
       "1                      [7, 417, 1692, 74, 8530, 242]   \n",
       "2  [77588, 29534, 18, 4, 374, 40381, 66510, 55267...   \n",
       "3                            [490, 28, 414, 5, 1428]   \n",
       "4  [78, 42289, 11, 3088, 4173, 34775, 237, 7127, ...   \n",
       "\n",
       "                                     paper_title_tok  \\\n",
       "0           [23941, 16016, 32111, 67771, 50815, 628]   \n",
       "1  [97086, 30614, 78557, 49339, 119788, 97086, 25...   \n",
       "2  [136919, 27309, 107797, 672, 107148, 150082, 9...   \n",
       "3                  [48163, 126229, 163014, 38537, 1]   \n",
       "4  [162401, 88449, 155200, 123069, 33633, 40129, ...   \n",
       "\n",
       "                                         predictions  \\\n",
       "0  [661, 65171, 21, 161, 4291, 10, 13, 6793, 2590...   \n",
       "1  [7, 91, 87, 307, 82, 68, 15, 1, 74, 20404, 209...   \n",
       "2  [4, 374, 18, 6666, 126, 29534, 4047, 2573, 164...   \n",
       "3  [5, 64575, 147867, 142210, 490, 1428, 75448, 1...   \n",
       "4  [1, 237, 64, 8026, 49959, 75, 1354, 109, 6, 78...   \n",
       "\n",
       "                                              scores  target_test  \n",
       "0  [0.5767419338226318, 0.5476308465003967, 0.285...            6  \n",
       "1  [0.5208286046981812, 0.21472209692001343, 0.20...            6  \n",
       "2  [0.48497915267944336, 0.42344358563423157, 0.3...           11  \n",
       "3  [0.3933691084384918, 0.33077049255371094, 0.20...            5  \n",
       "4  [0.7513515949249268, 0.5329701900482178, 0.323...           11  "
      ]
     },
     "execution_count": 14,
     "metadata": {},
     "output_type": "execute_result"
    }
   ],
   "source": [
    "test_data.head(5)"
   ]
  },
  {
   "cell_type": "markdown",
   "metadata": {},
   "source": [
    "### Get metrics for different levels"
   ]
  },
  {
   "cell_type": "code",
   "execution_count": 2,
   "metadata": {},
   "outputs": [],
   "source": [
    "levels_df = pd.read_parquet(\"tag_levels.parquet\").fillna(6)\n",
    "levels_df['level'] = levels_df['level'].astype('int')\n",
    "# levels_df = pd.DataFrame(zip(level_ones, [1]*len(level_ones)), columns=['tag','level'])"
   ]
  },
  {
   "cell_type": "code",
   "execution_count": 3,
   "metadata": {},
   "outputs": [
    {
     "data": {
      "text/plain": [
       "3    357425\n",
       "2    159323\n",
       "4    124331\n",
       "5     77303\n",
       "1       292\n",
       "0        19\n",
       "6         4\n",
       "Name: level, dtype: int64"
      ]
     },
     "execution_count": 3,
     "metadata": {},
     "output_type": "execute_result"
    }
   ],
   "source": [
    "levels_df['level'].value_counts()"
   ]
  },
  {
   "cell_type": "code",
   "execution_count": 33,
   "metadata": {},
   "outputs": [
    {
     "data": {
      "text/plain": [
       "(718697, 3)"
      ]
     },
     "execution_count": 33,
     "metadata": {},
     "output_type": "execute_result"
    }
   ],
   "source": [
    "levels_df.shape"
   ]
  },
  {
   "cell_type": "code",
   "execution_count": 4,
   "metadata": {},
   "outputs": [],
   "source": [
    "levels_df['topic_len'] = levels_df['topic_name'].apply(lambda x: len(x.split(\" \")))"
   ]
  },
  {
   "cell_type": "code",
   "execution_count": 5,
   "metadata": {},
   "outputs": [],
   "source": [
    "levels_1 = levels_df[levels_df['topic_len'] ==1].copy()"
   ]
  },
  {
   "cell_type": "code",
   "execution_count": 6,
   "metadata": {},
   "outputs": [],
   "source": [
    "levels_2 = levels_df[levels_df['topic_len'] ==2].copy()"
   ]
  },
  {
   "cell_type": "code",
   "execution_count": 7,
   "metadata": {},
   "outputs": [],
   "source": [
    "levels_3 = levels_df[levels_df['topic_len'] ==3].copy()"
   ]
  },
  {
   "cell_type": "code",
   "execution_count": 8,
   "metadata": {},
   "outputs": [],
   "source": [
    "levels_4 = levels_df[levels_df['topic_len'] ==4].copy()"
   ]
  },
  {
   "cell_type": "code",
   "execution_count": 23,
   "metadata": {},
   "outputs": [],
   "source": [
    "tags = pd.DataFrame.from_dict(target_vocab, orient='index').reset_index()[['index']]\n",
    "tags.columns = ['tag']\n",
    "tags['tag_len'] = tags['tag'].apply(lambda x: len(x.split(\" \")))"
   ]
  },
  {
   "cell_type": "code",
   "execution_count": 24,
   "metadata": {},
   "outputs": [
    {
     "data": {
      "text/plain": [
       "(179384, 2)"
      ]
     },
     "execution_count": 24,
     "metadata": {},
     "output_type": "execute_result"
    }
   ],
   "source": [
    "tags.shape"
   ]
  },
  {
   "cell_type": "code",
   "execution_count": 25,
   "metadata": {},
   "outputs": [
    {
     "data": {
      "text/plain": [
       "(6367, 2)"
      ]
     },
     "execution_count": 25,
     "metadata": {},
     "output_type": "execute_result"
    }
   ],
   "source": [
    "tags[tags['tag_len'] == 4].shape"
   ]
  },
  {
   "cell_type": "code",
   "execution_count": 26,
   "metadata": {},
   "outputs": [
    {
     "data": {
      "text/plain": [
       "(27950, 2)"
      ]
     },
     "execution_count": 26,
     "metadata": {},
     "output_type": "execute_result"
    }
   ],
   "source": [
    "tags[tags['tag_len'] == 3].shape"
   ]
  },
  {
   "cell_type": "markdown",
   "metadata": {},
   "source": [
    "##### Reading Raw Test Data"
   ]
  },
  {
   "cell_type": "code",
   "execution_count": 9,
   "metadata": {},
   "outputs": [],
   "source": [
    "stop_words = ['and','on','of','or','in','to','the','a','s']"
   ]
  },
  {
   "cell_type": "code",
   "execution_count": 6,
   "metadata": {},
   "outputs": [],
   "source": [
    "def get_bigrams(sent):\n",
    "    split_sent = sent.split(\" \")\n",
    "    return [f\"{split_sent[i]} {split_sent[i+1]}\" for i in range(len(split_sent)-1)]\n",
    "\n",
    "\n",
    "def get_trigrams(sent):\n",
    "    split_sent = sent.split(\" \")\n",
    "    return [f\"{split_sent[i]} {split_sent[i+1]} {split_sent[i+2]}\" for i in range(len(split_sent)-2)]\n",
    "\n",
    "def get_4grams(sent):\n",
    "    split_sent = sent.split(\" \")\n",
    "    return [f\"{split_sent[i]} {split_sent[i+1]} {split_sent[i+2]} {split_sent[i+3]}\" for i in range(len(split_sent)-3)]"
   ]
  },
  {
   "cell_type": "code",
   "execution_count": 29,
   "metadata": {},
   "outputs": [
    {
     "data": {
      "text/plain": [
       "(10, 4)"
      ]
     },
     "execution_count": 29,
     "metadata": {},
     "output_type": "execute_result"
    }
   ],
   "source": [
    "raw_data = pd.read_parquet('test_raw.parquet')\n",
    "raw_data = raw_data[['paper_title','doc_type','journal_name']].sample(10).reset_index().copy() # remove this later\n",
    "raw_data.shape"
   ]
  },
  {
   "cell_type": "code",
   "execution_count": 30,
   "metadata": {},
   "outputs": [],
   "source": [
    "# raw_data['title_unigrams'] = raw_data['paper_title'].apply(lambda x: [i for i in x.split(\" \") if i not in stop_words])\n",
    "# raw_data['title_bigrams'] = raw_data['paper_title'].apply(get_bigrams)\n",
    "raw_data['title_trigrams'] = raw_data['paper_title'].apply(get_trigrams)\n",
    "raw_data['title_4grams'] = raw_data['paper_title'].apply(get_4grams)\n",
    "raw_data.columns = ['index','title','doc_type','journal','title_trigrams','title_4grams']"
   ]
  },
  {
   "cell_type": "code",
   "execution_count": 31,
   "metadata": {},
   "outputs": [
    {
     "data": {
      "text/html": [
       "<div>\n",
       "<style scoped>\n",
       "    .dataframe tbody tr th:only-of-type {\n",
       "        vertical-align: middle;\n",
       "    }\n",
       "\n",
       "    .dataframe tbody tr th {\n",
       "        vertical-align: top;\n",
       "    }\n",
       "\n",
       "    .dataframe thead th {\n",
       "        text-align: right;\n",
       "    }\n",
       "</style>\n",
       "<table border=\"1\" class=\"dataframe\">\n",
       "  <thead>\n",
       "    <tr style=\"text-align: right;\">\n",
       "      <th></th>\n",
       "      <th>index</th>\n",
       "      <th>title</th>\n",
       "      <th>doc_type</th>\n",
       "      <th>journal</th>\n",
       "      <th>title_trigrams</th>\n",
       "      <th>title_4grams</th>\n",
       "    </tr>\n",
       "  </thead>\n",
       "  <tbody>\n",
       "    <tr>\n",
       "      <th>0</th>\n",
       "      <td>124</td>\n",
       "      <td>design of numerical control focusing circuit w...</td>\n",
       "      <td>Journal</td>\n",
       "      <td>electro optic technology application</td>\n",
       "      <td>[design of numerical, of numerical control, nu...</td>\n",
       "      <td>[design of numerical control, of numerical con...</td>\n",
       "    </tr>\n",
       "    <tr>\n",
       "      <th>1</th>\n",
       "      <td>264</td>\n",
       "      <td>王镭教授荣膺 医学教育终身成就奖</td>\n",
       "      <td>Journal</td>\n",
       "      <td>chinese journal of medical education</td>\n",
       "      <td>[]</td>\n",
       "      <td>[]</td>\n",
       "    </tr>\n",
       "    <tr>\n",
       "      <th>2</th>\n",
       "      <td>93</td>\n",
       "      <td>chairman s comment another tough 12 months beh...</td>\n",
       "      <td>Journal</td>\n",
       "      <td>australian canegrower</td>\n",
       "      <td>[chairman s comment, s comment another, commen...</td>\n",
       "      <td>[chairman s comment another, s comment another...</td>\n",
       "    </tr>\n",
       "    <tr>\n",
       "      <th>3</th>\n",
       "      <td>234</td>\n",
       "      <td>vehicular steering angle detecting device and ...</td>\n",
       "      <td>Patent</td>\n",
       "      <td>None</td>\n",
       "      <td>[vehicular steering angle, steering angle dete...</td>\n",
       "      <td>[vehicular steering angle detecting, steering ...</td>\n",
       "    </tr>\n",
       "    <tr>\n",
       "      <th>4</th>\n",
       "      <td>30</td>\n",
       "      <td>specific mesothelial signature marks the heter...</td>\n",
       "      <td>Journal</td>\n",
       "      <td>stem cells</td>\n",
       "      <td>[specific mesothelial signature, mesothelial s...</td>\n",
       "      <td>[specific mesothelial signature marks, mesothe...</td>\n",
       "    </tr>\n",
       "    <tr>\n",
       "      <th>5</th>\n",
       "      <td>115</td>\n",
       "      <td>metagenomic analysis revealed the microbiota a...</td>\n",
       "      <td>Journal</td>\n",
       "      <td>science of the total environment</td>\n",
       "      <td>[metagenomic analysis revealed, analysis revea...</td>\n",
       "      <td>[metagenomic analysis revealed the, analysis r...</td>\n",
       "    </tr>\n",
       "    <tr>\n",
       "      <th>6</th>\n",
       "      <td>81</td>\n",
       "      <td>a multi input single output iterative learning...</td>\n",
       "      <td>Journal</td>\n",
       "      <td>control engineering practice</td>\n",
       "      <td>[a multi input, multi input single, input sing...</td>\n",
       "      <td>[a multi input single, multi input single outp...</td>\n",
       "    </tr>\n",
       "    <tr>\n",
       "      <th>7</th>\n",
       "      <td>153</td>\n",
       "      <td>time limited psychodynamic psychotherapy with ...</td>\n",
       "      <td>Journal</td>\n",
       "      <td>british journal of psychotherapy</td>\n",
       "      <td>[time limited psychodynamic, limited psychodyn...</td>\n",
       "      <td>[time limited psychodynamic psychotherapy, lim...</td>\n",
       "    </tr>\n",
       "    <tr>\n",
       "      <th>8</th>\n",
       "      <td>0</td>\n",
       "      <td>catherine hofmann artistes de la carte de la r...</td>\n",
       "      <td>Journal</td>\n",
       "      <td>territoire en mouvement revue de geographie et...</td>\n",
       "      <td>[catherine hofmann artistes, hofmann artistes ...</td>\n",
       "      <td>[catherine hofmann artistes de, hofmann artist...</td>\n",
       "    </tr>\n",
       "    <tr>\n",
       "      <th>9</th>\n",
       "      <td>269</td>\n",
       "      <td>new algorithm for variable rate linear broadca...</td>\n",
       "      <td>None</td>\n",
       "      <td>None</td>\n",
       "      <td>[new algorithm for, algorithm for variable, fo...</td>\n",
       "      <td>[new algorithm for variable, algorithm for var...</td>\n",
       "    </tr>\n",
       "  </tbody>\n",
       "</table>\n",
       "</div>"
      ],
      "text/plain": [
       "   index                                              title doc_type  \\\n",
       "0    124  design of numerical control focusing circuit w...  Journal   \n",
       "1    264                                   王镭教授荣膺 医学教育终身成就奖  Journal   \n",
       "2     93  chairman s comment another tough 12 months beh...  Journal   \n",
       "3    234  vehicular steering angle detecting device and ...   Patent   \n",
       "4     30  specific mesothelial signature marks the heter...  Journal   \n",
       "5    115  metagenomic analysis revealed the microbiota a...  Journal   \n",
       "6     81  a multi input single output iterative learning...  Journal   \n",
       "7    153  time limited psychodynamic psychotherapy with ...  Journal   \n",
       "8      0  catherine hofmann artistes de la carte de la r...  Journal   \n",
       "9    269  new algorithm for variable rate linear broadca...     None   \n",
       "\n",
       "                                             journal  \\\n",
       "0               electro optic technology application   \n",
       "1               chinese journal of medical education   \n",
       "2                              australian canegrower   \n",
       "3                                               None   \n",
       "4                                         stem cells   \n",
       "5                   science of the total environment   \n",
       "6                       control engineering practice   \n",
       "7                   british journal of psychotherapy   \n",
       "8  territoire en mouvement revue de geographie et...   \n",
       "9                                               None   \n",
       "\n",
       "                                      title_trigrams  \\\n",
       "0  [design of numerical, of numerical control, nu...   \n",
       "1                                                 []   \n",
       "2  [chairman s comment, s comment another, commen...   \n",
       "3  [vehicular steering angle, steering angle dete...   \n",
       "4  [specific mesothelial signature, mesothelial s...   \n",
       "5  [metagenomic analysis revealed, analysis revea...   \n",
       "6  [a multi input, multi input single, input sing...   \n",
       "7  [time limited psychodynamic, limited psychodyn...   \n",
       "8  [catherine hofmann artistes, hofmann artistes ...   \n",
       "9  [new algorithm for, algorithm for variable, fo...   \n",
       "\n",
       "                                        title_4grams  \n",
       "0  [design of numerical control, of numerical con...  \n",
       "1                                                 []  \n",
       "2  [chairman s comment another, s comment another...  \n",
       "3  [vehicular steering angle detecting, steering ...  \n",
       "4  [specific mesothelial signature marks, mesothe...  \n",
       "5  [metagenomic analysis revealed the, analysis r...  \n",
       "6  [a multi input single, multi input single outp...  \n",
       "7  [time limited psychodynamic psychotherapy, lim...  \n",
       "8  [catherine hofmann artistes de, hofmann artist...  \n",
       "9  [new algorithm for variable, algorithm for var...  "
      ]
     },
     "execution_count": 31,
     "metadata": {},
     "output_type": "execute_result"
    }
   ],
   "source": [
    "raw_data"
   ]
  },
  {
   "cell_type": "code",
   "execution_count": 36,
   "metadata": {},
   "outputs": [],
   "source": [
    "trigram_tags = raw_data[['index','title', 'doc_type','journal','title_trigrams']] \\\n",
    ".explode('title_trigrams').merge(tags, \n",
    "                                 how='inner', \n",
    "                                 left_on='title_trigrams', \n",
    "                                 right_on='tag') \\\n",
    ".groupby(['index','title', 'doc_type','journal'])['title_trigrams'].apply(list).reset_index()"
   ]
  },
  {
   "cell_type": "code",
   "execution_count": 37,
   "metadata": {},
   "outputs": [
    {
     "data": {
      "text/html": [
       "<div>\n",
       "<style scoped>\n",
       "    .dataframe tbody tr th:only-of-type {\n",
       "        vertical-align: middle;\n",
       "    }\n",
       "\n",
       "    .dataframe tbody tr th {\n",
       "        vertical-align: top;\n",
       "    }\n",
       "\n",
       "    .dataframe thead th {\n",
       "        text-align: right;\n",
       "    }\n",
       "</style>\n",
       "<table border=\"1\" class=\"dataframe\">\n",
       "  <thead>\n",
       "    <tr style=\"text-align: right;\">\n",
       "      <th></th>\n",
       "      <th>index</th>\n",
       "      <th>title</th>\n",
       "      <th>doc_type</th>\n",
       "      <th>journal</th>\n",
       "      <th>title_trigrams</th>\n",
       "    </tr>\n",
       "  </thead>\n",
       "  <tbody>\n",
       "    <tr>\n",
       "      <th>0</th>\n",
       "      <td>30</td>\n",
       "      <td>specific mesothelial signature marks the heter...</td>\n",
       "      <td>Journal</td>\n",
       "      <td>stem cells</td>\n",
       "      <td>[serous ovarian cancer]</td>\n",
       "    </tr>\n",
       "    <tr>\n",
       "      <th>1</th>\n",
       "      <td>81</td>\n",
       "      <td>a multi input single output iterative learning...</td>\n",
       "      <td>Journal</td>\n",
       "      <td>control engineering practice</td>\n",
       "      <td>[iterative learning control]</td>\n",
       "    </tr>\n",
       "  </tbody>\n",
       "</table>\n",
       "</div>"
      ],
      "text/plain": [
       "   index                                              title doc_type  \\\n",
       "0     30  specific mesothelial signature marks the heter...  Journal   \n",
       "1     81  a multi input single output iterative learning...  Journal   \n",
       "\n",
       "                        journal                title_trigrams  \n",
       "0                    stem cells       [serous ovarian cancer]  \n",
       "1  control engineering practice  [iterative learning control]  "
      ]
     },
     "execution_count": 37,
     "metadata": {},
     "output_type": "execute_result"
    }
   ],
   "source": [
    "trigram_tags"
   ]
  },
  {
   "cell_type": "code",
   "execution_count": null,
   "metadata": {},
   "outputs": [],
   "source": []
  },
  {
   "cell_type": "markdown",
   "metadata": {},
   "source": [
    "##### Checking Test Data Against Raw Words"
   ]
  },
  {
   "cell_type": "code",
   "execution_count": 14,
   "metadata": {},
   "outputs": [],
   "source": [
    "unigram_tags = raw_data[['paper_id', 'title_unigrams']] \\\n",
    ".explode('title_unigrams').merge(levels_1, \n",
    "                                 how='inner', \n",
    "                                 left_on='title_unigrams', \n",
    "                                 right_on='topic_name') \\\n",
    ".drop_duplicates(subset=['paper_id','title_unigrams']) \\\n",
    ".groupby('paper_id')['title_unigrams'].apply(list).reset_index()"
   ]
  },
  {
   "cell_type": "code",
   "execution_count": 15,
   "metadata": {},
   "outputs": [
    {
     "data": {
      "text/html": [
       "<div>\n",
       "<style scoped>\n",
       "    .dataframe tbody tr th:only-of-type {\n",
       "        vertical-align: middle;\n",
       "    }\n",
       "\n",
       "    .dataframe tbody tr th {\n",
       "        vertical-align: top;\n",
       "    }\n",
       "\n",
       "    .dataframe thead th {\n",
       "        text-align: right;\n",
       "    }\n",
       "</style>\n",
       "<table border=\"1\" class=\"dataframe\">\n",
       "  <thead>\n",
       "    <tr style=\"text-align: right;\">\n",
       "      <th></th>\n",
       "      <th>paper_id</th>\n",
       "      <th>title_unigrams</th>\n",
       "    </tr>\n",
       "  </thead>\n",
       "  <tbody>\n",
       "    <tr>\n",
       "      <th>0</th>\n",
       "      <td>179363</td>\n",
       "      <td>[blackleg]</td>\n",
       "    </tr>\n",
       "    <tr>\n",
       "      <th>1</th>\n",
       "      <td>259281</td>\n",
       "      <td>[voting]</td>\n",
       "    </tr>\n",
       "    <tr>\n",
       "      <th>2</th>\n",
       "      <td>463470</td>\n",
       "      <td>[xml]</td>\n",
       "    </tr>\n",
       "    <tr>\n",
       "      <th>3</th>\n",
       "      <td>535702</td>\n",
       "      <td>[adsorption, carbon, benzene, sewage]</td>\n",
       "    </tr>\n",
       "    <tr>\n",
       "      <th>4</th>\n",
       "      <td>557834</td>\n",
       "      <td>[distance, zebra, poephila]</td>\n",
       "    </tr>\n",
       "  </tbody>\n",
       "</table>\n",
       "</div>"
      ],
      "text/plain": [
       "   paper_id                         title_unigrams\n",
       "0    179363                             [blackleg]\n",
       "1    259281                               [voting]\n",
       "2    463470                                  [xml]\n",
       "3    535702  [adsorption, carbon, benzene, sewage]\n",
       "4    557834            [distance, zebra, poephila]"
      ]
     },
     "execution_count": 15,
     "metadata": {},
     "output_type": "execute_result"
    }
   ],
   "source": [
    "unigram_tags.head(5)"
   ]
  },
  {
   "cell_type": "code",
   "execution_count": 16,
   "metadata": {},
   "outputs": [
    {
     "data": {
      "text/plain": [
       "(132853, 2)"
      ]
     },
     "execution_count": 16,
     "metadata": {},
     "output_type": "execute_result"
    }
   ],
   "source": [
    "unigram_tags.shape"
   ]
  },
  {
   "cell_type": "code",
   "execution_count": 17,
   "metadata": {},
   "outputs": [],
   "source": [
    "bigram_tags = raw_data[['paper_id', 'title_bigrams']] \\\n",
    ".explode('title_bigrams').merge(levels_2, \n",
    "                                 how='inner', \n",
    "                                 left_on='title_bigrams', \n",
    "                                 right_on='topic_name') \\\n",
    ".drop_duplicates(subset=['paper_id','title_bigrams']) \\\n",
    ".groupby('paper_id')['title_bigrams'].apply(list).reset_index()"
   ]
  },
  {
   "cell_type": "code",
   "execution_count": 18,
   "metadata": {},
   "outputs": [
    {
     "data": {
      "text/html": [
       "<div>\n",
       "<style scoped>\n",
       "    .dataframe tbody tr th:only-of-type {\n",
       "        vertical-align: middle;\n",
       "    }\n",
       "\n",
       "    .dataframe tbody tr th {\n",
       "        vertical-align: top;\n",
       "    }\n",
       "\n",
       "    .dataframe thead th {\n",
       "        text-align: right;\n",
       "    }\n",
       "</style>\n",
       "<table border=\"1\" class=\"dataframe\">\n",
       "  <thead>\n",
       "    <tr style=\"text-align: right;\">\n",
       "      <th></th>\n",
       "      <th>paper_id</th>\n",
       "      <th>title_bigrams</th>\n",
       "    </tr>\n",
       "  </thead>\n",
       "  <tbody>\n",
       "    <tr>\n",
       "      <th>0</th>\n",
       "      <td>535702</td>\n",
       "      <td>[sewage sludge, activated carbon]</td>\n",
       "    </tr>\n",
       "    <tr>\n",
       "      <th>1</th>\n",
       "      <td>557834</td>\n",
       "      <td>[poephila guttata]</td>\n",
       "    </tr>\n",
       "    <tr>\n",
       "      <th>2</th>\n",
       "      <td>640124</td>\n",
       "      <td>[lipid oxidation]</td>\n",
       "    </tr>\n",
       "    <tr>\n",
       "      <th>3</th>\n",
       "      <td>777628</td>\n",
       "      <td>[thrombocytopenic purpura, natural history]</td>\n",
       "    </tr>\n",
       "    <tr>\n",
       "      <th>4</th>\n",
       "      <td>800061</td>\n",
       "      <td>[health care, information technology]</td>\n",
       "    </tr>\n",
       "  </tbody>\n",
       "</table>\n",
       "</div>"
      ],
      "text/plain": [
       "   paper_id                                title_bigrams\n",
       "0    535702            [sewage sludge, activated carbon]\n",
       "1    557834                           [poephila guttata]\n",
       "2    640124                            [lipid oxidation]\n",
       "3    777628  [thrombocytopenic purpura, natural history]\n",
       "4    800061        [health care, information technology]"
      ]
     },
     "execution_count": 18,
     "metadata": {},
     "output_type": "execute_result"
    }
   ],
   "source": [
    "bigram_tags.head(5)"
   ]
  },
  {
   "cell_type": "code",
   "execution_count": 19,
   "metadata": {},
   "outputs": [
    {
     "data": {
      "text/plain": [
       "(82983, 2)"
      ]
     },
     "execution_count": 19,
     "metadata": {},
     "output_type": "execute_result"
    }
   ],
   "source": [
    "bigram_tags.shape"
   ]
  },
  {
   "cell_type": "code",
   "execution_count": 20,
   "metadata": {},
   "outputs": [],
   "source": [
    "trigram_tags = raw_data[['paper_id', 'title_trigrams']] \\\n",
    ".explode('title_trigrams').merge(levels_3, \n",
    "                                 how='inner', \n",
    "                                 left_on='title_trigrams', \n",
    "                                 right_on='topic_name') \\\n",
    ".drop_duplicates(subset=['paper_id','title_trigrams']) \\\n",
    ".groupby('paper_id')['title_trigrams'].apply(list).reset_index()"
   ]
  },
  {
   "cell_type": "code",
   "execution_count": 21,
   "metadata": {},
   "outputs": [
    {
     "data": {
      "text/html": [
       "<div>\n",
       "<style scoped>\n",
       "    .dataframe tbody tr th:only-of-type {\n",
       "        vertical-align: middle;\n",
       "    }\n",
       "\n",
       "    .dataframe tbody tr th {\n",
       "        vertical-align: top;\n",
       "    }\n",
       "\n",
       "    .dataframe thead th {\n",
       "        text-align: right;\n",
       "    }\n",
       "</style>\n",
       "<table border=\"1\" class=\"dataframe\">\n",
       "  <thead>\n",
       "    <tr style=\"text-align: right;\">\n",
       "      <th></th>\n",
       "      <th>paper_id</th>\n",
       "      <th>title_trigrams</th>\n",
       "    </tr>\n",
       "  </thead>\n",
       "  <tbody>\n",
       "    <tr>\n",
       "      <th>0</th>\n",
       "      <td>179363</td>\n",
       "      <td>[bacterial soft rot]</td>\n",
       "    </tr>\n",
       "    <tr>\n",
       "      <th>1</th>\n",
       "      <td>1279711</td>\n",
       "      <td>[data independent acquisition]</td>\n",
       "    </tr>\n",
       "    <tr>\n",
       "      <th>2</th>\n",
       "      <td>2132636</td>\n",
       "      <td>[soil structure interaction]</td>\n",
       "    </tr>\n",
       "    <tr>\n",
       "      <th>3</th>\n",
       "      <td>2640241</td>\n",
       "      <td>[reliable server pooling]</td>\n",
       "    </tr>\n",
       "    <tr>\n",
       "      <th>4</th>\n",
       "      <td>3392521</td>\n",
       "      <td>[computational fluid dynamics]</td>\n",
       "    </tr>\n",
       "  </tbody>\n",
       "</table>\n",
       "</div>"
      ],
      "text/plain": [
       "   paper_id                  title_trigrams\n",
       "0    179363            [bacterial soft rot]\n",
       "1   1279711  [data independent acquisition]\n",
       "2   2132636    [soil structure interaction]\n",
       "3   2640241       [reliable server pooling]\n",
       "4   3392521  [computational fluid dynamics]"
      ]
     },
     "execution_count": 21,
     "metadata": {},
     "output_type": "execute_result"
    }
   ],
   "source": [
    "trigram_tags.head(5)"
   ]
  },
  {
   "cell_type": "code",
   "execution_count": 22,
   "metadata": {},
   "outputs": [
    {
     "data": {
      "text/plain": [
       "(17575, 2)"
      ]
     },
     "execution_count": 22,
     "metadata": {},
     "output_type": "execute_result"
    }
   ],
   "source": [
    "trigram_tags.shape"
   ]
  },
  {
   "cell_type": "code",
   "execution_count": 23,
   "metadata": {},
   "outputs": [],
   "source": [
    "quadgram_tags = raw_data[['paper_id', 'title_4grams']] \\\n",
    ".explode('title_4grams').merge(levels_4, \n",
    "                                 how='inner', \n",
    "                                 left_on='title_4grams', \n",
    "                                 right_on='topic_name') \\\n",
    ".drop_duplicates(subset=['paper_id','title_4grams']) \\\n",
    ".groupby('paper_id')['title_4grams'].apply(list).reset_index()"
   ]
  },
  {
   "cell_type": "code",
   "execution_count": 24,
   "metadata": {},
   "outputs": [
    {
     "data": {
      "text/plain": [
       "(2630, 2)"
      ]
     },
     "execution_count": 24,
     "metadata": {},
     "output_type": "execute_result"
    }
   ],
   "source": [
    "quadgram_tags.shape"
   ]
  },
  {
   "cell_type": "markdown",
   "metadata": {},
   "source": [
    "#### Combine into One DF"
   ]
  },
  {
   "cell_type": "code",
   "execution_count": 25,
   "metadata": {},
   "outputs": [
    {
     "data": {
      "text/plain": [
       "(150630, 10)"
      ]
     },
     "execution_count": 25,
     "metadata": {},
     "output_type": "execute_result"
    }
   ],
   "source": [
    "raw_data.shape"
   ]
  },
  {
   "cell_type": "code",
   "execution_count": 30,
   "metadata": {},
   "outputs": [],
   "source": [
    "easy_tags = raw_data[['paper_id','doc_type','paper_title','journal_name','publication_date','topics']] \\\n",
    ".merge(unigram_tags, how='left', on='paper_id') \\\n",
    ".merge(bigram_tags, how='left', on='paper_id') \\\n",
    ".merge(trigram_tags, how='left', on='paper_id') \\\n",
    ".merge(quadgram_tags, how='left', on='paper_id')"
   ]
  },
  {
   "cell_type": "code",
   "execution_count": 32,
   "metadata": {},
   "outputs": [],
   "source": [
    "easy_tags.to_parquet(\"test_data_title_tagging.parquet\")"
   ]
  },
  {
   "cell_type": "code",
   "execution_count": 31,
   "metadata": {},
   "outputs": [
    {
     "data": {
      "text/html": [
       "<div>\n",
       "<style scoped>\n",
       "    .dataframe tbody tr th:only-of-type {\n",
       "        vertical-align: middle;\n",
       "    }\n",
       "\n",
       "    .dataframe tbody tr th {\n",
       "        vertical-align: top;\n",
       "    }\n",
       "\n",
       "    .dataframe thead th {\n",
       "        text-align: right;\n",
       "    }\n",
       "</style>\n",
       "<table border=\"1\" class=\"dataframe\">\n",
       "  <thead>\n",
       "    <tr style=\"text-align: right;\">\n",
       "      <th></th>\n",
       "      <th>paper_id</th>\n",
       "      <th>doc_type</th>\n",
       "      <th>paper_title</th>\n",
       "      <th>journal_name</th>\n",
       "      <th>publication_date</th>\n",
       "      <th>topics</th>\n",
       "      <th>title_unigrams</th>\n",
       "      <th>title_bigrams</th>\n",
       "      <th>title_trigrams</th>\n",
       "      <th>title_4grams</th>\n",
       "    </tr>\n",
       "  </thead>\n",
       "  <tbody>\n",
       "    <tr>\n",
       "      <th>0</th>\n",
       "      <td>11688300</td>\n",
       "      <td>None</td>\n",
       "      <td>solving the traveling salesman problem in micr...</td>\n",
       "      <td>None</td>\n",
       "      <td>2010-01-01</td>\n",
       "      <td>[microsoft excel, computer science, travelling...</td>\n",
       "      <td>[exercise]</td>\n",
       "      <td>[microsoft excel]</td>\n",
       "      <td>NaN</td>\n",
       "      <td>NaN</td>\n",
       "    </tr>\n",
       "    <tr>\n",
       "      <th>1</th>\n",
       "      <td>13187899</td>\n",
       "      <td>Conference</td>\n",
       "      <td>expression recognition in videos using a weigh...</td>\n",
       "      <td>None</td>\n",
       "      <td>2011-05-01</td>\n",
       "      <td>[component, computer vision, computer science,...</td>\n",
       "      <td>[expression, component, feature]</td>\n",
       "      <td>[feature descriptor]</td>\n",
       "      <td>NaN</td>\n",
       "      <td>NaN</td>\n",
       "    </tr>\n",
       "    <tr>\n",
       "      <th>2</th>\n",
       "      <td>21335690</td>\n",
       "      <td>None</td>\n",
       "      <td>anisotropy of defect production in electron ir...</td>\n",
       "      <td>None</td>\n",
       "      <td>1968-10-31</td>\n",
       "      <td>[crystallography, electron, silicon, materials...</td>\n",
       "      <td>[anisotropy, production, electron, silicon]</td>\n",
       "      <td>NaN</td>\n",
       "      <td>NaN</td>\n",
       "      <td>NaN</td>\n",
       "    </tr>\n",
       "    <tr>\n",
       "      <th>3</th>\n",
       "      <td>30574182</td>\n",
       "      <td>Patent</td>\n",
       "      <td>sprinkler trim ring</td>\n",
       "      <td>None</td>\n",
       "      <td>2000-02-03</td>\n",
       "      <td>[engineering, structural engineering, trim, ri...</td>\n",
       "      <td>[trim, ring]</td>\n",
       "      <td>NaN</td>\n",
       "      <td>NaN</td>\n",
       "      <td>NaN</td>\n",
       "    </tr>\n",
       "    <tr>\n",
       "      <th>4</th>\n",
       "      <td>47556196</td>\n",
       "      <td>Conference</td>\n",
       "      <td>the use of formal and informal models in objec...</td>\n",
       "      <td>None</td>\n",
       "      <td>2001-01-01</td>\n",
       "      <td>[requirement, non functional requirement, soft...</td>\n",
       "      <td>[object, engineering]</td>\n",
       "      <td>[requirements engineering]</td>\n",
       "      <td>NaN</td>\n",
       "      <td>NaN</td>\n",
       "    </tr>\n",
       "    <tr>\n",
       "      <th>5</th>\n",
       "      <td>92025864</td>\n",
       "      <td>Journal</td>\n",
       "      <td>a study of factors affecting mobile widget bas...</td>\n",
       "      <td>journal of the korea society of it services</td>\n",
       "      <td>2010-01-01</td>\n",
       "      <td>[information system, internet privacy, service...</td>\n",
       "      <td>NaN</td>\n",
       "      <td>NaN</td>\n",
       "      <td>NaN</td>\n",
       "      <td>NaN</td>\n",
       "    </tr>\n",
       "    <tr>\n",
       "      <th>6</th>\n",
       "      <td>102811628</td>\n",
       "      <td>None</td>\n",
       "      <td>seismic design of bridges lecture 2 on fbd and...</td>\n",
       "      <td>None</td>\n",
       "      <td>2011-12-05</td>\n",
       "      <td>[earthquake engineering, seismic analysis, eng...</td>\n",
       "      <td>[assignment]</td>\n",
       "      <td>NaN</td>\n",
       "      <td>NaN</td>\n",
       "      <td>NaN</td>\n",
       "    </tr>\n",
       "    <tr>\n",
       "      <th>7</th>\n",
       "      <td>126571507</td>\n",
       "      <td>None</td>\n",
       "      <td>review of the international society as a legal...</td>\n",
       "      <td>None</td>\n",
       "      <td>1984-01-01</td>\n",
       "      <td>[social science, political science]</td>\n",
       "      <td>[community]</td>\n",
       "      <td>NaN</td>\n",
       "      <td>NaN</td>\n",
       "      <td>NaN</td>\n",
       "    </tr>\n",
       "    <tr>\n",
       "      <th>8</th>\n",
       "      <td>129147021</td>\n",
       "      <td>None</td>\n",
       "      <td>nursing research online research hub reasons f...</td>\n",
       "      <td>None</td>\n",
       "      <td>2010-11-01</td>\n",
       "      <td>[team nursing, medicine, nursing, nursing rese...</td>\n",
       "      <td>[nursing]</td>\n",
       "      <td>[nursing research]</td>\n",
       "      <td>NaN</td>\n",
       "      <td>NaN</td>\n",
       "    </tr>\n",
       "    <tr>\n",
       "      <th>9</th>\n",
       "      <td>181508386</td>\n",
       "      <td>Journal</td>\n",
       "      <td>surgical repair of atrial septal defect and tr...</td>\n",
       "      <td>nihon geka gakkai zasshi</td>\n",
       "      <td>1996-03-01</td>\n",
       "      <td>[physical activity, lung, continuous positive ...</td>\n",
       "      <td>[regurgitation]</td>\n",
       "      <td>[surgical repair]</td>\n",
       "      <td>NaN</td>\n",
       "      <td>NaN</td>\n",
       "    </tr>\n",
       "    <tr>\n",
       "      <th>10</th>\n",
       "      <td>257724270</td>\n",
       "      <td>None</td>\n",
       "      <td>a theorem on spin eigenfunctions</td>\n",
       "      <td>None</td>\n",
       "      <td>1967-05-24</td>\n",
       "      <td>[state, function, eigenvalues and eigenvectors...</td>\n",
       "      <td>[spin]</td>\n",
       "      <td>NaN</td>\n",
       "      <td>NaN</td>\n",
       "      <td>NaN</td>\n",
       "    </tr>\n",
       "    <tr>\n",
       "      <th>11</th>\n",
       "      <td>294129213</td>\n",
       "      <td>Repository</td>\n",
       "      <td>unsharp measurements and joint measurability</td>\n",
       "      <td>arxiv quantum physics</td>\n",
       "      <td>2015-05-16</td>\n",
       "      <td>[statistical physics, pairwise comparison, qub...</td>\n",
       "      <td>[joint]</td>\n",
       "      <td>NaN</td>\n",
       "      <td>NaN</td>\n",
       "      <td>NaN</td>\n",
       "    </tr>\n",
       "    <tr>\n",
       "      <th>12</th>\n",
       "      <td>421504855</td>\n",
       "      <td>Journal</td>\n",
       "      <td>television as a medium of political advertisin...</td>\n",
       "      <td>asian journal of social sciences and humanities</td>\n",
       "      <td>2013-08-01</td>\n",
       "      <td>[reinforcement theory, political advertising, ...</td>\n",
       "      <td>[advertising, state]</td>\n",
       "      <td>[political advertising]</td>\n",
       "      <td>NaN</td>\n",
       "      <td>NaN</td>\n",
       "    </tr>\n",
       "    <tr>\n",
       "      <th>13</th>\n",
       "      <td>572882545</td>\n",
       "      <td>Journal</td>\n",
       "      <td>gas hydrate saturation from seismic data const...</td>\n",
       "      <td>journal of petroleum exploration and productio...</td>\n",
       "      <td>2016-03-01</td>\n",
       "      <td>[mineralogy, drilling, well logging, gas hydra...</td>\n",
       "      <td>[hydrate, saturation, data]</td>\n",
       "      <td>[log data]</td>\n",
       "      <td>NaN</td>\n",
       "      <td>NaN</td>\n",
       "    </tr>\n",
       "    <tr>\n",
       "      <th>14</th>\n",
       "      <td>597168309</td>\n",
       "      <td>Journal</td>\n",
       "      <td>establishmient of radioimmunoassays of toad bu...</td>\n",
       "      <td>zoological science</td>\n",
       "      <td>1986-12-15</td>\n",
       "      <td>[internal medicine, radioimmunoassay, bufo, bi...</td>\n",
       "      <td>[toad, bufo, plasma, population, endocrinology]</td>\n",
       "      <td>[annual cycle]</td>\n",
       "      <td>NaN</td>\n",
       "      <td>NaN</td>\n",
       "    </tr>\n",
       "    <tr>\n",
       "      <th>15</th>\n",
       "      <td>608028173</td>\n",
       "      <td>Book</td>\n",
       "      <td>atomic force microscopy in cell biology</td>\n",
       "      <td>None</td>\n",
       "      <td>2002-01-01</td>\n",
       "      <td>[biology, polymer science, lipid bilayer, forc...</td>\n",
       "      <td>[microscopy, cell, biology]</td>\n",
       "      <td>[cell biology]</td>\n",
       "      <td>[atomic force microscopy]</td>\n",
       "      <td>NaN</td>\n",
       "    </tr>\n",
       "    <tr>\n",
       "      <th>16</th>\n",
       "      <td>636815969</td>\n",
       "      <td>Book</td>\n",
       "      <td>journal bearing databook</td>\n",
       "      <td>None</td>\n",
       "      <td>1989-01-01</td>\n",
       "      <td>[bearing, torque, spring, electrical engineeri...</td>\n",
       "      <td>[bearing]</td>\n",
       "      <td>NaN</td>\n",
       "      <td>NaN</td>\n",
       "      <td>NaN</td>\n",
       "    </tr>\n",
       "    <tr>\n",
       "      <th>17</th>\n",
       "      <td>836309153</td>\n",
       "      <td>None</td>\n",
       "      <td>forcasting of international air transport dema...</td>\n",
       "      <td>None</td>\n",
       "      <td>2004-01-01</td>\n",
       "      <td>[boundary, jet bridge, capital region, air tra...</td>\n",
       "      <td>NaN</td>\n",
       "      <td>[air transport]</td>\n",
       "      <td>NaN</td>\n",
       "      <td>NaN</td>\n",
       "    </tr>\n",
       "    <tr>\n",
       "      <th>18</th>\n",
       "      <td>921453345</td>\n",
       "      <td>None</td>\n",
       "      <td>energy dependence of the equatorial pitch angl...</td>\n",
       "      <td>None</td>\n",
       "      <td>1970-01-01</td>\n",
       "      <td>[van allen radiation belt, geomagnetic equator...</td>\n",
       "      <td>[energy, pitch, distribution]</td>\n",
       "      <td>[pitch angle]</td>\n",
       "      <td>NaN</td>\n",
       "      <td>NaN</td>\n",
       "    </tr>\n",
       "    <tr>\n",
       "      <th>19</th>\n",
       "      <td>926884733</td>\n",
       "      <td>Journal</td>\n",
       "      <td>an experimental study on adhesion pattern adhe...</td>\n",
       "      <td>restorative dentistry and endodontics</td>\n",
       "      <td>1994-01-01</td>\n",
       "      <td>[luting agent, bond strength, dentistry, ename...</td>\n",
       "      <td>[adhesion, fracture, adhesive, inlay]</td>\n",
       "      <td>[adhesion strength]</td>\n",
       "      <td>NaN</td>\n",
       "      <td>NaN</td>\n",
       "    </tr>\n",
       "  </tbody>\n",
       "</table>\n",
       "</div>"
      ],
      "text/plain": [
       "     paper_id    doc_type                                        paper_title  \\\n",
       "0    11688300        None  solving the traveling salesman problem in micr...   \n",
       "1    13187899  Conference  expression recognition in videos using a weigh...   \n",
       "2    21335690        None  anisotropy of defect production in electron ir...   \n",
       "3    30574182      Patent                                sprinkler trim ring   \n",
       "4    47556196  Conference  the use of formal and informal models in objec...   \n",
       "5    92025864     Journal  a study of factors affecting mobile widget bas...   \n",
       "6   102811628        None  seismic design of bridges lecture 2 on fbd and...   \n",
       "7   126571507        None  review of the international society as a legal...   \n",
       "8   129147021        None  nursing research online research hub reasons f...   \n",
       "9   181508386     Journal  surgical repair of atrial septal defect and tr...   \n",
       "10  257724270        None                   a theorem on spin eigenfunctions   \n",
       "11  294129213  Repository       unsharp measurements and joint measurability   \n",
       "12  421504855     Journal  television as a medium of political advertisin...   \n",
       "13  572882545     Journal  gas hydrate saturation from seismic data const...   \n",
       "14  597168309     Journal  establishmient of radioimmunoassays of toad bu...   \n",
       "15  608028173        Book            atomic force microscopy in cell biology   \n",
       "16  636815969        Book                           journal bearing databook   \n",
       "17  836309153        None  forcasting of international air transport dema...   \n",
       "18  921453345        None  energy dependence of the equatorial pitch angl...   \n",
       "19  926884733     Journal  an experimental study on adhesion pattern adhe...   \n",
       "\n",
       "                                         journal_name publication_date  \\\n",
       "0                                                None       2010-01-01   \n",
       "1                                                None       2011-05-01   \n",
       "2                                                None       1968-10-31   \n",
       "3                                                None       2000-02-03   \n",
       "4                                                None       2001-01-01   \n",
       "5         journal of the korea society of it services       2010-01-01   \n",
       "6                                                None       2011-12-05   \n",
       "7                                                None       1984-01-01   \n",
       "8                                                None       2010-11-01   \n",
       "9                            nihon geka gakkai zasshi       1996-03-01   \n",
       "10                                               None       1967-05-24   \n",
       "11                              arxiv quantum physics       2015-05-16   \n",
       "12    asian journal of social sciences and humanities       2013-08-01   \n",
       "13  journal of petroleum exploration and productio...       2016-03-01   \n",
       "14                                 zoological science       1986-12-15   \n",
       "15                                               None       2002-01-01   \n",
       "16                                               None       1989-01-01   \n",
       "17                                               None       2004-01-01   \n",
       "18                                               None       1970-01-01   \n",
       "19              restorative dentistry and endodontics       1994-01-01   \n",
       "\n",
       "                                               topics  \\\n",
       "0   [microsoft excel, computer science, travelling...   \n",
       "1   [component, computer vision, computer science,...   \n",
       "2   [crystallography, electron, silicon, materials...   \n",
       "3   [engineering, structural engineering, trim, ri...   \n",
       "4   [requirement, non functional requirement, soft...   \n",
       "5   [information system, internet privacy, service...   \n",
       "6   [earthquake engineering, seismic analysis, eng...   \n",
       "7                 [social science, political science]   \n",
       "8   [team nursing, medicine, nursing, nursing rese...   \n",
       "9   [physical activity, lung, continuous positive ...   \n",
       "10  [state, function, eigenvalues and eigenvectors...   \n",
       "11  [statistical physics, pairwise comparison, qub...   \n",
       "12  [reinforcement theory, political advertising, ...   \n",
       "13  [mineralogy, drilling, well logging, gas hydra...   \n",
       "14  [internal medicine, radioimmunoassay, bufo, bi...   \n",
       "15  [biology, polymer science, lipid bilayer, forc...   \n",
       "16  [bearing, torque, spring, electrical engineeri...   \n",
       "17  [boundary, jet bridge, capital region, air tra...   \n",
       "18  [van allen radiation belt, geomagnetic equator...   \n",
       "19  [luting agent, bond strength, dentistry, ename...   \n",
       "\n",
       "                                     title_unigrams  \\\n",
       "0                                        [exercise]   \n",
       "1                  [expression, component, feature]   \n",
       "2       [anisotropy, production, electron, silicon]   \n",
       "3                                      [trim, ring]   \n",
       "4                             [object, engineering]   \n",
       "5                                               NaN   \n",
       "6                                      [assignment]   \n",
       "7                                       [community]   \n",
       "8                                         [nursing]   \n",
       "9                                   [regurgitation]   \n",
       "10                                           [spin]   \n",
       "11                                          [joint]   \n",
       "12                             [advertising, state]   \n",
       "13                      [hydrate, saturation, data]   \n",
       "14  [toad, bufo, plasma, population, endocrinology]   \n",
       "15                      [microscopy, cell, biology]   \n",
       "16                                        [bearing]   \n",
       "17                                              NaN   \n",
       "18                    [energy, pitch, distribution]   \n",
       "19            [adhesion, fracture, adhesive, inlay]   \n",
       "\n",
       "                 title_bigrams             title_trigrams title_4grams  \n",
       "0            [microsoft excel]                        NaN          NaN  \n",
       "1         [feature descriptor]                        NaN          NaN  \n",
       "2                          NaN                        NaN          NaN  \n",
       "3                          NaN                        NaN          NaN  \n",
       "4   [requirements engineering]                        NaN          NaN  \n",
       "5                          NaN                        NaN          NaN  \n",
       "6                          NaN                        NaN          NaN  \n",
       "7                          NaN                        NaN          NaN  \n",
       "8           [nursing research]                        NaN          NaN  \n",
       "9            [surgical repair]                        NaN          NaN  \n",
       "10                         NaN                        NaN          NaN  \n",
       "11                         NaN                        NaN          NaN  \n",
       "12     [political advertising]                        NaN          NaN  \n",
       "13                  [log data]                        NaN          NaN  \n",
       "14              [annual cycle]                        NaN          NaN  \n",
       "15              [cell biology]  [atomic force microscopy]          NaN  \n",
       "16                         NaN                        NaN          NaN  \n",
       "17             [air transport]                        NaN          NaN  \n",
       "18               [pitch angle]                        NaN          NaN  \n",
       "19         [adhesion strength]                        NaN          NaN  "
      ]
     },
     "execution_count": 31,
     "metadata": {},
     "output_type": "execute_result"
    }
   ],
   "source": [
    "easy_tags.head(20)"
   ]
  },
  {
   "cell_type": "code",
   "execution_count": null,
   "metadata": {},
   "outputs": [],
   "source": []
  },
  {
   "cell_type": "code",
   "execution_count": 4,
   "metadata": {},
   "outputs": [],
   "source": [
    "import math\n",
    "import pandas as pd\n",
    "import matplotlib.pyplot as plt"
   ]
  },
  {
   "cell_type": "code",
   "execution_count": 32,
   "metadata": {},
   "outputs": [],
   "source": [
    "# Define configuration parameters\n",
    "start_lr = 0.006\n",
    "rampup_epochs = 4\n",
    "exp_decay = 0.17\n",
    "\n",
    "# Define the scheduling function\n",
    "def schedule(epoch):\n",
    "    def lr(epoch, start_lr, rampup_epochs, exp_decay):\n",
    "        if epoch < rampup_epochs:\n",
    "            return start_lr\n",
    "        else:\n",
    "            return start_lr * math.exp(-exp_decay * epoch)\n",
    "    return lr(epoch, start_lr, rampup_epochs, exp_decay)"
   ]
  },
  {
   "cell_type": "code",
   "execution_count": 33,
   "metadata": {},
   "outputs": [
    {
     "data": {
      "text/plain": [
       "<AxesSubplot:xlabel='epoch'>"
      ]
     },
     "execution_count": 33,
     "metadata": {},
     "output_type": "execute_result"
    },
    {
     "data": {
      "image/png": "[encoded data removed]",
      "text/plain": [
       "<Figure size 432x288 with 1 Axes>"
      ]
     },
     "metadata": {
      "needs_background": "light"
     },
     "output_type": "display_data"
    }
   ],
   "source": [
    "lr_df = pd.DataFrame(zip(list(range(1,20))), columns=['epoch'])\n",
    "lr_df['lr'] = lr_df['epoch'].apply(schedule)\n",
    "lr_df.set_index('epoch').plot()"
   ]
  },
  {
   "cell_type": "code",
   "execution_count": 34,
   "metadata": {},
   "outputs": [
    {
     "data": {
      "text/html": [
       "<div>\n",
       "<style scoped>\n",
       "    .dataframe tbody tr th:only-of-type {\n",
       "        vertical-align: middle;\n",
       "    }\n",
       "\n",
       "    .dataframe tbody tr th {\n",
       "        vertical-align: top;\n",
       "    }\n",
       "\n",
       "    .dataframe thead th {\n",
       "        text-align: right;\n",
       "    }\n",
       "</style>\n",
       "<table border=\"1\" class=\"dataframe\">\n",
       "  <thead>\n",
       "    <tr style=\"text-align: right;\">\n",
       "      <th></th>\n",
       "      <th>epoch</th>\n",
       "      <th>lr</th>\n",
       "    </tr>\n",
       "  </thead>\n",
       "  <tbody>\n",
       "    <tr>\n",
       "      <th>0</th>\n",
       "      <td>1</td>\n",
       "      <td>0.006000</td>\n",
       "    </tr>\n",
       "    <tr>\n",
       "      <th>1</th>\n",
       "      <td>2</td>\n",
       "      <td>0.006000</td>\n",
       "    </tr>\n",
       "    <tr>\n",
       "      <th>2</th>\n",
       "      <td>3</td>\n",
       "      <td>0.006000</td>\n",
       "    </tr>\n",
       "    <tr>\n",
       "      <th>3</th>\n",
       "      <td>4</td>\n",
       "      <td>0.003040</td>\n",
       "    </tr>\n",
       "    <tr>\n",
       "      <th>4</th>\n",
       "      <td>5</td>\n",
       "      <td>0.002564</td>\n",
       "    </tr>\n",
       "    <tr>\n",
       "      <th>5</th>\n",
       "      <td>6</td>\n",
       "      <td>0.002164</td>\n",
       "    </tr>\n",
       "    <tr>\n",
       "      <th>6</th>\n",
       "      <td>7</td>\n",
       "      <td>0.001825</td>\n",
       "    </tr>\n",
       "    <tr>\n",
       "      <th>7</th>\n",
       "      <td>8</td>\n",
       "      <td>0.001540</td>\n",
       "    </tr>\n",
       "    <tr>\n",
       "      <th>8</th>\n",
       "      <td>9</td>\n",
       "      <td>0.001299</td>\n",
       "    </tr>\n",
       "    <tr>\n",
       "      <th>9</th>\n",
       "      <td>10</td>\n",
       "      <td>0.001096</td>\n",
       "    </tr>\n",
       "    <tr>\n",
       "      <th>10</th>\n",
       "      <td>11</td>\n",
       "      <td>0.000925</td>\n",
       "    </tr>\n",
       "    <tr>\n",
       "      <th>11</th>\n",
       "      <td>12</td>\n",
       "      <td>0.000780</td>\n",
       "    </tr>\n",
       "    <tr>\n",
       "      <th>12</th>\n",
       "      <td>13</td>\n",
       "      <td>0.000658</td>\n",
       "    </tr>\n",
       "    <tr>\n",
       "      <th>13</th>\n",
       "      <td>14</td>\n",
       "      <td>0.000555</td>\n",
       "    </tr>\n",
       "    <tr>\n",
       "      <th>14</th>\n",
       "      <td>15</td>\n",
       "      <td>0.000468</td>\n",
       "    </tr>\n",
       "    <tr>\n",
       "      <th>15</th>\n",
       "      <td>16</td>\n",
       "      <td>0.000395</td>\n",
       "    </tr>\n",
       "    <tr>\n",
       "      <th>16</th>\n",
       "      <td>17</td>\n",
       "      <td>0.000333</td>\n",
       "    </tr>\n",
       "    <tr>\n",
       "      <th>17</th>\n",
       "      <td>18</td>\n",
       "      <td>0.000281</td>\n",
       "    </tr>\n",
       "    <tr>\n",
       "      <th>18</th>\n",
       "      <td>19</td>\n",
       "      <td>0.000237</td>\n",
       "    </tr>\n",
       "  </tbody>\n",
       "</table>\n",
       "</div>"
      ],
      "text/plain": [
       "    epoch        lr\n",
       "0       1  0.006000\n",
       "1       2  0.006000\n",
       "2       3  0.006000\n",
       "3       4  0.003040\n",
       "4       5  0.002564\n",
       "5       6  0.002164\n",
       "6       7  0.001825\n",
       "7       8  0.001540\n",
       "8       9  0.001299\n",
       "9      10  0.001096\n",
       "10     11  0.000925\n",
       "11     12  0.000780\n",
       "12     13  0.000658\n",
       "13     14  0.000555\n",
       "14     15  0.000468\n",
       "15     16  0.000395\n",
       "16     17  0.000333\n",
       "17     18  0.000281\n",
       "18     19  0.000237"
      ]
     },
     "execution_count": 34,
     "metadata": {},
     "output_type": "execute_result"
    }
   ],
   "source": [
    "lr_df"
   ]
  },
  {
   "cell_type": "code",
   "execution_count": null,
   "metadata": {},
   "outputs": [],
   "source": []
  }
 ],
 "metadata": {
  "accelerator": "GPU",
  "colab": {
   "collapsed_sections": [],
   "machine_shape": "hm",
   "name": "mag_model_baseline.ipynb",
   "provenance": []
  },
  "kernelspec": {
   "display_name": "Python 3 (ipykernel)",
   "language": "python",
   "name": "python3"
  },
  "language_info": {
   "codemirror_mode": {
    "name": "ipython",
    "version": 3
   },
   "file_extension": ".py",
   "mimetype": "text/x-python",
   "name": "python",
   "nbconvert_exporter": "python",
   "pygments_lexer": "ipython3",
   "version": "3.8.11"
  }
 },
 "nbformat": 4,
 "nbformat_minor": 1
}
