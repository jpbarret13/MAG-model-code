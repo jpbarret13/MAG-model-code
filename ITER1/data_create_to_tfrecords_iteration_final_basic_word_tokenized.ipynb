{
 "cells": [
  {
   "cell_type": "code",
   "execution_count": 16,
   "id": "metric-secretariat",
   "metadata": {
    "scrolled": true
   },
   "outputs": [],
   "source": [
    "# !pip install tensorflow==2.4.1\n",
    "# !pip install transformers\n",
    "# !pip install pyarrow"
   ]
  },
  {
   "cell_type": "code",
   "execution_count": 1,
   "id": "latin-japanese",
   "metadata": {},
   "outputs": [],
   "source": [
    "import tensorflow as tf\n",
    "import pandas as pd\n",
    "import numpy as np\n",
    "import os\n",
    "from math import ceil"
   ]
  },
  {
   "cell_type": "code",
   "execution_count": 2,
   "id": "c4a900db",
   "metadata": {},
   "outputs": [],
   "source": [
    "def check_targets(targs):\n",
    "    if targs[0] == -1:\n",
    "        return 1\n",
    "    else:\n",
    "        return 0"
   ]
  },
  {
   "cell_type": "code",
   "execution_count": 4,
   "id": "charged-familiar",
   "metadata": {},
   "outputs": [],
   "source": [
    "def create_tfrecords_dataset(data, iter_num, dataset_type='train'):\n",
    "#     paper_title = tf.keras.preprocessing.sequence.pad_sequences(data['paper_title_tok'].to_list(), \n",
    "#                                                                 maxlen=512, dtype='int64', \n",
    "#                                                                 padding='post', truncating='post', value=0)\n",
    "    data['no_target'] = data['target_tok'].apply(check_targets)\n",
    "    data = data[data['no_target']==0].copy()\n",
    "    \n",
    "    paper_title = tf.ragged.constant(data['paper_title_tok'].to_list())\n",
    "    \n",
    "    targets = tf.keras.preprocessing.sequence.pad_sequences(data['target_tok'].to_list(), maxlen=20, \n",
    "                                                            dtype='int64', padding='post', \n",
    "                                                            truncating='post', value=0)\n",
    "\n",
    "    ds = tf.data.Dataset.zip((tf.data.Dataset.from_tensor_slices(paper_title),\n",
    "                              tf.data.Dataset.from_tensor_slices(data['journal_tok'].to_list()),\n",
    "                              tf.data.Dataset.from_tensor_slices(data['doc_type_tok'].to_list()),\n",
    "                              tf.data.Dataset.from_tensor_slices(targets)))\n",
    "    \n",
    "    serialized_features_dataset = ds.map(tf_serialize_example)\n",
    "    \n",
    "    filename = f\"./iteration_final/basic_word_tokenized/tfrecords/{dataset_type}/{str(iter_num).zfill(4)}.tfrecord\"\n",
    "    writer = tf.data.experimental.TFRecordWriter(filename)\n",
    "    writer.write(serialized_features_dataset)"
   ]
  },
  {
   "cell_type": "code",
   "execution_count": 5,
   "id": "portable-military",
   "metadata": {},
   "outputs": [],
   "source": [
    "def tf_serialize_example(f0, f1, f2, f3):\n",
    "    tf_string = tf.py_function(serialize_example, (f0, f1, f2, f3), tf.string)\n",
    "    return tf.reshape(tf_string, ())"
   ]
  },
  {
   "cell_type": "code",
   "execution_count": 6,
   "id": "interior-vancouver",
   "metadata": {},
   "outputs": [],
   "source": [
    "def serialize_example(paper_title, journal, doc_type, targets):\n",
    "    paper_title_list = tf.train.Int64List(value=paper_title.numpy().tolist())\n",
    "    journal_list = tf.train.Int64List(value=journal.numpy().tolist())\n",
    "    doc_type_list = tf.train.Int64List(value=doc_type.numpy().tolist())\n",
    "    targets_list = tf.train.Int64List(value=targets.numpy().tolist())\n",
    "    \n",
    "    paper_title_feature = tf.train.Feature(int64_list = paper_title_list)\n",
    "    journal_feature = tf.train.Feature(int64_list = journal_list)\n",
    "    doc_type_feature = tf.train.Feature(int64_list = doc_type_list)\n",
    "    targets_feature = tf.train.Feature(int64_list = targets_list)\n",
    "    \n",
    "    features_for_example = {\n",
    "        'paper_title': paper_title_feature,\n",
    "        'journal': journal_feature,\n",
    "        'doc_type': doc_type_feature,\n",
    "        'targets': targets_feature\n",
    "    }\n",
    "    \n",
    "    example_proto = tf.train.Example(features=tf.train.Features(feature=features_for_example))\n",
    "    \n",
    "    return example_proto.SerializeToString()"
   ]
  },
  {
   "cell_type": "code",
   "execution_count": 7,
   "id": "approved-spoke",
   "metadata": {},
   "outputs": [],
   "source": [
    "def turn_part_file_into_tfrecord(base_path, dataset_type='train'):\n",
    "    file_list = [x for x in os.listdir(f\"{base_path}{dataset_type}\") if x.endswith('parquet')]\n",
    "    file_list.sort()\n",
    "    print(f\"There are {len(file_list)} files for {dataset_type}\")\n",
    "    for i, file_name in enumerate(file_list):\n",
    "        data = pd.read_parquet(f\"{base_path}{dataset_type}/{file_name}\")\n",
    "        print(f\"_____File number: {i} ({data.shape[0]} samples)\")\n",
    "        create_tfrecords_dataset(data, i, dataset_type)"
   ]
  },
  {
   "cell_type": "code",
   "execution_count": 8,
   "id": "veterinary-alfred",
   "metadata": {},
   "outputs": [],
   "source": [
    "base_file_path = f\"./iteration_final/basic_word_tokenized/tokenized_data/\""
   ]
  },
  {
   "cell_type": "markdown",
   "id": "604b7505",
   "metadata": {},
   "source": [
    "#### Without padding"
   ]
  },
  {
   "cell_type": "code",
   "execution_count": 12,
   "id": "99310f8a",
   "metadata": {
    "scrolled": true
   },
   "outputs": [
    {
     "name": "stdout",
     "output_type": "stream",
     "text": [
      "There are 50 files for train\n",
      "_____File number: 0 (1955629 samples)\n"
     ]
    },
    {
     "name": "stderr",
     "output_type": "stream",
     "text": [
      "2021-11-05 22:19:01.825826: I tensorflow/compiler/mlir/mlir_graph_optimization_pass.cc:116] None of the MLIR optimization passes are enabled (registered 2)\n"
     ]
    },
    {
     "name": "stdout",
     "output_type": "stream",
     "text": [
      "_____File number: 1 (1954544 samples)\n",
      "_____File number: 2 (1954550 samples)\n",
      "_____File number: 3 (1953478 samples)\n",
      "_____File number: 4 (1954209 samples)\n",
      "_____File number: 5 (2135999 samples)\n",
      "_____File number: 6 (1955170 samples)\n",
      "_____File number: 7 (1953203 samples)\n",
      "_____File number: 8 (2134660 samples)\n",
      "_____File number: 9 (1953918 samples)\n",
      "_____File number: 10 (1954122 samples)\n",
      "_____File number: 11 (1954301 samples)\n",
      "_____File number: 12 (1954050 samples)\n",
      "_____File number: 13 (1952498 samples)\n",
      "_____File number: 14 (1951550 samples)\n",
      "_____File number: 15 (1954276 samples)\n",
      "_____File number: 16 (1953034 samples)\n",
      "_____File number: 17 (1953935 samples)\n",
      "_____File number: 18 (1954015 samples)\n",
      "_____File number: 19 (2133465 samples)\n",
      "_____File number: 20 (1955204 samples)\n",
      "_____File number: 21 (1953749 samples)\n",
      "_____File number: 22 (1954460 samples)\n",
      "_____File number: 23 (1954142 samples)\n",
      "_____File number: 24 (1952285 samples)\n",
      "_____File number: 25 (2132684 samples)\n",
      "_____File number: 26 (1951397 samples)\n",
      "_____File number: 27 (1955145 samples)\n",
      "_____File number: 28 (1954507 samples)\n",
      "_____File number: 29 (1953895 samples)\n",
      "_____File number: 30 (1952029 samples)\n",
      "_____File number: 31 (1952459 samples)\n",
      "_____File number: 32 (2107295 samples)\n",
      "_____File number: 33 (2136747 samples)\n",
      "_____File number: 34 (2134906 samples)\n",
      "_____File number: 35 (2286754 samples)\n",
      "_____File number: 36 (2314604 samples)\n",
      "_____File number: 37 (2314053 samples)\n",
      "_____File number: 38 (2310737 samples)\n",
      "_____File number: 39 (2308726 samples)\n",
      "_____File number: 40 (2308771 samples)\n",
      "_____File number: 41 (2002807 samples)\n",
      "_____File number: 42 (1851929 samples)\n",
      "_____File number: 43 (1546802 samples)\n",
      "_____File number: 44 (1674450 samples)\n",
      "_____File number: 45 (1675622 samples)\n",
      "_____File number: 46 (1854087 samples)\n",
      "_____File number: 47 (1672604 samples)\n",
      "_____File number: 48 (1675495 samples)\n",
      "_____File number: 49 (1675530 samples)\n",
      "CPU times: user 9h 15min 17s, sys: 38min 5s, total: 9h 53min 22s\n",
      "Wall time: 16h 52min 1s\n"
     ]
    }
   ],
   "source": [
    "%%time\n",
    "turn_part_file_into_tfrecord(base_file_path, 'train')"
   ]
  },
  {
   "cell_type": "code",
   "execution_count": 13,
   "id": "b8fcfb85",
   "metadata": {},
   "outputs": [
    {
     "name": "stdout",
     "output_type": "stream",
     "text": [
      "There are 10 files for val\n",
      "_____File number: 0 (61288 samples)\n",
      "_____File number: 1 (62102 samples)\n",
      "_____File number: 2 (30503 samples)\n",
      "_____File number: 3 (31457 samples)\n",
      "_____File number: 4 (24694 samples)\n",
      "_____File number: 5 (29589 samples)\n",
      "_____File number: 6 (60880 samples)\n",
      "_____File number: 7 (30634 samples)\n",
      "_____File number: 8 (57063 samples)\n",
      "_____File number: 9 (59699 samples)\n",
      "CPU times: user 2min 27s, sys: 9.69 s, total: 2min 37s\n",
      "Wall time: 2min 10s\n"
     ]
    }
   ],
   "source": [
    "%%time\n",
    "turn_part_file_into_tfrecord(base_file_path, 'val')"
   ]
  },
  {
   "cell_type": "code",
   "execution_count": 14,
   "id": "9aefdeb8",
   "metadata": {},
   "outputs": [
    {
     "name": "stdout",
     "output_type": "stream",
     "text": [
      "There are 5 files for test\n",
      "_____File number: 0 (20395 samples)\n",
      "_____File number: 1 (24338 samples)\n",
      "_____File number: 2 (24756 samples)\n",
      "_____File number: 3 (17072 samples)\n",
      "_____File number: 4 (10677 samples)\n",
      "CPU times: user 32.5 s, sys: 2.1 s, total: 34.6 s\n",
      "Wall time: 28.7 s\n"
     ]
    }
   ],
   "source": [
    "%%time\n",
    "turn_part_file_into_tfrecord(base_file_path, 'test')"
   ]
  },
  {
   "cell_type": "code",
   "execution_count": null,
   "id": "driven-exchange",
   "metadata": {},
   "outputs": [],
   "source": []
  },
  {
   "cell_type": "code",
   "execution_count": null,
   "id": "baking-syntax",
   "metadata": {},
   "outputs": [],
   "source": []
  }
 ],
 "metadata": {
  "kernelspec": {
   "display_name": "Python 3 (ipykernel)",
   "language": "python",
   "name": "python3"
  },
  "language_info": {
   "codemirror_mode": {
    "name": "ipython",
    "version": 3
   },
   "file_extension": ".py",
   "mimetype": "text/x-python",
   "name": "python",
   "nbconvert_exporter": "python",
   "pygments_lexer": "ipython3",
   "version": "3.8.11"
  }
 },
 "nbformat": 4,
 "nbformat_minor": 5
}
