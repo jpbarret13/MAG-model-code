{
 "cells": [
  {
   "cell_type": "code",
   "execution_count": 16,
   "id": "metric-secretariat",
   "metadata": {
    "scrolled": true
   },
   "outputs": [],
   "source": [
    "# !pip install tensorflow==2.4.1\n",
    "# !pip install transformers\n",
    "# !pip install pyarrow"
   ]
  },
  {
   "cell_type": "code",
   "execution_count": 1,
   "id": "latin-japanese",
   "metadata": {},
   "outputs": [],
   "source": [
    "import tensorflow as tf\n",
    "import pandas as pd\n",
    "import numpy as np\n",
    "import os\n",
    "from math import ceil"
   ]
  },
  {
   "cell_type": "code",
   "execution_count": 2,
   "id": "c4a900db",
   "metadata": {},
   "outputs": [],
   "source": [
    "def check_targets(targs):\n",
    "    if targs[0] == -1:\n",
    "        return 1\n",
    "    else:\n",
    "        return 0"
   ]
  },
  {
   "cell_type": "code",
   "execution_count": 3,
   "id": "charged-familiar",
   "metadata": {},
   "outputs": [],
   "source": [
    "def create_tfrecords_dataset(data, iter_num, dataset_type='train'):\n",
    "#     paper_title = tf.keras.preprocessing.sequence.pad_sequences(data['paper_title_tok'].to_list(), \n",
    "#                                                                 maxlen=512, dtype='int64', \n",
    "#                                                                 padding='post', truncating='post', value=0)\n",
    "    data['no_target'] = data['target_tok'].apply(check_targets)\n",
    "    data = data[data['no_target']==0].copy()\n",
    "    \n",
    "    paper_title = tf.ragged.constant(data['paper_title_tok'].to_list())\n",
    "    \n",
    "    targets = tf.keras.preprocessing.sequence.pad_sequences(data['target_tok'].to_list(), maxlen=20, \n",
    "                                                            dtype='int64', padding='post', \n",
    "                                                            truncating='post', value=0)\n",
    "\n",
    "    ds = tf.data.Dataset.zip((tf.data.Dataset.from_tensor_slices(paper_title),\n",
    "                              tf.data.Dataset.from_tensor_slices(data['journal_tok'].to_list()),\n",
    "                              tf.data.Dataset.from_tensor_slices(data['doc_type_tok'].to_list()),\n",
    "                              tf.data.Dataset.from_tensor_slices(targets)))\n",
    "    \n",
    "    serialized_features_dataset = ds.map(tf_serialize_example)\n",
    "    \n",
    "    filename = f\"./iteration_final/basic_word_tokenized_500_test/tfrecords/{dataset_type}/{str(iter_num).zfill(4)}.tfrecord\"\n",
    "    writer = tf.data.experimental.TFRecordWriter(filename)\n",
    "    writer.write(serialized_features_dataset)"
   ]
  },
  {
   "cell_type": "code",
   "execution_count": 4,
   "id": "portable-military",
   "metadata": {},
   "outputs": [],
   "source": [
    "def tf_serialize_example(f0, f1, f2, f3):\n",
    "    tf_string = tf.py_function(serialize_example, (f0, f1, f2, f3), tf.string)\n",
    "    return tf.reshape(tf_string, ())"
   ]
  },
  {
   "cell_type": "code",
   "execution_count": 5,
   "id": "interior-vancouver",
   "metadata": {},
   "outputs": [],
   "source": [
    "def serialize_example(paper_title, journal, doc_type, targets):\n",
    "    paper_title_list = tf.train.Int64List(value=paper_title.numpy().tolist())\n",
    "    journal_list = tf.train.Int64List(value=journal.numpy().tolist())\n",
    "    doc_type_list = tf.train.Int64List(value=doc_type.numpy().tolist())\n",
    "    targets_list = tf.train.Int64List(value=targets.numpy().tolist())\n",
    "    \n",
    "    paper_title_feature = tf.train.Feature(int64_list = paper_title_list)\n",
    "    journal_feature = tf.train.Feature(int64_list = journal_list)\n",
    "    doc_type_feature = tf.train.Feature(int64_list = doc_type_list)\n",
    "    targets_feature = tf.train.Feature(int64_list = targets_list)\n",
    "    \n",
    "    features_for_example = {\n",
    "        'paper_title': paper_title_feature,\n",
    "        'journal': journal_feature,\n",
    "        'doc_type': doc_type_feature,\n",
    "        'targets': targets_feature\n",
    "    }\n",
    "    \n",
    "    example_proto = tf.train.Example(features=tf.train.Features(feature=features_for_example))\n",
    "    \n",
    "    return example_proto.SerializeToString()"
   ]
  },
  {
   "cell_type": "code",
   "execution_count": 6,
   "id": "approved-spoke",
   "metadata": {},
   "outputs": [],
   "source": [
    "def turn_part_file_into_tfrecord(base_path, dataset_type='train'):\n",
    "    file_list = [x for x in os.listdir(f\"{base_path}{dataset_type}\") if x.endswith('parquet')]\n",
    "    file_list.sort()\n",
    "    print(f\"There are {len(file_list)} files for {dataset_type}\")\n",
    "    for i, file_name in enumerate(file_list):\n",
    "        data = pd.read_parquet(f\"{base_path}{dataset_type}/{file_name}\")\n",
    "        print(f\"_____File number: {i} ({data.shape[0]} samples)\")\n",
    "        create_tfrecords_dataset(data, i, dataset_type)"
   ]
  },
  {
   "cell_type": "code",
   "execution_count": 7,
   "id": "veterinary-alfred",
   "metadata": {},
   "outputs": [],
   "source": [
    "base_file_path = f\"./iteration_final/basic_word_tokenized_500_test/tokenized_data/\""
   ]
  },
  {
   "cell_type": "markdown",
   "id": "604b7505",
   "metadata": {},
   "source": [
    "#### Without padding"
   ]
  },
  {
   "cell_type": "code",
   "execution_count": 8,
   "id": "99310f8a",
   "metadata": {
    "scrolled": true
   },
   "outputs": [
    {
     "name": "stdout",
     "output_type": "stream",
     "text": [
      "There are 50 files for train\n",
      "_____File number: 0 (2109134 samples)\n"
     ]
    },
    {
     "name": "stderr",
     "output_type": "stream",
     "text": [
      "2021-11-13 10:04:46.279043: I tensorflow/compiler/jit/xla_cpu_device.cc:41] Not creating XLA devices, tf_xla_enable_xla_devices not set\n",
      "2021-11-13 10:04:46.281935: I tensorflow/core/platform/cpu_feature_guard.cc:142] This TensorFlow binary is optimized with oneAPI Deep Neural Network Library (oneDNN) to use the following CPU instructions in performance-critical operations:  AVX2 FMA\n",
      "To enable them in other operations, rebuild TensorFlow with the appropriate compiler flags.\n",
      "2021-11-13 10:05:56.631832: I tensorflow/compiler/mlir/mlir_graph_optimization_pass.cc:116] None of the MLIR optimization passes are enabled (registered 2)\n"
     ]
    },
    {
     "name": "stdout",
     "output_type": "stream",
     "text": [
      "_____File number: 1 (2385744 samples)\n",
      "_____File number: 2 (2137645 samples)\n",
      "_____File number: 3 (2137100 samples)\n",
      "_____File number: 4 (2417211 samples)\n",
      "_____File number: 5 (2132194 samples)\n",
      "_____File number: 6 (2595984 samples)\n",
      "_____File number: 7 (2133842 samples)\n",
      "_____File number: 8 (2135744 samples)\n",
      "_____File number: 9 (2311716 samples)\n",
      "_____File number: 10 (2131537 samples)\n",
      "_____File number: 11 (2412375 samples)\n",
      "_____File number: 12 (1826565 samples)\n",
      "_____File number: 13 (1674089 samples)\n",
      "_____File number: 14 (1673903 samples)\n",
      "_____File number: 15 (1672946 samples)\n",
      "_____File number: 16 (1673859 samples)\n",
      "_____File number: 17 (1674658 samples)\n",
      "_____File number: 18 (1675982 samples)\n",
      "_____File number: 19 (2410204 samples)\n",
      "_____File number: 20 (2591167 samples)\n",
      "_____File number: 21 (1675654 samples)\n",
      "_____File number: 22 (1673776 samples)\n",
      "_____File number: 23 (2407402 samples)\n",
      "_____File number: 24 (2409526 samples)\n",
      "_____File number: 25 (1674963 samples)\n",
      "_____File number: 26 (2587482 samples)\n",
      "_____File number: 27 (2105991 samples)\n",
      "_____File number: 28 (1953624 samples)\n",
      "_____File number: 29 (1954086 samples)\n",
      "_____File number: 30 (1951980 samples)\n",
      "_____File number: 31 (1954912 samples)\n",
      "_____File number: 32 (1954113 samples)\n",
      "_____File number: 33 (1675076 samples)\n",
      "_____File number: 34 (1954376 samples)\n",
      "_____File number: 35 (1675338 samples)\n",
      "_____File number: 36 (1953485 samples)\n",
      "_____File number: 37 (1674148 samples)\n",
      "_____File number: 38 (1675683 samples)\n",
      "_____File number: 39 (1953129 samples)\n",
      "_____File number: 40 (1674374 samples)\n",
      "_____File number: 41 (1953529 samples)\n",
      "_____File number: 42 (1954009 samples)\n",
      "_____File number: 43 (1674350 samples)\n",
      "_____File number: 44 (1673848 samples)\n",
      "_____File number: 45 (1954426 samples)\n",
      "_____File number: 46 (1674282 samples)\n",
      "_____File number: 47 (1853360 samples)\n",
      "_____File number: 48 (1951978 samples)\n",
      "_____File number: 49 (1951982 samples)\n",
      "CPU times: user 9h 25min 16s, sys: 38min 16s, total: 10h 3min 32s\n",
      "Wall time: 8h 33min 42s\n"
     ]
    }
   ],
   "source": [
    "%%time\n",
    "turn_part_file_into_tfrecord(base_file_path, 'train')"
   ]
  },
  {
   "cell_type": "code",
   "execution_count": 9,
   "id": "b8fcfb85",
   "metadata": {},
   "outputs": [
    {
     "name": "stdout",
     "output_type": "stream",
     "text": [
      "There are 10 files for val\n",
      "_____File number: 0 (61298 samples)\n",
      "_____File number: 1 (62022 samples)\n",
      "_____File number: 2 (30502 samples)\n",
      "_____File number: 3 (31457 samples)\n",
      "_____File number: 4 (26913 samples)\n",
      "_____File number: 5 (29725 samples)\n",
      "_____File number: 6 (60653 samples)\n",
      "_____File number: 7 (30778 samples)\n",
      "_____File number: 8 (55072 samples)\n",
      "_____File number: 9 (59489 samples)\n",
      "CPU times: user 2min 35s, sys: 11 s, total: 2min 46s\n",
      "Wall time: 2min 20s\n"
     ]
    }
   ],
   "source": [
    "%%time\n",
    "turn_part_file_into_tfrecord(base_file_path, 'val')"
   ]
  },
  {
   "cell_type": "code",
   "execution_count": 10,
   "id": "9aefdeb8",
   "metadata": {},
   "outputs": [
    {
     "name": "stdout",
     "output_type": "stream",
     "text": [
      "There are 5 files for test\n",
      "_____File number: 0 (20395 samples)\n",
      "_____File number: 1 (24338 samples)\n",
      "_____File number: 2 (24756 samples)\n",
      "_____File number: 3 (17072 samples)\n",
      "_____File number: 4 (10677 samples)\n",
      "CPU times: user 34.3 s, sys: 2.5 s, total: 36.8 s\n",
      "Wall time: 30.8 s\n"
     ]
    }
   ],
   "source": [
    "%%time\n",
    "turn_part_file_into_tfrecord(base_file_path, 'test')"
   ]
  },
  {
   "cell_type": "code",
   "execution_count": null,
   "id": "driven-exchange",
   "metadata": {},
   "outputs": [],
   "source": []
  },
  {
   "cell_type": "code",
   "execution_count": null,
   "id": "baking-syntax",
   "metadata": {},
   "outputs": [],
   "source": []
  }
 ],
 "metadata": {
  "kernelspec": {
   "display_name": "Python 3 (ipykernel)",
   "language": "python",
   "name": "python3"
  },
  "language_info": {
   "codemirror_mode": {
    "name": "ipython",
    "version": 3
   },
   "file_extension": ".py",
   "mimetype": "text/x-python",
   "name": "python",
   "nbconvert_exporter": "python",
   "pygments_lexer": "ipython3",
   "version": "3.8.11"
  }
 },
 "nbformat": 4,
 "nbformat_minor": 5
}
