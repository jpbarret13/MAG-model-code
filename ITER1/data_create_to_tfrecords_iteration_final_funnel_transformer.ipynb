{
 "cells": [
  {
   "cell_type": "code",
   "execution_count": 16,
   "id": "metric-secretariat",
   "metadata": {
    "scrolled": true
   },
   "outputs": [],
   "source": [
    "# !pip install tensorflow==2.4.1\n",
    "# !pip install transformers\n",
    "# !pip install pyarrow"
   ]
  },
  {
   "cell_type": "code",
   "execution_count": 1,
   "id": "latin-japanese",
   "metadata": {},
   "outputs": [],
   "source": [
    "import tensorflow as tf\n",
    "import pandas as pd\n",
    "import numpy as np\n",
    "import os\n",
    "from math import ceil"
   ]
  },
  {
   "cell_type": "code",
   "execution_count": 2,
   "id": "c4a900db",
   "metadata": {},
   "outputs": [],
   "source": [
    "def check_targets(targs):\n",
    "    if targs[0] == -1:\n",
    "        return 1\n",
    "    else:\n",
    "        return 0"
   ]
  },
  {
   "cell_type": "code",
   "execution_count": 3,
   "id": "charged-familiar",
   "metadata": {},
   "outputs": [],
   "source": [
    "def create_tfrecords_dataset(data, iter_num, dataset_type='train'):\n",
    "#     paper_title = tf.keras.preprocessing.sequence.pad_sequences(data['paper_title_tok'].to_list(), \n",
    "#                                                                 maxlen=512, dtype='int64', \n",
    "#                                                                 padding='post', truncating='post', value=0)\n",
    "    data['no_target'] = data['target_tok'].apply(check_targets)\n",
    "    data = data[data['no_target']==0].copy()\n",
    "    \n",
    "    paper_title = tf.ragged.constant(data['paper_title_tok'].to_list())\n",
    "    \n",
    "    targets = tf.keras.preprocessing.sequence.pad_sequences(data['target_tok'].to_list(), maxlen=20, \n",
    "                                                            dtype='int64', padding='post', \n",
    "                                                            truncating='post', value=0)\n",
    "\n",
    "    ds = tf.data.Dataset.zip((tf.data.Dataset.from_tensor_slices(paper_title)\n",
    "                              tf.data.Dataset.from_tensor_slices(data['journal_tok'].to_list()),\n",
    "                              tf.data.Dataset.from_tensor_slices(data['doc_type_tok'].to_list()),\n",
    "                              tf.data.Dataset.from_tensor_slices(targets)))\n",
    "    \n",
    "    serialized_features_dataset = ds.map(tf_serialize_example)\n",
    "    \n",
    "    filename = f\"./iteration_final/funnel_transformer/tfrecords/{dataset_type}/{str(iter_num).zfill(4)}.tfrecord\"\n",
    "    writer = tf.data.experimental.TFRecordWriter(filename)\n",
    "    writer.write(serialized_features_dataset)"
   ]
  },
  {
   "cell_type": "code",
   "execution_count": 4,
   "id": "portable-military",
   "metadata": {},
   "outputs": [],
   "source": [
    "def tf_serialize_example(f0, f1, f2, f3, f4):\n",
    "    tf_string = tf.py_function(serialize_example, (f0, f1, f2, f3, f4), tf.string)\n",
    "    return tf.reshape(tf_string, ())"
   ]
  },
  {
   "cell_type": "code",
   "execution_count": 5,
   "id": "interior-vancouver",
   "metadata": {},
   "outputs": [],
   "source": [
    "def serialize_example(paper_title, paper_mask, journal, doc_type, targets):\n",
    "    paper_title_list = tf.train.Int64List(value=paper_title.numpy().tolist())\n",
    "    paper_mask_list = tf.train.Int64List(value=paper_mask.numpy().tolist())\n",
    "    journal_list = tf.train.Int64List(value=journal.numpy().tolist())\n",
    "    doc_type_list = tf.train.Int64List(value=doc_type.numpy().tolist())\n",
    "    targets_list = tf.train.Int64List(value=targets.numpy().tolist())\n",
    "    \n",
    "    paper_title_feature = tf.train.Feature(int64_list = paper_title_list)\n",
    "    paper_mask_feature = tf.train.Feature(int64_list = paper_mask_list)\n",
    "    journal_feature = tf.train.Feature(int64_list = journal_list)\n",
    "    doc_type_feature = tf.train.Feature(int64_list = doc_type_list)\n",
    "    targets_feature = tf.train.Feature(int64_list = targets_list)\n",
    "    \n",
    "    features_for_example = {\n",
    "        'paper_title': paper_title_feature,\n",
    "        'paper_mask': paper_mask_feature,\n",
    "        'journal': journal_feature,\n",
    "        'doc_type': doc_type_feature,\n",
    "        'targets': targets_feature\n",
    "    }\n",
    "    \n",
    "    example_proto = tf.train.Example(features=tf.train.Features(feature=features_for_example))\n",
    "    \n",
    "    return example_proto.SerializeToString()"
   ]
  },
  {
   "cell_type": "code",
   "execution_count": 6,
   "id": "approved-spoke",
   "metadata": {},
   "outputs": [],
   "source": [
    "def turn_part_file_into_tfrecord(base_path, dataset_type='train'):\n",
    "    file_list = [x for x in os.listdir(f\"{base_path}{dataset_type}\") if x.endswith('parquet')]\n",
    "    file_list.sort()\n",
    "    print(f\"There are {len(file_list)} files for {dataset_type}\")\n",
    "    for i, file_name in enumerate(file_list):\n",
    "        data = pd.read_parquet(f\"{base_path}{dataset_type}/{file_name}\")\n",
    "        print(f\"_____File number: {i} ({data.shape[0]} samples)\")\n",
    "        create_tfrecords_dataset(data, i, dataset_type)"
   ]
  },
  {
   "cell_type": "code",
   "execution_count": 7,
   "id": "veterinary-alfred",
   "metadata": {},
   "outputs": [],
   "source": [
    "base_file_path = f\"./iteration_final/funnel_transformer/tokenized_data/\""
   ]
  },
  {
   "cell_type": "markdown",
   "id": "604b7505",
   "metadata": {},
   "source": [
    "#### Without padding"
   ]
  },
  {
   "cell_type": "code",
   "execution_count": 8,
   "id": "99310f8a",
   "metadata": {
    "scrolled": false
   },
   "outputs": [
    {
     "name": "stdout",
     "output_type": "stream",
     "text": [
      "There are 50 files for train\n",
      "_____File number: 0 (3338130 samples)\n"
     ]
    },
    {
     "name": "stderr",
     "output_type": "stream",
     "text": [
      "2021-10-29 10:12:34.897836: I tensorflow/compiler/jit/xla_cpu_device.cc:41] Not creating XLA devices, tf_xla_enable_xla_devices not set\n",
      "2021-10-29 10:12:34.927559: I tensorflow/core/platform/cpu_feature_guard.cc:142] This TensorFlow binary is optimized with oneAPI Deep Neural Network Library (oneDNN) to use the following CPU instructions in performance-critical operations:  AVX2 FMA\n",
      "To enable them in other operations, rebuild TensorFlow with the appropriate compiler flags.\n",
      "2021-10-29 10:16:02.996107: I tensorflow/compiler/mlir/mlir_graph_optimization_pass.cc:116] None of the MLIR optimization passes are enabled (registered 2)\n"
     ]
    },
    {
     "name": "stdout",
     "output_type": "stream",
     "text": [
      "_____File number: 1 (5007355 samples)\n",
      "_____File number: 2 (2926507 samples)\n",
      "_____File number: 3 (4181735 samples)\n",
      "_____File number: 4 (7317781 samples)\n",
      "_____File number: 5 (3645974 samples)\n",
      "_____File number: 6 (3338036 samples)\n",
      "_____File number: 7 (3338271 samples)\n",
      "_____File number: 8 (3337774 samples)\n",
      "_____File number: 9 (5006225 samples)\n",
      "_____File number: 10 (5007759 samples)\n",
      "_____File number: 11 (3337357 samples)\n",
      "_____File number: 12 (3339298 samples)\n",
      "_____File number: 13 (3337688 samples)\n",
      "_____File number: 14 (5007401 samples)\n",
      "_____File number: 15 (5007041 samples)\n",
      "_____File number: 16 (3338928 samples)\n",
      "_____File number: 17 (3338785 samples)\n",
      "_____File number: 18 (3338051 samples)\n",
      "_____File number: 19 (5006644 samples)\n",
      "_____File number: 20 (3337507 samples)\n",
      "_____File number: 21 (5006929 samples)\n",
      "_____File number: 22 (5007212 samples)\n",
      "_____File number: 23 (3338252 samples)\n",
      "_____File number: 24 (3338310 samples)\n",
      "_____File number: 25 (5007678 samples)\n",
      "_____File number: 26 (3338074 samples)\n",
      "_____File number: 27 (5367829 samples)\n",
      "_____File number: 28 (3339662 samples)\n",
      "_____File number: 29 (5006400 samples)\n",
      "_____File number: 30 (5368095 samples)\n",
      "_____File number: 31 (3339842 samples)\n",
      "_____File number: 32 (3338010 samples)\n",
      "_____File number: 33 (3337766 samples)\n",
      "_____File number: 34 (4452201 samples)\n",
      "_____File number: 35 (4451012 samples)\n",
      "_____File number: 36 (4450030 samples)\n",
      "_____File number: 37 (4451694 samples)\n",
      "_____File number: 38 (3338131 samples)\n",
      "_____File number: 39 (3693985 samples)\n",
      "_____File number: 40 (4450380 samples)\n",
      "_____File number: 41 (3694355 samples)\n",
      "_____File number: 42 (2781102 samples)\n",
      "_____File number: 43 (2781596 samples)\n",
      "_____File number: 44 (2781993 samples)\n",
      "_____File number: 45 (4450478 samples)\n",
      "_____File number: 46 (2781543 samples)\n",
      "_____File number: 47 (4450293 samples)\n",
      "_____File number: 48 (2781691 samples)\n",
      "_____File number: 49 (2781735 samples)\n",
      "CPU times: user 21h 40min 28s, sys: 1h 17min 52s, total: 22h 58min 21s\n",
      "Wall time: 19h 56min 16s\n"
     ]
    }
   ],
   "source": [
    "%%time\n",
    "turn_part_file_into_tfrecord(base_file_path, 'train')"
   ]
  },
  {
   "cell_type": "code",
   "execution_count": 9,
   "id": "b8fcfb85",
   "metadata": {},
   "outputs": [
    {
     "name": "stdout",
     "output_type": "stream",
     "text": [
      "There are 10 files for val\n",
      "_____File number: 0 (135584 samples)\n",
      "_____File number: 1 (100231 samples)\n",
      "_____File number: 2 (93687 samples)\n",
      "_____File number: 3 (72826 samples)\n",
      "_____File number: 4 (92847 samples)\n",
      "_____File number: 5 (79840 samples)\n",
      "_____File number: 6 (52714 samples)\n",
      "_____File number: 7 (132779 samples)\n",
      "_____File number: 8 (72230 samples)\n",
      "_____File number: 9 (60000 samples)\n",
      "CPU times: user 5min 50s, sys: 18.9 s, total: 6min 9s\n",
      "Wall time: 5min 25s\n"
     ]
    }
   ],
   "source": [
    "%%time\n",
    "turn_part_file_into_tfrecord(base_file_path, 'val')"
   ]
  },
  {
   "cell_type": "code",
   "execution_count": 10,
   "id": "9aefdeb8",
   "metadata": {},
   "outputs": [
    {
     "name": "stdout",
     "output_type": "stream",
     "text": [
      "There are 5 files for test\n",
      "_____File number: 0 (34952 samples)\n",
      "_____File number: 1 (32169 samples)\n",
      "_____File number: 2 (23371 samples)\n",
      "_____File number: 3 (40252 samples)\n",
      "_____File number: 4 (19886 samples)\n",
      "CPU times: user 1min, sys: 3.22 s, total: 1min 3s\n",
      "Wall time: 55.8 s\n"
     ]
    }
   ],
   "source": [
    "%%time\n",
    "turn_part_file_into_tfrecord(base_file_path, 'test')"
   ]
  },
  {
   "cell_type": "code",
   "execution_count": null,
   "id": "driven-exchange",
   "metadata": {},
   "outputs": [],
   "source": []
  },
  {
   "cell_type": "code",
   "execution_count": null,
   "id": "baking-syntax",
   "metadata": {},
   "outputs": [],
   "source": []
  }
 ],
 "metadata": {
  "kernelspec": {
   "display_name": "Python 3 (ipykernel)",
   "language": "python",
   "name": "python3"
  },
  "language_info": {
   "codemirror_mode": {
    "name": "ipython",
    "version": 3
   },
   "file_extension": ".py",
   "mimetype": "text/x-python",
   "name": "python",
   "nbconvert_exporter": "python",
   "pygments_lexer": "ipython3",
   "version": "3.8.11"
  }
 },
 "nbformat": 4,
 "nbformat_minor": 5
}
