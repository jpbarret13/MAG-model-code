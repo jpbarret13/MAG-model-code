{
 "cells": [
  {
   "cell_type": "markdown",
   "id": "2403b23a",
   "metadata": {},
   "source": [
    "### Testing JSON Read"
   ]
  },
  {
   "cell_type": "code",
   "execution_count": 2,
   "id": "59307c4a",
   "metadata": {},
   "outputs": [],
   "source": [
    "import json\n",
    "import re\n",
    "import os\n",
    "import pickle\n",
    "import pandas as pd\n",
    "pd.set_option(\"display.max_columns\", 999)\n",
    "pd.set_option(\"display.max_colwidth\", None)"
   ]
  },
  {
   "cell_type": "code",
   "execution_count": 3,
   "id": "15349561",
   "metadata": {},
   "outputs": [],
   "source": [
    "predictions = pd.read_parquet(\"s3://mag-model-data/V2/iteration_2/test_data/predictions_20220117_lr0006_beta025_gamma28_nH6_nL4_firstD2048_secondD1024_thirdD1024.parquet\")"
   ]
  },
  {
   "cell_type": "code",
   "execution_count": 4,
   "id": "cf5096ab",
   "metadata": {},
   "outputs": [
    {
     "data": {
      "text/plain": [
       "(62517, 10)"
      ]
     },
     "execution_count": 4,
     "metadata": {},
     "output_type": "execute_result"
    }
   ],
   "source": [
    "predictions.shape"
   ]
  },
  {
   "cell_type": "code",
   "execution_count": 5,
   "id": "a1710e3f",
   "metadata": {},
   "outputs": [],
   "source": [
    "extra_data = pd.read_parquet(\"s3://mag-model-data/V2/raw_test_data/part-00000-tid-1178175042784182311-0b55b08b-d5db-4777-9e6a-572d293f915d-832-1-c000.snappy.parquet\")"
   ]
  },
  {
   "cell_type": "code",
   "execution_count": 6,
   "id": "b92211bd",
   "metadata": {},
   "outputs": [
    {
     "data": {
      "text/plain": [
       "(62524, 10)"
      ]
     },
     "execution_count": 6,
     "metadata": {},
     "output_type": "execute_result"
    }
   ],
   "source": [
    "extra_data.shape"
   ]
  },
  {
   "cell_type": "code",
   "execution_count": 7,
   "id": "4972cd93",
   "metadata": {},
   "outputs": [],
   "source": [
    "abstract_test = pd.read_parquet(\"s3://mag-model-data/raw_mag_data/test_api_abstracts/part-00000-tid-3075369008470969684-b53b0953-d369-469a-9e2b-aa32d5c70e90-1-1-c000.snappy.parquet\")"
   ]
  },
  {
   "cell_type": "code",
   "execution_count": 8,
   "id": "86baa506",
   "metadata": {},
   "outputs": [
    {
     "data": {
      "text/plain": [
       "(2, 2)"
      ]
     },
     "execution_count": 8,
     "metadata": {},
     "output_type": "execute_result"
    }
   ],
   "source": [
    "abstract_test.shape"
   ]
  },
  {
   "cell_type": "code",
   "execution_count": 9,
   "id": "7cd13ab5",
   "metadata": {},
   "outputs": [],
   "source": [
    "all_test_data = predictions \\\n",
    ".merge(extra_data.drop(['publication_date'], axis=1), how='left', on='paper_id')"
   ]
  },
  {
   "cell_type": "code",
   "execution_count": 10,
   "id": "408e9440",
   "metadata": {},
   "outputs": [],
   "source": [
    "data = all_test_data.head(3).merge(abstract_test, how='left', on='paper_id')"
   ]
  },
  {
   "cell_type": "code",
   "execution_count": 11,
   "id": "abc1bea9",
   "metadata": {},
   "outputs": [
    {
     "data": {
      "text/html": [
       "<div>\n",
       "<style scoped>\n",
       "    .dataframe tbody tr th:only-of-type {\n",
       "        vertical-align: middle;\n",
       "    }\n",
       "\n",
       "    .dataframe tbody tr th {\n",
       "        vertical-align: top;\n",
       "    }\n",
       "\n",
       "    .dataframe thead th {\n",
       "        text-align: right;\n",
       "    }\n",
       "</style>\n",
       "<table border=\"1\" class=\"dataframe\">\n",
       "  <thead>\n",
       "    <tr style=\"text-align: right;\">\n",
       "      <th></th>\n",
       "      <th>paper_id</th>\n",
       "      <th>publication_date</th>\n",
       "      <th>doc_type_tok</th>\n",
       "      <th>journal_tok</th>\n",
       "      <th>target_tok</th>\n",
       "      <th>paper_title_tok</th>\n",
       "      <th>abstract_tok</th>\n",
       "      <th>predictions</th>\n",
       "      <th>scores</th>\n",
       "      <th>target_test</th>\n",
       "      <th>doc_type</th>\n",
       "      <th>original_title</th>\n",
       "      <th>clean_title</th>\n",
       "      <th>journal_name</th>\n",
       "      <th>abstract_length</th>\n",
       "      <th>abstract</th>\n",
       "      <th>clean_abstract</th>\n",
       "      <th>topics</th>\n",
       "      <th>indexed_abstract</th>\n",
       "    </tr>\n",
       "  </thead>\n",
       "  <tbody>\n",
       "    <tr>\n",
       "      <th>0</th>\n",
       "      <td>18863665</td>\n",
       "      <td>2011-01-01</td>\n",
       "      <td>[8]</td>\n",
       "      <td>[2]</td>\n",
       "      <td>[16572, 48550, 52758, 32648, 9593, 44014, 42648, 55971, 27479, 1356, 59810]</td>\n",
       "      <td>[239113, 92190, 154991, 132270, 265955, 114561, 51847, 63104, 256479]</td>\n",
       "      <td>[154201, 47075, 139417, 222311, 200157, 90902, 11995, 148679, 63104, 70469, 200157, 228017, 40377, 154976, 265955, 142298, 126337, 187763, 116221, 96536, 267536, 47194, 102148, 86056, 177531, 124176, 113843, 28292, 265955, 256479, 154201, 19219, 226506, 154201, 1, 256479, 200157, 262080, 2543, 193784, 228014, 265955, 256479, 69677, 266744, 199415, 257011, 200157, 171106, 114599, 113843, 159115, 170361, 154201, 256234, 200157, 130806, 200157, 154201, 228017, 40377, 154201, 228017, 40377, 113843, 271789, 58215, 265955, 119704, 154201, 33975, 200157, 205781, 200157, 224379, 256479, 132276, 113843, 92294, 170361, 154201, 135818, 200157, 11260, 228017, 40377, 226506, 51050, 200157, 256479, 273229, 70498, 170361, 193199, 16992, 124473, 200157, 154201, 205075]</td>\n",
       "      <td>[27479, 52758, 9593, 42648, 44646, 13543, 50801, 21666, 60518, 64365, 46532, 32648, 11870, 7976, 677, 22654, 59208, 19106, 39798, 6022]</td>\n",
       "      <td>[0.9208367466926575, 0.5991209745407104, 0.5697671175003052, 0.5058843493461609, 0.4332846701145172, 0.43209946155548096, 0.4083470404148102, 0.3777143359184265, 0.36745890974998474, 0.36508697271347046, 0.343335896730423, 0.334538072347641, 0.33188268542289734, 0.32894569635391235, 0.3152727782726288, 0.2528184950351715, 0.25032153725624084, 0.24932122230529785, 0.24719524383544922, 0.24712055921554565]</td>\n",
       "      <td>11</td>\n",
       "      <td>BookChapter</td>\n",
       "      <td>A Graph Theoretic Approach to Atomic Displacements in Fullerenes</td>\n",
       "      <td>a graph theoretic approach to atomic displacements in fullerenes</td>\n",
       "      <td>None</td>\n",
       "      <td>96.0</td>\n",
       "      <td>The recently developed idea of analyzing complex networks in terms of node displacement due to vibration (Estrada and Hatano, Chem Phys Lett 486:166–170, 2010a) is applied to fullerenes. The fact that the ramafullerenes (fullerenes of Ramanujan graphs) are limited to fullerenes with relatively small number of C atoms is explained from the point of view of the node displacement. The node displacement is also shown to indicate the stability of isomers of C40 fullerenes. It is suggested from the analysis of local node displacement that instability of fullerenes mainly comes from pentagon-rich areas of the molecules.</td>\n",
       "      <td>the recently developed idea of analyzing complex networks in terms of node displacement due to vibration estrada and hatano chem phys lett 486 166 170 2010a is applied to fullerenes the fact that the ramafullerenes fullerenes of ramanujan graphs are limited to fullerenes with relatively small number of c atoms is explained from the point of view of the node displacement the node displacement is also shown to indicate the stability of isomers of c40 fullerenes it is suggested from the analysis of local node displacement that instability of fullerenes mainly comes from pentagon rich areas of the molecules</td>\n",
       "      <td>[complex network, laplacian matrix, node, mathematics, displacement, regular graph, ramanujan s sum, statistical physics, fullerene, classical mechanics, resistance distance]</td>\n",
       "      <td>{\"IndexLength\":96,\"InvertedIndex\":{\"The\":[0,28,59],\"recently\":[1],\"developed\":[2],\"idea\":[3],\"of\":[4,10,34,45,53,55,69,71,80,86,93],\"analyzing\":[5],\"complex\":[6],\"networks\":[7],\"in\":[8],\"terms\":[9],\"node\":[11,57,60,82],\"displacement\":[12,61,83],\"due\":[13],\"to\":[14,26,39,65],\"vibration\":[15],\"(Estrada\":[16],\"and\":[17],\"Hatano,\":[18],\"Chem\":[19],\"Phys\":[20],\"Lett\":[21],\"486:166–170,\":[22],\"2010a)\":[23],\"is\":[24,48,62,75],\"applied\":[25],\"fullerenes.\":[27,73],\"fact\":[29],\"that\":[30,84],\"the\":[31,51,56,67,78,94],\"ramafullerenes\":[32],\"(fullerenes\":[33],\"Ramanujan\":[35],\"graphs)\":[36],\"are\":[37],\"limited\":[38],\"fullerenes\":[40,87],\"with\":[41],\"relatively\":[42],\"small\":[43],\"number\":[44],\"C\":[46],\"atoms\":[47],\"explained\":[49],\"from\":[50,77,90],\"point\":[52],\"view\":[54],\"displacement.\":[58],\"also\":[63],\"shown\":[64],\"indicate\":[66],\"stability\":[68],\"isomers\":[70],\"C40\":[72],\"It\":[74],\"suggested\":[76],\"analysis\":[79],\"local\":[81],\"instability\":[85],\"mainly\":[88],\"comes\":[89],\"pentagon-rich\":[91],\"areas\":[92],\"molecules.\":[95]}}</td>\n",
       "    </tr>\n",
       "    <tr>\n",
       "      <th>1</th>\n",
       "      <td>20764000</td>\n",
       "      <td>1987-01-01</td>\n",
       "      <td>[3]</td>\n",
       "      <td>[3165]</td>\n",
       "      <td>[12912, 7648, 19082, 58219, 29692]</td>\n",
       "      <td>[58192, 126692, 200157, 154201, 69678, 255482, 2487]</td>\n",
       "      <td>[2]</td>\n",
       "      <td>[29692, 58219, 7648, 12912, 20707, 38076, 46851, 59530, 64143, 29694, 22650, 18752, 14508, 30364, 2356, 17473, 3107, 48294, 19082, 47236]</td>\n",
       "      <td>[0.5212239027023315, 0.5048261880874634, 0.4308675229549408, 0.31649261713027954, 0.3108978569507599, 0.28724151849746704, 0.2518633008003235, 0.24264350533485413, 0.2334676831960678, 0.2246861308813095, 0.2154558300971985, 0.19046492874622345, 0.18719984591007233, 0.18267172574996948, 0.18263983726501465, 0.17783735692501068, 0.1755874902009964, 0.17467492818832397, 0.17418107390403748, 0.17234371602535248]</td>\n",
       "      <td>5</td>\n",
       "      <td>Journal</td>\n",
       "      <td>Sectional anatomy of the human temporal bone.</td>\n",
       "      <td>sectional anatomy of the human temporal bone</td>\n",
       "      <td>folia morphologica</td>\n",
       "      <td>NaN</td>\n",
       "      <td>None</td>\n",
       "      <td></td>\n",
       "      <td>[organ specificity, human anatomy, medicine, dentistry, sectional anatomy, temporal bone, anatomy]</td>\n",
       "      <td>NaN</td>\n",
       "    </tr>\n",
       "    <tr>\n",
       "      <th>2</th>\n",
       "      <td>86498516</td>\n",
       "      <td>2012-07-01</td>\n",
       "      <td>[6]</td>\n",
       "      <td>[2]</td>\n",
       "      <td>[45256, 41667, 14517, 37807, 11860, 55313, 26808, 24261, 14518, 41991, 48515]</td>\n",
       "      <td>[247096, 63112, 86555, 62423, 239113, 199399, 68895, 200157, 280974, 56710]</td>\n",
       "      <td>[154201, 153540, 85053, 200157, 62423, 143063, 154250, 187763, 46948, 86572, 200157, 86558, 278048, 247096, 113843, 23366, 244521, 239113, 221564, 176060, 200157, 135821, 39638, 12022, 87345, 120276, 17672, 187763, 12048, 200157, 142282, 277329, 187763, 200167, 200157, 273948, 63104, 261129, 187763, 279579, 155008, 200157, 120299, 113846, 154201, 152911, 187763, 154201, 226673, 154201, 68895, 90654, 114560, 87345, 187763, 223011, 200157, 154201, 280974, 239119, 261113, 177625, 154201, 238516, 200157, 130864, 130805, 39637, 200157, 154201, 75272, 147939, 63104, 135821, 237558, 278757, 227997, 114560, 148023, 154201, 24100, 200157, 29538, 200157, 279567, 176808, 228008, 194550, 114560, 239899, 187763, 132277, 200157, 135821, 217437, 278048, 152911, 193784, 246991, 63104, ...]</td>\n",
       "      <td>[14518, 26808, 11860, 667, 37807, 45256, 24261, 63384, 41991, 48515, 55313, 41667, 717, 16554, 38496, 34865, 15495, 4643, 14517, 28402]</td>\n",
       "      <td>[0.7901965379714966, 0.6398791074752808, 0.529758095741272, 0.5230568051338196, 0.46158817410469055, 0.45834487676620483, 0.45214372873306274, 0.41157039999961853, 0.398491233587265, 0.38462427258491516, 0.38031452894210815, 0.36289334297180176, 0.35603395104408264, 0.34980207681655884, 0.32394713163375854, 0.3140032887458801, 0.29859939217567444, 0.29237130284309387, 0.2860303521156311, 0.28292232751846313]</td>\n",
       "      <td>11</td>\n",
       "      <td>Thesis</td>\n",
       "      <td>Pakistan response towards terrorism : a case study of Musharraf regime</td>\n",
       "      <td>pakistan response towards terrorism a case study of musharraf regime</td>\n",
       "      <td>None</td>\n",
       "      <td>263.0</td>\n",
       "      <td>The ranging course of terrorism banishing peace and security prospects of today’s Pakistan is seen as a domestic effluent of its own flawed policies, bad governance, and lack of social justice and rule of law in society and widening gulf of trust between the rulers and the ruled. The study focused on policies and performance of the Musharraf government since assuming the mantle of front ranking ally of the United States in its so called ‘war on terror’. The causes of reversal of pre nine-eleven position on Afghanistan and support of its Taliban’s rulers are examined in the light of the geo-strategic compulsions of that crucial time and the structural weakness of military rule that needed external props for legitimacy. The flaws of the response to the terrorist challenges are traced to its total dependence on the hard option to the total neglect of the human factor from which the thesis develops its argument for a holistic approach to security in which the people occupy a central position. Thesis approach is also shown to hold the solutions for eliminating the causes of extremism on which terrorism feeds and grows. In sum the study deconstructs Musharraf’s regime’s response to terrorism by examining the conceptual mould of the strategic players in the country and postulates a holistic and integrated security framework to deal with terrorism on a pro-active and sustainable basis. An approach such as this would logically entail the redefining of the role of the state vis-a-vis its people as the fulcrum and medium of ensuring traditional and non traditional security of the country.</td>\n",
       "      <td>the ranging course of terrorism banishing peace and security prospects of today s pakistan is seen as a domestic effluent of its own flawed policies bad governance and lack of social justice and rule of law in society and widening gulf of trust between the rulers and the ruled the study focused on policies and performance of the musharraf government since assuming the mantle of front ranking ally of the united states in its so called war on terror the causes of reversal of pre nine eleven position on afghanistan and support of its taliban s rulers are examined in the light of the geo strategic compulsions of that crucial time and the structural weakness of military rule that needed external props for legitimacy the flaws of the response to the terrorist challenges are traced to its total dependence on the hard option to the total neglect of the human factor from which the thesis develops its argument for a holistic approach to security in which the people occupy a central position thesis approach is also shown to hold the solutions for eliminating the causes of extremism on which terrorism feeds and grows in sum the study deconstructs musharraf s regime s response to terrorism by examining the conceptual mould of the strategic players in the country and postulates a holistic and integrated security framework to deal with terrorism on a pro active and sustainable basis an approach such as this would logically entail the redefining of the role of the state vis a vis its people as the fulcrum and medium of ensuring traditional and non traditional security of the country</td>\n",
       "      <td>[position, corporate governance, development economics, argument, political science, government, legitimacy, political economy, terrorism, rule of law, state]</td>\n",
       "      <td>{\"IndexLength\":263,\"InvertedIndex\":{\"The\":[0,48,78,120],\"ranging\":[1],\"course\":[2],\"of\":[3,10,19,28,33,40,55,63,67,80,82,90,99,103,111,122,143,181,204,239,242,253,260],\"terrorism\":[4,185,198,222],\"banishing\":[5],\"peace\":[6],\"and\":[7,26,31,37,45,53,88,107,187,211,215,226,251,256],\"security\":[8,159,217,259],\"prospects\":[9],\"today’s\":[11],\"Pakistan\":[12],\"is\":[13,170],\"seen\":[14],\"as\":[15,232,248],\"a\":[16,155,165,213,224],\"domestic\":[17],\"effluent\":[18],\"its\":[20,72,91,132,152,246],\"own\":[21],\"flawed\":[22],\"policies,\":[23],\"bad\":[24],\"governance,\":[25],\"lack\":[27],\"social\":[29],\"justice\":[30],\"rule\":[32,113],\"law\":[34],\"in\":[35,71,96,160,208],\"society\":[36],\"widening\":[38],\"gulf\":[39],\"trust\":[41],\"between\":[42],\"the\":[43,46,56,61,68,97,100,108,123,126,136,140,144,149,162,175,179,191,201,205,209,237,240,243,249,261],\"rulers\":[44,93],\"ruled.\":[47],\"study\":[49,192],\"focused\":[50],\"on\":[51,76,86,135,183,223],\"policies\":[52],\"performance\":[54],\"Musharraf\":[57],\"government\":[58],\"since\":[59],\"assuming\":[60],\"mantle\":[62],\"front\":[64],\"ranking\":[65],\"ally\":[66],\"United\":[69],\"States\":[70],\"so\":[73],\"called\":[74],\"‘war\":[75],\"terror’.\":[77],\"causes\":[79,180],\"reversal\":[81],\"pre\":[83],\"nine-eleven\":[84],\"position\":[85],\"Afghanistan\":[87],\"support\":[89],\"Taliban’s\":[92],\"are\":[94,129],\"examined\":[95],\"light\":[98],\"geo-strategic\":[101],\"compulsions\":[102],\"that\":[104,114],\"crucial\":[105],\"time\":[106],\"structural\":[109],\"weakness\":[110],\"military\":[112],\"needed\":[115],\"external\":[116],\"props\":[117],\"for\":[118,154,177],\"legitimacy.\":[119],\"flaws\":[121],\"response\":[124,196],\"to\":[125,131,139,158,173,197,219],\"terrorist\":[127],\"challenges\":[128],\"traced\":[130],\"total\":[133,141],\"dependence\":[134],\"hard\":[137],\"option\":[138],\"neglect\":[142],\"human\":[145],\"factor\":[146],\"from\":[147],\"which\":[148,161,184],\"thesis\":[150],\"develops\":[151],\"argument\":[153],\"holistic\":[156,214],\"approach\":[157,169,230],\"people\":[163,247],\"occupy\":[164],\"central\":[166],\"position.\":[167],\"Thesis\":[168],\"also\":[171],\"shown\":[172],\"hold\":[174],\"solutions\":[176],\"eliminating\":[178],\"extremism\":[182],\"feeds\":[186],\"grows.\":[188],\"In\":[189],\"sum\":[190],\"deconstructs\":[193],\"Musharraf’s\":[194],\"regime’s\":[195],\"by\":[199],\"examining\":[200],\"conceptual\":[202],\"mould\":[203],\"strategic\":[206],\"players\":[207],\"country\":[210],\"postulates\":[212],\"integrated\":[216],\"framework\":[218],\"deal\":[220],\"with\":[221],\"pro-active\":[225],\"sustainable\":[227],\"basis.\":[228],\"An\":[229],\"such\":[231],\"this\":[233],\"would\":[234],\"logically\":[235],\"entail\":[236],\"redefining\":[238],\"role\":[241],\"state\":[244],\"vis-a-vis\":[245],\"fulcrum\":[250],\"medium\":[252],\"ensuring\":[254],\"traditional\":[255,258],\"non\":[257],\"country.\":[262]}}</td>\n",
       "    </tr>\n",
       "  </tbody>\n",
       "</table>\n",
       "</div>"
      ],
      "text/plain": [
       "   paper_id publication_date doc_type_tok journal_tok  \\\n",
       "0  18863665       2011-01-01          [8]         [2]   \n",
       "1  20764000       1987-01-01          [3]      [3165]   \n",
       "2  86498516       2012-07-01          [6]         [2]   \n",
       "\n",
       "                                                                      target_tok  \\\n",
       "0    [16572, 48550, 52758, 32648, 9593, 44014, 42648, 55971, 27479, 1356, 59810]   \n",
       "1                                             [12912, 7648, 19082, 58219, 29692]   \n",
       "2  [45256, 41667, 14517, 37807, 11860, 55313, 26808, 24261, 14518, 41991, 48515]   \n",
       "\n",
       "                                                               paper_title_tok  \\\n",
       "0        [239113, 92190, 154991, 132270, 265955, 114561, 51847, 63104, 256479]   \n",
       "1                         [58192, 126692, 200157, 154201, 69678, 255482, 2487]   \n",
       "2  [247096, 63112, 86555, 62423, 239113, 199399, 68895, 200157, 280974, 56710]   \n",
       "\n",
       "                                                                                                                                                                                                                                                                                                                                                                                                                                                                                                                                                                                                                                                                                                                                                                                                       abstract_tok  \\\n",
       "0                       [154201, 47075, 139417, 222311, 200157, 90902, 11995, 148679, 63104, 70469, 200157, 228017, 40377, 154976, 265955, 142298, 126337, 187763, 116221, 96536, 267536, 47194, 102148, 86056, 177531, 124176, 113843, 28292, 265955, 256479, 154201, 19219, 226506, 154201, 1, 256479, 200157, 262080, 2543, 193784, 228014, 265955, 256479, 69677, 266744, 199415, 257011, 200157, 171106, 114599, 113843, 159115, 170361, 154201, 256234, 200157, 130806, 200157, 154201, 228017, 40377, 154201, 228017, 40377, 113843, 271789, 58215, 265955, 119704, 154201, 33975, 200157, 205781, 200157, 224379, 256479, 132276, 113843, 92294, 170361, 154201, 135818, 200157, 11260, 228017, 40377, 226506, 51050, 200157, 256479, 273229, 70498, 170361, 193199, 16992, 124473, 200157, 154201, 205075]   \n",
       "1                                                                                                                                                                                                                                                                                                                                                                                                                                                                                                                                                                                                                                                                                                                                                                                                               [2]   \n",
       "2  [154201, 153540, 85053, 200157, 62423, 143063, 154250, 187763, 46948, 86572, 200157, 86558, 278048, 247096, 113843, 23366, 244521, 239113, 221564, 176060, 200157, 135821, 39638, 12022, 87345, 120276, 17672, 187763, 12048, 200157, 142282, 277329, 187763, 200167, 200157, 273948, 63104, 261129, 187763, 279579, 155008, 200157, 120299, 113846, 154201, 152911, 187763, 154201, 226673, 154201, 68895, 90654, 114560, 87345, 187763, 223011, 200157, 154201, 280974, 239119, 261113, 177625, 154201, 238516, 200157, 130864, 130805, 39637, 200157, 154201, 75272, 147939, 63104, 135821, 237558, 278757, 227997, 114560, 148023, 154201, 24100, 200157, 29538, 200157, 279567, 176808, 228008, 194550, 114560, 239899, 187763, 132277, 200157, 135821, 217437, 278048, 152911, 193784, 246991, 63104, ...]   \n",
       "\n",
       "                                                                                                                                 predictions  \\\n",
       "0    [27479, 52758, 9593, 42648, 44646, 13543, 50801, 21666, 60518, 64365, 46532, 32648, 11870, 7976, 677, 22654, 59208, 19106, 39798, 6022]   \n",
       "1  [29692, 58219, 7648, 12912, 20707, 38076, 46851, 59530, 64143, 29694, 22650, 18752, 14508, 30364, 2356, 17473, 3107, 48294, 19082, 47236]   \n",
       "2    [14518, 26808, 11860, 667, 37807, 45256, 24261, 63384, 41991, 48515, 55313, 41667, 717, 16554, 38496, 34865, 15495, 4643, 14517, 28402]   \n",
       "\n",
       "                                                                                                                                                                                                                                                                                                                                                                                                                        scores  \\\n",
       "0      [0.9208367466926575, 0.5991209745407104, 0.5697671175003052, 0.5058843493461609, 0.4332846701145172, 0.43209946155548096, 0.4083470404148102, 0.3777143359184265, 0.36745890974998474, 0.36508697271347046, 0.343335896730423, 0.334538072347641, 0.33188268542289734, 0.32894569635391235, 0.3152727782726288, 0.2528184950351715, 0.25032153725624084, 0.24932122230529785, 0.24719524383544922, 0.24712055921554565]   \n",
       "1  [0.5212239027023315, 0.5048261880874634, 0.4308675229549408, 0.31649261713027954, 0.3108978569507599, 0.28724151849746704, 0.2518633008003235, 0.24264350533485413, 0.2334676831960678, 0.2246861308813095, 0.2154558300971985, 0.19046492874622345, 0.18719984591007233, 0.18267172574996948, 0.18263983726501465, 0.17783735692501068, 0.1755874902009964, 0.17467492818832397, 0.17418107390403748, 0.17234371602535248]   \n",
       "2  [0.7901965379714966, 0.6398791074752808, 0.529758095741272, 0.5230568051338196, 0.46158817410469055, 0.45834487676620483, 0.45214372873306274, 0.41157039999961853, 0.398491233587265, 0.38462427258491516, 0.38031452894210815, 0.36289334297180176, 0.35603395104408264, 0.34980207681655884, 0.32394713163375854, 0.3140032887458801, 0.29859939217567444, 0.29237130284309387, 0.2860303521156311, 0.28292232751846313]   \n",
       "\n",
       "   target_test     doc_type  \\\n",
       "0           11  BookChapter   \n",
       "1            5      Journal   \n",
       "2           11       Thesis   \n",
       "\n",
       "                                                           original_title  \\\n",
       "0        A Graph Theoretic Approach to Atomic Displacements in Fullerenes   \n",
       "1                           Sectional anatomy of the human temporal bone.   \n",
       "2  Pakistan response towards terrorism : a case study of Musharraf regime   \n",
       "\n",
       "                                                            clean_title  \\\n",
       "0      a graph theoretic approach to atomic displacements in fullerenes   \n",
       "1                          sectional anatomy of the human temporal bone   \n",
       "2  pakistan response towards terrorism a case study of musharraf regime   \n",
       "\n",
       "         journal_name  abstract_length  \\\n",
       "0                None             96.0   \n",
       "1  folia morphologica              NaN   \n",
       "2                None            263.0   \n",
       "\n",
       "                                                                                                                                                                                                                                                                                                                                                                                                                                                                                                                                                                                                                                                                                                                                                                                                                                                                                                                                                                                                                                                                                                                                                                                                                                                                                                                                                                                                                                                                                                                                                                                                                                                               abstract  \\\n",
       "0                                                                                                                                                                                                                                                                                                                                                                                                                                                                                                                                                                                                                                                                                                                                                                                                                                                                                                                                                                                                                          The recently developed idea of analyzing complex networks in terms of node displacement due to vibration (Estrada and Hatano, Chem Phys Lett 486:166–170, 2010a) is applied to fullerenes. The fact that the ramafullerenes (fullerenes of Ramanujan graphs) are limited to fullerenes with relatively small number of C atoms is explained from the point of view of the node displacement. The node displacement is also shown to indicate the stability of isomers of C40 fullerenes. It is suggested from the analysis of local node displacement that instability of fullerenes mainly comes from pentagon-rich areas of the molecules.   \n",
       "1                                                                                                                                                                                                                                                                                                                                                                                                                                                                                                                                                                                                                                                                                                                                                                                                                                                                                                                                                                                                                                                                                                                                                                                                                                                                                                                                                                                                                                                                                                                                                                                                                                                                  None   \n",
       "2  The ranging course of terrorism banishing peace and security prospects of today’s Pakistan is seen as a domestic effluent of its own flawed policies, bad governance, and lack of social justice and rule of law in society and widening gulf of trust between the rulers and the ruled. The study focused on policies and performance of the Musharraf government since assuming the mantle of front ranking ally of the United States in its so called ‘war on terror’. The causes of reversal of pre nine-eleven position on Afghanistan and support of its Taliban’s rulers are examined in the light of the geo-strategic compulsions of that crucial time and the structural weakness of military rule that needed external props for legitimacy. The flaws of the response to the terrorist challenges are traced to its total dependence on the hard option to the total neglect of the human factor from which the thesis develops its argument for a holistic approach to security in which the people occupy a central position. Thesis approach is also shown to hold the solutions for eliminating the causes of extremism on which terrorism feeds and grows. In sum the study deconstructs Musharraf’s regime’s response to terrorism by examining the conceptual mould of the strategic players in the country and postulates a holistic and integrated security framework to deal with terrorism on a pro-active and sustainable basis. An approach such as this would logically entail the redefining of the role of the state vis-a-vis its people as the fulcrum and medium of ensuring traditional and non traditional security of the country.   \n",
       "\n",
       "                                                                                                                                                                                                                                                                                                                                                                                                                                                                                                                                                                                                                                                                                                                                                                                                                                                                                                                                                                                                                                                                                                                                                                                                                                                                                                                                                                                                                                                                                                                                                                                                                                              clean_abstract  \\\n",
       "0                                                                                                                                                                                                                                                                                                                                                                                                                                                                                                                                                                                                                                                                                                                                                                                                                                                                                                                                                                                                                         the recently developed idea of analyzing complex networks in terms of node displacement due to vibration estrada and hatano chem phys lett 486 166 170 2010a is applied to fullerenes the fact that the ramafullerenes fullerenes of ramanujan graphs are limited to fullerenes with relatively small number of c atoms is explained from the point of view of the node displacement the node displacement is also shown to indicate the stability of isomers of c40 fullerenes it is suggested from the analysis of local node displacement that instability of fullerenes mainly comes from pentagon rich areas of the molecules   \n",
       "1                                                                                                                                                                                                                                                                                                                                                                                                                                                                                                                                                                                                                                                                                                                                                                                                                                                                                                                                                                                                                                                                                                                                                                                                                                                                                                                                                                                                                                                                                                                                                                                                                                                              \n",
       "2  the ranging course of terrorism banishing peace and security prospects of today s pakistan is seen as a domestic effluent of its own flawed policies bad governance and lack of social justice and rule of law in society and widening gulf of trust between the rulers and the ruled the study focused on policies and performance of the musharraf government since assuming the mantle of front ranking ally of the united states in its so called war on terror the causes of reversal of pre nine eleven position on afghanistan and support of its taliban s rulers are examined in the light of the geo strategic compulsions of that crucial time and the structural weakness of military rule that needed external props for legitimacy the flaws of the response to the terrorist challenges are traced to its total dependence on the hard option to the total neglect of the human factor from which the thesis develops its argument for a holistic approach to security in which the people occupy a central position thesis approach is also shown to hold the solutions for eliminating the causes of extremism on which terrorism feeds and grows in sum the study deconstructs musharraf s regime s response to terrorism by examining the conceptual mould of the strategic players in the country and postulates a holistic and integrated security framework to deal with terrorism on a pro active and sustainable basis an approach such as this would logically entail the redefining of the role of the state vis a vis its people as the fulcrum and medium of ensuring traditional and non traditional security of the country   \n",
       "\n",
       "                                                                                                                                                                           topics  \\\n",
       "0  [complex network, laplacian matrix, node, mathematics, displacement, regular graph, ramanujan s sum, statistical physics, fullerene, classical mechanics, resistance distance]   \n",
       "1                                                                              [organ specificity, human anatomy, medicine, dentistry, sectional anatomy, temporal bone, anatomy]   \n",
       "2                  [position, corporate governance, development economics, argument, political science, government, legitimacy, political economy, terrorism, rule of law, state]   \n",
       "\n",
       "                                                                                                                                                                                                                                                                                                                                                                                                                                                                                                                                                                                                                                                                                                                                                                                                                                                                                                                                                                                                                                                                                                                                                                                                                                                                                                                                                                                                                                                                                                                                                                                                                                                                                                                                                                                                                                                                                                                                                                                                                                                                                                                                                                                                                                                                                                                                                                                                                                                                                                                                                                                                                                                                                                                                                                                               indexed_abstract  \n",
       "0                                                                                                                                                                                                                                                                                                                                                                                                                                                                                                                                                                                                                                                                                                                                                                                                                                                                                                                                                                                                                                                                                                                                                                                                                                                                                                                                                                                                                                                                                                                                                                                                                                                                                                                                      {\"IndexLength\":96,\"InvertedIndex\":{\"The\":[0,28,59],\"recently\":[1],\"developed\":[2],\"idea\":[3],\"of\":[4,10,34,45,53,55,69,71,80,86,93],\"analyzing\":[5],\"complex\":[6],\"networks\":[7],\"in\":[8],\"terms\":[9],\"node\":[11,57,60,82],\"displacement\":[12,61,83],\"due\":[13],\"to\":[14,26,39,65],\"vibration\":[15],\"(Estrada\":[16],\"and\":[17],\"Hatano,\":[18],\"Chem\":[19],\"Phys\":[20],\"Lett\":[21],\"486:166–170,\":[22],\"2010a)\":[23],\"is\":[24,48,62,75],\"applied\":[25],\"fullerenes.\":[27,73],\"fact\":[29],\"that\":[30,84],\"the\":[31,51,56,67,78,94],\"ramafullerenes\":[32],\"(fullerenes\":[33],\"Ramanujan\":[35],\"graphs)\":[36],\"are\":[37],\"limited\":[38],\"fullerenes\":[40,87],\"with\":[41],\"relatively\":[42],\"small\":[43],\"number\":[44],\"C\":[46],\"atoms\":[47],\"explained\":[49],\"from\":[50,77,90],\"point\":[52],\"view\":[54],\"displacement.\":[58],\"also\":[63],\"shown\":[64],\"indicate\":[66],\"stability\":[68],\"isomers\":[70],\"C40\":[72],\"It\":[74],\"suggested\":[76],\"analysis\":[79],\"local\":[81],\"instability\":[85],\"mainly\":[88],\"comes\":[89],\"pentagon-rich\":[91],\"areas\":[92],\"molecules.\":[95]}}  \n",
       "1                                                                                                                                                                                                                                                                                                                                                                                                                                                                                                                                                                                                                                                                                                                                                                                                                                                                                                                                                                                                                                                                                                                                                                                                                                                                                                                                                                                                                                                                                                                                                                                                                                                                                                                                                                                                                                                                                                                                                                                                                                                                                                                                                                                                                                                                                                                                                                                                                                                                                                                                                                                                                                                                                                                                                                                                           NaN  \n",
       "2  {\"IndexLength\":263,\"InvertedIndex\":{\"The\":[0,48,78,120],\"ranging\":[1],\"course\":[2],\"of\":[3,10,19,28,33,40,55,63,67,80,82,90,99,103,111,122,143,181,204,239,242,253,260],\"terrorism\":[4,185,198,222],\"banishing\":[5],\"peace\":[6],\"and\":[7,26,31,37,45,53,88,107,187,211,215,226,251,256],\"security\":[8,159,217,259],\"prospects\":[9],\"today’s\":[11],\"Pakistan\":[12],\"is\":[13,170],\"seen\":[14],\"as\":[15,232,248],\"a\":[16,155,165,213,224],\"domestic\":[17],\"effluent\":[18],\"its\":[20,72,91,132,152,246],\"own\":[21],\"flawed\":[22],\"policies,\":[23],\"bad\":[24],\"governance,\":[25],\"lack\":[27],\"social\":[29],\"justice\":[30],\"rule\":[32,113],\"law\":[34],\"in\":[35,71,96,160,208],\"society\":[36],\"widening\":[38],\"gulf\":[39],\"trust\":[41],\"between\":[42],\"the\":[43,46,56,61,68,97,100,108,123,126,136,140,144,149,162,175,179,191,201,205,209,237,240,243,249,261],\"rulers\":[44,93],\"ruled.\":[47],\"study\":[49,192],\"focused\":[50],\"on\":[51,76,86,135,183,223],\"policies\":[52],\"performance\":[54],\"Musharraf\":[57],\"government\":[58],\"since\":[59],\"assuming\":[60],\"mantle\":[62],\"front\":[64],\"ranking\":[65],\"ally\":[66],\"United\":[69],\"States\":[70],\"so\":[73],\"called\":[74],\"‘war\":[75],\"terror’.\":[77],\"causes\":[79,180],\"reversal\":[81],\"pre\":[83],\"nine-eleven\":[84],\"position\":[85],\"Afghanistan\":[87],\"support\":[89],\"Taliban’s\":[92],\"are\":[94,129],\"examined\":[95],\"light\":[98],\"geo-strategic\":[101],\"compulsions\":[102],\"that\":[104,114],\"crucial\":[105],\"time\":[106],\"structural\":[109],\"weakness\":[110],\"military\":[112],\"needed\":[115],\"external\":[116],\"props\":[117],\"for\":[118,154,177],\"legitimacy.\":[119],\"flaws\":[121],\"response\":[124,196],\"to\":[125,131,139,158,173,197,219],\"terrorist\":[127],\"challenges\":[128],\"traced\":[130],\"total\":[133,141],\"dependence\":[134],\"hard\":[137],\"option\":[138],\"neglect\":[142],\"human\":[145],\"factor\":[146],\"from\":[147],\"which\":[148,161,184],\"thesis\":[150],\"develops\":[151],\"argument\":[153],\"holistic\":[156,214],\"approach\":[157,169,230],\"people\":[163,247],\"occupy\":[164],\"central\":[166],\"position.\":[167],\"Thesis\":[168],\"also\":[171],\"shown\":[172],\"hold\":[174],\"solutions\":[176],\"eliminating\":[178],\"extremism\":[182],\"feeds\":[186],\"grows.\":[188],\"In\":[189],\"sum\":[190],\"deconstructs\":[193],\"Musharraf’s\":[194],\"regime’s\":[195],\"by\":[199],\"examining\":[200],\"conceptual\":[202],\"mould\":[203],\"strategic\":[206],\"players\":[207],\"country\":[210],\"postulates\":[212],\"integrated\":[216],\"framework\":[218],\"deal\":[220],\"with\":[221],\"pro-active\":[225],\"sustainable\":[227],\"basis.\":[228],\"An\":[229],\"such\":[231],\"this\":[233],\"would\":[234],\"logically\":[235],\"entail\":[236],\"redefining\":[238],\"role\":[241],\"state\":[244],\"vis-a-vis\":[245],\"fulcrum\":[250],\"medium\":[252],\"ensuring\":[254],\"traditional\":[255,258],\"non\":[257],\"country.\":[262]}}  "
      ]
     },
     "execution_count": 11,
     "metadata": {},
     "output_type": "execute_result"
    }
   ],
   "source": [
    "data.head()"
   ]
  },
  {
   "cell_type": "code",
   "execution_count": 23,
   "id": "6d13eb65",
   "metadata": {},
   "outputs": [],
   "source": [
    "json_data = data[['original_title','doc_type','journal_name','indexed_abstract']].copy()\n",
    "json_data.columns = ['title','doc_type','journal','abstract']\n",
    "json_data.to_json('test_json_V2.json', orient='records')"
   ]
  },
  {
   "cell_type": "code",
   "execution_count": null,
   "id": "9772411d",
   "metadata": {},
   "outputs": [],
   "source": []
  },
  {
   "cell_type": "markdown",
   "id": "5abf4ca1",
   "metadata": {},
   "source": [
    "#### Reading in like an input"
   ]
  },
  {
   "cell_type": "code",
   "execution_count": 94,
   "id": "c6c102c6",
   "metadata": {},
   "outputs": [],
   "source": [
    "model_path = \"./model_to_api/container/model_files/\""
   ]
  },
  {
   "cell_type": "code",
   "execution_count": 97,
   "id": "ac23bbbc",
   "metadata": {},
   "outputs": [
    {
     "name": "stdout",
     "output_type": "stream",
     "text": [
      "Loaded target vocab\n",
      "Loaded doc_type vocab\n",
      "Loaded journal vocab\n",
      "Loaded title vocab\n"
     ]
    }
   ],
   "source": [
    "# Load the dictionaries\n",
    "with open(os.path.join(model_path, \"topics_vocab.pkl\"), \"rb\") as f:\n",
    "    target_vocab = pickle.load(f)\n",
    "    \n",
    "target_vocab_inv = {j:i for i,j in target_vocab.items()}\n",
    "\n",
    "print(\"Loaded target vocab\")\n",
    "\n",
    "with open(os.path.join(model_path, \"doc_type_vocab.pkl\"), \"rb\") as f:\n",
    "    doc_vocab = pickle.load(f)\n",
    "    \n",
    "doc_vocab_inv = {j:i for i,j in doc_vocab.items()}\n",
    "\n",
    "print(\"Loaded doc_type vocab\")\n",
    "\n",
    "with open(os.path.join(model_path, \"journal_name_vocab.pkl\"), \"rb\") as f:\n",
    "    journal_vocab = pickle.load(f)\n",
    "    \n",
    "journal_vocab_inv = {j:i for i,j in journal_vocab.items()}\n",
    "\n",
    "print(\"Loaded journal vocab\")\n",
    "\n",
    "with open(os.path.join(model_path, \"paper_title_vocab.pkl\"), \"rb\") as f:\n",
    "    title_vocab = pickle.load(f)\n",
    "    \n",
    "title_vocab_inv = {j:i for i,j in title_vocab.items()}\n",
    "\n",
    "print(\"Loaded title vocab\")\n",
    "\n",
    "with open(os.path.join(model_path, \"tag_id_vocab.pkl\"), \"rb\") as f:\n",
    "    tag_id_vocab = pickle.load(f)"
   ]
  },
  {
   "cell_type": "code",
   "execution_count": 93,
   "id": "770b9fd0",
   "metadata": {},
   "outputs": [],
   "source": [
    "def invert_abstract_to_abstract(invert_abstract):\n",
    "    invert_abstract = json.loads(invert_abstract)\n",
    "    ab_len = invert_abstract['IndexLength']\n",
    "    \n",
    "    if 30 < ab_len < 1000:\n",
    "        abstract = [\" \"]*ab_len\n",
    "        for key, value in invert_abstract['InvertedIndex'].items():\n",
    "            for i in value:\n",
    "                abstract[i] = key\n",
    "        final_abstract = \" \".join(abstract)\n",
    "    else:\n",
    "        final_abstract = None\n",
    "    return final_abstract\n",
    "\n",
    "def clean_abstract(abstract, inverted=True):\n",
    "    if inverted:\n",
    "        if abstract:\n",
    "            abstract = invert_abstract_to_abstract(abstract)\n",
    "        else:\n",
    "            pass\n",
    "    else:\n",
    "        pass\n",
    "    abstract = clean_text(abstract)\n",
    "    return abstract\n",
    "\n",
    "def clean_text(text):\n",
    "    try:\n",
    "        text = text.lower()\n",
    "\n",
    "        text = re.sub('[^a-zA-Z0-9 ]+', ' ', text)\n",
    "        text = re.sub(' +', ' ', text)\n",
    "        text = text.strip()\n",
    "        \n",
    "    except:\n",
    "        text = \"\"\n",
    "    return text\n",
    "\n",
    "def try_lowercase(text):\n",
    "    try:\n",
    "        text = text.lower()\n",
    "    except:\n",
    "        pass\n",
    "    return text\n",
    "\n",
    "def tokenize_feature(feature, feature_name='doc_type'):\n",
    "    if feature_name=='doc_type':\n",
    "        vocab = doc_vocab\n",
    "    else:\n",
    "        vocab = journal_vocab\n",
    "    unk_token_id = vocab.get('[UNK]')\n",
    "    none_token_id = vocab.get('[NONE]')\n",
    "    if feature:\n",
    "        token_feature = [vocab.get(feature, unk_token_id)]\n",
    "    else:\n",
    "        token_feature = [none_token_id]\n",
    "    return token_feature\n",
    "\n",
    "def tokenize_title(feature):\n",
    "    split_feature = feature.split(\" \")\n",
    "    vocab = title_vocab\n",
    "    unk_token_id = vocab.get('[UNK]')\n",
    "    none_token_id = vocab.get('[NONE]')\n",
    "    if feature:\n",
    "        token_feature = [vocab.get(x, unk_token_id) for x in split_feature]\n",
    "    else:\n",
    "        token_feature = [none_token_id]\n",
    "    return token_feature"
   ]
  },
  {
   "cell_type": "code",
   "execution_count": 103,
   "id": "ab7a450d",
   "metadata": {},
   "outputs": [],
   "source": [
    "input_df = pd.read_json('test_json_V2.json', orient='records').reset_index(drop=True)"
   ]
  },
  {
   "cell_type": "code",
   "execution_count": 106,
   "id": "3828e55b",
   "metadata": {},
   "outputs": [
    {
     "data": {
      "text/html": [
       "<div>\n",
       "<style scoped>\n",
       "    .dataframe tbody tr th:only-of-type {\n",
       "        vertical-align: middle;\n",
       "    }\n",
       "\n",
       "    .dataframe tbody tr th {\n",
       "        vertical-align: top;\n",
       "    }\n",
       "\n",
       "    .dataframe thead th {\n",
       "        text-align: right;\n",
       "    }\n",
       "</style>\n",
       "<table border=\"1\" class=\"dataframe\">\n",
       "  <thead>\n",
       "    <tr style=\"text-align: right;\">\n",
       "      <th></th>\n",
       "      <th>title</th>\n",
       "      <th>doc_type</th>\n",
       "      <th>journal</th>\n",
       "      <th>abstract</th>\n",
       "      <th>inverted_abstract</th>\n",
       "      <th>paper_title_tok</th>\n",
       "      <th>abstract_tok</th>\n",
       "      <th>doc_type_tok</th>\n",
       "      <th>journal_tok</th>\n",
       "    </tr>\n",
       "  </thead>\n",
       "  <tbody>\n",
       "    <tr>\n",
       "      <th>0</th>\n",
       "      <td>a graph theoretic approach to atomic displacements in fullerenes</td>\n",
       "      <td>BookChapter</td>\n",
       "      <td>None</td>\n",
       "      <td>the recently developed idea of analyzing complex networks in terms of node displacement due to vibration estrada and hatano chem phys lett 486 166 170 2010a is applied to fullerenes the fact that the ramafullerenes fullerenes of ramanujan graphs are limited to fullerenes with relatively small number of c atoms is explained from the point of view of the node displacement the node displacement is also shown to indicate the stability of isomers of c40 fullerenes it is suggested from the analysis of local node displacement that instability of fullerenes mainly comes from pentagon rich areas of the molecules</td>\n",
       "      <td>True</td>\n",
       "      <td>[239113, 92190, 154991, 132270, 265955, 114561, 51847, 63104, 256479]</td>\n",
       "      <td>[154201, 47075, 139417, 222311, 200157, 90902, 11995, 148679, 63104, 70469, 200157, 228017, 40377, 154976, 265955, 142298, 126337, 187763, 116221, 96536, 267536, 47194, 102148, 86056, 177531, 124176, 113843, 28292, 265955, 256479, 154201, 19219, 226506, 154201, 1, 256479, 200157, 262080, 2543, 193784, 228014, 265955, 256479, 69677, 266744, 199415, 257011, 200157, 171106, 114599, 113843, 159115, 170361, 154201, 256234, 200157, 130806, 200157, 154201, 228017, 40377, 154201, 228017, 40377, 113843, 271789, 58215, 265955, 119704, 154201, 33975, 200157, 205781, 200157, 224379, 256479, 132276, 113843, 92294, 170361, 154201, 135818, 200157, 11260, 228017, 40377, 226506, 51050, 200157, 256479, 273229, 70498, 170361, 193199, 16992, 124473, 200157, 154201, 205075]</td>\n",
       "      <td>[8]</td>\n",
       "      <td>[2]</td>\n",
       "    </tr>\n",
       "    <tr>\n",
       "      <th>1</th>\n",
       "      <td>sectional anatomy of the human temporal bone</td>\n",
       "      <td>Journal</td>\n",
       "      <td>folia morphologica</td>\n",
       "      <td></td>\n",
       "      <td>True</td>\n",
       "      <td>[58192, 126692, 200157, 154201, 69678, 255482, 2487]</td>\n",
       "      <td>[2]</td>\n",
       "      <td>[3]</td>\n",
       "      <td>[3165]</td>\n",
       "    </tr>\n",
       "    <tr>\n",
       "      <th>2</th>\n",
       "      <td>pakistan response towards terrorism a case study of musharraf regime</td>\n",
       "      <td>Thesis</td>\n",
       "      <td>None</td>\n",
       "      <td>the ranging course of terrorism banishing peace and security prospects of today s pakistan is seen as a domestic effluent of its own flawed policies bad governance and lack of social justice and rule of law in society and widening gulf of trust between the rulers and the ruled the study focused on policies and performance of the musharraf government since assuming the mantle of front ranking ally of the united states in its so called war on terror the causes of reversal of pre nine eleven position on afghanistan and support of its taliban s rulers are examined in the light of the geo strategic compulsions of that crucial time and the structural weakness of military rule that needed external props for legitimacy the flaws of the response to the terrorist challenges are traced to its total dependence on the hard option to the total neglect of the human factor from which the thesis develops its argument for a holistic approach to security in which the people occupy a central position thesis approach is also shown to hold the solutions for eliminating the causes of extremism on which terrorism feeds and grows in sum the study deconstructs musharraf s regime s response to terrorism by examining the conceptual mould of the strategic players in the country and postulates a holistic and integrated security framework to deal with terrorism on a pro active and sustainable basis an approach such as this would logically entail the redefining of the role of the state vis a vis its people as the fulcrum and medium of ensuring traditional and non traditional security of the country</td>\n",
       "      <td>True</td>\n",
       "      <td>[247096, 63112, 86555, 62423, 239113, 199399, 68895, 200157, 280974, 56710]</td>\n",
       "      <td>[154201, 153540, 85053, 200157, 62423, 143063, 154250, 187763, 46948, 86572, 200157, 86558, 278048, 247096, 113843, 23366, 244521, 239113, 221564, 176060, 200157, 135821, 39638, 12022, 87345, 120276, 17672, 187763, 12048, 200157, 142282, 277329, 187763, 200167, 200157, 273948, 63104, 261129, 187763, 279579, 155008, 200157, 120299, 113846, 154201, 152911, 187763, 154201, 226673, 154201, 68895, 90654, 114560, 87345, 187763, 223011, 200157, 154201, 280974, 239119, 261113, 177625, 154201, 238516, 200157, 130864, 130805, 39637, 200157, 154201, 75272, 147939, 63104, 135821, 237558, 278757, 227997, 114560, 148023, 154201, 24100, 200157, 29538, 200157, 279567, 176808, 228008, 194550, 114560, 239899, 187763, 132277, 200157, 135821, 217437, 278048, 152911, 193784, 246991, 63104, ...]</td>\n",
       "      <td>[6]</td>\n",
       "      <td>[2]</td>\n",
       "    </tr>\n",
       "  </tbody>\n",
       "</table>\n",
       "</div>"
      ],
      "text/plain": [
       "                                                                  title  \\\n",
       "0      a graph theoretic approach to atomic displacements in fullerenes   \n",
       "1                          sectional anatomy of the human temporal bone   \n",
       "2  pakistan response towards terrorism a case study of musharraf regime   \n",
       "\n",
       "      doc_type             journal  \\\n",
       "0  BookChapter                None   \n",
       "1      Journal  folia morphologica   \n",
       "2       Thesis                None   \n",
       "\n",
       "                                                                                                                                                                                                                                                                                                                                                                                                                                                                                                                                                                                                                                                                                                                                                                                                                                                                                                                                                                                                                                                                                                                                                                                                                                                                                                                                                                                                                                                                                                                                                                                                                                                    abstract  \\\n",
       "0                                                                                                                                                                                                                                                                                                                                                                                                                                                                                                                                                                                                                                                                                                                                                                                                                                                                                                                                                                                                                         the recently developed idea of analyzing complex networks in terms of node displacement due to vibration estrada and hatano chem phys lett 486 166 170 2010a is applied to fullerenes the fact that the ramafullerenes fullerenes of ramanujan graphs are limited to fullerenes with relatively small number of c atoms is explained from the point of view of the node displacement the node displacement is also shown to indicate the stability of isomers of c40 fullerenes it is suggested from the analysis of local node displacement that instability of fullerenes mainly comes from pentagon rich areas of the molecules   \n",
       "1                                                                                                                                                                                                                                                                                                                                                                                                                                                                                                                                                                                                                                                                                                                                                                                                                                                                                                                                                                                                                                                                                                                                                                                                                                                                                                                                                                                                                                                                                                                                                                                                                                                              \n",
       "2  the ranging course of terrorism banishing peace and security prospects of today s pakistan is seen as a domestic effluent of its own flawed policies bad governance and lack of social justice and rule of law in society and widening gulf of trust between the rulers and the ruled the study focused on policies and performance of the musharraf government since assuming the mantle of front ranking ally of the united states in its so called war on terror the causes of reversal of pre nine eleven position on afghanistan and support of its taliban s rulers are examined in the light of the geo strategic compulsions of that crucial time and the structural weakness of military rule that needed external props for legitimacy the flaws of the response to the terrorist challenges are traced to its total dependence on the hard option to the total neglect of the human factor from which the thesis develops its argument for a holistic approach to security in which the people occupy a central position thesis approach is also shown to hold the solutions for eliminating the causes of extremism on which terrorism feeds and grows in sum the study deconstructs musharraf s regime s response to terrorism by examining the conceptual mould of the strategic players in the country and postulates a holistic and integrated security framework to deal with terrorism on a pro active and sustainable basis an approach such as this would logically entail the redefining of the role of the state vis a vis its people as the fulcrum and medium of ensuring traditional and non traditional security of the country   \n",
       "\n",
       "   inverted_abstract  \\\n",
       "0               True   \n",
       "1               True   \n",
       "2               True   \n",
       "\n",
       "                                                               paper_title_tok  \\\n",
       "0        [239113, 92190, 154991, 132270, 265955, 114561, 51847, 63104, 256479]   \n",
       "1                         [58192, 126692, 200157, 154201, 69678, 255482, 2487]   \n",
       "2  [247096, 63112, 86555, 62423, 239113, 199399, 68895, 200157, 280974, 56710]   \n",
       "\n",
       "                                                                                                                                                                                                                                                                                                                                                                                                                                                                                                                                                                                                                                                                                                                                                                                                       abstract_tok  \\\n",
       "0                       [154201, 47075, 139417, 222311, 200157, 90902, 11995, 148679, 63104, 70469, 200157, 228017, 40377, 154976, 265955, 142298, 126337, 187763, 116221, 96536, 267536, 47194, 102148, 86056, 177531, 124176, 113843, 28292, 265955, 256479, 154201, 19219, 226506, 154201, 1, 256479, 200157, 262080, 2543, 193784, 228014, 265955, 256479, 69677, 266744, 199415, 257011, 200157, 171106, 114599, 113843, 159115, 170361, 154201, 256234, 200157, 130806, 200157, 154201, 228017, 40377, 154201, 228017, 40377, 113843, 271789, 58215, 265955, 119704, 154201, 33975, 200157, 205781, 200157, 224379, 256479, 132276, 113843, 92294, 170361, 154201, 135818, 200157, 11260, 228017, 40377, 226506, 51050, 200157, 256479, 273229, 70498, 170361, 193199, 16992, 124473, 200157, 154201, 205075]   \n",
       "1                                                                                                                                                                                                                                                                                                                                                                                                                                                                                                                                                                                                                                                                                                                                                                                                               [2]   \n",
       "2  [154201, 153540, 85053, 200157, 62423, 143063, 154250, 187763, 46948, 86572, 200157, 86558, 278048, 247096, 113843, 23366, 244521, 239113, 221564, 176060, 200157, 135821, 39638, 12022, 87345, 120276, 17672, 187763, 12048, 200157, 142282, 277329, 187763, 200167, 200157, 273948, 63104, 261129, 187763, 279579, 155008, 200157, 120299, 113846, 154201, 152911, 187763, 154201, 226673, 154201, 68895, 90654, 114560, 87345, 187763, 223011, 200157, 154201, 280974, 239119, 261113, 177625, 154201, 238516, 200157, 130864, 130805, 39637, 200157, 154201, 75272, 147939, 63104, 135821, 237558, 278757, 227997, 114560, 148023, 154201, 24100, 200157, 29538, 200157, 279567, 176808, 228008, 194550, 114560, 239899, 187763, 132277, 200157, 135821, 217437, 278048, 152911, 193784, 246991, 63104, ...]   \n",
       "\n",
       "  doc_type_tok journal_tok  \n",
       "0          [8]         [2]  \n",
       "1          [3]      [3165]  \n",
       "2          [6]         [2]  "
      ]
     },
     "execution_count": 106,
     "metadata": {},
     "output_type": "execute_result"
    }
   ],
   "source": [
    "input_df"
   ]
  },
  {
   "cell_type": "code",
   "execution_count": 105,
   "id": "7b7cecd7",
   "metadata": {},
   "outputs": [],
   "source": [
    "input_df['title'] = input_df['title'].apply(clean_text)\n",
    "input_df['abstract'] = input_df.apply(lambda x: clean_abstract(x.abstract, x.inverted_abstract), axis=1)\n",
    "input_df['journal'] = input_df['journal'].apply(try_lowercase)\n",
    "input_df['paper_title_tok'] = input_df['title'].apply(tokenize_title)\n",
    "input_df['abstract_tok'] = input_df['abstract'].apply(tokenize_title)\n",
    "input_df['doc_type_tok'] = input_df['doc_type'].apply(tokenize_feature, args=('doc_type',))\n",
    "input_df['journal_tok'] = input_df['journal'].apply(tokenize_feature, args=('journal',))"
   ]
  },
  {
   "cell_type": "code",
   "execution_count": null,
   "id": "569793a0",
   "metadata": {},
   "outputs": [],
   "source": []
  },
  {
   "cell_type": "markdown",
   "id": "72076d50",
   "metadata": {},
   "source": [
    "#### Testing Sagemaker Endpoint"
   ]
  },
  {
   "cell_type": "code",
   "execution_count": 1,
   "id": "8620fd56",
   "metadata": {},
   "outputs": [],
   "source": [
    "import boto3\n",
    "import json"
   ]
  },
  {
   "cell_type": "code",
   "execution_count": 2,
   "id": "4547cd6b",
   "metadata": {},
   "outputs": [],
   "source": [
    "sagemaker_runtime = boto3.client(\"sagemaker-runtime\", region_name=\"us-east-1\")\n",
    "\n",
    "endpoint_name='mag-imitator-v2-endpoint'"
   ]
  },
  {
   "cell_type": "code",
   "execution_count": 3,
   "id": "da04c39a",
   "metadata": {},
   "outputs": [],
   "source": [
    "with open(\"test_json_V2.json\", \"rb\") as f:\n",
    "    test_load = json.load(f)"
   ]
  },
  {
   "cell_type": "code",
   "execution_count": 15,
   "id": "6a18db19",
   "metadata": {},
   "outputs": [],
   "source": [
    "response = sagemaker_runtime.invoke_endpoint(\n",
    "                            EndpointName=endpoint_name, \n",
    "                            ContentType='application/json',\n",
    "                            Body=bytes(json.dumps(test_load), 'utf-8'))"
   ]
  },
  {
   "cell_type": "code",
   "execution_count": 16,
   "id": "0cf4a8f8",
   "metadata": {},
   "outputs": [
    {
     "data": {
      "text/plain": [
       "[{'tags': ['fullerene',\n",
       "   'node',\n",
       "   'displacement',\n",
       "   'ramanujan s sum',\n",
       "   'pentagon',\n",
       "   'computational chemistry',\n",
       "   'physics',\n",
       "   'combinatorics',\n",
       "   'mathematics'],\n",
       "  'scores': [0.920840859413147,\n",
       "   0.5919812321662903,\n",
       "   0.5425196290016174,\n",
       "   0.5040149092674255,\n",
       "   0.46491581201553345,\n",
       "   0.40673425793647766,\n",
       "   0.39379405975341797,\n",
       "   0.3785310983657837,\n",
       "   0.35838180780410767],\n",
       "  'tag_ids': [162862793,\n",
       "   62611344,\n",
       "   107551265,\n",
       "   131220774,\n",
       "   2779965921,\n",
       "   147597530,\n",
       "   121332964,\n",
       "   114614502,\n",
       "   33923547]},\n",
       " {'tags': ['anatomy', 'temporal bone', 'human anatomy', 'medicine', 'biology'],\n",
       "  'scores': [0.6792266964912415,\n",
       "   0.6614392995834351,\n",
       "   0.45784658193588257,\n",
       "   0.3365514278411865,\n",
       "   0.3269321322441101],\n",
       "  'tag_ids': [105702510, 2777939775, 2985650651, 71924100, 86803240]},\n",
       " {'tags': ['terrorism',\n",
       "   'legitimacy',\n",
       "   'political science',\n",
       "   'domestic terrorism',\n",
       "   'political economy',\n",
       "   'argument',\n",
       "   'position',\n",
       "   'law'],\n",
       "  'scores': [0.7742798328399658,\n",
       "   0.6335636973381042,\n",
       "   0.5274387001991272,\n",
       "   0.47507089376449585,\n",
       "   0.46928369998931885,\n",
       "   0.4460775852203369,\n",
       "   0.43775027990341187,\n",
       "   0.40696993470191956],\n",
       "  'tag_ids': [203133693,\n",
       "   46295352,\n",
       "   17744445,\n",
       "   2777672627,\n",
       "   138921699,\n",
       "   98184364,\n",
       "   198082294,\n",
       "   199539241]}]"
      ]
     },
     "execution_count": 16,
     "metadata": {},
     "output_type": "execute_result"
    }
   ],
   "source": [
    "json.loads(response['Body'].read().decode())"
   ]
  },
  {
   "cell_type": "code",
   "execution_count": null,
   "id": "b916cb93",
   "metadata": {},
   "outputs": [],
   "source": []
  }
 ],
 "metadata": {
  "kernelspec": {
   "display_name": "Python 3 (ipykernel)",
   "language": "python",
   "name": "python3"
  },
  "language_info": {
   "codemirror_mode": {
    "name": "ipython",
    "version": 3
   },
   "file_extension": ".py",
   "mimetype": "text/x-python",
   "name": "python",
   "nbconvert_exporter": "python",
   "pygments_lexer": "ipython3",
   "version": "3.8.11"
  }
 },
 "nbformat": 4,
 "nbformat_minor": 5
}
