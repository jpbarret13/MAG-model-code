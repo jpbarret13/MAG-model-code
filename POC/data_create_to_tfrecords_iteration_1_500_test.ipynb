{
 "cells": [
  {
   "cell_type": "code",
   "execution_count": 16,
   "id": "metric-secretariat",
   "metadata": {
    "scrolled": true
   },
   "outputs": [],
   "source": [
    "# !pip install tensorflow==2.4.1\n",
    "# !pip install transformers\n",
    "# !pip install pyarrow"
   ]
  },
  {
   "cell_type": "code",
   "execution_count": 4,
   "id": "latin-japanese",
   "metadata": {},
   "outputs": [],
   "source": [
    "import tensorflow as tf\n",
    "import pandas as pd\n",
    "import numpy as np\n",
    "import os\n",
    "from math import ceil\n",
    "from transformers import AlbertTokenizerFast, TFAlbertModel"
   ]
  },
  {
   "cell_type": "code",
   "execution_count": 5,
   "id": "c4a900db",
   "metadata": {},
   "outputs": [],
   "source": [
    "def check_targets(targs):\n",
    "    if targs[0] == -1:\n",
    "        return 1\n",
    "    else:\n",
    "        return 0"
   ]
  },
  {
   "cell_type": "code",
   "execution_count": 6,
   "id": "charged-familiar",
   "metadata": {},
   "outputs": [],
   "source": [
    "def create_tfrecords_dataset(data, iter_num, dataset_type='train'):\n",
    "#     paper_title = tf.keras.preprocessing.sequence.pad_sequences(data['paper_title_tok'].to_list(), \n",
    "#                                                                 maxlen=512, dtype='int64', \n",
    "#                                                                 padding='post', truncating='post', value=0)\n",
    "    data['no_target'] = data['target_tok'].apply(check_targets)\n",
    "    data = data[data['no_target']==0].copy()\n",
    "    \n",
    "    paper_title = tf.ragged.constant(data['paper_title_tok'].to_list())\n",
    "    \n",
    "    paper_mask = tf.ragged.constant(data['paper_title_mask'].to_list())\n",
    "    \n",
    "    targets = tf.keras.preprocessing.sequence.pad_sequences(data['target_tok'].to_list(), maxlen=20, \n",
    "                                                            dtype='int64', padding='post', \n",
    "                                                            truncating='post', value=0)\n",
    "\n",
    "    ds = tf.data.Dataset.zip((tf.data.Dataset.from_tensor_slices(paper_title),\n",
    "                              tf.data.Dataset.from_tensor_slices(paper_mask),\n",
    "                              tf.data.Dataset.from_tensor_slices(data['journal_tok'].to_list()),\n",
    "                              tf.data.Dataset.from_tensor_slices(data['doc_type_tok'].to_list()),\n",
    "                              tf.data.Dataset.from_tensor_slices(targets)))\n",
    "    \n",
    "    serialized_features_dataset = ds.map(tf_serialize_example)\n",
    "    \n",
    "    filename = f\"./iteration_1_500_test/tfrecords/{dataset_type}/{str(iter_num).zfill(4)}.tfrecord\"\n",
    "    writer = tf.data.experimental.TFRecordWriter(filename)\n",
    "    writer.write(serialized_features_dataset)"
   ]
  },
  {
   "cell_type": "code",
   "execution_count": 7,
   "id": "portable-military",
   "metadata": {},
   "outputs": [],
   "source": [
    "def tf_serialize_example(f0, f1, f2, f3, f4):\n",
    "    tf_string = tf.py_function(serialize_example, (f0, f1, f2, f3, f4), tf.string)\n",
    "    return tf.reshape(tf_string, ())"
   ]
  },
  {
   "cell_type": "code",
   "execution_count": 8,
   "id": "interior-vancouver",
   "metadata": {},
   "outputs": [],
   "source": [
    "def serialize_example(paper_title, paper_mask, journal, doc_type, targets):\n",
    "    paper_title_list = tf.train.Int64List(value=paper_title.numpy().tolist())\n",
    "    paper_mask_list = tf.train.Int64List(value=paper_mask.numpy().tolist())\n",
    "    journal_list = tf.train.Int64List(value=journal.numpy().tolist())\n",
    "    doc_type_list = tf.train.Int64List(value=doc_type.numpy().tolist())\n",
    "    targets_list = tf.train.Int64List(value=targets.numpy().tolist())\n",
    "    \n",
    "    paper_title_feature = tf.train.Feature(int64_list = paper_title_list)\n",
    "    paper_mask_feature = tf.train.Feature(int64_list = paper_mask_list)\n",
    "    journal_feature = tf.train.Feature(int64_list = journal_list)\n",
    "    doc_type_feature = tf.train.Feature(int64_list = doc_type_list)\n",
    "    targets_feature = tf.train.Feature(int64_list = targets_list)\n",
    "    \n",
    "    features_for_example = {\n",
    "        'paper_title': paper_title_feature,\n",
    "        'paper_mask': paper_mask_feature,\n",
    "        'journal': journal_feature,\n",
    "        'doc_type': doc_type_feature,\n",
    "        'targets': targets_feature\n",
    "    }\n",
    "    \n",
    "    example_proto = tf.train.Example(features=tf.train.Features(feature=features_for_example))\n",
    "    \n",
    "    return example_proto.SerializeToString()"
   ]
  },
  {
   "cell_type": "code",
   "execution_count": 9,
   "id": "approved-spoke",
   "metadata": {},
   "outputs": [],
   "source": [
    "def turn_part_file_into_tfrecord(base_path, dataset_type='train'):\n",
    "    file_list = [x for x in os.listdir(f\"{base_path}{dataset_type}\") if x.endswith('parquet')]\n",
    "    file_list.sort()\n",
    "    print(f\"There are {len(file_list)} files for {dataset_type}\")\n",
    "    for i, file_name in enumerate(file_list):\n",
    "        data = pd.read_parquet(f\"{base_path}{dataset_type}/{file_name}\")\n",
    "        print(f\"_____File number: {i} ({data.shape[0]} samples)\")\n",
    "        create_tfrecords_dataset(data, i, dataset_type)"
   ]
  },
  {
   "cell_type": "code",
   "execution_count": 10,
   "id": "veterinary-alfred",
   "metadata": {},
   "outputs": [],
   "source": [
    "base_file_path = f\"./iteration_1_500_test/tokenized_data/\""
   ]
  },
  {
   "cell_type": "markdown",
   "id": "604b7505",
   "metadata": {},
   "source": [
    "#### Without padding"
   ]
  },
  {
   "cell_type": "code",
   "execution_count": 11,
   "id": "99310f8a",
   "metadata": {
    "scrolled": false
   },
   "outputs": [
    {
     "name": "stdout",
     "output_type": "stream",
     "text": [
      "There are 50 files for train\n",
      "_____File number: 0 (333934 samples)\n"
     ]
    },
    {
     "name": "stderr",
     "output_type": "stream",
     "text": [
      "2021-10-28 16:44:50.599508: I tensorflow/compiler/jit/xla_cpu_device.cc:41] Not creating XLA devices, tf_xla_enable_xla_devices not set\n",
      "2021-10-28 16:44:50.599987: I tensorflow/core/platform/cpu_feature_guard.cc:142] This TensorFlow binary is optimized with oneAPI Deep Neural Network Library (oneDNN) to use the following CPU instructions in performance-critical operations:  AVX2 FMA\n",
      "To enable them in other operations, rebuild TensorFlow with the appropriate compiler flags.\n",
      "2021-10-28 16:45:12.701094: I tensorflow/compiler/mlir/mlir_graph_optimization_pass.cc:116] None of the MLIR optimization passes are enabled (registered 2)\n"
     ]
    },
    {
     "name": "stdout",
     "output_type": "stream",
     "text": [
      "_____File number: 1 (500782 samples)\n",
      "_____File number: 2 (289574 samples)\n",
      "_____File number: 3 (731312 samples)\n",
      "_____File number: 4 (452938 samples)\n",
      "_____File number: 5 (332182 samples)\n",
      "_____File number: 6 (334258 samples)\n",
      "_____File number: 7 (332690 samples)\n",
      "_____File number: 8 (334133 samples)\n",
      "_____File number: 9 (500947 samples)\n",
      "_____File number: 10 (500685 samples)\n",
      "_____File number: 11 (333661 samples)\n",
      "_____File number: 12 (333736 samples)\n",
      "_____File number: 13 (334030 samples)\n",
      "_____File number: 14 (502205 samples)\n",
      "_____File number: 15 (500262 samples)\n",
      "_____File number: 16 (333853 samples)\n",
      "_____File number: 17 (333452 samples)\n",
      "_____File number: 18 (334802 samples)\n",
      "_____File number: 19 (500348 samples)\n",
      "_____File number: 20 (333153 samples)\n",
      "_____File number: 21 (501138 samples)\n",
      "_____File number: 22 (500516 samples)\n",
      "_____File number: 23 (334218 samples)\n",
      "_____File number: 24 (333879 samples)\n",
      "_____File number: 25 (499942 samples)\n",
      "_____File number: 26 (333754 samples)\n",
      "_____File number: 27 (537233 samples)\n",
      "_____File number: 28 (333837 samples)\n",
      "_____File number: 29 (501617 samples)\n",
      "_____File number: 30 (538336 samples)\n",
      "_____File number: 31 (333751 samples)\n",
      "_____File number: 32 (333940 samples)\n",
      "_____File number: 33 (334320 samples)\n",
      "_____File number: 34 (445364 samples)\n",
      "_____File number: 35 (445391 samples)\n",
      "_____File number: 36 (445189 samples)\n",
      "_____File number: 37 (444598 samples)\n",
      "_____File number: 38 (333811 samples)\n",
      "_____File number: 39 (368983 samples)\n",
      "_____File number: 40 (445625 samples)\n",
      "_____File number: 41 (368788 samples)\n",
      "_____File number: 42 (278162 samples)\n",
      "_____File number: 43 (278396 samples)\n",
      "_____File number: 44 (277295 samples)\n",
      "_____File number: 45 (444821 samples)\n",
      "_____File number: 46 (277058 samples)\n",
      "_____File number: 47 (445120 samples)\n",
      "_____File number: 48 (277346 samples)\n",
      "_____File number: 49 (278047 samples)\n",
      "CPU times: user 2h 10min 51s, sys: 7min 38s, total: 2h 18min 30s\n",
      "Wall time: 2h 30s\n"
     ]
    }
   ],
   "source": [
    "%%time\n",
    "turn_part_file_into_tfrecord(base_file_path, 'train')"
   ]
  },
  {
   "cell_type": "code",
   "execution_count": 12,
   "id": "b8fcfb85",
   "metadata": {},
   "outputs": [
    {
     "name": "stdout",
     "output_type": "stream",
     "text": [
      "There are 10 files for val\n",
      "_____File number: 0 (81042 samples)\n",
      "_____File number: 1 (73535 samples)\n",
      "_____File number: 2 (152905 samples)\n",
      "_____File number: 3 (133827 samples)\n",
      "_____File number: 4 (82014 samples)\n",
      "_____File number: 5 (99433 samples)\n",
      "_____File number: 6 (72605 samples)\n",
      "_____File number: 7 (59826 samples)\n",
      "_____File number: 8 (72843 samples)\n",
      "_____File number: 9 (64708 samples)\n",
      "CPU times: user 5min 48s, sys: 19.6 s, total: 6min 8s\n",
      "Wall time: 5min 14s\n"
     ]
    }
   ],
   "source": [
    "%%time\n",
    "turn_part_file_into_tfrecord(base_file_path, 'val')"
   ]
  },
  {
   "cell_type": "code",
   "execution_count": 13,
   "id": "9aefdeb8",
   "metadata": {},
   "outputs": [
    {
     "name": "stdout",
     "output_type": "stream",
     "text": [
      "There are 5 files for test\n",
      "_____File number: 0 (32310 samples)\n",
      "_____File number: 1 (29691 samples)\n",
      "_____File number: 2 (31983 samples)\n",
      "_____File number: 3 (31242 samples)\n",
      "_____File number: 4 (25404 samples)\n",
      "CPU times: user 1min, sys: 3.26 s, total: 1min 3s\n",
      "Wall time: 54.4 s\n"
     ]
    }
   ],
   "source": [
    "%%time\n",
    "turn_part_file_into_tfrecord(base_file_path, 'test')"
   ]
  },
  {
   "cell_type": "code",
   "execution_count": null,
   "id": "driven-exchange",
   "metadata": {},
   "outputs": [],
   "source": []
  },
  {
   "cell_type": "code",
   "execution_count": null,
   "id": "baking-syntax",
   "metadata": {},
   "outputs": [],
   "source": []
  }
 ],
 "metadata": {
  "kernelspec": {
   "display_name": "Python 3 (ipykernel)",
   "language": "python",
   "name": "python3"
  },
  "language_info": {
   "codemirror_mode": {
    "name": "ipython",
    "version": 3
   },
   "file_extension": ".py",
   "mimetype": "text/x-python",
   "name": "python",
   "nbconvert_exporter": "python",
   "pygments_lexer": "ipython3",
   "version": "3.8.11"
  }
 },
 "nbformat": 4,
 "nbformat_minor": 5
}
