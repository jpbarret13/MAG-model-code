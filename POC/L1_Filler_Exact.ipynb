{
 "cells": [
  {
   "cell_type": "code",
   "execution_count": 50,
   "id": "13ef4dcf",
   "metadata": {},
   "outputs": [],
   "source": [
    "import pandas as pd\n",
    "import os\n",
    "import pickle"
   ]
  },
  {
   "cell_type": "code",
   "execution_count": 51,
   "id": "a48a54cc",
   "metadata": {},
   "outputs": [],
   "source": [
    "with open(\"/Users/justinbarrett/Desktop/Data_Science/Upwork/mag_model/MAG-model-code/ITER1/iteration_final/basic_word_tokenized_500_test/vocab/topics_vocab.pkl\", \"rb\") as f:\n",
    "    target_vocab = pickle.load(f)"
   ]
  },
  {
   "cell_type": "code",
   "execution_count": 58,
   "id": "3197e080",
   "metadata": {},
   "outputs": [],
   "source": [
    "vocab = pd.DataFrame(zip(target_vocab.keys(), target_vocab.values()), \n",
    "                     columns=['normalized_name_2', 'id'])[['normalized_name_2']]"
   ]
  },
  {
   "cell_type": "code",
   "execution_count": 8,
   "id": "32c81ee2",
   "metadata": {},
   "outputs": [
    {
     "data": {
      "text/html": [
       "<div>\n",
       "<style scoped>\n",
       "    .dataframe tbody tr th:only-of-type {\n",
       "        vertical-align: middle;\n",
       "    }\n",
       "\n",
       "    .dataframe tbody tr th {\n",
       "        vertical-align: top;\n",
       "    }\n",
       "\n",
       "    .dataframe thead th {\n",
       "        text-align: right;\n",
       "    }\n",
       "</style>\n",
       "<table border=\"1\" class=\"dataframe\">\n",
       "  <thead>\n",
       "    <tr style=\"text-align: right;\">\n",
       "      <th></th>\n",
       "      <th>field_of_study_id</th>\n",
       "      <th>normalized_name</th>\n",
       "      <th>level</th>\n",
       "    </tr>\n",
       "  </thead>\n",
       "  <tbody>\n",
       "    <tr>\n",
       "      <th>0</th>\n",
       "      <td>13818915</td>\n",
       "      <td>2 3 tree</td>\n",
       "      <td>5</td>\n",
       "    </tr>\n",
       "    <tr>\n",
       "      <th>1</th>\n",
       "      <td>82747516</td>\n",
       "      <td>widow s peak</td>\n",
       "      <td>2</td>\n",
       "    </tr>\n",
       "    <tr>\n",
       "      <th>2</th>\n",
       "      <td>156334865</td>\n",
       "      <td>brianchon s theorem</td>\n",
       "      <td>5</td>\n",
       "    </tr>\n",
       "    <tr>\n",
       "      <th>3</th>\n",
       "      <td>2775938904</td>\n",
       "      <td>morphea</td>\n",
       "      <td>2</td>\n",
       "    </tr>\n",
       "    <tr>\n",
       "      <th>4</th>\n",
       "      <td>2776538702</td>\n",
       "      <td>philiris</td>\n",
       "      <td>4</td>\n",
       "    </tr>\n",
       "  </tbody>\n",
       "</table>\n",
       "</div>"
      ],
      "text/plain": [
       "   field_of_study_id      normalized_name  level\n",
       "0           13818915             2 3 tree      5\n",
       "1           82747516         widow s peak      2\n",
       "2          156334865  brianchon s theorem      5\n",
       "3         2775938904              morphea      2\n",
       "4         2776538702             philiris      4"
      ]
     },
     "execution_count": 8,
     "metadata": {},
     "output_type": "execute_result"
    }
   ],
   "source": [
    "tags = pd.read_parquet(\"fields_of_study_table.parquet\", columns=['field_of_study_id','normalized_name','level']) \\\n",
    ".dropna(subset=['normalized_name'])\n",
    "tags['level'] = tags['level'].fillna(0).astype('int')\n",
    "tags.head()"
   ]
  },
  {
   "cell_type": "code",
   "execution_count": 5,
   "id": "3afa98b7",
   "metadata": {},
   "outputs": [
    {
     "data": {
      "text/html": [
       "<div>\n",
       "<style scoped>\n",
       "    .dataframe tbody tr th:only-of-type {\n",
       "        vertical-align: middle;\n",
       "    }\n",
       "\n",
       "    .dataframe tbody tr th {\n",
       "        vertical-align: top;\n",
       "    }\n",
       "\n",
       "    .dataframe thead th {\n",
       "        text-align: right;\n",
       "    }\n",
       "</style>\n",
       "<table border=\"1\" class=\"dataframe\">\n",
       "  <thead>\n",
       "    <tr style=\"text-align: right;\">\n",
       "      <th></th>\n",
       "      <th>field_of_study_id</th>\n",
       "      <th>child_field_of_study_id</th>\n",
       "    </tr>\n",
       "  </thead>\n",
       "  <tbody>\n",
       "    <tr>\n",
       "      <th>0</th>\n",
       "      <td>40700</td>\n",
       "      <td>2775988158</td>\n",
       "    </tr>\n",
       "    <tr>\n",
       "      <th>1</th>\n",
       "      <td>40700</td>\n",
       "      <td>2993502798</td>\n",
       "    </tr>\n",
       "    <tr>\n",
       "      <th>2</th>\n",
       "      <td>58166</td>\n",
       "      <td>37754750</td>\n",
       "    </tr>\n",
       "    <tr>\n",
       "      <th>3</th>\n",
       "      <td>58166</td>\n",
       "      <td>2989026478</td>\n",
       "    </tr>\n",
       "    <tr>\n",
       "      <th>4</th>\n",
       "      <td>116537</td>\n",
       "      <td>2987322126</td>\n",
       "    </tr>\n",
       "  </tbody>\n",
       "</table>\n",
       "</div>"
      ],
      "text/plain": [
       "   field_of_study_id  child_field_of_study_id\n",
       "0              40700               2775988158\n",
       "1              40700               2993502798\n",
       "2              58166                 37754750\n",
       "3              58166               2989026478\n",
       "4             116537               2987322126"
      ]
     },
     "execution_count": 5,
     "metadata": {},
     "output_type": "execute_result"
    }
   ],
   "source": [
    "children = pd.read_parquet(\"fields_of_study_children_table.parquet\")\n",
    "children.head()"
   ]
  },
  {
   "cell_type": "code",
   "execution_count": null,
   "id": "f95d3b19",
   "metadata": {},
   "outputs": [],
   "source": []
  },
  {
   "cell_type": "code",
   "execution_count": 33,
   "id": "1f24c017",
   "metadata": {},
   "outputs": [],
   "source": [
    "i=0\n",
    "level = tags[tags['level']==i].copy()\n",
    "level.columns = [f\"field_of_study_id_{i}\", f\"normalized_name_{i}\", f\"level_{i}\"]\n",
    "only_level_children_1 = level \\\n",
    "    .merge(children.rename(columns={'field_of_study_id': f'field_of_study_id_{i}'}), \n",
    "                                    how='inner', on=f'field_of_study_id_{i}') \\\n",
    "    .merge(tags, how='inner', left_on='child_field_of_study_id', right_on='field_of_study_id') \\\n",
    "    .drop(['child_field_of_study_id'], axis=1)\n",
    "\n",
    "only_level_children_1.columns = [f\"field_of_study_id_{i}\", f\"normalized_name_{i}\", f\"level_{i}\"] + \\\n",
    "                                [f\"field_of_study_id_{i+1}\", f\"normalized_name_{i+1}\", f\"level_{i+1}\"]\n",
    "\n",
    "only_level_children_2 = only_level_children_1 \\\n",
    "    .merge(children.rename(columns={'field_of_study_id': f'field_of_study_id_{i+1}'}), \n",
    "                                    how='inner', on=f'field_of_study_id_{i+1}') \\\n",
    "    .merge(tags, how='inner', left_on='child_field_of_study_id', right_on='field_of_study_id') \\\n",
    "    .drop(['child_field_of_study_id'], axis=1)\n",
    "\n",
    "only_level_children_2.columns = [f\"field_of_study_id_{i}\", f\"normalized_name_{i}\", f\"level_{i}\"] + \\\n",
    "                                [f\"field_of_study_id_{i+1}\", f\"normalized_name_{i+1}\", f\"level_{i+1}\"] + \\\n",
    "                                [f\"field_of_study_id_{i+2}\", f\"normalized_name_{i+2}\", f\"level_{i+2}\"]"
   ]
  },
  {
   "cell_type": "code",
   "execution_count": 59,
   "id": "0feaf27f",
   "metadata": {},
   "outputs": [
    {
     "data": {
      "text/plain": [
       "(74564, 3)"
      ]
     },
     "execution_count": 59,
     "metadata": {},
     "output_type": "execute_result"
    }
   ],
   "source": [
    "filler_L1 = only_level_children_2[['normalized_name_0','normalized_name_1','normalized_name_2']] \\\n",
    ".merge(vocab, how='inner', on='normalized_name_2').copy()\n",
    "filler_L1.shape"
   ]
  },
  {
   "cell_type": "code",
   "execution_count": 60,
   "id": "250ed63b",
   "metadata": {},
   "outputs": [
    {
     "data": {
      "text/plain": [
       "27508"
      ]
     },
     "execution_count": 60,
     "metadata": {},
     "output_type": "execute_result"
    }
   ],
   "source": [
    "filler_L1['normalized_name_2'].nunique()"
   ]
  },
  {
   "cell_type": "code",
   "execution_count": 61,
   "id": "03c78d8d",
   "metadata": {},
   "outputs": [
    {
     "data": {
      "text/plain": [
       "(50826, 3)"
      ]
     },
     "execution_count": 61,
     "metadata": {},
     "output_type": "execute_result"
    }
   ],
   "source": [
    "filler_L1.drop_duplicates(subset=['normalized_name_0','normalized_name_2']).shape"
   ]
  },
  {
   "cell_type": "code",
   "execution_count": 70,
   "id": "6e53e022",
   "metadata": {},
   "outputs": [],
   "source": [
    "test_filler = filler_L1.groupby(['normalized_name_0','normalized_name_2']).count().sort_values('normalized_name_1', ascending=False)"
   ]
  },
  {
   "cell_type": "code",
   "execution_count": 71,
   "id": "8b0b8455",
   "metadata": {},
   "outputs": [
    {
     "data": {
      "text/plain": [
       "(50826, 1)"
      ]
     },
     "execution_count": 71,
     "metadata": {},
     "output_type": "execute_result"
    }
   ],
   "source": [
    "test_filler.shape"
   ]
  },
  {
   "cell_type": "code",
   "execution_count": 80,
   "id": "ad477643",
   "metadata": {},
   "outputs": [],
   "source": [
    "one_or_two = test_filler[test_filler['normalized_name_1']<3] \\\n",
    ".reset_index()[['normalized_name_0','normalized_name_2']].copy()"
   ]
  },
  {
   "cell_type": "code",
   "execution_count": 84,
   "id": "43b5c6c7",
   "metadata": {},
   "outputs": [
    {
     "data": {
      "text/plain": [
       "(45511, 2)"
      ]
     },
     "execution_count": 84,
     "metadata": {},
     "output_type": "execute_result"
    }
   ],
   "source": [
    "one_or_two.shape"
   ]
  },
  {
   "cell_type": "code",
   "execution_count": 87,
   "id": "66e7e011",
   "metadata": {},
   "outputs": [
    {
     "data": {
      "text/plain": [
       "(32630, 3)"
      ]
     },
     "execution_count": 87,
     "metadata": {},
     "output_type": "execute_result"
    }
   ],
   "source": [
    "final_filler = filler_L1.drop_duplicates(subset=['normalized_name_0','normalized_name_2'], keep=False)\n",
    "final_filler.shape"
   ]
  },
  {
   "cell_type": "code",
   "execution_count": 88,
   "id": "e9539f85",
   "metadata": {},
   "outputs": [
    {
     "data": {
      "text/plain": [
       "(58392, 3)"
      ]
     },
     "execution_count": 88,
     "metadata": {},
     "output_type": "execute_result"
    }
   ],
   "source": [
    "one_two_filler = filler_L1.merge(one_or_two, how='inner', on=['normalized_name_0','normalized_name_2'])\n",
    "one_two_filler.shape"
   ]
  },
  {
   "cell_type": "code",
   "execution_count": 89,
   "id": "6a29f445",
   "metadata": {},
   "outputs": [],
   "source": [
    "final_filler.to_parquet(\"single_instance_filler.parquet\")"
   ]
  },
  {
   "cell_type": "code",
   "execution_count": 90,
   "id": "24f2088c",
   "metadata": {},
   "outputs": [],
   "source": [
    "one_two_filler.to_parquet(\"one_two_instance_filler.parquet\")"
   ]
  },
  {
   "cell_type": "code",
   "execution_count": null,
   "id": "8028ef07",
   "metadata": {},
   "outputs": [],
   "source": []
  }
 ],
 "metadata": {
  "kernelspec": {
   "display_name": "Python 3 (ipykernel)",
   "language": "python",
   "name": "python3"
  },
  "language_info": {
   "codemirror_mode": {
    "name": "ipython",
    "version": 3
   },
   "file_extension": ".py",
   "mimetype": "text/x-python",
   "name": "python",
   "nbconvert_exporter": "python",
   "pygments_lexer": "ipython3",
   "version": "3.8.11"
  }
 },
 "nbformat": 4,
 "nbformat_minor": 5
}
