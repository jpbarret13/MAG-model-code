{
  "nbformat": 4,
  "nbformat_minor": 0,
  "metadata": {
    "colab": {
      "name": "mag_model_iteration_1_analysis_colab.ipynb",
      "provenance": [],
      "collapsed_sections": [],
      "machine_shape": "hm"
    },
    "kernelspec": {
      "name": "python3",
      "display_name": "Python 3"
    },
    "language_info": {
      "name": "python"
    },
    "accelerator": "GPU"
  },
  "cells": [
    {
      "cell_type": "code",
      "metadata": {
        "id": "ZJD011yhyWjD"
      },
      "source": [
        "# %pip install tensorflow==2.4.1\n",
        "# %pip install transformers\n",
        "# %pip install pyarrow\n",
        "# %pip install tensorflow-addons"
      ],
      "execution_count": 2,
      "outputs": []
    },
    {
      "cell_type": "code",
      "metadata": {
        "id": "oV5qIlEokph9"
      },
      "source": [
        "%tensorflow_version 2.x\n",
        "import tensorflow as tf\n",
        "import pandas as pd\n",
        "import pickle\n",
        "import os\n",
        "import tensorflow_addons as tfa\n",
        "import math\n",
        "from math import ceil\n",
        "from tensorflow.keras.utils import plot_model\n",
        "from transformers import RobertaTokenizer, RobertaTokenizerFast, TFRobertaModel, TFAlbertModel\n",
        "\n",
        "AUTO = tf.data.experimental.AUTOTUNE"
      ],
      "execution_count": 3,
      "outputs": []
    },
    {
      "cell_type": "code",
      "metadata": {
        "id": "MabK6MOHKHO7"
      },
      "source": [
        "model_iteration = 'iteration_1'"
      ],
      "execution_count": 4,
      "outputs": []
    },
    {
      "cell_type": "code",
      "metadata": {
        "id": "kSQc5dXuMNnN"
      },
      "source": [
        "test_data = pd.read_parquet(f\"/content/drive/My Drive/Colab Notebooks/mag_model/test_data_{model_iteration}/data_with_predictions.parquet\")\n",
        "test_data['target_test'] = test_data['target_tok'].apply(lambda x: [i for i in x if i!=-1])\n",
        "test_data['target_test'] = test_data['target_test'].apply(len)\n",
        "test_data = test_data[test_data['target_test'] > 0].copy()"
      ],
      "execution_count": 5,
      "outputs": []
    },
    {
      "cell_type": "code",
      "metadata": {
        "id": "9I2c4qh5FZa-"
      },
      "source": [
        "with open(f\"/content/drive/My Drive/Colab Notebooks/mag_model/vocab_{model_iteration}/topics_vocab.pkl\", \"rb\") as f:\n",
        "    target_vocab = pickle.load(f)\n",
        "    \n",
        "target_vocab_inv = {j:i for i,j in target_vocab.items()}\n",
        "\n",
        "with open(f\"/content/drive/My Drive/Colab Notebooks/mag_model/vocab_{model_iteration}/doc_type_vocab.pkl\", \"rb\") as f:\n",
        "    doc_vocab = pickle.load(f)\n",
        "    \n",
        "doc_vocab_inv = {j:i for i,j in doc_vocab.items()}\n",
        "\n",
        "with open(f\"/content/drive/My Drive/Colab Notebooks/mag_model/vocab_{model_iteration}/journal_name_vocab.pkl\", \"rb\") as f:\n",
        "    journal_vocab = pickle.load(f)\n",
        "    \n",
        "journal_vocab_inv = {j:i for i,j in journal_vocab.items()}\n"
      ],
      "execution_count": 6,
      "outputs": []
    },
    {
      "cell_type": "code",
      "metadata": {
        "id": "8dvSQiNsFHr4"
      },
      "source": [
        "encoding_layer = tf.keras.layers.experimental.preprocessing.CategoryEncoding(\n",
        "    max_tokens=len(target_vocab)+1, output_mode=\"binary\", sparse=False)"
      ],
      "execution_count": 7,
      "outputs": []
    },
    {
      "cell_type": "code",
      "metadata": {
        "id": "nCDdF0RHMz_W"
      },
      "source": [
        "mag_model = tf.keras.models.load_model(f'/content/drive/My Drive/Colab Notebooks/mag_model/model_{model_iteration}/iteration_first_try_epoch_6')"
      ],
      "execution_count": 8,
      "outputs": []
    },
    {
      "cell_type": "code",
      "metadata": {
        "id": "JY9mDO7AMz9E"
      },
      "source": [
        "final_model = tf.keras.Model(inputs=mag_model.inputs, \n",
        "                             outputs=tf.math.top_k(mag_model.outputs, k=30))"
      ],
      "execution_count": 9,
      "outputs": []
    },
    {
      "cell_type": "code",
      "metadata": {
        "colab": {
          "base_uri": "https://localhost:8080/"
        },
        "id": "Dp3V59ySMz7I",
        "outputId": "e22334fd-5b0f-4074-d8db-44568737930b"
      },
      "source": [
        "final_model.summary()"
      ],
      "execution_count": 10,
      "outputs": [
        {
          "output_type": "stream",
          "name": "stdout",
          "text": [
            "Model: \"model\"\n",
            "__________________________________________________________________________________________________\n",
            "Layer (type)                    Output Shape         Param #     Connected to                     \n",
            "==================================================================================================\n",
            "paper_title_ids (InputLayer)    [(None, 512)]        0                                            \n",
            "__________________________________________________________________________________________________\n",
            "title_embedding (Embedding)     (None, 512, 512)     15360512    paper_title_ids[0][0]            \n",
            "__________________________________________________________________________________________________\n",
            "dense_1 (Dense)                 (None, 512, 1024)    525312      title_embedding[0][0]            \n",
            "__________________________________________________________________________________________________\n",
            "dropout_1 (Dropout)             (None, 512, 1024)    0           dense_1[0][0]                    \n",
            "__________________________________________________________________________________________________\n",
            "journal_id (InputLayer)         [(None, 1)]          0                                            \n",
            "__________________________________________________________________________________________________\n",
            "doc_type_id (InputLayer)        [(None, 1)]          0                                            \n",
            "__________________________________________________________________________________________________\n",
            "layer_norm_1 (LayerNormalizatio (None, 512, 1024)    2048        dropout_1[0][0]                  \n",
            "__________________________________________________________________________________________________\n",
            "journal_embedding (Embedding)   (None, 1, 128)       5755392     journal_id[0][0]                 \n",
            "__________________________________________________________________________________________________\n",
            "doc_type_embedding (Embedding)  (None, 1, 32)        320         doc_type_id[0][0]                \n",
            "__________________________________________________________________________________________________\n",
            "title_pooling_layer (GlobalAver (None, 1024)         0           layer_norm_1[0][0]               \n",
            "__________________________________________________________________________________________________\n",
            "journal_pooling_layer (GlobalAv (None, 128)          0           journal_embedding[0][0]          \n",
            "__________________________________________________________________________________________________\n",
            "doc_pooling_layer (GlobalAverag (None, 32)           0           doc_type_embedding[0][0]         \n",
            "__________________________________________________________________________________________________\n",
            "tf.concat_1 (TFOpLambda)        (None, 1184)         0           title_pooling_layer[0][0]        \n",
            "                                                                 journal_pooling_layer[0][0]      \n",
            "                                                                 doc_pooling_layer[0][0]          \n",
            "__________________________________________________________________________________________________\n",
            "dense_2 (Dense)                 (None, 1024)         1213440     tf.concat_1[0][0]                \n",
            "__________________________________________________________________________________________________\n",
            "dropout_2 (Dropout)             (None, 1024)         0           dense_2[0][0]                    \n",
            "__________________________________________________________________________________________________\n",
            "layer_norm_2 (LayerNormalizatio (None, 1024)         2048        dropout_2[0][0]                  \n",
            "__________________________________________________________________________________________________\n",
            "dense_3 (Dense)                 (None, 256)          262400      layer_norm_2[0][0]               \n",
            "__________________________________________________________________________________________________\n",
            "dropout_3 (Dropout)             (None, 256)          0           dense_3[0][0]                    \n",
            "__________________________________________________________________________________________________\n",
            "layer_norm_3 (LayerNormalizatio (None, 256)          512         dropout_3[0][0]                  \n",
            "__________________________________________________________________________________________________\n",
            "cls (Dense)                     (None, 388176)       99761232    layer_norm_3[0][0]               \n",
            "__________________________________________________________________________________________________\n",
            "paper_title_mask (InputLayer)   [(None, 512)]        0                                            \n",
            "__________________________________________________________________________________________________\n",
            "tf.math.top_k (TFOpLambda)      TopKV2(values=(1, No 0           cls[0][0]                        \n",
            "==================================================================================================\n",
            "Total params: 122,883,216\n",
            "Trainable params: 122,883,216\n",
            "Non-trainable params: 0\n",
            "__________________________________________________________________________________________________\n"
          ]
        }
      ]
    },
    {
      "cell_type": "code",
      "metadata": {
        "id": "ggAQSfYoW2Jv"
      },
      "source": [
        "def thresh_preds(preds, scores, threshold):\n",
        "  new_preds = [x for x,y in zip(preds, scores) if y >= threshold]\n",
        "  if len(new_preds) == 0:\n",
        "    new_preds = preds[:1]\n",
        "  return new_preds"
      ],
      "execution_count": 11,
      "outputs": []
    },
    {
      "cell_type": "code",
      "metadata": {
        "id": "4w4XxrEpWsts"
      },
      "source": [
        "thresh=35\n",
        "test_data[f'predictions_{str(thresh)}'] = test_data.apply(lambda x: thresh_preds(x.predictions, x.scores, thresh/100), axis=1)"
      ],
      "execution_count": 12,
      "outputs": []
    },
    {
      "cell_type": "code",
      "metadata": {
        "id": "pOC-EKH3ZTUa"
      },
      "source": [
        "test_raw = pd.read_parquet(f\"/content/drive/My Drive/Colab Notebooks/mag_model/test_data_{model_iteration}/test_extra_data.parquet\")"
      ],
      "execution_count": 13,
      "outputs": []
    },
    {
      "cell_type": "code",
      "metadata": {
        "colab": {
          "base_uri": "https://localhost:8080/"
        },
        "id": "q7ByAJ6QZktl",
        "outputId": "d34e5a65-f3be-45fd-9d43-b947f139b506"
      },
      "source": [
        "test_raw.info()"
      ],
      "execution_count": 13,
      "outputs": [
        {
          "output_type": "stream",
          "name": "stdout",
          "text": [
            "<class 'pandas.core.frame.DataFrame'>\n",
            "RangeIndex: 150630 entries, 0 to 150629\n",
            "Data columns (total 5 columns):\n",
            " #   Column       Non-Null Count   Dtype \n",
            "---  ------       --------------   ----- \n",
            " 0   paper_id     150630 non-null  int64 \n",
            " 1   paper_title  150630 non-null  object\n",
            " 2   year         150630 non-null  int32 \n",
            " 3   month        150630 non-null  int32 \n",
            " 4   topic_len    150630 non-null  int32 \n",
            "dtypes: int32(3), int64(1), object(1)\n",
            "memory usage: 4.0+ MB\n"
          ]
        }
      ]
    },
    {
      "cell_type": "code",
      "metadata": {
        "colab": {
          "base_uri": "https://localhost:8080/",
          "height": 80
        },
        "id": "r2vKmN3JZbpu",
        "outputId": "01178ce7-ba0c-4c4d-bb90-0e49912e2549"
      },
      "source": [
        "test_raw[test_raw['paper_id']==9881621]"
      ],
      "execution_count": 14,
      "outputs": [
        {
          "output_type": "execute_result",
          "data": {
            "text/html": [
              "<div>\n",
              "<style scoped>\n",
              "    .dataframe tbody tr th:only-of-type {\n",
              "        vertical-align: middle;\n",
              "    }\n",
              "\n",
              "    .dataframe tbody tr th {\n",
              "        vertical-align: top;\n",
              "    }\n",
              "\n",
              "    .dataframe thead th {\n",
              "        text-align: right;\n",
              "    }\n",
              "</style>\n",
              "<table border=\"1\" class=\"dataframe\">\n",
              "  <thead>\n",
              "    <tr style=\"text-align: right;\">\n",
              "      <th></th>\n",
              "      <th>paper_id</th>\n",
              "      <th>paper_title</th>\n",
              "      <th>year</th>\n",
              "      <th>month</th>\n",
              "      <th>topic_len</th>\n",
              "    </tr>\n",
              "  </thead>\n",
              "  <tbody>\n",
              "    <tr>\n",
              "      <th>18361</th>\n",
              "      <td>9881621</td>\n",
              "      <td>intersecting influences in american haiku</td>\n",
              "      <td>2001</td>\n",
              "      <td>1</td>\n",
              "      <td>3</td>\n",
              "    </tr>\n",
              "  </tbody>\n",
              "</table>\n",
              "</div>"
            ],
            "text/plain": [
              "       paper_id                                paper_title  ...  month  topic_len\n",
              "18361   9881621  intersecting influences in american haiku  ...      1          3\n",
              "\n",
              "[1 rows x 5 columns]"
            ]
          },
          "metadata": {},
          "execution_count": 14
        }
      ]
    },
    {
      "cell_type": "code",
      "metadata": {
        "colab": {
          "base_uri": "https://localhost:8080/",
          "height": 151
        },
        "id": "VZavtO0KWQFF",
        "outputId": "5d67e393-ed55-4c60-be46-1a3716219ab8"
      },
      "source": [
        "test_data[test_data['paper_id']==2966288531]"
      ],
      "execution_count": 21,
      "outputs": [
        {
          "output_type": "execute_result",
          "data": {
            "text/html": [
              "<div>\n",
              "<style scoped>\n",
              "    .dataframe tbody tr th:only-of-type {\n",
              "        vertical-align: middle;\n",
              "    }\n",
              "\n",
              "    .dataframe tbody tr th {\n",
              "        vertical-align: top;\n",
              "    }\n",
              "\n",
              "    .dataframe thead th {\n",
              "        text-align: right;\n",
              "    }\n",
              "</style>\n",
              "<table border=\"1\" class=\"dataframe\">\n",
              "  <thead>\n",
              "    <tr style=\"text-align: right;\">\n",
              "      <th></th>\n",
              "      <th>paper_id</th>\n",
              "      <th>publication_date</th>\n",
              "      <th>doc_type_tok</th>\n",
              "      <th>journal_tok</th>\n",
              "      <th>target_tok</th>\n",
              "      <th>paper_title_tok</th>\n",
              "      <th>paper_title_mask</th>\n",
              "      <th>predictions</th>\n",
              "      <th>scores</th>\n",
              "      <th>target_test</th>\n",
              "      <th>predictions_25</th>\n",
              "    </tr>\n",
              "  </thead>\n",
              "  <tbody>\n",
              "    <tr>\n",
              "      <th>6949</th>\n",
              "      <td>2966288531</td>\n",
              "      <td>2018-06-01</td>\n",
              "      <td>[2]</td>\n",
              "      <td>[2]</td>\n",
              "      <td>[849, 2734, 1667]</td>\n",
              "      <td>[2, 534, 172, 14257, 147, 363, 14, 3815, 16, 1...</td>\n",
              "      <td>[1, 1, 1, 1, 1, 1, 1, 1, 1, 1, 1, 1, 1, 1, 1, ...</td>\n",
              "      <td>[2734, 6, 849, 13144, 36369, 425, 1015, 3804, ...</td>\n",
              "      <td>[0.585706889629364, 0.5703823566436768, 0.5270...</td>\n",
              "      <td>3</td>\n",
              "      <td>[2734, 6, 849]</td>\n",
              "    </tr>\n",
              "  </tbody>\n",
              "</table>\n",
              "</div>"
            ],
            "text/plain": [
              "        paper_id publication_date  ... target_test  predictions_25\n",
              "6949  2966288531       2018-06-01  ...           3  [2734, 6, 849]\n",
              "\n",
              "[1 rows x 11 columns]"
            ]
          },
          "metadata": {},
          "execution_count": 21
        }
      ]
    },
    {
      "cell_type": "code",
      "metadata": {
        "id": "N33kC9y_WYDF"
      },
      "source": [
        "for_examples = test_data[['paper_id','target_tok','predictions',f'predictions_{thresh}']].merge(test_raw[['paper_id','paper_title']], \n",
        "                                                                                                how='left', on='paper_id').sample(25).reset_index(drop=True)"
      ],
      "execution_count": 17,
      "outputs": []
    },
    {
      "cell_type": "code",
      "metadata": {
        "colab": {
          "base_uri": "https://localhost:8080/",
          "height": 1000
        },
        "id": "efYo4NZNXU-9",
        "outputId": "02a3eb57-ef9b-4465-8232-424fad1abb99"
      },
      "source": [
        "for_examples"
      ],
      "execution_count": 26,
      "outputs": [
        {
          "output_type": "execute_result",
          "data": {
            "text/html": [
              "<div>\n",
              "<style scoped>\n",
              "    .dataframe tbody tr th:only-of-type {\n",
              "        vertical-align: middle;\n",
              "    }\n",
              "\n",
              "    .dataframe tbody tr th {\n",
              "        vertical-align: top;\n",
              "    }\n",
              "\n",
              "    .dataframe thead th {\n",
              "        text-align: right;\n",
              "    }\n",
              "</style>\n",
              "<table border=\"1\" class=\"dataframe\">\n",
              "  <thead>\n",
              "    <tr style=\"text-align: right;\">\n",
              "      <th></th>\n",
              "      <th>paper_id</th>\n",
              "      <th>target_tok</th>\n",
              "      <th>predictions</th>\n",
              "      <th>predictions_25</th>\n",
              "      <th>paper_title</th>\n",
              "    </tr>\n",
              "  </thead>\n",
              "  <tbody>\n",
              "    <tr>\n",
              "      <th>0</th>\n",
              "      <td>2375751698</td>\n",
              "      <td>[20, 2922, 2325, 2, 2468, 66289, 402]</td>\n",
              "      <td>[2, 20, 5463, 576, 10, 95, 3321, 4443, 12862, ...</td>\n",
              "      <td>[2, 20, 5463, 576, 10, 95, 3321, 4443]</td>\n",
              "      <td>diagnosis and treatment of 76 cases with pulmo...</td>\n",
              "    </tr>\n",
              "    <tr>\n",
              "      <th>1</th>\n",
              "      <td>3093817657</td>\n",
              "      <td>[1171, 83, 150, 4, 1248, 2475, 1688, 9411, 494...</td>\n",
              "      <td>[4, 150, 1033, 63, 83, 1822, 190, 1108, 1477, ...</td>\n",
              "      <td>[4, 150, 1033, 63, 83, 1822, 190, 1108, 1477, ...</td>\n",
              "      <td>efficient activation of peroxymonosulfate on c...</td>\n",
              "    </tr>\n",
              "    <tr>\n",
              "      <th>2</th>\n",
              "      <td>1979042108</td>\n",
              "      <td>[68, 183567, 7024, 1132, 154, 2505, 3555, 2582...</td>\n",
              "      <td>[13, 4840, 8955, 136, 2871, 864, 3, 254, 52, 3...</td>\n",
              "      <td>[13, 4840, 8955, 136, 2871, 864, 3]</td>\n",
              "      <td>a problem in the theory of numerical estimation</td>\n",
              "    </tr>\n",
              "    <tr>\n",
              "      <th>3</th>\n",
              "      <td>3145918133</td>\n",
              "      <td>[110139]</td>\n",
              "      <td>[110139, 97511, 23, 68588, 3, 462, 2, 1314, 23...</td>\n",
              "      <td>[110139, 97511, 23, 68588, 3, 462, 2, 1314, 2305]</td>\n",
              "      <td>automatic applanation tonometer</td>\n",
              "    </tr>\n",
              "    <tr>\n",
              "      <th>4</th>\n",
              "      <td>3112076344</td>\n",
              "      <td>[73, 21, 84]</td>\n",
              "      <td>[52, 24, 330, 21, 39, 84, 32, 2270, 172, 336, ...</td>\n",
              "      <td>[52, 24, 330, 21, 39, 84]</td>\n",
              "      <td>the life and work of ernesto de martino italia...</td>\n",
              "    </tr>\n",
              "    <tr>\n",
              "      <th>5</th>\n",
              "      <td>3134760140</td>\n",
              "      <td>[880, 84949, 66, 14, 1424, 6868, 3818, 23418, ...</td>\n",
              "      <td>[51, 14, 23418, 880, 1558, 20066, 8122, 22854,...</td>\n",
              "      <td>[51, 14, 23418, 880, 1558, 20066, 8122, 22854,...</td>\n",
              "      <td>obligations erga omnes and the question of sta...</td>\n",
              "    </tr>\n",
              "    <tr>\n",
              "      <th>6</th>\n",
              "      <td>2858971720</td>\n",
              "      <td>[43, 22, 8805, 441, 81, 3, 175, 30267, 101]</td>\n",
              "      <td>[3, 22, 101, 38, 81, 177, 43, 75, 47, 26, 230,...</td>\n",
              "      <td>[3, 22, 101, 38, 81, 177, 43]</td>\n",
              "      <td>charging system with detection function</td>\n",
              "    </tr>\n",
              "    <tr>\n",
              "      <th>7</th>\n",
              "      <td>3151379152</td>\n",
              "      <td>[946, 1056, 775, 1084, 1917, 22672, 1154, 14, ...</td>\n",
              "      <td>[22672, 535, 251, 14, 29, 733, 4685, 16, 1917,...</td>\n",
              "      <td>[22672, 535, 251, 14, 29, 733, 4685, 16, 1917,...</td>\n",
              "      <td>influence of policy discourse networks on loca...</td>\n",
              "    </tr>\n",
              "    <tr>\n",
              "      <th>8</th>\n",
              "      <td>2906970193</td>\n",
              "      <td>[11, 1026, 276, 508, 7132, 41089, 2946, 10320,...</td>\n",
              "      <td>[603, 11, 2946, 1074, 431, 14, 51, 1895, 356, ...</td>\n",
              "      <td>[603, 11, 2946, 1074, 431, 14, 51]</td>\n",
              "      <td>methods of developing stress resistance of law...</td>\n",
              "    </tr>\n",
              "    <tr>\n",
              "      <th>9</th>\n",
              "      <td>2391137018</td>\n",
              "      <td>[3, 1178, 2315, 542, 613, 28915, 17396, 221399...</td>\n",
              "      <td>[2315, 3, 28915, 19871, 613, 32288, 43033, 264...</td>\n",
              "      <td>[2315, 3, 28915, 19871, 613, 32288, 43033, 264...</td>\n",
              "      <td>the theory and implement method of java rmi</td>\n",
              "    </tr>\n",
              "    <tr>\n",
              "      <th>10</th>\n",
              "      <td>3138641507</td>\n",
              "      <td>[65954, 2815, 567, 5529, 120, 928, 8025, 511, ...</td>\n",
              "      <td>[1, 1268, 91, 4644, 7, 4257, 5529, 453, 137, 6...</td>\n",
              "      <td>[1, 1268, 91, 4644, 7]</td>\n",
              "      <td>symmetry breaking in double gyroid block copol...</td>\n",
              "    </tr>\n",
              "    <tr>\n",
              "      <th>11</th>\n",
              "      <td>3123595001</td>\n",
              "      <td>[57, 21230, 1970, 12433, 19, 6407, 1167, 2887,...</td>\n",
              "      <td>[57, 1167, 19, 1970, 3289, 5, 12749, 9953, 111...</td>\n",
              "      <td>[57, 1167, 19, 1970, 3289, 5, 12749, 9953, 111...</td>\n",
              "      <td>biodiversity and integration of ecological cha...</td>\n",
              "    </tr>\n",
              "    <tr>\n",
              "      <th>12</th>\n",
              "      <td>3157400893</td>\n",
              "      <td>[4703, 140, 2775, 401, 1535, 234, 1579, 11, 40...</td>\n",
              "      <td>[11, 140, 24571, 169, 572, 5553, 40438, 401, 3...</td>\n",
              "      <td>[11, 140, 24571, 169, 572, 5553, 40438, 401, 3...</td>\n",
              "      <td>efficacy of the social emotional learning foun...</td>\n",
              "    </tr>\n",
              "    <tr>\n",
              "      <th>13</th>\n",
              "      <td>2943615042</td>\n",
              "      <td>[7807, 7798, 129, 2]</td>\n",
              "      <td>[6, 3, 16, 119, 264, 179, 131, 537, 1015, 139,...</td>\n",
              "      <td>[6, 3]</td>\n",
              "      <td>in as tailored tapering not only works it s le...</td>\n",
              "    </tr>\n",
              "    <tr>\n",
              "      <th>14</th>\n",
              "      <td>2438623055</td>\n",
              "      <td>[20, 2, 465, 1601, 2999, 6621, 11528, 4028, 15...</td>\n",
              "      <td>[2, 20, 15147, 465, 4028, 12267, 6621, 1601, 6...</td>\n",
              "      <td>[2, 20, 15147, 465, 4028, 12267, 6621, 1601, 6...</td>\n",
              "      <td>repairing chronic osteomyelitis complicated by...</td>\n",
              "    </tr>\n",
              "    <tr>\n",
              "      <th>15</th>\n",
              "      <td>3112292673</td>\n",
              "      <td>[166, 853, 3204, 19159, 539, 3, 48986]</td>\n",
              "      <td>[3, 166, 68, 1310, 231, 13, 376, 76, 14634, 37...</td>\n",
              "      <td>[3, 166, 68, 1310, 231, 13, 376, 76, 14634, 37...</td>\n",
              "      <td>a biased random key genetic algorithm for the ...</td>\n",
              "    </tr>\n",
              "    <tr>\n",
              "      <th>16</th>\n",
              "      <td>2966288531</td>\n",
              "      <td>[849, 2734, 1667]</td>\n",
              "      <td>[2734, 6, 849, 13144, 36369, 425, 1015, 3804, ...</td>\n",
              "      <td>[2734, 6, 849]</td>\n",
              "      <td>mi 2 helicopters used within the structures of...</td>\n",
              "    </tr>\n",
              "    <tr>\n",
              "      <th>17</th>\n",
              "      <td>3149832235</td>\n",
              "      <td>[54480, 7693, 47239, 302, 1755, 165, 14, 34, 3...</td>\n",
              "      <td>[19, 165, 57, 5, 4281, 309, 536, 1167, 34, 816...</td>\n",
              "      <td>[19, 165, 57, 5, 4281, 309, 536, 1167, 34, 816...</td>\n",
              "      <td>a multistakeholder exercise to identify resear...</td>\n",
              "    </tr>\n",
              "    <tr>\n",
              "      <th>18</th>\n",
              "      <td>3033586220</td>\n",
              "      <td>[212, 42326, 946, 2137, 12124, 1496, 3, 166, 1...</td>\n",
              "      <td>[3, 6045, 311, 3674, 4965, 3698, 45, 166, 750,...</td>\n",
              "      <td>[3, 6045, 311, 3674, 4965, 3698, 45, 166, 750,...</td>\n",
              "      <td>resilient distribution networks considering mo...</td>\n",
              "    </tr>\n",
              "    <tr>\n",
              "      <th>19</th>\n",
              "      <td>2868173470</td>\n",
              "      <td>[932, 35, 211, 1210, 37, 7, 98, 15316]</td>\n",
              "      <td>[1, 211, 7, 26, 8, 37, 98, 125, 31, 735, 259, ...</td>\n",
              "      <td>[1, 211, 7, 26, 8, 37]</td>\n",
              "      <td>three dimensional oscillating mixer</td>\n",
              "    </tr>\n",
              "    <tr>\n",
              "      <th>20</th>\n",
              "      <td>1479760928</td>\n",
              "      <td>[2, 380]</td>\n",
              "      <td>[16, 2, 380, 292, 451, 108, 1165, 10152, 1696,...</td>\n",
              "      <td>[16, 2, 380, 292]</td>\n",
              "      <td>new rules require financial disclosure</td>\n",
              "    </tr>\n",
              "    <tr>\n",
              "      <th>21</th>\n",
              "      <td>2511512447</td>\n",
              "      <td>[12412, 330, 24, 365]</td>\n",
              "      <td>[52, 172, 330, 12412, 11339, 24, 32, 209, 7291...</td>\n",
              "      <td>[52, 172, 330, 12412, 11339, 24, 32, 209, 7291...</td>\n",
              "      <td>orthodoxies in massachusetts rereading america...</td>\n",
              "    </tr>\n",
              "    <tr>\n",
              "      <th>22</th>\n",
              "      <td>3124057780</td>\n",
              "      <td>[267, 3009, 1125, 1, 1327, 2577, 18768, 1284, ...</td>\n",
              "      <td>[1, 3009, 137, 369, 1284, 18768, 30, 3102, 802...</td>\n",
              "      <td>[1, 3009, 137, 369, 1284, 18768, 30, 3102, 802...</td>\n",
              "      <td>phase evolution and mechanical properties of n...</td>\n",
              "    </tr>\n",
              "    <tr>\n",
              "      <th>23</th>\n",
              "      <td>2369667639</td>\n",
              "      <td>[49, 2385, 2709, 22685, 318, 865, 5, 51833, 30...</td>\n",
              "      <td>[22685, 5, 26115, 99, 865, 49, 16342, 382, 265...</td>\n",
              "      <td>[22685, 5, 26115, 99, 865, 49, 16342, 382, 265...</td>\n",
              "      <td>immunological response to recombinant eg myoph...</td>\n",
              "    </tr>\n",
              "    <tr>\n",
              "      <th>24</th>\n",
              "      <td>3154685832</td>\n",
              "      <td>[14139, 8497, 12, 839, 3555, 38571, 6689, 487]</td>\n",
              "      <td>[12, 487, 14139, 839, 1780, 353, 3563, 7289, 1...</td>\n",
              "      <td>[12, 487, 14139, 839, 1780, 353, 3563, 7289, 1...</td>\n",
              "      <td>sequence stratigraphy and organic geochemistry...</td>\n",
              "    </tr>\n",
              "  </tbody>\n",
              "</table>\n",
              "</div>"
            ],
            "text/plain": [
              "      paper_id  ...                                        paper_title\n",
              "0   2375751698  ...  diagnosis and treatment of 76 cases with pulmo...\n",
              "1   3093817657  ...  efficient activation of peroxymonosulfate on c...\n",
              "2   1979042108  ...    a problem in the theory of numerical estimation\n",
              "3   3145918133  ...                    automatic applanation tonometer\n",
              "4   3112076344  ...  the life and work of ernesto de martino italia...\n",
              "5   3134760140  ...  obligations erga omnes and the question of sta...\n",
              "6   2858971720  ...            charging system with detection function\n",
              "7   3151379152  ...  influence of policy discourse networks on loca...\n",
              "8   2906970193  ...  methods of developing stress resistance of law...\n",
              "9   2391137018  ...        the theory and implement method of java rmi\n",
              "10  3138641507  ...  symmetry breaking in double gyroid block copol...\n",
              "11  3123595001  ...  biodiversity and integration of ecological cha...\n",
              "12  3157400893  ...  efficacy of the social emotional learning foun...\n",
              "13  2943615042  ...  in as tailored tapering not only works it s le...\n",
              "14  2438623055  ...  repairing chronic osteomyelitis complicated by...\n",
              "15  3112292673  ...  a biased random key genetic algorithm for the ...\n",
              "16  2966288531  ...  mi 2 helicopters used within the structures of...\n",
              "17  3149832235  ...  a multistakeholder exercise to identify resear...\n",
              "18  3033586220  ...  resilient distribution networks considering mo...\n",
              "19  2868173470  ...                three dimensional oscillating mixer\n",
              "20  1479760928  ...             new rules require financial disclosure\n",
              "21  2511512447  ...  orthodoxies in massachusetts rereading america...\n",
              "22  3124057780  ...  phase evolution and mechanical properties of n...\n",
              "23  2369667639  ...  immunological response to recombinant eg myoph...\n",
              "24  3154685832  ...  sequence stratigraphy and organic geochemistry...\n",
              "\n",
              "[25 rows x 5 columns]"
            ]
          },
          "metadata": {},
          "execution_count": 26
        }
      ]
    },
    {
      "cell_type": "code",
      "metadata": {
        "colab": {
          "base_uri": "https://localhost:8080/"
        },
        "id": "zLBrT7L9SDtb",
        "outputId": "cdc30878-e489-4fe2-8baa-35563a4848a8"
      },
      "source": [
        "for i in range(25):\n",
        "  print(for_examples.iloc[i,0])\n",
        "  print(for_examples.iloc[i,-1])\n",
        "  print(f\"Tags: {[target_vocab_inv.get(x) for x in for_examples.iloc[i,1]]}\")\n",
        "  print(f\"Predictions: {[target_vocab_inv.get(x) for x in for_examples.iloc[i,3]]}\")\n",
        "  print(\"----------------------------------------------------------------------\")\n",
        "  print(\"\\n\")"
      ],
      "execution_count": 20,
      "outputs": [
        {
          "output_type": "stream",
          "name": "stdout",
          "text": [
            "2375751698\n",
            "diagnosis and treatment of 76 cases with pulmonary contusion\n",
            "Tags: ['surgery', 'mechanical ventilation', 'therapeutic effect', 'medicine', 'airway', 'pulmonary contusion', 'retrospective cohort study']\n",
            "Predictions: ['medicine', 'surgery', 'pulmonary tuberculosis', 'lung', 'internal medicine', 'radiology', 'pulmonary function testing', 'clinical pathology']\n",
            "----------------------------------------------------------------------\n",
            "\n",
            "\n",
            "3093817657\n",
            "efficient activation of peroxymonosulfate on cobalt hydroxychloride nanoplates through hydrogen bond for degradation of tetrabromobisphenol a\n",
            "Tags: ['cobalt', 'catalysis', 'nuclear chemistry', 'chemistry', 'reactivity', 'electron transfer', 'reaction rate constant', 'singlet oxygen', 'tetrabromobisphenol a', 'hydrogen bond']\n",
            "Predictions: ['chemistry', 'nuclear chemistry', 'degradation', 'inorganic chemistry', 'catalysis', 'phenol', 'aqueous solution', 'decomposition', 'hydrogen peroxide', 'persulfate', 'chemical engineering', 'cobalt', 'kinetics', 'adsorption']\n",
            "----------------------------------------------------------------------\n",
            "\n",
            "\n",
            "1979042108\n",
            "a problem in the theory of numerical estimation\n",
            "Tags: ['algorithm', 'numerical sign problem', 'numerical stability', 'tree', 'range', 'magnitude', 'margin', 'correctness', 'computer science', 'variation']\n",
            "Predictions: ['mathematics', 'philosophy of science', 'philosophy of language', 'epistemology', 'metaphysics', 'calculus', 'computer science']\n",
            "----------------------------------------------------------------------\n",
            "\n",
            "\n",
            "3145918133\n",
            "automatic applanation tonometer\n",
            "Tags: ['applanation tonometer']\n",
            "Predictions: ['applanation tonometer', 'goldmann applanation tonometer', 'optics', 'applanation tonometry', 'computer science', 'ophthalmology', 'medicine', 'optometry', 'glaucoma']\n",
            "----------------------------------------------------------------------\n",
            "\n",
            "\n",
            "3112076344\n",
            "the life and work of ernesto de martino italian perspectives on apocalypse and rebirth in the modern study of religion\n",
            "Tags: ['work', 'sociology', 'art history']\n",
            "Predictions: ['philosophy', 'art', 'religious studies', 'sociology', 'humanities', 'art history']\n",
            "----------------------------------------------------------------------\n",
            "\n",
            "\n",
            "3134760140\n",
            "obligations erga omnes and the question of standing before the international court of justice\n",
            "Tags: ['justice', 'genocide convention', 'state', 'political science', 'commission', 'international community', 'obligation', 'international court', 'law', 'international law']\n",
            "Predictions: ['law', 'political science', 'international court', 'justice', 'international law', 'court of record', 'tribunal', 'court of equity', 'original jurisdiction', 'human rights', 'international justice', 'supreme court', 'jurisdiction', 'criminal court', 'public international law', 'majority opinion', 'remand', 'european union law', 'jurisprudence', 'transitional justice']\n",
            "----------------------------------------------------------------------\n",
            "\n",
            "\n",
            "2858971720\n",
            "charging system with detection function\n",
            "Tags: ['power', 'electrical engineering', 'cut off', 'display device', 'voltage', 'computer science', 'current', 'current voltage', 'function']\n",
            "Predictions: ['computer science', 'electrical engineering', 'function', 'signal', 'voltage', 'battery', 'power']\n",
            "----------------------------------------------------------------------\n",
            "\n",
            "\n",
            "3151379152\n",
            "influence of policy discourse networks on local energy transitions\n",
            "Tags: ['renewable energy', 'efficient energy use', 'german', 'economic geography', 'transition', 'energy transition', 'variation', 'political science', 'energy', 'meaning']\n",
            "Predictions: ['energy transition', 'economic system', 'energy', 'political science', 'economics', 'environmental economics', 'energy policy', 'business', 'transition', 'sociology', 'political economy', 'process']\n",
            "----------------------------------------------------------------------\n",
            "\n",
            "\n",
            "2906970193\n",
            "methods of developing stress resistance of law enforcement officers at the stage of professional training\n",
            "Tags: ['psychology', 'professional development', 'higher education', 'applied psychology', 'personal development', 'cadet', 'law enforcement', 'stress management', 'prosocial behavior', 'training system']\n",
            "Predictions: ['training', 'psychology', 'law enforcement', 'resistance', 'criminology', 'political science', 'law']\n",
            "----------------------------------------------------------------------\n",
            "\n",
            "\n",
            "2391137018\n",
            "the theory and implement method of java rmi\n",
            "Tags: ['computer science', 'homogeneous', 'java', 'architecture', 'programming language', 'strictfp', 'java applet', 'distributed object computing', 'real time java', 'java annotation']\n",
            "Predictions: ['java', 'computer science', 'strictfp', 'real time java', 'programming language', 'java concurrency', 'generics in java', 'java annotation', 'java applet', 'java api for xml based rpc', 'scala', 'java modeling language', 'simple', 'mathematics', 'embedded java', 'javascript', 'structure', 'software engineering', 'operating system']\n",
            "----------------------------------------------------------------------\n",
            "\n",
            "\n",
            "3138641507\n",
            "symmetry breaking in double gyroid block copolymer films by non affine distortion\n",
            "Tags: ['gyroid', 'photonic crystal', 'chemical physics', 'symmetry breaking', 'polymer', 'lattice', 'triclinic crystal system', 'crystal', 'materials science', 'copolymer']\n",
            "Predictions: ['materials science', 'symmetry', 'condensed matter physics', 'homogeneous space', 'physics']\n",
            "----------------------------------------------------------------------\n",
            "\n",
            "\n",
            "3123595001\n",
            "biodiversity and integration of ecological characteristics of species in spatial pattern analysis\n",
            "Tags: ['ecology', 'vegetation type', 'species richness', 'common spatial pattern', 'geography', 'shrub', 'biodiversity', 'spatial distribution', 'quadrat', 'vegetation']\n",
            "Predictions: ['ecology', 'biodiversity', 'geography', 'species richness', 'species diversity', 'biology', 'landscape ecology', 'diversity index', 'spatial heterogeneity', 'habitat', 'alpha diversity', 'beta diversity', 'species evenness', 'abundance', 'spatial ecology', 'ecosystem', 'community structure', 'ecosystem diversity', 'spatial variability', 'global biodiversity']\n",
            "----------------------------------------------------------------------\n",
            "\n",
            "\n",
            "3157400893\n",
            "efficacy of the social emotional learning foundations curriculum for kindergarten and first grade students at risk for emotional and behavioral disorders\n",
            "Tags: ['multilevel model', 'developmental psychology', 'self', 'intervention', 'literacy', 'test', 'vocabulary', 'psychology', 'emotional and behavioral disorders', 'curriculum']\n",
            "Predictions: ['psychology', 'developmental psychology', 'social emotional learning', 'clinical psychology', 'anxiety', 'emotional intelligence', 'emotional and behavioral disorders', 'intervention', 'curriculum', 'social skills', 'special education', 'behavior management', 'cognition']\n",
            "----------------------------------------------------------------------\n",
            "\n",
            "\n",
            "2943615042\n",
            "in as tailored tapering not only works it s less costly\n",
            "Tags: ['tapering', 'ankylosing spondylitis', 'physical therapy', 'medicine']\n",
            "Predictions: ['engineering', 'computer science']\n",
            "----------------------------------------------------------------------\n",
            "\n",
            "\n",
            "2438623055\n",
            "repairing chronic osteomyelitis complicated by long bone defect in tibia with free segmented fibula transplantation\n",
            "Tags: ['surgery', 'medicine', 'transplantation', 'soft tissue', 'fistula', 'osteomyelitis', 'nonunion', 'tibia', 'fibula', 'long bone']\n",
            "Predictions: ['medicine', 'surgery', 'fibula', 'transplantation', 'tibia', 'bone grafting', 'osteomyelitis', 'soft tissue', 'ilizarov technique', 'bone defect', 'fixation', 'iliac crest', 'autogenous bone', 'chronic osteomyelitis', 'debridement', 'orthopedic surgery']\n",
            "----------------------------------------------------------------------\n",
            "\n",
            "\n",
            "3112292673\n",
            "a biased random key genetic algorithm for the set orienteering problem\n",
            "Tags: ['mathematical optimization', 'cluster', 'speedup', 'hash table', 'computation', 'computer science', 'orienteering']\n",
            "Predictions: ['computer science', 'mathematical optimization', 'algorithm', 'genetic algorithm', 'key', 'mathematics', 'selection', 'set', 'population based incremental learning', 'evolutionary algorithm', 'meta optimization']\n",
            "----------------------------------------------------------------------\n",
            "\n",
            "\n",
            "2966288531\n",
            "mi 2 helicopters used within the structures of the aviation detachment of the ministry of interior\n",
            "Tags: ['aeronautics', 'aviation', 'christian ministry']\n",
            "Predictions: ['aviation', 'engineering', 'aeronautics']\n",
            "----------------------------------------------------------------------\n",
            "\n",
            "\n",
            "3149832235\n",
            "a multistakeholder exercise to identify research and conservation priorities for asian elephants in china\n",
            "Tags: ['elephas', 'research questions', 'financial compensation', 'environmental planning', 'ranking', 'china', 'political science', 'population', 'national park', 'diversity']\n",
            "Predictions: ['geography', 'china', 'ecology', 'biology', 'threatened species', 'environmental resource management', 'socioeconomics', 'biodiversity', 'population', 'habitat', 'livelihood', 'wildlife', 'agroforestry', 'wildlife conservation', 'poaching']\n",
            "----------------------------------------------------------------------\n",
            "\n",
            "\n",
            "3033586220\n",
            "resilient distribution networks considering mobile marine microgrids a synergistic network approach\n",
            "Tags: ['nonlinear system', 'unscented transform', 'renewable energy', 'heuristic', 'power system simulation', 'constraint', 'computer science', 'mathematical optimization', 'wind power', 'dispatchable generation']\n",
            "Predictions: ['computer science', 'microgrid', 'distributed computing', 'distributed generation', 'distribution networks', 'smart grid', 'computer network', 'mathematical optimization', 'grid', 'engineering', 'scalability', 'renewable energy', 'network topology']\n",
            "----------------------------------------------------------------------\n",
            "\n",
            "\n",
            "2868173470\n",
            "three dimensional oscillating mixer\n",
            "Tags: ['chassis', 'mechanism', 'mixing', 'oscillation', 'mechanics', 'physics', 'cylinder', 'mixing tank']\n",
            "Predictions: ['materials science', 'mixing', 'physics', 'acoustics', 'mechanical engineering', 'mechanics']\n",
            "----------------------------------------------------------------------\n",
            "\n",
            "\n",
            "1479760928\n",
            "new rules require financial disclosure\n",
            "Tags: ['medicine', 'accounting']\n",
            "Predictions: ['business', 'medicine', 'accounting', 'finance']\n",
            "----------------------------------------------------------------------\n",
            "\n",
            "\n",
            "2511512447\n",
            "orthodoxies in massachusetts rereading american puritanism janice knight\n",
            "Tags: ['knight', 'religious studies', 'art', 'environmental ethics']\n",
            "Predictions: ['philosophy', 'theology', 'religious studies', 'knight', 'orthodoxy', 'art', 'history', 'classics', 'revelation', 'literature', 'protestantism']\n",
            "----------------------------------------------------------------------\n",
            "\n",
            "\n",
            "3124057780\n",
            "phase evolution and mechanical properties of novel nanocrystalline y2 tizrhfmov 2o7 high entropy pyrochlore\n",
            "Tags: ['oxide', 'nanocrystalline material', 'x ray photoelectron spectroscopy', 'materials science', 'grain size', 'supercritical fluid', 'pyrochlore', 'crystallite', 'chemical engineering', 'spark plasma sintering']\n",
            "Predictions: ['materials science', 'nanocrystalline material', 'phase', 'microstructure', 'crystallite', 'pyrochlore', 'chemical engineering', 'nanocrystal', 'crystallization', 'phase transition', 'high entropy alloys', 'transmission electron microscopy', 'analytical chemistry', 'amorphous solid', 'metallurgy']\n",
            "----------------------------------------------------------------------\n",
            "\n",
            "\n",
            "2369667639\n",
            "immunological response to recombinant eg myophilin to protect against echinococcus granulosus in mice\n",
            "Tags: ['immunology', 'immunization', 'adjuvant', 'echinococcus granulosus', 'immune system', 'recombinant dna', 'biology', 'icr mice', 'immunoglobulin e', 'immunity']\n",
            "Predictions: ['echinococcus granulosus', 'biology', 'schistosoma japonicum', 'microbiology', 'recombinant dna', 'immunology', 'mycobacterium bovis', 'antigen', 'antibody', 'virology', 'immune system', 'immunization', 'molecular biology', 'spleen', 'immunity', 'immunogenicity', 'dna vaccination']\n",
            "----------------------------------------------------------------------\n",
            "\n",
            "\n",
            "3154685832\n",
            "sequence stratigraphy and organic geochemistry an integrated approach to understand the anoxic events and paleoenvironmental evolution of the ceara basin brazilian equatorial margin\n",
            "Tags: ['sequence stratigraphy', 'integrated approach', 'geology', 'structural basin', 'margin', 'organic geochemistry', 'anoxic waters', 'paleontology']\n",
            "Predictions: ['geology', 'paleontology', 'sequence stratigraphy', 'structural basin', 'sedimentary rock', 'geochemistry', 'sedimentary depositional environment', 'cenozoic', 'marine transgression', 'organic geochemistry', 'facies', 'paleogene', 'stratigraphy', 'cretaceous', 'terrigenous sediment', 'carbonate platform', 'foraminifera', 'tectonics', 'geomorphology', 'neogene']\n",
            "----------------------------------------------------------------------\n",
            "\n",
            "\n"
          ]
        }
      ]
    },
    {
      "cell_type": "code",
      "metadata": {
        "id": "mba6dV0IMz4h"
      },
      "source": [
        "def get_metrics(data, target_col, predict_col):\n",
        "\n",
        "    targets = data[target_col].to_list()\n",
        "    predictions = data[predict_col].to_list()\n",
        "    \n",
        "    recall_score = tf.keras.metrics.Recall()\n",
        "    precision_score = tf.keras.metrics.Precision()\n",
        "    accuracy = tf.keras.metrics.CategoricalAccuracy()\n",
        "\n",
        "    for i,j in zip(targets, predictions):\n",
        "      recall_score.update_state(encoding_layer([i]),encoding_layer([j]))\n",
        "      precision_score.update_state(encoding_layer([i]),encoding_layer([j]))\n",
        "      accuracy.update_state(encoding_layer([i]),encoding_layer([j]))\n",
        "    \n",
        "    print(f\"Recall: {round(recall_score.result().numpy()*100, 1)}%\")\n",
        "    print(f\"Precision: {round(precision_score.result().numpy()*100, 1)}%\")\n",
        "    print(f\"Accuracy: {round(accuracy.result().numpy()*100, 1)}%\")"
      ],
      "execution_count": 14,
      "outputs": []
    },
    {
      "cell_type": "code",
      "metadata": {
        "colab": {
          "base_uri": "https://localhost:8080/"
        },
        "id": "tgVJk-dcMz14",
        "outputId": "4bb04757-5fc9-4705-a5bb-48a319662bf9"
      },
      "source": [
        "get_metrics(test_data.sample(10000), 'target_tok', f'predictions_25')"
      ],
      "execution_count": 51,
      "outputs": [
        {
          "output_type": "stream",
          "name": "stdout",
          "text": [
            "Recall: 44.1%\n",
            "Precision: 32.9%\n",
            "Accuracy: 65.1%\n"
          ]
        }
      ]
    },
    {
      "cell_type": "code",
      "metadata": {
        "colab": {
          "base_uri": "https://localhost:8080/"
        },
        "id": "W3yFKXFtwj7G",
        "outputId": "7cfa2068-a86d-41af-b0ac-35fea5dd5df9"
      },
      "source": [
        "get_metrics(test_data.sample(10000), 'target_tok', 'predictions_35')"
      ],
      "execution_count": 52,
      "outputs": [
        {
          "output_type": "stream",
          "name": "stdout",
          "text": [
            "Recall: 31.0%\n",
            "Precision: 53.8%\n",
            "Accuracy: 67.1%\n"
          ]
        }
      ]
    },
    {
      "cell_type": "code",
      "metadata": {
        "colab": {
          "base_uri": "https://localhost:8080/"
        },
        "id": "UKBW3ZeIMzws",
        "outputId": "b6ef0b14-04d5-431f-8250-825bd9ede6a6"
      },
      "source": [
        "get_metrics(test_data.sample(10000), 'target_tok', 'predictions_50')"
      ],
      "execution_count": 53,
      "outputs": [
        {
          "output_type": "stream",
          "name": "stdout",
          "text": [
            "Recall: 16.4%\n",
            "Precision: 74.6%\n",
            "Accuracy: 53.6%\n"
          ]
        }
      ]
    },
    {
      "cell_type": "code",
      "metadata": {
        "colab": {
          "base_uri": "https://localhost:8080/"
        },
        "id": "ac_47HkDVZe2",
        "outputId": "8437bc2c-de25-4fc6-f129-da4e78702bba"
      },
      "source": [
        "get_metrics(test_data.sample(10000), 'target_tok', f'predictions_{thresh}')"
      ],
      "execution_count": 28,
      "outputs": [
        {
          "output_type": "stream",
          "name": "stdout",
          "text": [
            "Recall: 46.2%\n",
            "Precision: 36.4%\n",
            "Accuracy: 64.0%\n"
          ]
        }
      ]
    },
    {
      "cell_type": "markdown",
      "metadata": {
        "id": "OY3Iwe3CJlxE"
      },
      "source": [
        "### Levels"
      ]
    },
    {
      "cell_type": "code",
      "metadata": {
        "id": "B0XHvpTbwshv"
      },
      "source": [
        "levels_df = pd.read_parquet(f\"/content/drive/My Drive/Colab Notebooks/mag_model/test_data_{model_iteration}/tag_levels.parquet\").fillna(6)\n",
        "levels_df['level'] = levels_df['level'].astype('int')\n",
        "levels_df['topic_tok'] = levels_df['topic_name'].apply(lambda x: target_vocab.get(x))\n",
        "levels_df = levels_df[~levels_df['topic_tok'].isnull()].copy()\n",
        "levels_df['topic_tok'] = levels_df['topic_tok'].astype('int')"
      ],
      "execution_count": 36,
      "outputs": []
    },
    {
      "cell_type": "code",
      "metadata": {
        "id": "B1yv7y8HCw37"
      },
      "source": [
        "def fill_blank(arr):\n",
        "  if not type(arr) == list:\n",
        "    arr=[0]\n",
        "  return arr"
      ],
      "execution_count": 37,
      "outputs": []
    },
    {
      "cell_type": "code",
      "metadata": {
        "id": "kuTz1F_eMzt4"
      },
      "source": [
        "def get_df_for_specific_level(old_df, levels, level_to_get=1, pred_col=\"predictions\"):\n",
        "    df = old_df.copy()\n",
        "    tags_list = levels[levels['level']==level_to_get]['topic_name'].to_list()\n",
        "    tags_id_list = [target_vocab.get(x) for x in tags_list]\n",
        "    print(f\"Number of Tags: {len(tags_list)}\")\n",
        "    \n",
        "    # df[f'tags_level_{level_to_get}'] = df['target_tok'].apply(lambda x: [i for i in x if i in tags_id_list])\n",
        "    # df[f'preds_level_{level_to_get}'] = df[pred_col].apply(lambda x: [i for i in x if i in tags_id_list])\n",
        "\n",
        "    df_preds = df.explode(pred_col).merge(levels[levels['level']==level_to_get], \n",
        "                                                  how='inner', left_on=pred_col, right_on='topic_tok')\n",
        "    \n",
        "    df_targs = df.explode('target_tok').merge(levels[levels['level']==level_to_get], \n",
        "                                                  how='inner', left_on='target_tok', right_on='topic_tok')\n",
        "    \n",
        "    df_preds_1 = df_preds[['paper_id',pred_col]].groupby('paper_id')[pred_col].apply(list).reset_index()\n",
        "    df_targs_2 = df_targs[['paper_id','target_tok']].groupby('paper_id')['target_tok'].apply(list).reset_index()\n",
        "\n",
        "    new_df = df_preds_1.merge(df_targs_2, how='outer', on='paper_id')\n",
        "    \n",
        "    papers_with_tag = (new_df[~new_df['target_tok'].isnull()].shape[0])/df.shape[0]\n",
        "    papers_with_pred = (new_df[~new_df[pred_col].isnull()].shape[0])/df.shape[0]\n",
        "\n",
        "    new_df['target_tok'] = new_df['target_tok'].apply(lambda x: fill_blank(x))\n",
        "    new_df[pred_col] = new_df[pred_col].apply(lambda x: fill_blank(x))\n",
        "    \n",
        "    print(f\"Percentage of papers with Level {level_to_get} Tags: {round(papers_with_tag*100, 1)}\")\n",
        "    print(f\"Percentage of papers with Level {level_to_get} Preds: {round(papers_with_pred*100, 1)}\")\n",
        "    \n",
        "    return new_df"
      ],
      "execution_count": 38,
      "outputs": []
    },
    {
      "cell_type": "code",
      "metadata": {
        "colab": {
          "base_uri": "https://localhost:8080/"
        },
        "id": "qdY0rvd3OFIe",
        "outputId": "49188fde-dae5-4a06-c7ff-39d505daef9f"
      },
      "source": [
        "print(f\"Threshold: {thresh}\")\n",
        "for level_to_check in range(0,7):\n",
        "  print(f\"Topic Level: {level_to_check}\")\n",
        "  df = get_df_for_specific_level(test_data.sample(10000), levels_df, level_to_check, f\"predictions_{thresh}\")\n",
        "  get_metrics(df, 'target_tok', f'predictions_{thresh}')\n",
        "  print(\"------------------------------------------------------------\")\n",
        "  print(\"\\n\")"
      ],
      "execution_count": 54,
      "outputs": [
        {
          "output_type": "stream",
          "name": "stdout",
          "text": [
            "Threshold: 35\n",
            "Topic Level: 0\n",
            "Number of Tags: 19\n",
            "Percentage of papers with Level 0 Tags: 99.3\n",
            "Percentage of papers with Level 0 Preds: 93.2\n",
            "Recall: 73.3%\n",
            "Precision: 65.2%\n",
            "Accuracy: 68.0%\n",
            "------------------------------------------------------------\n",
            "\n",
            "\n",
            "Topic Level: 1\n",
            "Number of Tags: 292\n",
            "Percentage of papers with Level 1 Tags: 98.4\n",
            "Percentage of papers with Level 1 Preds: 75.0\n",
            "Recall: 46.2%\n",
            "Precision: 42.7%\n",
            "Accuracy: 39.4%\n",
            "------------------------------------------------------------\n",
            "\n",
            "\n",
            "Topic Level: 2\n",
            "Number of Tags: 91991\n",
            "Percentage of papers with Level 2 Tags: 93.1\n",
            "Percentage of papers with Level 2 Preds: 77.9\n",
            "Recall: 21.2%\n",
            "Precision: 48.4%\n",
            "Accuracy: 24.7%\n",
            "------------------------------------------------------------\n",
            "\n",
            "\n",
            "Topic Level: 3\n",
            "Number of Tags: 141305\n",
            "Percentage of papers with Level 3 Tags: 76.6\n",
            "Percentage of papers with Level 3 Preds: 45.7\n",
            "Recall: 18.4%\n",
            "Precision: 29.1%\n",
            "Accuracy: 17.0%\n",
            "------------------------------------------------------------\n",
            "\n",
            "\n",
            "Topic Level: 4\n",
            "Number of Tags: 99839\n",
            "Percentage of papers with Level 4 Tags: 42.7\n",
            "Percentage of papers with Level 4 Preds: 21.9\n",
            "Recall: 17.1%\n",
            "Precision: 20.2%\n",
            "Accuracy: 16.0%\n",
            "------------------------------------------------------------\n",
            "\n",
            "\n",
            "Topic Level: 5\n",
            "Number of Tags: 57285\n",
            "Percentage of papers with Level 5 Tags: 32.6\n",
            "Percentage of papers with Level 5 Preds: 19.7\n",
            "Recall: 26.8%\n",
            "Precision: 30.0%\n",
            "Accuracy: 29.5%\n",
            "------------------------------------------------------------\n",
            "\n",
            "\n",
            "Topic Level: 6\n",
            "Number of Tags: 1\n",
            "Percentage of papers with Level 6 Tags: 0.0\n",
            "Percentage of papers with Level 6 Preds: 0.0\n",
            "Recall: 0.0%\n",
            "Precision: 0.0%\n",
            "Accuracy: 0.0%\n",
            "------------------------------------------------------------\n",
            "\n",
            "\n"
          ]
        }
      ]
    },
    {
      "cell_type": "markdown",
      "metadata": {
        "id": "P-66DZykJiD0"
      },
      "source": [
        "### Journal and Doc Types"
      ]
    },
    {
      "cell_type": "code",
      "metadata": {
        "id": "kB2ZrZJYzozE"
      },
      "source": [
        "test_data['journal'] = test_data['journal_tok'].apply(lambda x: [journal_vocab_inv.get(i) for i in x][0])\n",
        "test_data['doc_type'] = test_data['doc_type_tok'].apply(lambda x: [doc_vocab_inv.get(i) for i in x][0])"
      ],
      "execution_count": 40,
      "outputs": []
    },
    {
      "cell_type": "code",
      "metadata": {
        "colab": {
          "base_uri": "https://localhost:8080/"
        },
        "id": "RUocRkyED7Qj",
        "outputId": "7c561236-1120-4c84-c3c7-5e5f57fbf3fe"
      },
      "source": [
        "for doc_type in test_data['doc_type'].value_counts().index:\n",
        "    print(doc_type)\n",
        "    num_samples = test_data[test_data['doc_type']==doc_type].shape[0]\n",
        "    if num_samples >= 5000:\n",
        "      num_to_sample = 5000\n",
        "    else:\n",
        "      num_to_sample = num_samples\n",
        "    get_metrics(test_data[test_data['doc_type']==doc_type].sample(num_to_sample), \"target_tok\", f\"predictions_{thresh}\")\n",
        "    print(\"-----------------------------------------------------------------------\")\n",
        "    print(\"\\n\")"
      ],
      "execution_count": 55,
      "outputs": [
        {
          "output_type": "stream",
          "name": "stdout",
          "text": [
            "Journal\n",
            "Recall: 32.0%\n",
            "Precision: 53.2%\n",
            "Accuracy: 72.9%\n",
            "-----------------------------------------------------------------------\n",
            "\n",
            "\n",
            "[NONE]\n",
            "Recall: 31.1%\n",
            "Precision: 53.5%\n",
            "Accuracy: 54.8%\n",
            "-----------------------------------------------------------------------\n",
            "\n",
            "\n",
            "Patent\n",
            "Recall: 27.7%\n",
            "Precision: 58.9%\n",
            "Accuracy: 61.8%\n",
            "-----------------------------------------------------------------------\n",
            "\n",
            "\n",
            "Conference\n",
            "Recall: 29.4%\n",
            "Precision: 53.6%\n",
            "Accuracy: 72.8%\n",
            "-----------------------------------------------------------------------\n",
            "\n",
            "\n",
            "Repository\n",
            "Recall: 27.8%\n",
            "Precision: 56.0%\n",
            "Accuracy: 74.1%\n",
            "-----------------------------------------------------------------------\n",
            "\n",
            "\n",
            "Book\n",
            "Recall: 34.4%\n",
            "Precision: 52.4%\n",
            "Accuracy: 51.6%\n",
            "-----------------------------------------------------------------------\n",
            "\n",
            "\n",
            "Thesis\n",
            "Recall: 30.4%\n",
            "Precision: 52.4%\n",
            "Accuracy: 55.9%\n",
            "-----------------------------------------------------------------------\n",
            "\n",
            "\n",
            "BookChapter\n",
            "Recall: 39.8%\n",
            "Precision: 54.9%\n",
            "Accuracy: 54.4%\n",
            "-----------------------------------------------------------------------\n",
            "\n",
            "\n",
            "[UNK]\n",
            "Recall: 37.3%\n",
            "Precision: 59.6%\n",
            "Accuracy: 47.4%\n",
            "-----------------------------------------------------------------------\n",
            "\n",
            "\n"
          ]
        }
      ]
    },
    {
      "cell_type": "markdown",
      "metadata": {
        "id": "rrVO2-QMJZco"
      },
      "source": [
        "### Paper Title Length"
      ]
    },
    {
      "cell_type": "code",
      "metadata": {
        "id": "l91zElfCFUBn"
      },
      "source": [
        "# 0 - 20, 20 - 40, 40+"
      ],
      "execution_count": null,
      "outputs": []
    },
    {
      "cell_type": "code",
      "metadata": {
        "id": "4uKhu9RSHjUw"
      },
      "source": [
        "test_data['paper_title_tok_len'] = test_data['paper_title_tok'].apply(len)"
      ],
      "execution_count": 16,
      "outputs": []
    },
    {
      "cell_type": "code",
      "metadata": {
        "colab": {
          "base_uri": "https://localhost:8080/"
        },
        "id": "xHQyFX2jucuI",
        "outputId": "df2a0546-cba9-4bef-9b3c-a91dd994a896"
      },
      "source": [
        "(test_data[test_data['paper_title_tok_len'] < 10].shape[0])/test_data.shape[0]"
      ],
      "execution_count": 32,
      "outputs": [
        {
          "output_type": "execute_result",
          "data": {
            "text/plain": [
              "0.12967622436582596"
            ]
          },
          "metadata": {},
          "execution_count": 32
        }
      ]
    },
    {
      "cell_type": "code",
      "metadata": {
        "colab": {
          "base_uri": "https://localhost:8080/"
        },
        "id": "7M_2NNmTudVL",
        "outputId": "7329fae3-7df8-48e1-8e1d-5631e6e65fa9"
      },
      "source": [
        "(test_data[(test_data['paper_title_tok_len'] >= 10) & (test_data['paper_title_tok_len']<20)].shape[0])/test_data.shape[0]"
      ],
      "execution_count": 33,
      "outputs": [
        {
          "output_type": "execute_result",
          "data": {
            "text/plain": [
              "0.48596219851423034"
            ]
          },
          "metadata": {},
          "execution_count": 33
        }
      ]
    },
    {
      "cell_type": "code",
      "metadata": {
        "colab": {
          "base_uri": "https://localhost:8080/"
        },
        "id": "11CYJgxbudX6",
        "outputId": "34bd4c92-3ca3-41c4-fe76-31c8ed8b7a17"
      },
      "source": [
        "(test_data[(test_data['paper_title_tok_len'] >= 20) & (test_data['paper_title_tok_len']<40)].shape[0])/test_data.shape[0]"
      ],
      "execution_count": 34,
      "outputs": [
        {
          "output_type": "execute_result",
          "data": {
            "text/plain": [
              "0.3599240518094125"
            ]
          },
          "metadata": {},
          "execution_count": 34
        }
      ]
    },
    {
      "cell_type": "code",
      "metadata": {
        "colab": {
          "base_uri": "https://localhost:8080/"
        },
        "id": "oPRry9q2udbc",
        "outputId": "3ea65af4-ba70-4c17-bfb5-3fa893b6af04"
      },
      "source": [
        "(test_data[test_data['paper_title_tok_len'] >= 40].shape[0])/test_data.shape[0]"
      ],
      "execution_count": 35,
      "outputs": [
        {
          "output_type": "execute_result",
          "data": {
            "text/plain": [
              "0.024437525310531172"
            ]
          },
          "metadata": {},
          "execution_count": 35
        }
      ]
    },
    {
      "cell_type": "code",
      "metadata": {
        "colab": {
          "base_uri": "https://localhost:8080/"
        },
        "id": "ew_oqvFeHjRI",
        "outputId": "6d38cc75-a000-425b-bf48-b9075fc4450f"
      },
      "source": [
        "get_metrics(test_data[test_data['paper_title_tok_len'] < 10].sample(10000), \"target_tok\", f\"predictions_{thresh}\")"
      ],
      "execution_count": 21,
      "outputs": [
        {
          "output_type": "stream",
          "name": "stdout",
          "text": [
            "Recall: 27.8%\n",
            "Precision: 56.5%\n",
            "Accuracy: 57.6%\n"
          ]
        }
      ]
    },
    {
      "cell_type": "code",
      "metadata": {
        "colab": {
          "base_uri": "https://localhost:8080/"
        },
        "id": "lcFxfuSKf_Ds",
        "outputId": "65d4af11-3bec-4ca9-f50f-30708a4c08fc"
      },
      "source": [
        "get_metrics(test_data[(test_data['paper_title_tok_len'] >= 10) & (test_data['paper_title_tok_len']<20)].sample(10000), \"target_tok\", f\"predictions_{thresh}\")"
      ],
      "execution_count": 22,
      "outputs": [
        {
          "output_type": "stream",
          "name": "stdout",
          "text": [
            "Recall: 30.1%\n",
            "Precision: 54.3%\n",
            "Accuracy: 65.8%\n"
          ]
        }
      ]
    },
    {
      "cell_type": "code",
      "metadata": {
        "colab": {
          "base_uri": "https://localhost:8080/"
        },
        "id": "9_LLqIf5HjOR",
        "outputId": "32db6226-4000-4fb5-97db-3152fa3d2102"
      },
      "source": [
        "get_metrics(test_data[(test_data['paper_title_tok_len'] >= 20) & (test_data['paper_title_tok_len']<40)].sample(10000), \"target_tok\", f\"predictions_{thresh}\")"
      ],
      "execution_count": 23,
      "outputs": [
        {
          "output_type": "stream",
          "name": "stdout",
          "text": [
            "Recall: 32.9%\n",
            "Precision: 53.1%\n",
            "Accuracy: 73.2%\n"
          ]
        }
      ]
    },
    {
      "cell_type": "code",
      "metadata": {
        "colab": {
          "base_uri": "https://localhost:8080/"
        },
        "id": "-leWZ0HSHjKg",
        "outputId": "e160d352-3649-4966-edaa-843d03ef8c0e"
      },
      "source": [
        "get_metrics(test_data[test_data['paper_title_tok_len'] >= 40], \"target_tok\", f\"predictions_{thresh}\")"
      ],
      "execution_count": 24,
      "outputs": [
        {
          "output_type": "stream",
          "name": "stdout",
          "text": [
            "Recall: 32.7%\n",
            "Precision: 52.3%\n",
            "Accuracy: 68.4%\n"
          ]
        }
      ]
    },
    {
      "cell_type": "markdown",
      "metadata": {
        "id": "bhOM6sLnnI8x"
      },
      "source": [
        "### Time"
      ]
    },
    {
      "cell_type": "code",
      "metadata": {
        "id": "LoLnskCsHjF8"
      },
      "source": [
        "explore_time = test_data.merge(test_raw, how='left', on='paper_id')"
      ],
      "execution_count": 25,
      "outputs": []
    },
    {
      "cell_type": "code",
      "metadata": {
        "id": "nqHfiJW6nIBt"
      },
      "source": [
        "explore_time['yearMonth'] = explore_time['year']*100+explore_time['month']"
      ],
      "execution_count": 26,
      "outputs": []
    },
    {
      "cell_type": "code",
      "metadata": {
        "colab": {
          "base_uri": "https://localhost:8080/"
        },
        "id": "bzkVWbjInIEC",
        "outputId": "a133d82b-0e59-4781-e50a-b49ab96f88e4"
      },
      "source": [
        "get_metrics(explore_time[explore_time['yearMonth'] >= 202106].sample(10000), \"target_tok\", f\"predictions_{thresh}\")"
      ],
      "execution_count": 29,
      "outputs": [
        {
          "output_type": "stream",
          "name": "stdout",
          "text": [
            "Recall: 30.7%\n",
            "Precision: 51.9%\n",
            "Accuracy: 72.9%\n"
          ]
        }
      ]
    },
    {
      "cell_type": "code",
      "metadata": {
        "colab": {
          "base_uri": "https://localhost:8080/"
        },
        "id": "PoKRbkqcnIGr",
        "outputId": "a6c92f54-0bca-403d-bf67-43d4a43dd913"
      },
      "source": [
        "get_metrics(explore_time[explore_time['yearMonth'] < 202106].sample(10000), \"target_tok\", f\"predictions_{thresh}\")"
      ],
      "execution_count": 30,
      "outputs": [
        {
          "output_type": "stream",
          "name": "stdout",
          "text": [
            "Recall: 30.9%\n",
            "Precision: 55.4%\n",
            "Accuracy: 65.0%\n"
          ]
        }
      ]
    },
    {
      "cell_type": "code",
      "metadata": {
        "colab": {
          "base_uri": "https://localhost:8080/"
        },
        "id": "sltHVrd3oYAW",
        "outputId": "89a0ccf2-a4ea-4323-c02c-3d3a74acf05d"
      },
      "source": [
        "get_metrics(explore_time[explore_time['year'] <= 2002].sample(10000), \"target_tok\", f\"predictions_{thresh}\")"
      ],
      "execution_count": 51,
      "outputs": [
        {
          "output_type": "stream",
          "name": "stdout",
          "text": [
            "Recall: 32.8%\n",
            "Precision: 54.5%\n",
            "Accuracy: 65.3%\n"
          ]
        }
      ]
    },
    {
      "cell_type": "code",
      "metadata": {
        "colab": {
          "base_uri": "https://localhost:8080/"
        },
        "id": "ze-O7IIv9FW7",
        "outputId": "d2146aa6-f862-40d3-e793-1b6c7c7fbd71"
      },
      "source": [
        "get_metrics(explore_time[(explore_time['year'] >= 2003) & (explore_time['year'] <= 2008)].sample(10000), \"target_tok\", f\"predictions_{thresh}\")"
      ],
      "execution_count": 52,
      "outputs": [
        {
          "output_type": "stream",
          "name": "stdout",
          "text": [
            "Recall: 31.1%\n",
            "Precision: 55.7%\n",
            "Accuracy: 63.7%\n"
          ]
        }
      ]
    },
    {
      "cell_type": "code",
      "metadata": {
        "colab": {
          "base_uri": "https://localhost:8080/"
        },
        "id": "QtAMAyiU9FQb",
        "outputId": "c75a24db-7c6e-49f7-e218-628038fb301a"
      },
      "source": [
        "get_metrics(explore_time[(explore_time['year'] >= 2009) & (explore_time['year'] <= 2014)].sample(10000), \"target_tok\", f\"predictions_{thresh}\")"
      ],
      "execution_count": 53,
      "outputs": [
        {
          "output_type": "stream",
          "name": "stdout",
          "text": [
            "Recall: 30.3%\n",
            "Precision: 55.7%\n",
            "Accuracy: 62.9%\n"
          ]
        }
      ]
    },
    {
      "cell_type": "code",
      "metadata": {
        "colab": {
          "base_uri": "https://localhost:8080/"
        },
        "id": "7QybG8yb9FMc",
        "outputId": "c666b95a-eb66-46c6-a1cb-b08a9172d59a"
      },
      "source": [
        "get_metrics(explore_time[(explore_time['year'] >= 2015) & (explore_time['year'] <= 2020)].sample(10000), \"target_tok\", f\"predictions_{thresh}\")"
      ],
      "execution_count": 55,
      "outputs": [
        {
          "output_type": "stream",
          "name": "stdout",
          "text": [
            "Recall: 30.0%\n",
            "Precision: 55.7%\n",
            "Accuracy: 65.4%\n"
          ]
        }
      ]
    },
    {
      "cell_type": "code",
      "metadata": {
        "colab": {
          "base_uri": "https://localhost:8080/"
        },
        "id": "pSdos1Jv9FJH",
        "outputId": "d0bb3260-cc3c-4791-e06c-191f5ecf0a19"
      },
      "source": [
        "get_metrics(explore_time[explore_time['year'] == 2021].sample(10000), \"target_tok\", f\"predictions_{thresh}\")"
      ],
      "execution_count": 56,
      "outputs": [
        {
          "output_type": "stream",
          "name": "stdout",
          "text": [
            "Recall: 31.0%\n",
            "Precision: 51.8%\n",
            "Accuracy: 73.3%\n"
          ]
        }
      ]
    },
    {
      "cell_type": "code",
      "metadata": {
        "id": "wlwVap5X9FF4"
      },
      "source": [
        ""
      ],
      "execution_count": null,
      "outputs": []
    },
    {
      "cell_type": "markdown",
      "metadata": {
        "id": "4HdHpGme1QAN"
      },
      "source": [
        "### Journal and Doc null vs not null"
      ]
    },
    {
      "cell_type": "code",
      "metadata": {
        "colab": {
          "base_uri": "https://localhost:8080/"
        },
        "id": "cqjQIMZaoX6V",
        "outputId": "aed60c04-51d8-4eb0-84a6-856b76bfaea5"
      },
      "source": [
        "get_metrics(test_data[(test_data['doc_type'] != \"[NONE]\") & \n",
        "                      (test_data['journal'] != \"[NONE]\")].sample(10000), \"target_tok\", f\"predictions_{thresh}\")"
      ],
      "execution_count": 44,
      "outputs": [
        {
          "output_type": "stream",
          "name": "stdout",
          "text": [
            "Recall: 32.1%\n",
            "Precision: 53.1%\n",
            "Accuracy: 73.2%\n"
          ]
        }
      ]
    },
    {
      "cell_type": "code",
      "metadata": {
        "colab": {
          "base_uri": "https://localhost:8080/"
        },
        "id": "SnInemGQoXyB",
        "outputId": "3d6e0da1-aa58-4789-8436-83aff3ac20a6"
      },
      "source": [
        "get_metrics(test_data[(test_data['doc_type'] == \"[NONE]\") & \n",
        "                      (test_data['journal'] == \"[NONE]\")].sample(10000), \"target_tok\", f\"predictions_{thresh}\")"
      ],
      "execution_count": 43,
      "outputs": [
        {
          "output_type": "stream",
          "name": "stdout",
          "text": [
            "Recall: 31.0%\n",
            "Precision: 53.3%\n",
            "Accuracy: 55.7%\n"
          ]
        }
      ]
    },
    {
      "cell_type": "code",
      "metadata": {
        "id": "3DsNf6-O2Vdg"
      },
      "source": [
        ""
      ],
      "execution_count": null,
      "outputs": []
    }
  ]
}