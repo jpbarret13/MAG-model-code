{
 "cells": [
  {
   "cell_type": "code",
   "execution_count": 1,
   "id": "88a8bb50",
   "metadata": {},
   "outputs": [],
   "source": [
    "import pickle\n",
    "import pandas as pd\n",
    "import numpy as np\n",
    "# import tensorflow as tf\n",
    "# from transformers import BertTokenizer, TFBertModel\n",
    "# from sklearn.metrics.pairwise import cosine_similarity"
   ]
  },
  {
   "cell_type": "markdown",
   "id": "556a8942",
   "metadata": {},
   "source": [
    "### Methods to try for orphan adoption\n",
    "1. Using BERT embedding to find most similar L1 and L2 topics\n",
    "2. Using occurrences to determine parents\n",
    "3. Using a model to predict the parent"
   ]
  },
  {
   "cell_type": "code",
   "execution_count": 3,
   "id": "aee7db03",
   "metadata": {},
   "outputs": [
    {
     "name": "stderr",
     "output_type": "stream",
     "text": [
      "Some layers from the model checkpoint at bert-base-uncased were not used when initializing TFBertModel: ['nsp___cls', 'mlm___cls']\n",
      "- This IS expected if you are initializing TFBertModel from the checkpoint of a model trained on another task or with another architecture (e.g. initializing a BertForSequenceClassification model from a BertForPreTraining model).\n",
      "- This IS NOT expected if you are initializing TFBertModel from the checkpoint of a model that you expect to be exactly identical (initializing a BertForSequenceClassification model from a BertForSequenceClassification model).\n",
      "All the layers of TFBertModel were initialized from the model checkpoint at bert-base-uncased.\n",
      "If your task is similar to the task the model of the checkpoint was trained on, you can already use TFBertModel for predictions without further training.\n"
     ]
    }
   ],
   "source": [
    "tokenizer = BertTokenizer.from_pretrained('bert-base-uncased')\n",
    "model = TFBertModel.from_pretrained('bert-base-uncased')"
   ]
  },
  {
   "cell_type": "code",
   "execution_count": 3,
   "id": "41d26997",
   "metadata": {},
   "outputs": [
    {
     "data": {
      "text/plain": [
       "65026"
      ]
     },
     "execution_count": 3,
     "metadata": {},
     "output_type": "execute_result"
    }
   ],
   "source": [
    "with open(\"topics_vocab.pkl\", \"rb\") as f:\n",
    "    target_vocab = pickle.load(f)\n",
    "    \n",
    "len(target_vocab)"
   ]
  },
  {
   "cell_type": "code",
   "execution_count": 4,
   "id": "917b27b7",
   "metadata": {},
   "outputs": [],
   "source": [
    "model_tags_df = pd.DataFrame().from_dict(target_vocab, orient='index').reset_index()[['index']]\n",
    "model_tags_df.columns = ['normalized_name']"
   ]
  },
  {
   "cell_type": "code",
   "execution_count": 5,
   "id": "43683b29",
   "metadata": {},
   "outputs": [
    {
     "data": {
      "text/plain": [
       "(65026, 1)"
      ]
     },
     "execution_count": 5,
     "metadata": {},
     "output_type": "execute_result"
    }
   ],
   "source": [
    "model_tags_df.shape"
   ]
  },
  {
   "cell_type": "code",
   "execution_count": 6,
   "id": "34343924",
   "metadata": {},
   "outputs": [
    {
     "data": {
      "text/html": [
       "<div>\n",
       "<style scoped>\n",
       "    .dataframe tbody tr th:only-of-type {\n",
       "        vertical-align: middle;\n",
       "    }\n",
       "\n",
       "    .dataframe tbody tr th {\n",
       "        vertical-align: top;\n",
       "    }\n",
       "\n",
       "    .dataframe thead th {\n",
       "        text-align: right;\n",
       "    }\n",
       "</style>\n",
       "<table border=\"1\" class=\"dataframe\">\n",
       "  <thead>\n",
       "    <tr style=\"text-align: right;\">\n",
       "      <th></th>\n",
       "      <th>normalized_name</th>\n",
       "    </tr>\n",
       "  </thead>\n",
       "  <tbody>\n",
       "    <tr>\n",
       "      <th>0</th>\n",
       "      <td>art</td>\n",
       "    </tr>\n",
       "    <tr>\n",
       "      <th>1</th>\n",
       "      <td>earth science</td>\n",
       "    </tr>\n",
       "    <tr>\n",
       "      <th>2</th>\n",
       "      <td>social science</td>\n",
       "    </tr>\n",
       "    <tr>\n",
       "      <th>3</th>\n",
       "      <td>clustering coefficient</td>\n",
       "    </tr>\n",
       "    <tr>\n",
       "      <th>4</th>\n",
       "      <td>gratification</td>\n",
       "    </tr>\n",
       "  </tbody>\n",
       "</table>\n",
       "</div>"
      ],
      "text/plain": [
       "          normalized_name\n",
       "0                     art\n",
       "1           earth science\n",
       "2          social science\n",
       "3  clustering coefficient\n",
       "4           gratification"
      ]
     },
     "execution_count": 6,
     "metadata": {},
     "output_type": "execute_result"
    }
   ],
   "source": [
    "model_tags_df.head(5)"
   ]
  },
  {
   "cell_type": "code",
   "execution_count": 7,
   "id": "831aec77",
   "metadata": {},
   "outputs": [],
   "source": [
    "def fix_empty_list(child):\n",
    "    try:\n",
    "        child = child.tolist()\n",
    "    except:\n",
    "        child = []\n",
    "    return child"
   ]
  },
  {
   "cell_type": "code",
   "execution_count": 8,
   "id": "13d883bb",
   "metadata": {},
   "outputs": [],
   "source": [
    "def create_new_name(orig_name, children):\n",
    "    if (len(children) > 0) & (len(children) < 25):\n",
    "        children_string = ', '.join(children)\n",
    "        new_name = f\"{orig_name} and also {children_string}\"\n",
    "    else:\n",
    "        new_name = f\"{orig_name}\"\n",
    "    return new_name"
   ]
  },
  {
   "cell_type": "code",
   "execution_count": 9,
   "id": "258f4d0a",
   "metadata": {},
   "outputs": [],
   "source": [
    "tags_df = pd.read_parquet('fields_of_study_ids.parquet').dropna()\n",
    "tags_df['level'] = tags_df['level'].astype('int')\n",
    "orphan_df = pd.read_parquet('mag_imitator_orphans.parquet').merge(model_tags_df, how='inner', on='normalized_name')\n",
    "# children = pd.read_parquet('children.parquet')\n",
    "# orphan_df = orphan_df.merge(children, how='left', left_on = 'normalized_name', right_on='parent').copy()\n",
    "# orphan_df['child'] = orphan_df['child'].apply(fix_empty_list)\n",
    "# orphan_df['new_name'] = orphan_df.apply(lambda x: create_new_name(x.normalized_name, \n",
    "#                                                                   x.child), axis=1)"
   ]
  },
  {
   "cell_type": "code",
   "execution_count": 10,
   "id": "0d263170",
   "metadata": {},
   "outputs": [
    {
     "data": {
      "text/plain": [
       "(1664, 3)"
      ]
     },
     "execution_count": 10,
     "metadata": {},
     "output_type": "execute_result"
    }
   ],
   "source": [
    "orphan_df.shape"
   ]
  },
  {
   "cell_type": "code",
   "execution_count": 11,
   "id": "0bea460e",
   "metadata": {},
   "outputs": [
    {
     "data": {
      "text/html": [
       "<div>\n",
       "<style scoped>\n",
       "    .dataframe tbody tr th:only-of-type {\n",
       "        vertical-align: middle;\n",
       "    }\n",
       "\n",
       "    .dataframe tbody tr th {\n",
       "        vertical-align: top;\n",
       "    }\n",
       "\n",
       "    .dataframe thead th {\n",
       "        text-align: right;\n",
       "    }\n",
       "</style>\n",
       "<table border=\"1\" class=\"dataframe\">\n",
       "  <thead>\n",
       "    <tr style=\"text-align: right;\">\n",
       "      <th></th>\n",
       "      <th>field_of_study_id</th>\n",
       "      <th>normalized_name</th>\n",
       "      <th>level</th>\n",
       "    </tr>\n",
       "  </thead>\n",
       "  <tbody>\n",
       "    <tr>\n",
       "      <th>6</th>\n",
       "      <td>2982719155</td>\n",
       "      <td>energy source</td>\n",
       "      <td>3</td>\n",
       "    </tr>\n",
       "  </tbody>\n",
       "</table>\n",
       "</div>"
      ],
      "text/plain": [
       "   field_of_study_id normalized_name  level\n",
       "6         2982719155   energy source      3"
      ]
     },
     "execution_count": 11,
     "metadata": {},
     "output_type": "execute_result"
    }
   ],
   "source": [
    "orphan_df[orphan_df['normalized_name']=='energy source']"
   ]
  },
  {
   "cell_type": "code",
   "execution_count": 12,
   "id": "32fa9198",
   "metadata": {},
   "outputs": [
    {
     "data": {
      "text/html": [
       "<div>\n",
       "<style scoped>\n",
       "    .dataframe tbody tr th:only-of-type {\n",
       "        vertical-align: middle;\n",
       "    }\n",
       "\n",
       "    .dataframe tbody tr th {\n",
       "        vertical-align: top;\n",
       "    }\n",
       "\n",
       "    .dataframe thead th {\n",
       "        text-align: right;\n",
       "    }\n",
       "</style>\n",
       "<table border=\"1\" class=\"dataframe\">\n",
       "  <thead>\n",
       "    <tr style=\"text-align: right;\">\n",
       "      <th></th>\n",
       "      <th>field_of_study_id</th>\n",
       "      <th>normalized_name</th>\n",
       "    </tr>\n",
       "    <tr>\n",
       "      <th>level</th>\n",
       "      <th></th>\n",
       "      <th></th>\n",
       "    </tr>\n",
       "  </thead>\n",
       "  <tbody>\n",
       "    <tr>\n",
       "      <th>2</th>\n",
       "      <td>1489</td>\n",
       "      <td>1489</td>\n",
       "    </tr>\n",
       "    <tr>\n",
       "      <th>3</th>\n",
       "      <td>175</td>\n",
       "      <td>175</td>\n",
       "    </tr>\n",
       "  </tbody>\n",
       "</table>\n",
       "</div>"
      ],
      "text/plain": [
       "       field_of_study_id  normalized_name\n",
       "level                                    \n",
       "2                   1489             1489\n",
       "3                    175              175"
      ]
     },
     "execution_count": 12,
     "metadata": {},
     "output_type": "execute_result"
    }
   ],
   "source": [
    "orphan_df.groupby('level').count()"
   ]
  },
  {
   "cell_type": "code",
   "execution_count": 13,
   "id": "e5445a60",
   "metadata": {},
   "outputs": [
    {
     "data": {
      "text/plain": [
       "2    1489\n",
       "3     175\n",
       "Name: level, dtype: int64"
      ]
     },
     "execution_count": 13,
     "metadata": {},
     "output_type": "execute_result"
    }
   ],
   "source": [
    "orphan_df['level'].value_counts()"
   ]
  },
  {
   "cell_type": "code",
   "execution_count": 268,
   "id": "25791882",
   "metadata": {},
   "outputs": [
    {
     "data": {
      "text/html": [
       "<div>\n",
       "<style scoped>\n",
       "    .dataframe tbody tr th:only-of-type {\n",
       "        vertical-align: middle;\n",
       "    }\n",
       "\n",
       "    .dataframe tbody tr th {\n",
       "        vertical-align: top;\n",
       "    }\n",
       "\n",
       "    .dataframe thead th {\n",
       "        text-align: right;\n",
       "    }\n",
       "</style>\n",
       "<table border=\"1\" class=\"dataframe\">\n",
       "  <thead>\n",
       "    <tr style=\"text-align: right;\">\n",
       "      <th></th>\n",
       "      <th>normalized_name</th>\n",
       "    </tr>\n",
       "  </thead>\n",
       "  <tbody>\n",
       "    <tr>\n",
       "      <th>0</th>\n",
       "      <td>political science</td>\n",
       "    </tr>\n",
       "    <tr>\n",
       "      <th>1</th>\n",
       "      <td>philosophy</td>\n",
       "    </tr>\n",
       "    <tr>\n",
       "      <th>2</th>\n",
       "      <td>economics</td>\n",
       "    </tr>\n",
       "    <tr>\n",
       "      <th>3</th>\n",
       "      <td>business</td>\n",
       "    </tr>\n",
       "    <tr>\n",
       "      <th>4</th>\n",
       "      <td>psychology</td>\n",
       "    </tr>\n",
       "  </tbody>\n",
       "</table>\n",
       "</div>"
      ],
      "text/plain": [
       "     normalized_name\n",
       "0  political science\n",
       "1         philosophy\n",
       "2          economics\n",
       "3           business\n",
       "4         psychology"
      ]
     },
     "execution_count": 268,
     "metadata": {},
     "output_type": "execute_result"
    }
   ],
   "source": [
    "openalex_concepts = pd.read_csv(\"concepts_with_wiki.csv\")[['normalized_name']]\n",
    "openalex_concepts.head(5)"
   ]
  },
  {
   "cell_type": "code",
   "execution_count": 269,
   "id": "f0aed4b1",
   "metadata": {},
   "outputs": [
    {
     "data": {
      "text/plain": [
       "(65073, 1)"
      ]
     },
     "execution_count": 269,
     "metadata": {},
     "output_type": "execute_result"
    }
   ],
   "source": [
    "openalex_concepts.shape"
   ]
  },
  {
   "cell_type": "code",
   "execution_count": 16,
   "id": "f9a8aea9",
   "metadata": {},
   "outputs": [
    {
     "data": {
      "text/plain": [
       "(1664, 3)"
      ]
     },
     "execution_count": 16,
     "metadata": {},
     "output_type": "execute_result"
    }
   ],
   "source": [
    "orphan_df.merge(openalex_concepts, how='inner', on='normalized_name').shape"
   ]
  },
  {
   "cell_type": "code",
   "execution_count": 17,
   "id": "cdd60a65",
   "metadata": {},
   "outputs": [
    {
     "data": {
      "text/plain": [
       "2    1489\n",
       "3     175\n",
       "Name: level, dtype: int64"
      ]
     },
     "execution_count": 17,
     "metadata": {},
     "output_type": "execute_result"
    }
   ],
   "source": [
    "orphan_df.merge(openalex_concepts, how='inner', on='normalized_name')['level'].value_counts()"
   ]
  },
  {
   "cell_type": "code",
   "execution_count": 18,
   "id": "83363995",
   "metadata": {},
   "outputs": [],
   "source": [
    "orphan_and_wiki = orphan_df.merge(openalex_concepts, how='inner', on='normalized_name')"
   ]
  },
  {
   "cell_type": "markdown",
   "id": "2b944951",
   "metadata": {},
   "source": [
    "## Orphans"
   ]
  },
  {
   "cell_type": "code",
   "execution_count": 103,
   "id": "e8ffdb1b",
   "metadata": {},
   "outputs": [],
   "source": [
    "\n",
    "# last hidden state\n",
    "# orphan_embs = []\n",
    "# for i in level_2_orphans:\n",
    "#     toks = tokenizer(i, return_tensors=\"tf\")\n",
    "#     emb = model(toks).last_hidden_state.numpy().mean(axis=-2)\n",
    "#     orphan_embs.append(emb)\n",
    "# orphan_embs = np.array(orphan_embs)[:,0,:]\n",
    "\n",
    "# last 4 summed up\n",
    "orphan_embs = []\n",
    "for i in level_2_orphans:\n",
    "    toks = tokenizer(i, return_tensors=\"tf\")\n",
    "    emb = tf.add_n(model(toks, output_hidden_states=True).hidden_states[-4:]).numpy().mean(axis=-2)\n",
    "    orphan_embs.append(emb)\n",
    "orphan_embs = np.array(orphan_embs)[:,0,:]\n",
    "\n",
    "# embedding layer"
   ]
  },
  {
   "cell_type": "markdown",
   "id": "7d7cba9f",
   "metadata": {},
   "source": [
    "## Level 1"
   ]
  },
  {
   "cell_type": "code",
   "execution_count": 104,
   "id": "2a1c2a8d",
   "metadata": {},
   "outputs": [],
   "source": [
    "# last hidden state\n",
    "# level_1_embs = []\n",
    "# for i in level_1_list:\n",
    "#     toks = tokenizer(i, return_tensors=\"tf\")\n",
    "#     emb = model(toks).last_hidden_state.numpy().mean(axis=-2)\n",
    "#     level_1_embs.append(emb)\n",
    "# level_1_embs = np.array(level_1_embs)[:,0,:]\n",
    "\n",
    "# last 4 summed up\n",
    "level_1_embs = []\n",
    "for i in level_1_list:\n",
    "    toks = tokenizer(i, return_tensors=\"tf\")\n",
    "    emb = tf.add_n(model(toks, output_hidden_states=True).hidden_states[-4:]).numpy().mean(axis=-2)\n",
    "    level_1_embs.append(emb)\n",
    "level_1_embs = np.array(level_1_embs)[:,0,:]\n",
    "\n",
    "# embedding layer"
   ]
  },
  {
   "cell_type": "markdown",
   "id": "400501e2",
   "metadata": {},
   "source": [
    "## Level 0"
   ]
  },
  {
   "cell_type": "code",
   "execution_count": 111,
   "id": "6943400a",
   "metadata": {},
   "outputs": [],
   "source": [
    "# last 4 summed up\n",
    "level_0_embs = []\n",
    "for i in level_0_list:\n",
    "    toks = tokenizer(i, return_tensors=\"tf\")\n",
    "    emb = tf.add_n(model(toks, output_hidden_states=True).hidden_states[-4:]).numpy().mean(axis=-2)\n",
    "    level_0_embs.append(emb)\n",
    "level_0_embs = np.array(level_0_embs)[:,0,:]\n",
    "\n",
    "# embedding layer"
   ]
  },
  {
   "cell_type": "code",
   "execution_count": 105,
   "id": "32d82ae6",
   "metadata": {},
   "outputs": [
    {
     "data": {
      "text/plain": [
       "(50, 768)"
      ]
     },
     "execution_count": 105,
     "metadata": {},
     "output_type": "execute_result"
    }
   ],
   "source": [
    "orphan_embs.shape"
   ]
  },
  {
   "cell_type": "code",
   "execution_count": 106,
   "id": "b87d00f3",
   "metadata": {},
   "outputs": [
    {
     "data": {
      "text/plain": [
       "(292, 768)"
      ]
     },
     "execution_count": 106,
     "metadata": {},
     "output_type": "execute_result"
    }
   ],
   "source": [
    "level_1_embs.shape"
   ]
  },
  {
   "cell_type": "code",
   "execution_count": 112,
   "id": "9170d1ad",
   "metadata": {},
   "outputs": [
    {
     "data": {
      "text/plain": [
       "(19, 768)"
      ]
     },
     "execution_count": 112,
     "metadata": {},
     "output_type": "execute_result"
    }
   ],
   "source": [
    "level_0_embs.shape"
   ]
  },
  {
   "cell_type": "code",
   "execution_count": 113,
   "id": "10b323f3",
   "metadata": {},
   "outputs": [
    {
     "name": "stdout",
     "output_type": "stream",
     "text": [
      "two temperature\n",
      "L0\n",
      "_______ philosophy: 0.7631981372833252\n",
      "_______ psychology: 0.7529655694961548\n",
      "_______ economics: 0.752226710319519\n",
      "L1\n",
      "_______ risk analysis: 0.8285120725631714\n",
      "_______ financial system: 0.8279814720153809\n",
      "_______ engineering ethics: 0.8186806440353394\n",
      "_______ positive economics: 0.816841185092926\n",
      "_______ demographic economics: 0.8166027069091797\n",
      "\n",
      "\n",
      "business activities\n",
      "L0\n",
      "_______ business: 0.7770204544067383\n",
      "_______ medicine: 0.7626142501831055\n",
      "_______ art: 0.7533687353134155\n",
      "L1\n",
      "_______ economic system: 0.8523975610733032\n",
      "_______ financial system: 0.8357780575752258\n",
      "_______ industrial organization: 0.8275732398033142\n",
      "_______ multimedia: 0.8180881142616272\n",
      "_______ communication: 0.809441089630127\n",
      "\n",
      "\n",
      "bioactive molecules\n",
      "L0\n",
      "_______ environmental science: 0.45146480202674866\n",
      "_______ materials science: 0.4260980188846588\n",
      "_______ medicine: 0.39979973435401917\n",
      "L1\n",
      "_______ gastroenterology: 0.7339313626289368\n",
      "_______ endocrinology: 0.706972599029541\n",
      "_______ chromatography: 0.6485665440559387\n",
      "_______ obstetrics: 0.6466092467308044\n",
      "_______ ophthalmology: 0.6412166357040405\n",
      "\n",
      "\n",
      "analytical equations\n",
      "L0\n",
      "_______ philosophy: 0.7626963257789612\n",
      "_______ environmental science: 0.751676619052887\n",
      "_______ business: 0.7516456842422485\n",
      "L1\n",
      "_______ religious studies: 0.8181094527244568\n",
      "_______ theology: 0.8050779700279236\n",
      "_______ surgery: 0.7846864461898804\n",
      "_______ advertising: 0.7813304662704468\n",
      "_______ accounting: 0.7812060117721558\n",
      "\n",
      "\n",
      "four quadrants\n",
      "L0\n",
      "_______ physics: 0.7379770874977112\n",
      "_______ geography: 0.7318620085716248\n",
      "_______ medicine: 0.729874312877655\n",
      "L1\n",
      "_______ nursing: 0.7683719992637634\n",
      "_______ computer network: 0.7561433911323547\n",
      "_______ surgery: 0.7521190047264099\n",
      "_______ medical education: 0.7519351243972778\n",
      "_______ arithmetic: 0.7505874633789062\n",
      "\n",
      "\n",
      "anti oxidative and also dioscorea quinqueloba\n",
      "L0\n",
      "_______ environmental science: 0.6423661708831787\n",
      "_______ psychology: 0.6367587447166443\n",
      "_______ philosophy: 0.6000199317932129\n",
      "L1\n",
      "_______ risk analysis: 0.7522007822990417\n",
      "_______ positive economics: 0.7330746650695801\n",
      "_______ environmental ethics: 0.73065584897995\n",
      "_______ demographic economics: 0.719659149646759\n",
      "_______ environmental economics: 0.7159085869789124\n",
      "\n",
      "\n",
      "education environment\n",
      "L0\n",
      "_______ medicine: 0.5165247917175293\n",
      "_______ geography: 0.5148780345916748\n",
      "_______ mathematics: 0.5142541527748108\n",
      "L1\n",
      "_______ statistics: 0.5506728887557983\n",
      "_______ neuroscience: 0.5490135550498962\n",
      "_______ surgery: 0.5417814254760742\n",
      "_______ financial system: 0.540335476398468\n",
      "_______ risk analysis: 0.5388508439064026\n",
      "\n",
      "\n",
      "surface level\n",
      "L0\n",
      "_______ business: 0.7407464385032654\n",
      "_______ biology: 0.7379721999168396\n",
      "_______ environmental science: 0.7347722053527832\n",
      "L1\n",
      "_______ composite material: 0.7929809093475342\n",
      "_______ positive economics: 0.7906439304351807\n",
      "_______ advertising: 0.7823495864868164\n",
      "_______ embedded system: 0.7796545028686523\n",
      "_______ optics: 0.7785137891769409\n",
      "\n",
      "\n",
      "color intensity\n",
      "L0\n",
      "_______ business: 0.7713615894317627\n",
      "_______ psychology: 0.7472357749938965\n",
      "_______ philosophy: 0.7368412613868713\n",
      "L1\n",
      "_______ communication: 0.8125101327896118\n",
      "_______ positive economics: 0.8099628686904907\n",
      "_______ control theory: 0.7960761189460754\n",
      "_______ advertising: 0.7900198101997375\n",
      "_______ data mining: 0.7886661291122437\n",
      "\n",
      "\n",
      "national study\n",
      "L0\n",
      "_______ environmental science: 0.8111259341239929\n",
      "_______ geology: 0.777207612991333\n",
      "_______ geography: 0.774838387966156\n",
      "L1\n",
      "_______ biological system: 0.8185892701148987\n",
      "_______ computer network: 0.8023748397827148\n",
      "_______ environmental planning: 0.8006166219711304\n",
      "_______ animal science: 0.7983102798461914\n",
      "_______ composite material: 0.7857401371002197\n",
      "\n",
      "\n",
      "change analysis\n",
      "L0\n",
      "_______ history: 0.609046995639801\n",
      "_______ geography: 0.5190511345863342\n",
      "_______ environmental science: 0.5079376101493835\n",
      "L1\n",
      "_______ information retrieval: 0.576899528503418\n",
      "_______ operating system: 0.5723123550415039\n",
      "_______ ancient history: 0.559506356716156\n",
      "_______ environmental protection: 0.5576937794685364\n",
      "_______ composite material: 0.5452391505241394\n",
      "\n",
      "\n",
      "cold weather\n",
      "L0\n",
      "_______ geography: 0.7364130020141602\n",
      "_______ art: 0.7120446562767029\n",
      "_______ environmental science: 0.7012829780578613\n",
      "L1\n",
      "_______ economic system: 0.7843769788742065\n",
      "_______ financial system: 0.7598381042480469\n",
      "_______ embedded system: 0.7565929889678955\n",
      "_______ composite material: 0.7526842951774597\n",
      "_______ optics: 0.7519972920417786\n",
      "\n",
      "\n",
      "lateral side and also medial side\n",
      "L0\n",
      "_______ environmental science: 0.7279770374298096\n",
      "_______ materials science: 0.6923921704292297\n",
      "_______ computer science: 0.6543945074081421\n",
      "L1\n",
      "_______ biochemical engineering: 0.8260148167610168\n",
      "_______ nanotechnology: 0.8252388834953308\n",
      "_______ virology: 0.7864565253257751\n",
      "_______ biological system: 0.7863039970397949\n",
      "_______ radiochemistry: 0.7793343663215637\n",
      "\n",
      "\n",
      "spoke hub distribution paradigm\n",
      "L0\n",
      "_______ physics: 0.6658825278282166\n",
      "_______ geography: 0.6627603769302368\n",
      "_______ medicine: 0.6621084809303284\n",
      "L1\n",
      "_______ neuroscience: 0.6919747591018677\n",
      "_______ remote sensing: 0.6912621259689331\n",
      "_______ surgery: 0.6895322203636169\n",
      "_______ anatomy: 0.6862630844116211\n",
      "_______ advertising: 0.6838752627372742\n",
      "\n",
      "\n",
      "moving vehicle\n",
      "L0\n",
      "_______ geography: 0.6875481605529785\n",
      "_______ medicine: 0.6770355105400085\n",
      "_______ environmental science: 0.6769247651100159\n",
      "L1\n",
      "_______ environmental planning: 0.7179715633392334\n",
      "_______ economic growth: 0.7172889113426208\n",
      "_______ computer hardware: 0.701324999332428\n",
      "_______ composite material: 0.6991752982139587\n",
      "_______ computer network: 0.6966282725334167\n",
      "\n",
      "\n",
      "regulatory authority\n",
      "L0\n",
      "_______ business: 0.7618348598480225\n",
      "_______ engineering: 0.7442188262939453\n",
      "_______ environmental science: 0.7393190264701843\n",
      "L1\n",
      "_______ risk analysis: 0.7916890978813171\n",
      "_______ regional science: 0.7875500321388245\n",
      "_______ reliability engineering: 0.7838624715805054\n",
      "_______ engineering ethics: 0.7825664281845093\n",
      "_______ communication: 0.7816868424415588\n",
      "\n",
      "\n",
      "animal disease\n",
      "L0\n",
      "_______ psychology: 0.6404913067817688\n",
      "_______ philosophy: 0.6251748204231262\n",
      "_______ business: 0.6250128746032715\n",
      "L1\n",
      "_______ process management: 0.7490795254707336\n",
      "_______ risk analysis: 0.7478487491607666\n",
      "_______ knowledge management: 0.7197079062461853\n",
      "_______ programming language: 0.7129049897193909\n",
      "_______ control theory: 0.7128218412399292\n",
      "\n",
      "\n",
      "human morbidity\n",
      "L0\n",
      "_______ geology: 0.6320703029632568\n",
      "_______ environmental science: 0.6268135905265808\n",
      "_______ geography: 0.6157920360565186\n",
      "L1\n",
      "_______ remote sensing: 0.6647909283638\n",
      "_______ meteorology: 0.6518335938453674\n",
      "_______ market economy: 0.6415420770645142\n",
      "_______ economic system: 0.6350899338722229\n",
      "_______ atmospheric sciences: 0.6348407864570618\n",
      "\n",
      "\n",
      "risk category\n",
      "L0\n",
      "_______ geography: 0.728091835975647\n",
      "_______ medicine: 0.7097849249839783\n",
      "_______ environmental science: 0.7081958055496216\n",
      "L1\n",
      "_______ economic growth: 0.8479396104812622\n",
      "_______ economic system: 0.8188549280166626\n",
      "_______ market economy: 0.7835213541984558\n",
      "_______ economic geography: 0.781965434551239\n",
      "_______ financial system: 0.7709770202636719\n",
      "\n",
      "\n",
      "ice storage\n",
      "L0\n",
      "_______ medicine: 0.7391842603683472\n",
      "_______ geography: 0.7152847647666931\n",
      "_______ art: 0.7087171077728271\n",
      "L1\n",
      "_______ computer network: 0.7636095881462097\n",
      "_______ programming language: 0.7622877359390259\n",
      "_______ economic system: 0.7596362829208374\n",
      "_______ economy: 0.7567431330680847\n",
      "_______ market economy: 0.7438512444496155\n",
      "\n",
      "\n",
      "economic interpretation\n",
      "L0\n",
      "_______ chemistry: 0.6721088290214539\n",
      "_______ medicine: 0.6601405143737793\n",
      "_______ environmental science: 0.6577132940292358\n",
      "L1\n",
      "_______ industrial organization: 0.7513722777366638\n",
      "_______ medicinal chemistry: 0.7087971568107605\n",
      "_______ polymer chemistry: 0.7086188793182373\n",
      "_______ chemical physics: 0.7058102488517761\n",
      "_______ financial system: 0.7049216032028198\n",
      "\n",
      "\n",
      "plant based\n",
      "L0\n",
      "_______ business: 0.8112589716911316\n",
      "_______ art: 0.7254278659820557\n",
      "_______ medicine: 0.7181032299995422\n",
      "L1\n",
      "_______ financial system: 0.8240904211997986\n",
      "_______ embedded system: 0.7884306311607361\n",
      "_______ multimedia: 0.7836438417434692\n",
      "_______ composite material: 0.7753946781158447\n",
      "_______ industrial organization: 0.7701979875564575\n",
      "\n",
      "\n",
      "female to male\n",
      "L0\n",
      "_______ environmental science: 0.7672685384750366\n",
      "_______ geography: 0.7617088556289673\n",
      "_______ business: 0.747368574142456\n",
      "L1\n",
      "_______ financial system: 0.8184060454368591\n",
      "_______ economic policy: 0.8120843172073364\n",
      "_______ environmental planning: 0.8080011606216431\n",
      "_______ environmental health: 0.8013057708740234\n",
      "_______ risk analysis: 0.7971742749214172\n",
      "\n",
      "\n",
      "rescue work\n",
      "L0\n",
      "_______ business: 0.7405473589897156\n",
      "_______ art: 0.7152444124221802\n",
      "_______ medicine: 0.7120450735092163\n",
      "L1\n",
      "_______ risk analysis: 0.8024189472198486\n",
      "_______ simulation: 0.7810187339782715\n",
      "_______ nursing: 0.7784135937690735\n",
      "_______ composite material: 0.7773232460021973\n",
      "_______ financial system: 0.772497296333313\n",
      "\n",
      "\n",
      "health index\n",
      "L0\n",
      "_______ environmental science: 0.5645961165428162\n",
      "_______ materials science: 0.5602025389671326\n",
      "_______ psychology: 0.5142487287521362\n",
      "L1\n",
      "_______ seismology: 0.6628507375717163\n",
      "_______ andrology: 0.6564656496047974\n",
      "_______ classical mechanics: 0.6516236066818237\n",
      "_______ positive economics: 0.6397430896759033\n",
      "_______ demographic economics: 0.6340593695640564\n",
      "\n",
      "\n",
      "human patient\n",
      "L0\n",
      "_______ environmental science: 0.6433882117271423\n",
      "_______ medicine: 0.6399390697479248\n",
      "_______ geography: 0.6364705562591553\n",
      "L1\n",
      "_______ composite material: 0.7039954662322998\n",
      "_______ fishery: 0.6899929642677307\n",
      "_______ economy: 0.6803752183914185\n",
      "_______ ceramic materials: 0.6792736649513245\n",
      "_______ market economy: 0.6732059121131897\n",
      "\n",
      "\n",
      "history of use\n",
      "L0\n",
      "_______ business: 0.7484697103500366\n",
      "_______ biology: 0.7270395755767822\n",
      "_______ medicine: 0.7205110788345337\n",
      "L1\n",
      "_______ genetics: 0.7899353504180908\n",
      "_______ advertising: 0.7851160168647766\n",
      "_______ nursing: 0.782882571220398\n",
      "_______ communication: 0.7776674628257751\n",
      "_______ anatomy: 0.7689594626426697\n",
      "\n",
      "\n",
      "work productivity\n",
      "L0\n",
      "_______ biology: 0.6233554482460022\n",
      "_______ chemistry: 0.6152426600456238\n",
      "_______ environmental science: 0.5995749831199646\n",
      "L1\n",
      "_______ photochemistry: 0.7559514045715332\n",
      "_______ stereochemistry: 0.7521767020225525\n",
      "_______ radiochemistry: 0.7309042811393738\n",
      "_______ metallurgy: 0.707704484462738\n",
      "_______ medicinal chemistry: 0.7040014266967773\n",
      "\n",
      "\n",
      "agricultural pest\n",
      "L0\n",
      "_______ business: 0.7305617332458496\n",
      "_______ art: 0.7243289351463318\n",
      "_______ physics: 0.7203246355056763\n",
      "L1\n",
      "_______ multimedia: 0.784848153591156\n",
      "_______ composite material: 0.7681983113288879\n",
      "_______ communication: 0.7623676657676697\n",
      "_______ ceramic materials: 0.7612193822860718\n",
      "_______ nursing: 0.7565990686416626\n",
      "\n",
      "\n",
      "average return\n",
      "L0\n",
      "_______ medicine: 0.652543842792511\n",
      "_______ biology: 0.6437429189682007\n",
      "_______ environmental science: 0.6376402378082275\n",
      "L1\n",
      "_______ obstetrics: 0.7672120928764343\n",
      "_______ gynecology: 0.7419739961624146\n",
      "_______ emergency medicine: 0.7412246465682983\n",
      "_______ internal medicine: 0.7390648126602173\n",
      "_______ gerontology: 0.7341170907020569\n",
      "\n",
      "\n",
      "flow chart\n",
      "L0\n",
      "_______ medicine: 0.6892289519309998\n",
      "_______ business: 0.6832060217857361\n",
      "_______ geography: 0.675773561000824\n",
      "L1\n",
      "_______ embedded system: 0.7954360246658325\n",
      "_______ composite material: 0.7912105321884155\n",
      "_______ multimedia: 0.7484060525894165\n",
      "_______ ceramic materials: 0.7454111576080322\n",
      "_______ data mining: 0.7405928373336792\n",
      "\n",
      "\n",
      "period length\n",
      "L0\n",
      "_______ business: 0.7289544939994812\n",
      "_______ medicine: 0.6982959508895874\n",
      "_______ physics: 0.6914513111114502\n",
      "L1\n",
      "_______ composite material: 0.7642382979393005\n",
      "_______ embedded system: 0.7523573040962219\n",
      "_______ communication: 0.7459802031517029\n",
      "_______ advertising: 0.7392419576644897\n",
      "_______ nursing: 0.7375098466873169\n",
      "\n",
      "\n",
      "in vitro diagnostic\n",
      "L0\n",
      "_______ environmental science: 0.7564386129379272\n",
      "_______ geography: 0.7282130122184753\n",
      "_______ economics: 0.7133879661560059\n",
      "L1\n",
      "_______ environmental economics: 0.8227634429931641\n",
      "_______ development economics: 0.8050971031188965\n",
      "_______ demographic economics: 0.7981814742088318\n",
      "_______ international trade: 0.7927137017250061\n",
      "_______ positive economics: 0.7925373911857605\n",
      "\n",
      "\n",
      "organic content\n",
      "L0\n",
      "_______ biology: 0.6932708024978638\n",
      "_______ geography: 0.6920779943466187\n",
      "_______ business: 0.6893698573112488\n",
      "L1\n",
      "_______ arithmetic: 0.7650635242462158\n",
      "_______ composite material: 0.7552767395973206\n",
      "_______ data mining: 0.7435040473937988\n",
      "_______ advertising: 0.740584135055542\n",
      "_______ risk analysis: 0.7383522987365723\n",
      "\n",
      "\n",
      "network on\n",
      "L0\n",
      "_______ biology: 0.728523313999176\n",
      "_______ physics: 0.7190958261489868\n",
      "_______ art: 0.7089108228683472\n",
      "L1\n",
      "_______ risk analysis: 0.7894570827484131\n",
      "_______ composite material: 0.7794093489646912\n",
      "_______ surgery: 0.7667301297187805\n",
      "_______ simulation: 0.7628160119056702\n",
      "_______ advertising: 0.7579954266548157\n",
      "\n",
      "\n",
      "apparent size\n",
      "L0\n",
      "_______ geography: 0.6964807510375977\n",
      "_______ medicine: 0.6685247421264648\n",
      "_______ history: 0.6617293953895569\n",
      "L1\n",
      "_______ regional science: 0.7393050193786621\n",
      "_______ embedded system: 0.7351071834564209\n",
      "_______ economic system: 0.7336395382881165\n",
      "_______ financial system: 0.7306954860687256\n",
      "_______ multimedia: 0.7192343473434448\n",
      "\n",
      "\n",
      "lag time\n",
      "L0\n",
      "_______ geography: 0.6516242623329163\n",
      "_______ biology: 0.649461030960083\n",
      "_______ environmental science: 0.6477843523025513\n",
      "L1\n",
      "_______ internet privacy: 0.7119024395942688\n",
      "_______ advertising: 0.7057706117630005\n",
      "_______ computer network: 0.704258143901825\n",
      "_______ remote sensing: 0.7029455900192261\n",
      "_______ embedded system: 0.6879377365112305\n",
      "\n",
      "\n",
      "blood center\n",
      "L0\n",
      "_______ geography: 0.642095148563385\n",
      "_______ biology: 0.634433925151825\n",
      "_______ physics: 0.6313076019287109\n",
      "L1\n",
      "_______ neuroscience: 0.6810253858566284\n",
      "_______ arithmetic: 0.6699444651603699\n",
      "_______ psychiatry: 0.6643946170806885\n",
      "_______ remote sensing: 0.6635767817497253\n",
      "_______ genetics: 0.6598535180091858\n",
      "\n",
      "\n",
      "tactile sensation\n",
      "L0\n",
      "_______ environmental science: 0.7030003070831299\n",
      "_______ business: 0.6961442828178406\n",
      "_______ physics: 0.6896294355392456\n",
      "L1\n",
      "_______ composite material: 0.7551814913749695\n",
      "_______ embedded system: 0.753699004650116\n",
      "_______ risk analysis: 0.7467246055603027\n",
      "_______ advertising: 0.7283974885940552\n",
      "_______ communication: 0.7266530394554138\n",
      "\n",
      "\n",
      "physiological function\n",
      "L0\n",
      "_______ psychology: 0.6129043698310852\n",
      "_______ environmental science: 0.5959311723709106\n",
      "_______ philosophy: 0.5918716788291931\n",
      "L1\n",
      "_______ positive economics: 0.7153873443603516\n",
      "_______ risk analysis: 0.7062733173370361\n",
      "_______ economic system: 0.705315887928009\n",
      "_______ demographic economics: 0.7040514349937439\n",
      "_______ welfare economics: 0.6818115711212158\n",
      "\n",
      "\n",
      "video tape and also video tape recording\n",
      "L0\n",
      "_______ art: 0.6387891173362732\n",
      "_______ geography: 0.6302158236503601\n",
      "_______ environmental science: 0.6077477931976318\n",
      "L1\n",
      "_______ aesthetics: 0.6679762005805969\n",
      "_______ ceramic materials: 0.6587270498275757\n",
      "_______ anatomy: 0.6541622877120972\n",
      "_______ advertising: 0.6395795941352844\n",
      "_______ internet privacy: 0.6394067406654358\n",
      "\n",
      "\n",
      "elimination method\n",
      "L0\n",
      "_______ business: 0.714620053768158\n",
      "_______ medicine: 0.6917582154273987\n",
      "_______ art: 0.6915616989135742\n",
      "L1\n",
      "_______ nursing: 0.7483636736869812\n",
      "_______ database: 0.7301633954048157\n",
      "_______ advertising: 0.721589207649231\n",
      "_______ optics: 0.7206970453262329\n",
      "_______ genetics: 0.718353807926178\n",
      "\n",
      "\n",
      "standard form\n",
      "L0\n",
      "_______ materials science: 0.8723439574241638\n",
      "_______ computer science: 0.842231810092926\n",
      "_______ engineering: 0.8411360383033752\n",
      "L1\n",
      "_______ systems engineering: 0.9328634738922119\n",
      "_______ operations research: 0.902678906917572\n",
      "_______ data science: 0.9002245664596558\n",
      "_______ management science: 0.8909015655517578\n",
      "_______ process engineering: 0.8902963399887085\n",
      "\n",
      "\n",
      "health quality\n",
      "L0\n",
      "_______ business: 0.7246316075325012\n",
      "_______ art: 0.7150484323501587\n",
      "_______ medicine: 0.7115179896354675\n",
      "L1\n",
      "_______ risk analysis: 0.8056600093841553\n",
      "_______ positive economics: 0.802742063999176\n",
      "_______ control theory: 0.7715926766395569\n",
      "_______ financial system: 0.7704889178276062\n",
      "_______ advertising: 0.7667044997215271\n",
      "\n",
      "\n",
      "banking industry\n",
      "L0\n",
      "_______ environmental science: 0.6331846117973328\n",
      "_______ computer science: 0.632905125617981\n",
      "_______ geology: 0.631591796875\n",
      "L1\n",
      "_______ cartography: 0.6397873163223267\n",
      "_______ physical therapy: 0.6361060738563538\n",
      "_______ mathematics education: 0.6342270970344543\n",
      "_______ library science: 0.6321600079536438\n",
      "_______ veterinary medicine: 0.6312695741653442\n",
      "\n",
      "\n",
      "defense industry\n",
      "L0\n",
      "_______ physics: 0.7108001112937927\n",
      "_______ business: 0.7085255980491638\n",
      "_______ medicine: 0.7052229046821594\n",
      "L1\n",
      "_______ composite material: 0.8042705655097961\n",
      "_______ embedded system: 0.7856162190437317\n",
      "_______ arithmetic: 0.7738737463951111\n",
      "_______ ceramic materials: 0.7572135329246521\n",
      "_______ financial system: 0.7377112507820129\n",
      "\n",
      "\n",
      "paired samples\n",
      "L0\n",
      "_______ environmental science: 0.6620852947235107\n",
      "_______ physics: 0.6592833399772644\n",
      "_______ geography: 0.6509329676628113\n",
      "L1\n",
      "_______ computer hardware: 0.7547920942306519\n",
      "_______ computer network: 0.7523387670516968\n",
      "_______ computer vision: 0.6999832987785339\n",
      "_______ acoustics: 0.6945784091949463\n",
      "_______ engineering drawing: 0.6925951838493347\n",
      "\n",
      "\n",
      "mineral particles\n",
      "L0\n",
      "_______ biology: 0.7060143351554871\n",
      "_______ economics: 0.6945138573646545\n",
      "_______ mathematics: 0.6903629899024963\n",
      "L1\n",
      "_______ risk analysis: 0.8366288542747498\n",
      "_______ control theory: 0.7942923903465271\n",
      "_______ reliability engineering: 0.7922413349151611\n",
      "_______ data mining: 0.7816425561904907\n",
      "_______ demographic economics: 0.7640135288238525\n",
      "\n",
      "\n",
      "body awareness\n",
      "L0\n",
      "_______ environmental science: 0.4441109299659729\n",
      "_______ materials science: 0.4389429986476898\n",
      "_______ chemistry: 0.43580442667007446\n",
      "L1\n",
      "_______ stereochemistry: 0.653546929359436\n",
      "_______ photochemistry: 0.6483060121536255\n",
      "_______ medicinal chemistry: 0.6205177903175354\n",
      "_______ radiochemistry: 0.6155472993850708\n",
      "_______ inorganic chemistry: 0.5971620678901672\n",
      "\n",
      "\n",
      "limited evidence\n",
      "L0\n",
      "_______ geography: 0.652716875076294\n",
      "_______ medicine: 0.6476706266403198\n",
      "_______ physics: 0.6417330503463745\n",
      "L1\n",
      "_______ composite material: 0.7357966303825378\n",
      "_______ embedded system: 0.7286646366119385\n",
      "_______ arithmetic: 0.7150200009346008\n",
      "_______ reliability engineering: 0.7115317583084106\n",
      "_______ risk analysis: 0.710074782371521\n",
      "\n",
      "\n"
     ]
    }
   ],
   "source": [
    "for i in range(orphan_embs.shape[0]):\n",
    "    print(f\"{level_2_orphans[i]}\")\n",
    "    print(\"L0\")\n",
    "    sorted_tags = np.argsort(cosine_similarity(orphan_embs[i].reshape(1,-1), level_0_embs))[0,-5:][::-1]\n",
    "    sorted_scores = np.sort(cosine_similarity(orphan_embs[i].reshape(1,-1), level_0_embs))[0,-5:][::-1]\n",
    "    for j in range(3):\n",
    "        print(f\"_______ {level_0_list[sorted_tags[j]]}: {sorted_scores[j]}\")\n",
    "    \n",
    "    print(\"L1\")\n",
    "    sorted_tags = np.argsort(cosine_similarity(orphan_embs[i].reshape(1,-1), level_1_embs))[0,-5:][::-1]\n",
    "    sorted_scores = np.sort(cosine_similarity(orphan_embs[i].reshape(1,-1), level_1_embs))[0,-5:][::-1]\n",
    "    for j in range(5):\n",
    "        print(f\"_______ {level_1_list[sorted_tags[j]]}: {sorted_scores[j]}\")\n",
    "    print(\"\\n\")"
   ]
  },
  {
   "cell_type": "markdown",
   "id": "0ed40472",
   "metadata": {},
   "source": [
    "### Word2Vec"
   ]
  },
  {
   "cell_type": "code",
   "execution_count": 114,
   "id": "1d1316b2",
   "metadata": {},
   "outputs": [],
   "source": [
    "from gensim.test.utils import common_texts\n",
    "from gensim.models import Word2Vec"
   ]
  },
  {
   "cell_type": "code",
   "execution_count": null,
   "id": "b855f391",
   "metadata": {},
   "outputs": [],
   "source": [
    "model = Word2Vec(sentences=common_texts, vector_size=100, window=5, min_count=1, workers=4)\n",
    "model.save(\"word2vec.model\")"
   ]
  },
  {
   "cell_type": "code",
   "execution_count": null,
   "id": "af9102af",
   "metadata": {},
   "outputs": [],
   "source": []
  },
  {
   "cell_type": "code",
   "execution_count": null,
   "id": "abc1f550",
   "metadata": {},
   "outputs": [],
   "source": []
  },
  {
   "cell_type": "markdown",
   "id": "172bd41a",
   "metadata": {},
   "source": [
    "### Looking at Most Common Parents"
   ]
  },
  {
   "cell_type": "markdown",
   "id": "3f8f4048",
   "metadata": {},
   "source": [
    "#### Loading orphans"
   ]
  },
  {
   "cell_type": "code",
   "execution_count": 27,
   "id": "c0d5a739",
   "metadata": {},
   "outputs": [
    {
     "data": {
      "text/html": [
       "<div>\n",
       "<style scoped>\n",
       "    .dataframe tbody tr th:only-of-type {\n",
       "        vertical-align: middle;\n",
       "    }\n",
       "\n",
       "    .dataframe tbody tr th {\n",
       "        vertical-align: top;\n",
       "    }\n",
       "\n",
       "    .dataframe thead th {\n",
       "        text-align: right;\n",
       "    }\n",
       "</style>\n",
       "<table border=\"1\" class=\"dataframe\">\n",
       "  <thead>\n",
       "    <tr style=\"text-align: right;\">\n",
       "      <th></th>\n",
       "      <th>field_of_study_id</th>\n",
       "      <th>normalized_name</th>\n",
       "      <th>level</th>\n",
       "    </tr>\n",
       "  </thead>\n",
       "  <tbody>\n",
       "    <tr>\n",
       "      <th>0</th>\n",
       "      <td>2908647359</td>\n",
       "      <td>population</td>\n",
       "      <td>2</td>\n",
       "    </tr>\n",
       "    <tr>\n",
       "      <th>1</th>\n",
       "      <td>3017944768</td>\n",
       "      <td>poison control</td>\n",
       "      <td>2</td>\n",
       "    </tr>\n",
       "    <tr>\n",
       "      <th>2</th>\n",
       "      <td>2910001868</td>\n",
       "      <td>european union</td>\n",
       "      <td>2</td>\n",
       "    </tr>\n",
       "    <tr>\n",
       "      <th>3</th>\n",
       "      <td>3013748606</td>\n",
       "      <td>human immunodeficiency virus</td>\n",
       "      <td>2</td>\n",
       "    </tr>\n",
       "    <tr>\n",
       "      <th>4</th>\n",
       "      <td>3018023364</td>\n",
       "      <td>significant difference</td>\n",
       "      <td>2</td>\n",
       "    </tr>\n",
       "  </tbody>\n",
       "</table>\n",
       "</div>"
      ],
      "text/plain": [
       "   field_of_study_id               normalized_name  level\n",
       "0         2908647359                    population      2\n",
       "1         3017944768                poison control      2\n",
       "2         2910001868                european union      2\n",
       "3         3013748606  human immunodeficiency virus      2\n",
       "4         3018023364        significant difference      2"
      ]
     },
     "execution_count": 27,
     "metadata": {},
     "output_type": "execute_result"
    }
   ],
   "source": [
    "orphan_and_wiki.head()"
   ]
  },
  {
   "cell_type": "code",
   "execution_count": 33,
   "id": "116c3a12",
   "metadata": {},
   "outputs": [
    {
     "data": {
      "text/html": [
       "<div>\n",
       "<style scoped>\n",
       "    .dataframe tbody tr th:only-of-type {\n",
       "        vertical-align: middle;\n",
       "    }\n",
       "\n",
       "    .dataframe tbody tr th {\n",
       "        vertical-align: top;\n",
       "    }\n",
       "\n",
       "    .dataframe thead th {\n",
       "        text-align: right;\n",
       "    }\n",
       "</style>\n",
       "<table border=\"1\" class=\"dataframe\">\n",
       "  <thead>\n",
       "    <tr style=\"text-align: right;\">\n",
       "      <th></th>\n",
       "      <th>field_of_study_id</th>\n",
       "      <th>level</th>\n",
       "    </tr>\n",
       "    <tr>\n",
       "      <th>normalized_name</th>\n",
       "      <th></th>\n",
       "      <th></th>\n",
       "    </tr>\n",
       "  </thead>\n",
       "  <tbody>\n",
       "    <tr>\n",
       "      <th>3d printed</th>\n",
       "      <td>1</td>\n",
       "      <td>1</td>\n",
       "    </tr>\n",
       "    <tr>\n",
       "      <th>3d simulation</th>\n",
       "      <td>1</td>\n",
       "      <td>1</td>\n",
       "    </tr>\n",
       "    <tr>\n",
       "      <th>physical modelling</th>\n",
       "      <td>1</td>\n",
       "      <td>1</td>\n",
       "    </tr>\n",
       "    <tr>\n",
       "      <th>physical development</th>\n",
       "      <td>1</td>\n",
       "      <td>1</td>\n",
       "    </tr>\n",
       "    <tr>\n",
       "      <th>physical activity</th>\n",
       "      <td>1</td>\n",
       "      <td>1</td>\n",
       "    </tr>\n",
       "  </tbody>\n",
       "</table>\n",
       "</div>"
      ],
      "text/plain": [
       "                      field_of_study_id  level\n",
       "normalized_name                               \n",
       "3d printed                            1      1\n",
       "3d simulation                         1      1\n",
       "physical modelling                    1      1\n",
       "physical development                  1      1\n",
       "physical activity                     1      1"
      ]
     },
     "execution_count": 33,
     "metadata": {},
     "output_type": "execute_result"
    }
   ],
   "source": [
    "orphan_and_wiki.groupby('normalized_name').count().sort_values('level', ascending=False).head()"
   ]
  },
  {
   "cell_type": "code",
   "execution_count": null,
   "id": "fa0b36a0",
   "metadata": {},
   "outputs": [],
   "source": []
  },
  {
   "cell_type": "code",
   "execution_count": null,
   "id": "b45373cc",
   "metadata": {},
   "outputs": [],
   "source": []
  },
  {
   "cell_type": "code",
   "execution_count": 48,
   "id": "a6177183",
   "metadata": {},
   "outputs": [],
   "source": [
    "level_two_parents = pd.read_parquet(\"s3://mag-model-data/raw_mag_data/level_2_parents/part-00000-tid-4621729047142736932-7d217523-d826-48ff-b1c8-52d0808d0ce8-4655-1-c000.snappy.parquet\")\n",
    "level_three_parents = pd.read_parquet(\"s3://mag-model-data/raw_mag_data/level_3_parents/part-00000-tid-5973691913633613382-bc0cde1e-b2ec-4cc4-822d-2c96ed469532-33-1-c000.snappy.parquet\")"
   ]
  },
  {
   "cell_type": "code",
   "execution_count": null,
   "id": "3c0c534c",
   "metadata": {},
   "outputs": [],
   "source": []
  },
  {
   "cell_type": "code",
   "execution_count": 105,
   "id": "003a9d65",
   "metadata": {},
   "outputs": [
    {
     "data": {
      "text/html": [
       "<div>\n",
       "<style scoped>\n",
       "    .dataframe tbody tr th:only-of-type {\n",
       "        vertical-align: middle;\n",
       "    }\n",
       "\n",
       "    .dataframe tbody tr th {\n",
       "        vertical-align: top;\n",
       "    }\n",
       "\n",
       "    .dataframe thead th {\n",
       "        text-align: right;\n",
       "    }\n",
       "</style>\n",
       "<table border=\"1\" class=\"dataframe\">\n",
       "  <thead>\n",
       "    <tr style=\"text-align: right;\">\n",
       "      <th></th>\n",
       "      <th>level_two</th>\n",
       "      <th>topic_list</th>\n",
       "    </tr>\n",
       "  </thead>\n",
       "  <tbody>\n",
       "    <tr>\n",
       "      <th>5028</th>\n",
       "      <td>octopus</td>\n",
       "      <td>[fishery, zoology, optometry, anatomy, ophthal...</td>\n",
       "    </tr>\n",
       "  </tbody>\n",
       "</table>\n",
       "</div>"
      ],
      "text/plain": [
       "     level_two                                         topic_list\n",
       "5028   octopus  [fishery, zoology, optometry, anatomy, ophthal..."
      ]
     },
     "execution_count": 105,
     "metadata": {},
     "output_type": "execute_result"
    }
   ],
   "source": [
    "level_two_parents[level_two_parents['level_two']=='octopus']"
   ]
  },
  {
   "cell_type": "code",
   "execution_count": 39,
   "id": "e0c76eb4",
   "metadata": {},
   "outputs": [],
   "source": [
    "# level_three_parents = pd.read_parquet(\"s3://mag-model-data/raw_mag_data/level_3_new_parents/part-00000-tid-7708135600281052475-bbc98008-7c3a-4e19-9d5b-71d02904d5dd-32-1-c000.snappy.parquet\")"
   ]
  },
  {
   "cell_type": "code",
   "execution_count": 30,
   "id": "9ebc5879",
   "metadata": {},
   "outputs": [
    {
     "data": {
      "text/plain": [
       "(158063, 2)"
      ]
     },
     "execution_count": 30,
     "metadata": {},
     "output_type": "execute_result"
    }
   ],
   "source": [
    "level_two_parents.shape"
   ]
  },
  {
   "cell_type": "code",
   "execution_count": 49,
   "id": "4adb404c",
   "metadata": {},
   "outputs": [
    {
     "data": {
      "text/html": [
       "<div>\n",
       "<style scoped>\n",
       "    .dataframe tbody tr th:only-of-type {\n",
       "        vertical-align: middle;\n",
       "    }\n",
       "\n",
       "    .dataframe tbody tr th {\n",
       "        vertical-align: top;\n",
       "    }\n",
       "\n",
       "    .dataframe thead th {\n",
       "        text-align: right;\n",
       "    }\n",
       "</style>\n",
       "<table border=\"1\" class=\"dataframe\">\n",
       "  <thead>\n",
       "    <tr style=\"text-align: right;\">\n",
       "      <th></th>\n",
       "      <th>level_three</th>\n",
       "      <th>topic_list</th>\n",
       "    </tr>\n",
       "  </thead>\n",
       "  <tbody>\n",
       "    <tr>\n",
       "      <th>295896</th>\n",
       "      <td>cybaeus vignai</td>\n",
       "      <td>[genus, spider, taxonomy]</td>\n",
       "    </tr>\n",
       "    <tr>\n",
       "      <th>298814</th>\n",
       "      <td>pichia siamensis</td>\n",
       "      <td>[yeast, budding, fungi imperfecti, taxonomy]</td>\n",
       "    </tr>\n",
       "    <tr>\n",
       "      <th>180190</th>\n",
       "      <td>lard factor</td>\n",
       "      <td>[vitamin, cod liver oil, identification, mercury]</td>\n",
       "    </tr>\n",
       "    <tr>\n",
       "      <th>26508</th>\n",
       "      <td>plasmacytoid dendritic cell activation</td>\n",
       "      <td>[immune system, interferon, cytokine, receptor...</td>\n",
       "    </tr>\n",
       "    <tr>\n",
       "      <th>198382</th>\n",
       "      <td>needle deflection</td>\n",
       "      <td>[needle insertion, deflection, bevel, percutan...</td>\n",
       "    </tr>\n",
       "    <tr>\n",
       "      <th>239493</th>\n",
       "      <td>temnohaswellia</td>\n",
       "      <td>[crayfish, checklist, identification, genus, b...</td>\n",
       "    </tr>\n",
       "    <tr>\n",
       "      <th>50625</th>\n",
       "      <td>metatheatre</td>\n",
       "      <td>[drama, performance art, politics, comedy, tra...</td>\n",
       "    </tr>\n",
       "    <tr>\n",
       "      <th>195711</th>\n",
       "      <td>chlorheridine diacetate</td>\n",
       "      <td>[sperm, in vitro, antibacterial effect]</td>\n",
       "    </tr>\n",
       "    <tr>\n",
       "      <th>188306</th>\n",
       "      <td>pyrofil light bond</td>\n",
       "      <td>[composite number, irradiation, dentin, tube, ...</td>\n",
       "    </tr>\n",
       "    <tr>\n",
       "      <th>19008</th>\n",
       "      <td>gonodonta nutrix</td>\n",
       "      <td>[entomology, orange, insect, larva]</td>\n",
       "    </tr>\n",
       "  </tbody>\n",
       "</table>\n",
       "</div>"
      ],
      "text/plain": [
       "                                   level_three  \\\n",
       "295896                          cybaeus vignai   \n",
       "298814                        pichia siamensis   \n",
       "180190                             lard factor   \n",
       "26508   plasmacytoid dendritic cell activation   \n",
       "198382                       needle deflection   \n",
       "239493                          temnohaswellia   \n",
       "50625                              metatheatre   \n",
       "195711                 chlorheridine diacetate   \n",
       "188306                      pyrofil light bond   \n",
       "19008                         gonodonta nutrix   \n",
       "\n",
       "                                               topic_list  \n",
       "295896                          [genus, spider, taxonomy]  \n",
       "298814       [yeast, budding, fungi imperfecti, taxonomy]  \n",
       "180190  [vitamin, cod liver oil, identification, mercury]  \n",
       "26508   [immune system, interferon, cytokine, receptor...  \n",
       "198382  [needle insertion, deflection, bevel, percutan...  \n",
       "239493  [crayfish, checklist, identification, genus, b...  \n",
       "50625   [drama, performance art, politics, comedy, tra...  \n",
       "195711            [sperm, in vitro, antibacterial effect]  \n",
       "188306  [composite number, irradiation, dentin, tube, ...  \n",
       "19008                 [entomology, orange, insect, larva]  "
      ]
     },
     "execution_count": 49,
     "metadata": {},
     "output_type": "execute_result"
    }
   ],
   "source": [
    "level_three_parents.sample(10)"
   ]
  },
  {
   "cell_type": "code",
   "execution_count": 50,
   "id": "699b839a",
   "metadata": {},
   "outputs": [
    {
     "data": {
      "text/plain": [
       "(313261, 2)"
      ]
     },
     "execution_count": 50,
     "metadata": {},
     "output_type": "execute_result"
    }
   ],
   "source": [
    "level_three_parents.shape"
   ]
  },
  {
   "cell_type": "code",
   "execution_count": 62,
   "id": "d5d048a0",
   "metadata": {},
   "outputs": [],
   "source": [
    "level_2s = list(set([x for y in level_three_parents['topic_list'].tolist() for x in y]))"
   ]
  },
  {
   "cell_type": "code",
   "execution_count": 77,
   "id": "2d6e48ac",
   "metadata": {},
   "outputs": [
    {
     "data": {
      "text/plain": [
       "['human health']"
      ]
     },
     "execution_count": 77,
     "metadata": {},
     "output_type": "execute_result"
    }
   ],
   "source": []
  },
  {
   "cell_type": "code",
   "execution_count": 73,
   "id": "963b72d2",
   "metadata": {},
   "outputs": [],
   "source": [
    "all_cons = openalex_concepts['normalized_name'].tolist()"
   ]
  },
  {
   "cell_type": "code",
   "execution_count": 75,
   "id": "976fce40",
   "metadata": {},
   "outputs": [
    {
     "data": {
      "text/plain": [
       "['political science', 'philosophy', 'economics', 'business', 'psychology']"
      ]
     },
     "execution_count": 75,
     "metadata": {},
     "output_type": "execute_result"
    }
   ],
   "source": [
    "all_cons[:5]"
   ]
  },
  {
   "cell_type": "code",
   "execution_count": 192,
   "id": "c5eb5681",
   "metadata": {},
   "outputs": [
    {
     "name": "stdout",
     "output_type": "stream",
     "text": [
      "['time preference']\n",
      "['time preference']\n"
     ]
    }
   ],
   "source": [
    "search_term = 'time preference'\n",
    "print([x for x in level_2s if x.startswith(search_term)])\n",
    "print([x for x in all_cons if str(x).startswith(search_term)])"
   ]
  },
  {
   "cell_type": "code",
   "execution_count": 193,
   "id": "9570ba39",
   "metadata": {},
   "outputs": [
    {
     "data": {
      "text/html": [
       "<div>\n",
       "<style scoped>\n",
       "    .dataframe tbody tr th:only-of-type {\n",
       "        vertical-align: middle;\n",
       "    }\n",
       "\n",
       "    .dataframe tbody tr th {\n",
       "        vertical-align: top;\n",
       "    }\n",
       "\n",
       "    .dataframe thead th {\n",
       "        text-align: right;\n",
       "    }\n",
       "</style>\n",
       "<table border=\"1\" class=\"dataframe\">\n",
       "  <thead>\n",
       "    <tr style=\"text-align: right;\">\n",
       "      <th></th>\n",
       "      <th>level_two</th>\n",
       "      <th>topic_list</th>\n",
       "    </tr>\n",
       "  </thead>\n",
       "  <tbody>\n",
       "    <tr>\n",
       "      <th>38966</th>\n",
       "      <td>time preference</td>\n",
       "      <td>[microeconomics, mathematical economics, keyne...</td>\n",
       "    </tr>\n",
       "  </tbody>\n",
       "</table>\n",
       "</div>"
      ],
      "text/plain": [
       "             level_two                                         topic_list\n",
       "38966  time preference  [microeconomics, mathematical economics, keyne..."
      ]
     },
     "execution_count": 193,
     "metadata": {},
     "output_type": "execute_result"
    }
   ],
   "source": [
    "level_two_parents[level_two_parents['level_two'].str.startswith(search_term)]"
   ]
  },
  {
   "cell_type": "markdown",
   "id": "6096c3f5",
   "metadata": {},
   "source": [
    "#### Creating spreadsheet"
   ]
  },
  {
   "cell_type": "code",
   "execution_count": 39,
   "id": "677e3e75",
   "metadata": {},
   "outputs": [
    {
     "data": {
      "text/html": [
       "<div>\n",
       "<style scoped>\n",
       "    .dataframe tbody tr th:only-of-type {\n",
       "        vertical-align: middle;\n",
       "    }\n",
       "\n",
       "    .dataframe tbody tr th {\n",
       "        vertical-align: top;\n",
       "    }\n",
       "\n",
       "    .dataframe thead th {\n",
       "        text-align: right;\n",
       "    }\n",
       "</style>\n",
       "<table border=\"1\" class=\"dataframe\">\n",
       "  <thead>\n",
       "    <tr style=\"text-align: right;\">\n",
       "      <th></th>\n",
       "      <th>level_two</th>\n",
       "      <th>topic_list</th>\n",
       "    </tr>\n",
       "  </thead>\n",
       "  <tbody>\n",
       "    <tr>\n",
       "      <th>0</th>\n",
       "      <td>big game</td>\n",
       "      <td>[fishery, ethnology, archaeology, forestry, ad...</td>\n",
       "    </tr>\n",
       "    <tr>\n",
       "      <th>1</th>\n",
       "      <td>bone structure</td>\n",
       "      <td>[biomedical engineering, orthodontics, dentist...</td>\n",
       "    </tr>\n",
       "    <tr>\n",
       "      <th>2</th>\n",
       "      <td>cannabis sativa</td>\n",
       "      <td>[traditional medicine, biotechnology, botany, ...</td>\n",
       "    </tr>\n",
       "    <tr>\n",
       "      <th>3</th>\n",
       "      <td>career path</td>\n",
       "      <td>[management, aeronautics, medical education, p...</td>\n",
       "    </tr>\n",
       "    <tr>\n",
       "      <th>4</th>\n",
       "      <td>coast guard</td>\n",
       "      <td>[aeronautics, forensic engineering, oceanograp...</td>\n",
       "    </tr>\n",
       "  </tbody>\n",
       "</table>\n",
       "</div>"
      ],
      "text/plain": [
       "         level_two                                         topic_list\n",
       "0         big game  [fishery, ethnology, archaeology, forestry, ad...\n",
       "1   bone structure  [biomedical engineering, orthodontics, dentist...\n",
       "2  cannabis sativa  [traditional medicine, biotechnology, botany, ...\n",
       "3      career path  [management, aeronautics, medical education, p...\n",
       "4      coast guard  [aeronautics, forensic engineering, oceanograp..."
      ]
     },
     "execution_count": 39,
     "metadata": {},
     "output_type": "execute_result"
    }
   ],
   "source": [
    "for_spread = level_two_parents.merge(orphan_and_wiki[orphan_and_wiki['level']==2][['normalized_name']].rename(columns={'normalized_name':'level_two'}), \n",
    "                        how='inner',on='level_two') \\\n",
    ".drop_duplicates(subset=['level_two']).reset_index(drop=True)\n",
    "\n",
    "for_spread.head(5)"
   ]
  },
  {
   "cell_type": "code",
   "execution_count": 51,
   "id": "d2569174",
   "metadata": {},
   "outputs": [],
   "source": [
    "final_list = []\n",
    "for j in range(for_spread.shape[0]):\n",
    "    small_list = []\n",
    "    small_list.append(for_spread.iloc[j,0])\n",
    "    small_list.append('PASS')\n",
    "    topics = for_spread.iloc[j,1].tolist()\n",
    "    for i in range(10):\n",
    "        try:\n",
    "            small_list.append(topics[i])\n",
    "        except:\n",
    "            small_list.append(\"\")\n",
    "            \n",
    "    final_list.append(small_list)\n",
    "for_spread_2 = pd.DataFrame(final_list, columns = ['level_two', 'unknown','a','b','c','d','e','f','g','h','i','j'])"
   ]
  },
  {
   "cell_type": "code",
   "execution_count": 55,
   "id": "c1dab03a",
   "metadata": {},
   "outputs": [],
   "source": [
    "for_spread_2.to_csv(\"level_2_orphans_sheet.csv\")"
   ]
  },
  {
   "cell_type": "code",
   "execution_count": 198,
   "id": "22669865",
   "metadata": {},
   "outputs": [
    {
     "ename": "NameError",
     "evalue": "name 'for_spread_2' is not defined",
     "output_type": "error",
     "traceback": [
      "\u001b[0;31m---------------------------------------------------------------------------\u001b[0m",
      "\u001b[0;31mNameError\u001b[0m                                 Traceback (most recent call last)",
      "\u001b[0;32m/var/folders/0y/qwpqbvg153501mb_wr8l1nrc0000gn/T/ipykernel_85797/920944084.py\u001b[0m in \u001b[0;36m<module>\u001b[0;34m\u001b[0m\n\u001b[0;32m----> 1\u001b[0;31m \u001b[0mfor_spread_2\u001b[0m\u001b[0;34m.\u001b[0m\u001b[0mshape\u001b[0m\u001b[0;34m\u001b[0m\u001b[0;34m\u001b[0m\u001b[0m\n\u001b[0m",
      "\u001b[0;31mNameError\u001b[0m: name 'for_spread_2' is not defined"
     ]
    }
   ],
   "source": [
    "for_spread_2.shape"
   ]
  },
  {
   "cell_type": "code",
   "execution_count": 51,
   "id": "b609ff29",
   "metadata": {},
   "outputs": [
    {
     "data": {
      "text/html": [
       "<div>\n",
       "<style scoped>\n",
       "    .dataframe tbody tr th:only-of-type {\n",
       "        vertical-align: middle;\n",
       "    }\n",
       "\n",
       "    .dataframe tbody tr th {\n",
       "        vertical-align: top;\n",
       "    }\n",
       "\n",
       "    .dataframe thead th {\n",
       "        text-align: right;\n",
       "    }\n",
       "</style>\n",
       "<table border=\"1\" class=\"dataframe\">\n",
       "  <thead>\n",
       "    <tr style=\"text-align: right;\">\n",
       "      <th></th>\n",
       "      <th>level_three</th>\n",
       "      <th>topic_list</th>\n",
       "    </tr>\n",
       "  </thead>\n",
       "  <tbody>\n",
       "    <tr>\n",
       "      <th>0</th>\n",
       "      <td>energy source</td>\n",
       "      <td>[fossil fuel, renewable energy, coal, petroleu...</td>\n",
       "    </tr>\n",
       "    <tr>\n",
       "      <th>1</th>\n",
       "      <td>economic shortage</td>\n",
       "      <td>[china, work, government, population, quality,...</td>\n",
       "    </tr>\n",
       "    <tr>\n",
       "      <th>2</th>\n",
       "      <td>human health</td>\n",
       "      <td>NaN</td>\n",
       "    </tr>\n",
       "    <tr>\n",
       "      <th>3</th>\n",
       "      <td>algebra</td>\n",
       "      <td>NaN</td>\n",
       "    </tr>\n",
       "    <tr>\n",
       "      <th>4</th>\n",
       "      <td>constructive</td>\n",
       "      <td>[process, context, work, politics, order, qual...</td>\n",
       "    </tr>\n",
       "  </tbody>\n",
       "</table>\n",
       "</div>"
      ],
      "text/plain": [
       "         level_three                                         topic_list\n",
       "0      energy source  [fossil fuel, renewable energy, coal, petroleu...\n",
       "1  economic shortage  [china, work, government, population, quality,...\n",
       "2       human health                                                NaN\n",
       "3            algebra                                                NaN\n",
       "4       constructive  [process, context, work, politics, order, qual..."
      ]
     },
     "execution_count": 51,
     "metadata": {},
     "output_type": "execute_result"
    }
   ],
   "source": [
    "for_spread = orphan_and_wiki[orphan_and_wiki['level']==3][['normalized_name']] \\\n",
    ".rename(columns={'normalized_name':'level_three'}).merge(level_three_parents, \n",
    "                                                         how='left',on='level_three') \\\n",
    ".drop_duplicates(subset=['level_three']).reset_index(drop=True)\n",
    "\n",
    "for_spread.head(5)"
   ]
  },
  {
   "cell_type": "code",
   "execution_count": 52,
   "id": "13d2f4e7",
   "metadata": {},
   "outputs": [],
   "source": [
    "null_L3_topics = for_spread[for_spread['topic_list'].isnull()].copy()"
   ]
  },
  {
   "cell_type": "code",
   "execution_count": 53,
   "id": "19406b1c",
   "metadata": {},
   "outputs": [],
   "source": [
    "for_spread = for_spread[~for_spread['topic_list'].isnull()].copy()"
   ]
  },
  {
   "cell_type": "code",
   "execution_count": 54,
   "id": "75c98d40",
   "metadata": {},
   "outputs": [],
   "source": [
    "final_list = []\n",
    "for j in range(for_spread.shape[0]):\n",
    "    small_list = []\n",
    "    small_list.append(for_spread.iloc[j,0])\n",
    "    small_list.append('PASS')\n",
    "    try:\n",
    "        topics = for_spread.iloc[j,1].tolist()\n",
    "    except:\n",
    "        topics = []\n",
    "    for i in range(10):\n",
    "        try:\n",
    "            small_list.append(topics[i])\n",
    "        except:\n",
    "            small_list.append(\"\")\n",
    "            \n",
    "    final_list.append(small_list)\n",
    "for_spread_3 = pd.DataFrame(final_list, columns = ['level_three', 'unknown','a','b','c','d','e','f','g','h','i','j'])"
   ]
  },
  {
   "cell_type": "code",
   "execution_count": 55,
   "id": "c52ff5a9",
   "metadata": {},
   "outputs": [],
   "source": [
    "for_spread_3.to_csv(\"level_3_orphans_sheet.csv\")"
   ]
  },
  {
   "cell_type": "code",
   "execution_count": 56,
   "id": "8fc09073",
   "metadata": {},
   "outputs": [
    {
     "data": {
      "text/plain": [
       "(144, 12)"
      ]
     },
     "execution_count": 56,
     "metadata": {},
     "output_type": "execute_result"
    }
   ],
   "source": [
    "for_spread_3.shape"
   ]
  },
  {
   "cell_type": "code",
   "execution_count": 59,
   "id": "b6f45e71",
   "metadata": {},
   "outputs": [
    {
     "data": {
      "text/html": [
       "<div>\n",
       "<style scoped>\n",
       "    .dataframe tbody tr th:only-of-type {\n",
       "        vertical-align: middle;\n",
       "    }\n",
       "\n",
       "    .dataframe tbody tr th {\n",
       "        vertical-align: top;\n",
       "    }\n",
       "\n",
       "    .dataframe thead th {\n",
       "        text-align: right;\n",
       "    }\n",
       "</style>\n",
       "<table border=\"1\" class=\"dataframe\">\n",
       "  <thead>\n",
       "    <tr style=\"text-align: right;\">\n",
       "      <th></th>\n",
       "      <th>level_three</th>\n",
       "      <th>unknown</th>\n",
       "      <th>a</th>\n",
       "      <th>b</th>\n",
       "      <th>c</th>\n",
       "      <th>d</th>\n",
       "      <th>e</th>\n",
       "      <th>f</th>\n",
       "      <th>g</th>\n",
       "      <th>h</th>\n",
       "      <th>i</th>\n",
       "      <th>j</th>\n",
       "    </tr>\n",
       "  </thead>\n",
       "  <tbody>\n",
       "    <tr>\n",
       "      <th>17</th>\n",
       "      <td>numerical models</td>\n",
       "      <td>PASS</td>\n",
       "      <td>finite element method</td>\n",
       "      <td>computer simulation</td>\n",
       "      <td>numerical analysis</td>\n",
       "      <td>numerical modeling</td>\n",
       "      <td>mathematical model</td>\n",
       "      <td>flow</td>\n",
       "      <td>nonlinear system</td>\n",
       "      <td>process</td>\n",
       "      <td>field</td>\n",
       "      <td>work</td>\n",
       "    </tr>\n",
       "  </tbody>\n",
       "</table>\n",
       "</div>"
      ],
      "text/plain": [
       "         level_three unknown                      a                    b  \\\n",
       "17  numerical models    PASS  finite element method  computer simulation   \n",
       "\n",
       "                     c                   d                   e     f  \\\n",
       "17  numerical analysis  numerical modeling  mathematical model  flow   \n",
       "\n",
       "                   g        h      i     j  \n",
       "17  nonlinear system  process  field  work  "
      ]
     },
     "execution_count": 59,
     "metadata": {},
     "output_type": "execute_result"
    }
   ],
   "source": [
    "for_spread_3[for_spread_3['level_three']=='numerical models']"
   ]
  },
  {
   "cell_type": "code",
   "execution_count": 245,
   "id": "2a9a76d6",
   "metadata": {},
   "outputs": [
    {
     "data": {
      "text/html": [
       "<div>\n",
       "<style scoped>\n",
       "    .dataframe tbody tr th:only-of-type {\n",
       "        vertical-align: middle;\n",
       "    }\n",
       "\n",
       "    .dataframe tbody tr th {\n",
       "        vertical-align: top;\n",
       "    }\n",
       "\n",
       "    .dataframe thead th {\n",
       "        text-align: right;\n",
       "    }\n",
       "</style>\n",
       "<table border=\"1\" class=\"dataframe\">\n",
       "  <thead>\n",
       "    <tr style=\"text-align: right;\">\n",
       "      <th></th>\n",
       "      <th>level_three</th>\n",
       "      <th>Unnamed: 0</th>\n",
       "      <th>unknown</th>\n",
       "      <th>a</th>\n",
       "      <th>b</th>\n",
       "      <th>c</th>\n",
       "      <th>d</th>\n",
       "      <th>e</th>\n",
       "      <th>f</th>\n",
       "      <th>g</th>\n",
       "      <th>h</th>\n",
       "      <th>i</th>\n",
       "      <th>j</th>\n",
       "    </tr>\n",
       "  </thead>\n",
       "  <tbody>\n",
       "    <tr>\n",
       "      <th>0</th>\n",
       "      <td>energy source</td>\n",
       "      <td>0</td>\n",
       "      <td>PASS</td>\n",
       "      <td>fossil fuel</td>\n",
       "      <td>renewable energy</td>\n",
       "      <td>coal</td>\n",
       "      <td>petroleum</td>\n",
       "      <td>natural gas</td>\n",
       "      <td>biomass</td>\n",
       "      <td>energy consumption</td>\n",
       "      <td>solar energy</td>\n",
       "      <td>combustion</td>\n",
       "      <td>electricity</td>\n",
       "    </tr>\n",
       "    <tr>\n",
       "      <th>1</th>\n",
       "      <td>economic shortage</td>\n",
       "      <td>1</td>\n",
       "      <td>PASS</td>\n",
       "      <td>china</td>\n",
       "      <td>work</td>\n",
       "      <td>government</td>\n",
       "      <td>population</td>\n",
       "      <td>quality</td>\n",
       "      <td>health care</td>\n",
       "      <td>order</td>\n",
       "      <td>workforce</td>\n",
       "      <td>production</td>\n",
       "      <td>agriculture</td>\n",
       "    </tr>\n",
       "    <tr>\n",
       "      <th>2</th>\n",
       "      <td>constructive</td>\n",
       "      <td>2</td>\n",
       "      <td>PASS</td>\n",
       "      <td>process</td>\n",
       "      <td>context</td>\n",
       "      <td>work</td>\n",
       "      <td>politics</td>\n",
       "      <td>order</td>\n",
       "      <td>quality</td>\n",
       "      <td>set</td>\n",
       "      <td>value</td>\n",
       "      <td>china</td>\n",
       "      <td>perspective</td>\n",
       "    </tr>\n",
       "    <tr>\n",
       "      <th>3</th>\n",
       "      <td>qualitative analysis</td>\n",
       "      <td>3</td>\n",
       "      <td>PASS</td>\n",
       "      <td>analyse qualitative</td>\n",
       "      <td>quantitative analysis</td>\n",
       "      <td>qualitative research</td>\n",
       "      <td>context</td>\n",
       "      <td>process</td>\n",
       "      <td>perception</td>\n",
       "      <td>work</td>\n",
       "      <td>population</td>\n",
       "      <td>quality</td>\n",
       "      <td>data collection</td>\n",
       "    </tr>\n",
       "    <tr>\n",
       "      <th>4</th>\n",
       "      <td>human being</td>\n",
       "      <td>4</td>\n",
       "      <td>PASS</td>\n",
       "      <td>context</td>\n",
       "      <td>meaning</td>\n",
       "      <td>value</td>\n",
       "      <td>order</td>\n",
       "      <td>subject</td>\n",
       "      <td>perspective</td>\n",
       "      <td>process</td>\n",
       "      <td>politics</td>\n",
       "      <td>humanity</td>\n",
       "      <td>natural</td>\n",
       "    </tr>\n",
       "    <tr>\n",
       "      <th>...</th>\n",
       "      <td>...</td>\n",
       "      <td>...</td>\n",
       "      <td>...</td>\n",
       "      <td>...</td>\n",
       "      <td>...</td>\n",
       "      <td>...</td>\n",
       "      <td>...</td>\n",
       "      <td>...</td>\n",
       "      <td>...</td>\n",
       "      <td>...</td>\n",
       "      <td>...</td>\n",
       "      <td>...</td>\n",
       "      <td>...</td>\n",
       "    </tr>\n",
       "    <tr>\n",
       "      <th>139</th>\n",
       "      <td>modiolus</td>\n",
       "      <td>139</td>\n",
       "      <td>PASS</td>\n",
       "      <td>cochlea</td>\n",
       "      <td>cochlear implant</td>\n",
       "      <td>inner ear</td>\n",
       "      <td>electrode</td>\n",
       "      <td>temporal bone</td>\n",
       "      <td>implant</td>\n",
       "      <td>hearing loss</td>\n",
       "      <td>guinea pig</td>\n",
       "      <td>cadaver</td>\n",
       "      <td>electrophysiology</td>\n",
       "    </tr>\n",
       "    <tr>\n",
       "      <th>140</th>\n",
       "      <td>chalazion</td>\n",
       "      <td>140</td>\n",
       "      <td>PASS</td>\n",
       "      <td>eyelid</td>\n",
       "      <td>lesion</td>\n",
       "      <td>curettage</td>\n",
       "      <td>biopsy</td>\n",
       "      <td>blepharitis</td>\n",
       "      <td>triamcinolone acetonide</td>\n",
       "      <td>conjunctiva</td>\n",
       "      <td>differential diagnosis</td>\n",
       "      <td>eye disease</td>\n",
       "      <td>carcinoma</td>\n",
       "    </tr>\n",
       "    <tr>\n",
       "      <th>141</th>\n",
       "      <td>phallus</td>\n",
       "      <td>141</td>\n",
       "      <td>PASS</td>\n",
       "      <td>genus</td>\n",
       "      <td>hemiptera</td>\n",
       "      <td>morphology</td>\n",
       "      <td>heteroptera</td>\n",
       "      <td>key</td>\n",
       "      <td>male genitalia</td>\n",
       "      <td>china</td>\n",
       "      <td>appendage</td>\n",
       "      <td>dorsum</td>\n",
       "      <td>lepidoptera genitalia</td>\n",
       "    </tr>\n",
       "    <tr>\n",
       "      <th>142</th>\n",
       "      <td>b tree</td>\n",
       "      <td>142</td>\n",
       "      <td>PASS</td>\n",
       "      <td>tree</td>\n",
       "      <td>search engine indexing</td>\n",
       "      <td>data structure</td>\n",
       "      <td>index</td>\n",
       "      <td>node</td>\n",
       "      <td>structure</td>\n",
       "      <td>hash function</td>\n",
       "      <td>set</td>\n",
       "      <td>flash memory</td>\n",
       "      <td>key</td>\n",
       "    </tr>\n",
       "    <tr>\n",
       "      <th>143</th>\n",
       "      <td>bulla</td>\n",
       "      <td>143</td>\n",
       "      <td>PASS</td>\n",
       "      <td>pneumothorax</td>\n",
       "      <td>lung</td>\n",
       "      <td>thoracoscopy</td>\n",
       "      <td>cardiothoracic surgery</td>\n",
       "      <td>thoracotomy</td>\n",
       "      <td>biopsy</td>\n",
       "      <td>radiography</td>\n",
       "      <td>lesion</td>\n",
       "      <td>computed tomography</td>\n",
       "      <td>lung cancer</td>\n",
       "    </tr>\n",
       "  </tbody>\n",
       "</table>\n",
       "<p>144 rows × 13 columns</p>\n",
       "</div>"
      ],
      "text/plain": [
       "              level_three  Unnamed: 0 unknown                    a  \\\n",
       "0           energy source           0    PASS          fossil fuel   \n",
       "1       economic shortage           1    PASS                china   \n",
       "2            constructive           2    PASS              process   \n",
       "3    qualitative analysis           3    PASS  analyse qualitative   \n",
       "4             human being           4    PASS              context   \n",
       "..                    ...         ...     ...                  ...   \n",
       "139              modiolus         139    PASS              cochlea   \n",
       "140             chalazion         140    PASS               eyelid   \n",
       "141               phallus         141    PASS                genus   \n",
       "142                b tree         142    PASS                 tree   \n",
       "143                 bulla         143    PASS         pneumothorax   \n",
       "\n",
       "                          b                     c                       d  \\\n",
       "0          renewable energy                  coal               petroleum   \n",
       "1                      work            government              population   \n",
       "2                   context                  work                politics   \n",
       "3     quantitative analysis  qualitative research                 context   \n",
       "4                   meaning                 value                   order   \n",
       "..                      ...                   ...                     ...   \n",
       "139        cochlear implant             inner ear               electrode   \n",
       "140                  lesion             curettage                  biopsy   \n",
       "141               hemiptera            morphology             heteroptera   \n",
       "142  search engine indexing        data structure                   index   \n",
       "143                    lung          thoracoscopy  cardiothoracic surgery   \n",
       "\n",
       "                 e                        f                   g  \\\n",
       "0      natural gas                  biomass  energy consumption   \n",
       "1          quality              health care               order   \n",
       "2            order                  quality                 set   \n",
       "3          process               perception                work   \n",
       "4          subject              perspective             process   \n",
       "..             ...                      ...                 ...   \n",
       "139  temporal bone                  implant        hearing loss   \n",
       "140    blepharitis  triamcinolone acetonide         conjunctiva   \n",
       "141            key           male genitalia               china   \n",
       "142           node                structure       hash function   \n",
       "143    thoracotomy                   biopsy         radiography   \n",
       "\n",
       "                          h                    i                      j  \n",
       "0              solar energy           combustion            electricity  \n",
       "1                 workforce           production            agriculture  \n",
       "2                     value                china            perspective  \n",
       "3                population              quality        data collection  \n",
       "4                  politics             humanity                natural  \n",
       "..                      ...                  ...                    ...  \n",
       "139              guinea pig              cadaver      electrophysiology  \n",
       "140  differential diagnosis          eye disease              carcinoma  \n",
       "141               appendage               dorsum  lepidoptera genitalia  \n",
       "142                     set         flash memory                    key  \n",
       "143                  lesion  computed tomography            lung cancer  \n",
       "\n",
       "[144 rows x 13 columns]"
      ]
     },
     "execution_count": 245,
     "metadata": {},
     "output_type": "execute_result"
    }
   ],
   "source": [
    "for_spread_3"
   ]
  },
  {
   "cell_type": "markdown",
   "id": "87d937ac",
   "metadata": {},
   "source": [
    "### Pulling the data back from the spreadsheet to get the parents"
   ]
  },
  {
   "cell_type": "code",
   "execution_count": 252,
   "id": "3620a20c",
   "metadata": {},
   "outputs": [
    {
     "data": {
      "text/plain": [
       "(1500, 12)"
      ]
     },
     "execution_count": 252,
     "metadata": {},
     "output_type": "execute_result"
    }
   ],
   "source": [
    "for_spread_2 = pd.read_csv(\"level_2_orphans_sheet.csv\")\n",
    "for_spread_2.shape"
   ]
  },
  {
   "cell_type": "code",
   "execution_count": 253,
   "id": "9ca25300",
   "metadata": {},
   "outputs": [
    {
     "data": {
      "text/plain": [
       "(1489, 13)"
      ]
     },
     "execution_count": 253,
     "metadata": {},
     "output_type": "execute_result"
    }
   ],
   "source": [
    "level_2_comp = pd.read_csv(\"level_2_orphans_sheet_complete.csv\")\n",
    "level_2_comp.shape"
   ]
  },
  {
   "cell_type": "code",
   "execution_count": 254,
   "id": "417eb200",
   "metadata": {},
   "outputs": [
    {
     "data": {
      "text/plain": [
       "(144, 12)"
      ]
     },
     "execution_count": 254,
     "metadata": {},
     "output_type": "execute_result"
    }
   ],
   "source": [
    "for_spread_3 = pd.read_csv(\"level_3_orphans_sheet.csv\").drop(\"Unnamed: 0\", axis=1)\n",
    "for_spread_3.shape"
   ]
  },
  {
   "cell_type": "code",
   "execution_count": 255,
   "id": "7be60182",
   "metadata": {},
   "outputs": [
    {
     "data": {
      "text/plain": [
       "(175, 14)"
      ]
     },
     "execution_count": 255,
     "metadata": {},
     "output_type": "execute_result"
    }
   ],
   "source": [
    "level_3_comp = pd.read_csv(\"level_3_orphans_L2_sheet_complete.csv\")\n",
    "level_3_comp.shape"
   ]
  },
  {
   "cell_type": "code",
   "execution_count": 256,
   "id": "9bbb7ee9",
   "metadata": {},
   "outputs": [],
   "source": [
    "level_2_comp = level_2_comp.merge(for_spread_2[['level_two']], how='inner', on=['level_two']).copy()"
   ]
  },
  {
   "cell_type": "code",
   "execution_count": 257,
   "id": "f4adc164",
   "metadata": {},
   "outputs": [],
   "source": [
    "for_spread_2 = level_2_comp[['level_two']].merge(for_spread_2, how='inner', on=['level_two']).copy()"
   ]
  },
  {
   "cell_type": "code",
   "execution_count": 258,
   "id": "f772998b",
   "metadata": {},
   "outputs": [],
   "source": [
    "level_3_comp = level_3_comp.merge(for_spread_3[['level_three']], how='inner', on=['level_three']).copy()"
   ]
  },
  {
   "cell_type": "code",
   "execution_count": 259,
   "id": "ebabdff1",
   "metadata": {},
   "outputs": [],
   "source": [
    "for_spread_3 = level_3_comp[['level_three']].merge(for_spread_3, how='inner', on=['level_three']).copy()"
   ]
  },
  {
   "cell_type": "code",
   "execution_count": 260,
   "id": "797761f6",
   "metadata": {},
   "outputs": [],
   "source": [
    "all_L2_parents = []\n",
    "L2_orphan = []\n",
    "for i in range(level_2_comp.shape[0]):\n",
    "    true_mask = np.array(level_2_comp.iloc[i,2:-1]) == 'x'\n",
    "    parent_ops = np.array(for_spread_2.iloc[i,2:])\n",
    "    final_parents = []\n",
    "    \n",
    "    final_parents = parent_ops[true_mask].tolist()\n",
    "    \n",
    "    if pd.notnull(level_2_comp.iloc[i,-1]):\n",
    "        final_parents += [str(level_2_comp.iloc[i,-1])]\n",
    "    \n",
    "    if len(final_parents)==0:\n",
    "        print(str(level_2_comp.iloc[i,0]))\n",
    "    all_L2_parents.append(final_parents)\n",
    "    L2_orphan.append(str(level_2_comp.iloc[i,0]))"
   ]
  },
  {
   "cell_type": "code",
   "execution_count": 263,
   "id": "4691fac2",
   "metadata": {},
   "outputs": [],
   "source": [
    "L3_orphan = []\n",
    "all_L3_parents = []\n",
    "switch_to_L2 = []\n",
    "for i in range(level_3_comp.shape[0]):\n",
    "    if str(level_3_comp.iloc[i,-2]) == 'L1':\n",
    "        print(f\"Switch - {str(level_3_comp.iloc[i,0])}\")\n",
    "        switch_to_L2.append(str(level_3_comp.iloc[i,0]))\n",
    "    else:\n",
    "        final_parents = []\n",
    "        true_mask = np.array(level_3_comp.iloc[i,2:-2]) == 'x'\n",
    "        parent_ops = np.array(for_spread_3.iloc[i,2:])\n",
    "\n",
    "        final_parents = parent_ops[true_mask].tolist()\n",
    "\n",
    "        if pd.notnull(level_3_comp.iloc[i,-1]):\n",
    "            final_parents += [str(level_3_comp.iloc[i,-1])]\n",
    "\n",
    "        if len(final_parents)==0:\n",
    "            print(str(level_3_comp.iloc[i,0]))\n",
    "        all_L3_parents.append(final_parents)\n",
    "        L3_orphan.append(str(level_3_comp.iloc[i,0]))"
   ]
  },
  {
   "cell_type": "code",
   "execution_count": null,
   "id": "69335730",
   "metadata": {},
   "outputs": [],
   "source": []
  },
  {
   "cell_type": "code",
   "execution_count": 264,
   "id": "ab0ba979",
   "metadata": {},
   "outputs": [],
   "source": [
    "final_L2_parents = pd.DataFrame(zip(L2_orphan, all_L2_parents), columns=['normalized_name','parents'])"
   ]
  },
  {
   "cell_type": "code",
   "execution_count": 265,
   "id": "7b23b094",
   "metadata": {},
   "outputs": [],
   "source": [
    "final_L3_parents = pd.DataFrame(zip(L3_orphan, all_L3_parents), columns=['normalized_name','parents'])"
   ]
  },
  {
   "cell_type": "code",
   "execution_count": 266,
   "id": "4ad6ded7",
   "metadata": {},
   "outputs": [
    {
     "data": {
      "text/html": [
       "<div>\n",
       "<style scoped>\n",
       "    .dataframe tbody tr th:only-of-type {\n",
       "        vertical-align: middle;\n",
       "    }\n",
       "\n",
       "    .dataframe tbody tr th {\n",
       "        vertical-align: top;\n",
       "    }\n",
       "\n",
       "    .dataframe thead th {\n",
       "        text-align: right;\n",
       "    }\n",
       "</style>\n",
       "<table border=\"1\" class=\"dataframe\">\n",
       "  <thead>\n",
       "    <tr style=\"text-align: right;\">\n",
       "      <th></th>\n",
       "      <th>normalized_name</th>\n",
       "      <th>parents</th>\n",
       "    </tr>\n",
       "  </thead>\n",
       "  <tbody>\n",
       "    <tr>\n",
       "      <th>0</th>\n",
       "      <td>big game</td>\n",
       "      <td>[fishery, environmental ethics, environmental ...</td>\n",
       "    </tr>\n",
       "    <tr>\n",
       "      <th>1</th>\n",
       "      <td>bone structure</td>\n",
       "      <td>[biomedical engineering, anatomy, physiology]</td>\n",
       "    </tr>\n",
       "    <tr>\n",
       "      <th>2</th>\n",
       "      <td>cannabis sativa</td>\n",
       "      <td>[botany, horticulture]</td>\n",
       "    </tr>\n",
       "    <tr>\n",
       "      <th>3</th>\n",
       "      <td>career path</td>\n",
       "      <td>[management, business administration, engineer...</td>\n",
       "    </tr>\n",
       "    <tr>\n",
       "      <th>4</th>\n",
       "      <td>coast guard</td>\n",
       "      <td>[marine engineering, environmental protection]</td>\n",
       "    </tr>\n",
       "    <tr>\n",
       "      <th>...</th>\n",
       "      <td>...</td>\n",
       "      <td>...</td>\n",
       "    </tr>\n",
       "    <tr>\n",
       "      <th>1484</th>\n",
       "      <td>summer camp</td>\n",
       "      <td>[ethnology, developmental psychology]</td>\n",
       "    </tr>\n",
       "    <tr>\n",
       "      <th>1485</th>\n",
       "      <td>tobacco product</td>\n",
       "      <td>[environmental health]</td>\n",
       "    </tr>\n",
       "    <tr>\n",
       "      <th>1486</th>\n",
       "      <td>visual media</td>\n",
       "      <td>[visual arts, multimedia]</td>\n",
       "    </tr>\n",
       "    <tr>\n",
       "      <th>1487</th>\n",
       "      <td>federal state</td>\n",
       "      <td>[public administration, economic policy]</td>\n",
       "    </tr>\n",
       "    <tr>\n",
       "      <th>1488</th>\n",
       "      <td>work abroad</td>\n",
       "      <td>[demographic economics, labour economics]</td>\n",
       "    </tr>\n",
       "  </tbody>\n",
       "</table>\n",
       "<p>1489 rows × 2 columns</p>\n",
       "</div>"
      ],
      "text/plain": [
       "      normalized_name                                            parents\n",
       "0            big game  [fishery, environmental ethics, environmental ...\n",
       "1      bone structure      [biomedical engineering, anatomy, physiology]\n",
       "2     cannabis sativa                             [botany, horticulture]\n",
       "3         career path  [management, business administration, engineer...\n",
       "4         coast guard     [marine engineering, environmental protection]\n",
       "...               ...                                                ...\n",
       "1484      summer camp              [ethnology, developmental psychology]\n",
       "1485  tobacco product                             [environmental health]\n",
       "1486     visual media                          [visual arts, multimedia]\n",
       "1487    federal state           [public administration, economic policy]\n",
       "1488      work abroad          [demographic economics, labour economics]\n",
       "\n",
       "[1489 rows x 2 columns]"
      ]
     },
     "execution_count": 266,
     "metadata": {},
     "output_type": "execute_result"
    }
   ],
   "source": [
    "final_L2_parents"
   ]
  },
  {
   "cell_type": "code",
   "execution_count": 267,
   "id": "017c628e",
   "metadata": {},
   "outputs": [
    {
     "data": {
      "text/html": [
       "<div>\n",
       "<style scoped>\n",
       "    .dataframe tbody tr th:only-of-type {\n",
       "        vertical-align: middle;\n",
       "    }\n",
       "\n",
       "    .dataframe tbody tr th {\n",
       "        vertical-align: top;\n",
       "    }\n",
       "\n",
       "    .dataframe thead th {\n",
       "        text-align: right;\n",
       "    }\n",
       "</style>\n",
       "<table border=\"1\" class=\"dataframe\">\n",
       "  <thead>\n",
       "    <tr style=\"text-align: right;\">\n",
       "      <th></th>\n",
       "      <th>normalized_name</th>\n",
       "      <th>parents</th>\n",
       "    </tr>\n",
       "  </thead>\n",
       "  <tbody>\n",
       "    <tr>\n",
       "      <th>0</th>\n",
       "      <td>energy source</td>\n",
       "      <td>[fossil fuel, renewable energy, coal, petroleu...</td>\n",
       "    </tr>\n",
       "    <tr>\n",
       "      <th>1</th>\n",
       "      <td>economic shortage</td>\n",
       "      <td>[work, government]</td>\n",
       "    </tr>\n",
       "    <tr>\n",
       "      <th>2</th>\n",
       "      <td>constructive</td>\n",
       "      <td>[process]</td>\n",
       "    </tr>\n",
       "    <tr>\n",
       "      <th>3</th>\n",
       "      <td>qualitative analysis</td>\n",
       "      <td>[qualitative research]</td>\n",
       "    </tr>\n",
       "    <tr>\n",
       "      <th>4</th>\n",
       "      <td>human being</td>\n",
       "      <td>[humanity]</td>\n",
       "    </tr>\n",
       "    <tr>\n",
       "      <th>...</th>\n",
       "      <td>...</td>\n",
       "      <td>...</td>\n",
       "    </tr>\n",
       "    <tr>\n",
       "      <th>139</th>\n",
       "      <td>modiolus</td>\n",
       "      <td>[cochlea]</td>\n",
       "    </tr>\n",
       "    <tr>\n",
       "      <th>140</th>\n",
       "      <td>chalazion</td>\n",
       "      <td>[eyelid]</td>\n",
       "    </tr>\n",
       "    <tr>\n",
       "      <th>141</th>\n",
       "      <td>phallus</td>\n",
       "      <td>[male genitalia]</td>\n",
       "    </tr>\n",
       "    <tr>\n",
       "      <th>142</th>\n",
       "      <td>b tree</td>\n",
       "      <td>[tree, search engine indexing, data structure]</td>\n",
       "    </tr>\n",
       "    <tr>\n",
       "      <th>143</th>\n",
       "      <td>bulla</td>\n",
       "      <td>[pneumothorax, lung]</td>\n",
       "    </tr>\n",
       "  </tbody>\n",
       "</table>\n",
       "<p>144 rows × 2 columns</p>\n",
       "</div>"
      ],
      "text/plain": [
       "          normalized_name                                            parents\n",
       "0           energy source  [fossil fuel, renewable energy, coal, petroleu...\n",
       "1       economic shortage                                 [work, government]\n",
       "2            constructive                                          [process]\n",
       "3    qualitative analysis                             [qualitative research]\n",
       "4             human being                                         [humanity]\n",
       "..                    ...                                                ...\n",
       "139              modiolus                                          [cochlea]\n",
       "140             chalazion                                           [eyelid]\n",
       "141               phallus                                   [male genitalia]\n",
       "142                b tree     [tree, search engine indexing, data structure]\n",
       "143                 bulla                               [pneumothorax, lung]\n",
       "\n",
       "[144 rows x 2 columns]"
      ]
     },
     "execution_count": 267,
     "metadata": {},
     "output_type": "execute_result"
    }
   ],
   "source": [
    "final_L3_parents"
   ]
  },
  {
   "cell_type": "markdown",
   "id": "fe718442",
   "metadata": {},
   "source": [
    "### Check against vocab to make sure parents exist"
   ]
  },
  {
   "cell_type": "code",
   "execution_count": 270,
   "id": "8663d5ab",
   "metadata": {},
   "outputs": [],
   "source": [
    "concepts_check = openalex_concepts['normalized_name'].tolist()"
   ]
  },
  {
   "cell_type": "code",
   "execution_count": 273,
   "id": "630aaff8",
   "metadata": {},
   "outputs": [],
   "source": [
    "for i in range(final_L2_parents.shape[0]):\n",
    "    new_list = [x for x in final_L2_parents.iloc[i,1]]\n",
    "    if len(new_list) == 0:\n",
    "        print(final_L2_parents.iloc[i,0])\n",
    "        print(final_L2_parents.iloc[i,1])\n",
    "        print(\"\\n\")"
   ]
  },
  {
   "cell_type": "code",
   "execution_count": 274,
   "id": "59b5d976",
   "metadata": {},
   "outputs": [],
   "source": [
    "for i in range(final_L3_parents.shape[0]):\n",
    "    new_list = [x for x in final_L3_parents.iloc[i,1]]\n",
    "    if len(new_list) == 0:\n",
    "        print(final_L3_parents.iloc[i,0])\n",
    "        print(final_L3_parents.iloc[i,1])\n",
    "        print(\"\\n\")"
   ]
  },
  {
   "cell_type": "code",
   "execution_count": null,
   "id": "0afd3ff4",
   "metadata": {},
   "outputs": [],
   "source": []
  },
  {
   "cell_type": "markdown",
   "id": "c69a6908",
   "metadata": {},
   "source": [
    "### Get into proper format for Heather"
   ]
  },
  {
   "cell_type": "code",
   "execution_count": 284,
   "id": "cdf1af9f",
   "metadata": {},
   "outputs": [],
   "source": [
    "final_L2_parents = final_L2_parents.explode('parents').copy()"
   ]
  },
  {
   "cell_type": "code",
   "execution_count": 285,
   "id": "ef04f4b6",
   "metadata": {},
   "outputs": [],
   "source": [
    "final_L3_parents = final_L3_parents.explode('parents').copy()"
   ]
  },
  {
   "cell_type": "code",
   "execution_count": 279,
   "id": "512898b2",
   "metadata": {},
   "outputs": [
    {
     "data": {
      "text/html": [
       "<div>\n",
       "<style scoped>\n",
       "    .dataframe tbody tr th:only-of-type {\n",
       "        vertical-align: middle;\n",
       "    }\n",
       "\n",
       "    .dataframe tbody tr th {\n",
       "        vertical-align: top;\n",
       "    }\n",
       "\n",
       "    .dataframe thead th {\n",
       "        text-align: right;\n",
       "    }\n",
       "</style>\n",
       "<table border=\"1\" class=\"dataframe\">\n",
       "  <thead>\n",
       "    <tr style=\"text-align: right;\">\n",
       "      <th></th>\n",
       "      <th>normalized_name</th>\n",
       "      <th>field_of_study_id</th>\n",
       "      <th>level</th>\n",
       "    </tr>\n",
       "  </thead>\n",
       "  <tbody>\n",
       "    <tr>\n",
       "      <th>0</th>\n",
       "      <td>u s standard atmosphere</td>\n",
       "      <td>16287357</td>\n",
       "      <td>3.0</td>\n",
       "    </tr>\n",
       "  </tbody>\n",
       "</table>\n",
       "</div>"
      ],
      "text/plain": [
       "           normalized_name  field_of_study_id  level\n",
       "0  u s standard atmosphere           16287357    3.0"
      ]
     },
     "execution_count": 279,
     "metadata": {},
     "output_type": "execute_result"
    }
   ],
   "source": [
    "field_of_study_ids = pd.read_parquet(\"fields_of_study_ids.parquet\")\n",
    "field_of_study_ids.head(1)"
   ]
  },
  {
   "cell_type": "code",
   "execution_count": 281,
   "id": "cc3cf263",
   "metadata": {},
   "outputs": [],
   "source": [
    "names = field_of_study_ids['normalized_name'].tolist()\n",
    "ids = field_of_study_ids['field_of_study_id'].tolist()"
   ]
  },
  {
   "cell_type": "code",
   "execution_count": 282,
   "id": "070b9e87",
   "metadata": {},
   "outputs": [],
   "source": [
    "id_mapping = {name:name_id for name, name_id in zip(names, ids)}"
   ]
  },
  {
   "cell_type": "code",
   "execution_count": 286,
   "id": "33833659",
   "metadata": {},
   "outputs": [],
   "source": [
    "final_L2_parents['normalized_name'] = final_L2_parents['normalized_name'].apply(lambda x: id_mapping[x])\n",
    "final_L2_parents['parents'] = final_L2_parents['parents'].apply(lambda x: id_mapping[x])"
   ]
  },
  {
   "cell_type": "code",
   "execution_count": 287,
   "id": "97155b3a",
   "metadata": {},
   "outputs": [],
   "source": [
    "final_L3_parents['normalized_name'] = final_L3_parents['normalized_name'].apply(lambda x: id_mapping[x])\n",
    "final_L3_parents['parents'] = final_L3_parents['parents'].apply(lambda x: id_mapping[x])"
   ]
  },
  {
   "cell_type": "code",
   "execution_count": 288,
   "id": "57e747bb",
   "metadata": {},
   "outputs": [],
   "source": [
    "final_L2_parents.columns = ['orphan_id','parent_id']\n",
    "final_L3_parents.columns = ['orphan_id','parent_id']"
   ]
  },
  {
   "cell_type": "code",
   "execution_count": 289,
   "id": "18a5af58",
   "metadata": {},
   "outputs": [],
   "source": [
    "all_orphans = pd.concat([final_L2_parents, final_L3_parents], axis=0)"
   ]
  },
  {
   "cell_type": "code",
   "execution_count": 290,
   "id": "f22e292a",
   "metadata": {},
   "outputs": [
    {
     "data": {
      "text/plain": [
       "(3124, 2)"
      ]
     },
     "execution_count": 290,
     "metadata": {},
     "output_type": "execute_result"
    }
   ],
   "source": [
    "all_orphans.shape"
   ]
  },
  {
   "cell_type": "code",
   "execution_count": 292,
   "id": "ed497a88",
   "metadata": {},
   "outputs": [],
   "source": [
    "all_orphans.to_csv(\"orphan_parents.csv\", index=False)"
   ]
  },
  {
   "cell_type": "code",
   "execution_count": null,
   "id": "f1054712",
   "metadata": {},
   "outputs": [],
   "source": []
  }
 ],
 "metadata": {
  "kernelspec": {
   "display_name": "Python 3 (ipykernel)",
   "language": "python",
   "name": "python3"
  },
  "language_info": {
   "codemirror_mode": {
    "name": "ipython",
    "version": 3
   },
   "file_extension": ".py",
   "mimetype": "text/x-python",
   "name": "python",
   "nbconvert_exporter": "python",
   "pygments_lexer": "ipython3",
   "version": "3.8.11"
  }
 },
 "nbformat": 4,
 "nbformat_minor": 5
}
